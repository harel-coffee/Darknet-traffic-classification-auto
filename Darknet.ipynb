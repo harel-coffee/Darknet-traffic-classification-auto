{
 "cells": [
  {
   "cell_type": "markdown",
   "metadata": {},
   "source": [
    "<center><h1> Darknet traffic dataset </h1> </center>"
   ]
  },
  {
   "cell_type": "markdown",
   "metadata": {},
   "source": [
    "# Libraries importing and configuration"
   ]
  },
  {
   "cell_type": "code",
   "execution_count": 599,
   "metadata": {
    "ExecuteTime": {
     "end_time": "2021-03-02T21:39:20.553222Z",
     "start_time": "2021-03-02T21:39:20.538681Z"
    }
   },
   "outputs": [],
   "source": [
    "import pandas as pd\n",
    "import numpy as np\n",
    "import matplotlib.pyplot as plt\n",
    "import seaborn as sns\n",
    "import ipinfo\n",
    "import json\n",
    "\n",
    "from category_encoders.hashing import HashingEncoder\n",
    "from sklearn.preprocessing import OrdinalEncoder\n",
    "from sklearn.preprocessing import OneHotEncoder\n",
    "from sklearn.preprocessing import StandardScaler\n",
    "from sklearn.tree import DecisionTreeClassifier\n",
    "from sklearn.tree import plot_tree\n",
    "from sklearn.tree import export_graphviz\n",
    "from sklearn.ensemble import RandomForestClassifier\n",
    "from sklearn.model_selection import train_test_split\n",
    "from sklearn.model_selection import StratifiedKFold \n",
    "from sklearn.feature_selection import RFECV\n",
    "from sklearn.metrics import confusion_matrix\n",
    "from sklearn.metrics import plot_confusion_matrix\n",
    "from sklearn.metrics import classification_report\n",
    "from tqdm import tqdm"
   ]
  },
  {
   "cell_type": "code",
   "execution_count": 162,
   "metadata": {
    "ExecuteTime": {
     "end_time": "2021-03-01T22:09:51.933530Z",
     "start_time": "2021-03-01T22:09:51.920557Z"
    }
   },
   "outputs": [],
   "source": [
    "ipinfo_handler = ipinfo.getHandler(\"de30fe3213f197\")\n",
    "\n",
    "random_state = 42\n",
    "dataset_folder = \"dataset/\" \n",
    "\n",
    "pd.options.mode.chained_assignment = None  # default='warn'\n",
    "np.random.seed(random_state)\n",
    "plt.rcParams['figure.figsize'] = (18,6)\n",
    "plt.rcParams.update({'font.size': 15})"
   ]
  },
  {
   "cell_type": "code",
   "execution_count": 163,
   "metadata": {
    "ExecuteTime": {
     "end_time": "2021-03-01T22:09:56.178460Z",
     "start_time": "2021-03-01T22:09:52.151278Z"
    }
   },
   "outputs": [],
   "source": [
    "data = pd.read_csv(dataset_folder + \"Darknet.CSV\", low_memory=False)"
   ]
  },
  {
   "cell_type": "markdown",
   "metadata": {},
   "source": [
    "# Dataset processing"
   ]
  },
  {
   "cell_type": "markdown",
   "metadata": {},
   "source": [
    "## Labels duplicates correction"
   ]
  },
  {
   "cell_type": "code",
   "execution_count": 214,
   "metadata": {
    "ExecuteTime": {
     "end_time": "2021-03-01T22:30:49.465843Z",
     "start_time": "2021-03-01T22:30:49.331634Z"
    }
   },
   "outputs": [
    {
     "name": "stdout",
     "output_type": "stream",
     "text": [
      "['Non-Tor' 'NonVPN' 'Tor' 'VPN']\n",
      "['AUDIO-STREAMING' 'Browsing' 'Chat' 'Email' 'File-Transfer'\n",
      " 'File-transfer' 'P2P' 'Video-Streaming' 'Audio-Streaming'\n",
      " 'Video-streaming' 'VOIP']\n"
     ]
    }
   ],
   "source": [
    "samples = data.copy()\n",
    "\n",
    "traffic_labels = samples[\"Label\"].unique()\n",
    "print(traffic_labels)\n",
    "traffic_type_labels = samples[\"Label.1\"].unique()\n",
    "print(traffic_type_labels)"
   ]
  },
  {
   "cell_type": "code",
   "execution_count": 215,
   "metadata": {
    "ExecuteTime": {
     "end_time": "2021-03-01T22:30:49.733906Z",
     "start_time": "2021-03-01T22:30:49.608739Z"
    }
   },
   "outputs": [
    {
     "name": "stdout",
     "output_type": "stream",
     "text": [
      "['Audio-Streaming' 'Browsing' 'Chat' 'Email' 'File-Transfer' 'P2P'\n",
      " 'Video-Streaming' 'VOIP']\n"
     ]
    }
   ],
   "source": [
    "samples['Label.1'].loc[samples['Label.1'] == 'AUDIO-STREAMING'] = 'Audio-Streaming'\n",
    "samples['Label.1'].loc[samples['Label.1'] == 'File-transfer'] = 'File-Transfer'\n",
    "samples['Label.1'].loc[samples['Label.1'] == 'Video-streaming'] = 'Video-Streaming'\n",
    "\n",
    "traffic_type_labels = samples[\"Label.1\"].unique()\n",
    "print(traffic_type_labels)"
   ]
  },
  {
   "cell_type": "markdown",
   "metadata": {},
   "source": [
    "## Labels grouping in Benign and Darknet"
   ]
  },
  {
   "cell_type": "code",
   "execution_count": 216,
   "metadata": {
    "ExecuteTime": {
     "end_time": "2021-03-01T22:30:51.073387Z",
     "start_time": "2021-03-01T22:30:50.914000Z"
    },
    "scrolled": false
   },
   "outputs": [
    {
     "name": "stdout",
     "output_type": "stream",
     "text": [
      "['Benign' 'Darknet']\n"
     ]
    }
   ],
   "source": [
    "samples['Label'].loc[(samples['Label'] == 'Non-Tor') | (samples['Label'] == 'NonVPN')] = 'Benign'\n",
    "samples['Label'].loc[(samples['Label'] == 'Tor') | (samples['Label'] == 'VPN')] = 'Darknet'\n",
    "\n",
    "traffic_labels = samples[\"Label\"].unique()\n",
    "print(traffic_labels)"
   ]
  },
  {
   "cell_type": "markdown",
   "metadata": {},
   "source": [
    "## Timestamp feature extraction"
   ]
  },
  {
   "cell_type": "code",
   "execution_count": 217,
   "metadata": {
    "ExecuteTime": {
     "end_time": "2021-03-01T22:30:53.213883Z",
     "start_time": "2021-03-01T22:30:52.793727Z"
    }
   },
   "outputs": [
    {
     "name": "stdout",
     "output_type": "stream",
     "text": [
      "                Timestamp  hour\n",
      "0  24/07/2015 04:09:48 PM     4\n",
      "1  24/07/2015 04:09:48 PM     4\n",
      "2  24/07/2015 04:09:48 PM     4\n",
      "3  24/07/2015 04:09:48 PM     4\n",
      "4  24/07/2015 04:09:45 PM     4\n"
     ]
    }
   ],
   "source": [
    "hours = []\n",
    "for timestamp in samples['Timestamp']:\n",
    "    hora = int(timestamp.split()[1].split(':')[0])\n",
    "    hours.append(hora)\n",
    "samples['hour'] = hours\n",
    "print(samples[['Timestamp', 'hour']][:5])"
   ]
  },
  {
   "cell_type": "markdown",
   "metadata": {},
   "source": [
    "## Source and destination ips feature extraction"
   ]
  },
  {
   "cell_type": "markdown",
   "metadata": {},
   "source": [
    "### 1-gram, 2-gram and 3-gram extraction"
   ]
  },
  {
   "cell_type": "code",
   "execution_count": 218,
   "metadata": {
    "ExecuteTime": {
     "end_time": "2021-03-01T22:30:53.707869Z",
     "start_time": "2021-03-01T22:30:53.702954Z"
    }
   },
   "outputs": [],
   "source": [
    "def create_grams(ip):\n",
    "    parts = ip.split('.')\n",
    "    one_gram = parts[0]\n",
    "    two_gram = parts[0] + \" \" + parts[1]\n",
    "    three_gram = parts[0] + \" \" + parts[1] + \" \" + parts[2]\n",
    "    return one_gram, two_gram, three_gram"
   ]
  },
  {
   "cell_type": "code",
   "execution_count": 219,
   "metadata": {
    "ExecuteTime": {
     "end_time": "2021-03-01T22:30:54.804371Z",
     "start_time": "2021-03-01T22:30:53.926763Z"
    },
    "scrolled": true
   },
   "outputs": [],
   "source": [
    "src_one_gram = []\n",
    "src_two_gram = []\n",
    "src_three_gram = []\n",
    "dst_one_gram = []\n",
    "dst_two_gram = []\n",
    "dst_three_gram = []\n",
    "\n",
    "for src_ip, dst_ip in zip(samples[\"Src IP\"], samples[\"Dst IP\"]): \n",
    "    src_one, src_two, src_three = create_grams(src_ip)\n",
    "    src_one_gram.append(src_one)\n",
    "    src_two_gram.append(src_two)\n",
    "    src_three_gram.append(src_three)\n",
    "    dst_one, dst_two, dst_three = create_grams(dst_ip)\n",
    "    dst_one_gram.append(dst_one)\n",
    "    dst_two_gram.append(dst_two)\n",
    "    dst_three_gram.append(dst_three)\n",
    "\n",
    "samples[\"src_ip_1gram\"] = src_one_gram\n",
    "samples[\"src_ip_2gram\"] = src_two_gram\n",
    "samples[\"src_ip_3gram\"] = src_three_gram\n",
    "\n",
    "samples[\"dst_ip_1gram\"] = dst_one_gram\n",
    "samples[\"dst_ip_2gram\"] = dst_two_gram\n",
    "samples[\"dst_ip_3gram\"] = dst_three_gram\n",
    "\n",
    "#print(samples[[\"Src IP\",\"src_ip_1gram\",\"src_ip_2gram\",\"src_ip_3gram\"]][200:205])\n",
    "#print(samples[[\"Dst IP\",\"dst_ip_1gram\",\"dst_ip_2gram\",\"dst_ip_3gram\"]][:5])"
   ]
  },
  {
   "cell_type": "markdown",
   "metadata": {},
   "source": [
    "### Ips details extraction"
   ]
  },
  {
   "cell_type": "code",
   "execution_count": 220,
   "metadata": {
    "ExecuteTime": {
     "end_time": "2021-03-01T22:30:54.816462Z",
     "start_time": "2021-03-01T22:30:54.807970Z"
    }
   },
   "outputs": [],
   "source": [
    "def get_ip_detail(ip, ip_dict, repeated):\n",
    "    if ip not in ip_dict.keys():\n",
    "        details = ipinfo_handler.getDetails(ip)\n",
    "        ip_dict[ip] = details.all\n",
    "    else:\n",
    "        repeated += 1\n",
    "    return repeated\n",
    "\n",
    "def dump_ips(ip_dict, folder):\n",
    "    j = json.dumps(ip_dict)\n",
    "    f = open(folder+\"ips_dict.json\",\"w\")\n",
    "    f.write(j)\n",
    "    f.close()\n",
    "\n",
    "def load_ips(file):\n",
    "    data = {}\n",
    "    with open(file) as json_file:\n",
    "        data = json.load(json_file)\n",
    "    return data"
   ]
  },
  {
   "cell_type": "code",
   "execution_count": 221,
   "metadata": {
    "ExecuteTime": {
     "end_time": "2021-03-01T22:30:54.982804Z",
     "start_time": "2021-03-01T22:30:54.819605Z"
    }
   },
   "outputs": [],
   "source": [
    "ip_dict = load_ips(\"ips_dict.json\")"
   ]
  },
  {
   "cell_type": "code",
   "execution_count": 222,
   "metadata": {
    "ExecuteTime": {
     "end_time": "2021-03-01T22:30:55.180369Z",
     "start_time": "2021-03-01T22:30:54.986091Z"
    }
   },
   "outputs": [
    {
     "name": "stderr",
     "output_type": "stream",
     "text": [
      "100%|██████████| 11111/11111 [00:00<00:00, 363826.59it/s]\n"
     ]
    }
   ],
   "source": [
    "ips = np.concatenate((samples[\"Src IP\"].unique(), samples[\"Dst IP\"].unique())) \n",
    "for i in tqdm(range(len(ips))):\n",
    "    get_ip_detail(ips[i], ip_dict, 0)\n",
    "dump_ips(ip_dict, \"\")"
   ]
  },
  {
   "cell_type": "code",
   "execution_count": 223,
   "metadata": {
    "ExecuteTime": {
     "end_time": "2021-03-01T22:30:55.813371Z",
     "start_time": "2021-03-01T22:30:55.184777Z"
    },
    "scrolled": true
   },
   "outputs": [
    {
     "name": "stderr",
     "output_type": "stream",
     "text": [
      "100%|██████████| 141530/141530 [00:00<00:00, 254606.48it/s]\n"
     ]
    }
   ],
   "source": [
    "ips_tuple = zip(samples[\"Src IP\"], samples[\"Dst IP\"])\n",
    "dst_ip_country = []\n",
    "src_ip_country = []\n",
    "src_bogon = []\n",
    "dst_bogon = []\n",
    "\n",
    "for src_ip, dst_ip in tqdm(ips_tuple, total=len(samples[\"Src IP\"])):\n",
    "    if 'country' in ip_dict[dst_ip].keys():\n",
    "        dst_ip_country.append(ip_dict[dst_ip]['country'])\n",
    "    else:\n",
    "        dst_ip_country.append(\"\")\n",
    "    if 'country' in ip_dict[src_ip].keys():\n",
    "        src_ip_country.append(ip_dict[src_ip]['country'])\n",
    "    else:\n",
    "        src_ip_country.append(\"\")\n",
    "    if 'bogon' in ip_dict[dst_ip].keys():\n",
    "        dst_bogon.append(ip_dict[dst_ip]['bogon'])\n",
    "    else:\n",
    "        dst_bogon.append(False)\n",
    "    if 'bogon' in ip_dict[src_ip].keys():\n",
    "        src_bogon.append(ip_dict[src_ip]['bogon'])\n",
    "    else:\n",
    "        src_bogon.append(False)\n",
    "samples['src_ip_country'] = src_ip_country\n",
    "samples['dst_ip_country'] = dst_ip_country\n",
    "samples['src_bogon'] = src_bogon\n",
    "samples['dst_bogon'] = dst_bogon"
   ]
  },
  {
   "cell_type": "markdown",
   "metadata": {},
   "source": [
    "## Irrelevant attributes extraction"
   ]
  },
  {
   "cell_type": "code",
   "execution_count": 495,
   "metadata": {
    "ExecuteTime": {
     "end_time": "2021-03-02T17:21:27.976007Z",
     "start_time": "2021-03-02T17:21:27.675341Z"
    },
    "scrolled": true
   },
   "outputs": [],
   "source": [
    "model_samples = samples.copy()\n",
    "\n",
    "del model_samples['Flow ID']\n",
    "del model_samples['Timestamp']\n",
    "del model_samples['Src IP']\n",
    "del model_samples['Dst IP']"
   ]
  },
  {
   "cell_type": "code",
   "execution_count": 496,
   "metadata": {
    "ExecuteTime": {
     "end_time": "2021-03-02T17:21:29.350302Z",
     "start_time": "2021-03-02T17:21:29.231723Z"
    }
   },
   "outputs": [],
   "source": [
    "cols = np.concatenate((model_samples.columns[81:], model_samples.columns[:81]))\n",
    "model_samples = model_samples[cols]"
   ]
  },
  {
   "cell_type": "code",
   "execution_count": 497,
   "metadata": {
    "ExecuteTime": {
     "end_time": "2021-03-02T17:21:31.193248Z",
     "start_time": "2021-03-02T17:21:31.183581Z"
    }
   },
   "outputs": [
    {
     "data": {
      "text/plain": [
       "Index(['hour', 'src_ip_1gram', 'src_ip_2gram', 'src_ip_3gram', 'dst_ip_1gram',\n",
       "       'dst_ip_2gram', 'dst_ip_3gram', 'src_ip_country', 'dst_ip_country',\n",
       "       'src_bogon', 'dst_bogon', 'Src Port', 'Dst Port', 'Protocol',\n",
       "       'Flow Duration', 'Total Fwd Packet', 'Total Bwd packets',\n",
       "       'Total Length of Fwd Packet', 'Total Length of Bwd Packet',\n",
       "       'Fwd Packet Length Max', 'Fwd Packet Length Min',\n",
       "       'Fwd Packet Length Mean', 'Fwd Packet Length Std',\n",
       "       'Bwd Packet Length Max', 'Bwd Packet Length Min',\n",
       "       'Bwd Packet Length Mean', 'Bwd Packet Length Std', 'Flow Bytes/s',\n",
       "       'Flow Packets/s', 'Flow IAT Mean', 'Flow IAT Std', 'Flow IAT Max',\n",
       "       'Flow IAT Min', 'Fwd IAT Total', 'Fwd IAT Mean', 'Fwd IAT Std',\n",
       "       'Fwd IAT Max', 'Fwd IAT Min', 'Bwd IAT Total', 'Bwd IAT Mean',\n",
       "       'Bwd IAT Std', 'Bwd IAT Max', 'Bwd IAT Min', 'Fwd PSH Flags',\n",
       "       'Bwd PSH Flags', 'Fwd URG Flags', 'Bwd URG Flags', 'Fwd Header Length',\n",
       "       'Bwd Header Length', 'Fwd Packets/s', 'Bwd Packets/s',\n",
       "       'Packet Length Min', 'Packet Length Max', 'Packet Length Mean',\n",
       "       'Packet Length Std', 'Packet Length Variance', 'FIN Flag Count',\n",
       "       'SYN Flag Count', 'RST Flag Count', 'PSH Flag Count', 'ACK Flag Count',\n",
       "       'URG Flag Count', 'CWE Flag Count', 'ECE Flag Count', 'Down/Up Ratio',\n",
       "       'Average Packet Size', 'Fwd Segment Size Avg', 'Bwd Segment Size Avg',\n",
       "       'Fwd Bytes/Bulk Avg', 'Fwd Packet/Bulk Avg', 'Fwd Bulk Rate Avg',\n",
       "       'Bwd Bytes/Bulk Avg', 'Bwd Packet/Bulk Avg', 'Bwd Bulk Rate Avg',\n",
       "       'Subflow Fwd Packets', 'Subflow Fwd Bytes', 'Subflow Bwd Packets',\n",
       "       'Subflow Bwd Bytes', 'FWD Init Win Bytes', 'Bwd Init Win Bytes',\n",
       "       'Fwd Act Data Pkts', 'Fwd Seg Size Min', 'Active Mean', 'Active Std',\n",
       "       'Active Max', 'Active Min', 'Idle Mean', 'Idle Std', 'Idle Max',\n",
       "       'Idle Min', 'Label', 'Label.1'],\n",
       "      dtype='object')"
      ]
     },
     "execution_count": 497,
     "metadata": {},
     "output_type": "execute_result"
    }
   ],
   "source": [
    "model_samples.columns"
   ]
  },
  {
   "cell_type": "markdown",
   "metadata": {},
   "source": [
    "## Categorical features encoding"
   ]
  },
  {
   "cell_type": "code",
   "execution_count": 498,
   "metadata": {
    "ExecuteTime": {
     "end_time": "2021-03-02T17:21:36.756723Z",
     "start_time": "2021-03-02T17:21:36.752246Z"
    }
   },
   "outputs": [
    {
     "name": "stdout",
     "output_type": "stream",
     "text": [
      "['src_ip_1gram' 'src_ip_2gram' 'src_ip_3gram' 'dst_ip_1gram'\n",
      " 'dst_ip_2gram' 'dst_ip_3gram']\n",
      "['src_ip_country', 'dst_ip_country']\n",
      "['Label.1']\n"
     ]
    }
   ],
   "source": [
    "hash_enc_cols = cols[1:7]\n",
    "print(hash_enc_cols)\n",
    "ord_enc_cols = ['src_ip_country','dst_ip_country']\n",
    "print(ord_enc_cols)\n",
    "one_hot_enc_cols = ['Label.1']\n",
    "print(one_hot_enc_cols)"
   ]
  },
  {
   "cell_type": "code",
   "execution_count": 499,
   "metadata": {
    "ExecuteTime": {
     "end_time": "2021-03-02T17:23:23.364591Z",
     "start_time": "2021-03-02T17:21:38.250299Z"
    },
    "scrolled": true
   },
   "outputs": [
    {
     "data": {
      "text/html": [
       "<div>\n",
       "<style scoped>\n",
       "    .dataframe tbody tr th:only-of-type {\n",
       "        vertical-align: middle;\n",
       "    }\n",
       "\n",
       "    .dataframe tbody tr th {\n",
       "        vertical-align: top;\n",
       "    }\n",
       "\n",
       "    .dataframe thead th {\n",
       "        text-align: right;\n",
       "    }\n",
       "</style>\n",
       "<table border=\"1\" class=\"dataframe\">\n",
       "  <thead>\n",
       "    <tr style=\"text-align: right;\">\n",
       "      <th></th>\n",
       "      <th>col_0</th>\n",
       "      <th>col_1</th>\n",
       "      <th>col_2</th>\n",
       "      <th>col_3</th>\n",
       "      <th>col_4</th>\n",
       "      <th>col_5</th>\n",
       "      <th>col_6</th>\n",
       "      <th>col_7</th>\n",
       "      <th>col_8</th>\n",
       "      <th>col_9</th>\n",
       "      <th>...</th>\n",
       "      <th>Active Mean</th>\n",
       "      <th>Active Std</th>\n",
       "      <th>Active Max</th>\n",
       "      <th>Active Min</th>\n",
       "      <th>Idle Mean</th>\n",
       "      <th>Idle Std</th>\n",
       "      <th>Idle Max</th>\n",
       "      <th>Idle Min</th>\n",
       "      <th>Label</th>\n",
       "      <th>Label.1</th>\n",
       "    </tr>\n",
       "  </thead>\n",
       "  <tbody>\n",
       "    <tr>\n",
       "      <th>0</th>\n",
       "      <td>0</td>\n",
       "      <td>0</td>\n",
       "      <td>0</td>\n",
       "      <td>0</td>\n",
       "      <td>0</td>\n",
       "      <td>0</td>\n",
       "      <td>0</td>\n",
       "      <td>0</td>\n",
       "      <td>0</td>\n",
       "      <td>0</td>\n",
       "      <td>...</td>\n",
       "      <td>0</td>\n",
       "      <td>0</td>\n",
       "      <td>0</td>\n",
       "      <td>0</td>\n",
       "      <td>0.000000e+00</td>\n",
       "      <td>0.000</td>\n",
       "      <td>0.000000e+00</td>\n",
       "      <td>0.000000e+00</td>\n",
       "      <td>Benign</td>\n",
       "      <td>Audio-Streaming</td>\n",
       "    </tr>\n",
       "    <tr>\n",
       "      <th>1</th>\n",
       "      <td>0</td>\n",
       "      <td>0</td>\n",
       "      <td>0</td>\n",
       "      <td>0</td>\n",
       "      <td>0</td>\n",
       "      <td>0</td>\n",
       "      <td>0</td>\n",
       "      <td>0</td>\n",
       "      <td>0</td>\n",
       "      <td>0</td>\n",
       "      <td>...</td>\n",
       "      <td>0</td>\n",
       "      <td>0</td>\n",
       "      <td>0</td>\n",
       "      <td>0</td>\n",
       "      <td>0.000000e+00</td>\n",
       "      <td>0.000</td>\n",
       "      <td>0.000000e+00</td>\n",
       "      <td>0.000000e+00</td>\n",
       "      <td>Benign</td>\n",
       "      <td>Audio-Streaming</td>\n",
       "    </tr>\n",
       "    <tr>\n",
       "      <th>2</th>\n",
       "      <td>0</td>\n",
       "      <td>0</td>\n",
       "      <td>0</td>\n",
       "      <td>0</td>\n",
       "      <td>0</td>\n",
       "      <td>0</td>\n",
       "      <td>0</td>\n",
       "      <td>0</td>\n",
       "      <td>0</td>\n",
       "      <td>0</td>\n",
       "      <td>...</td>\n",
       "      <td>0</td>\n",
       "      <td>0</td>\n",
       "      <td>0</td>\n",
       "      <td>0</td>\n",
       "      <td>0.000000e+00</td>\n",
       "      <td>0.000</td>\n",
       "      <td>0.000000e+00</td>\n",
       "      <td>0.000000e+00</td>\n",
       "      <td>Benign</td>\n",
       "      <td>Audio-Streaming</td>\n",
       "    </tr>\n",
       "    <tr>\n",
       "      <th>3</th>\n",
       "      <td>0</td>\n",
       "      <td>0</td>\n",
       "      <td>0</td>\n",
       "      <td>0</td>\n",
       "      <td>0</td>\n",
       "      <td>0</td>\n",
       "      <td>0</td>\n",
       "      <td>0</td>\n",
       "      <td>0</td>\n",
       "      <td>0</td>\n",
       "      <td>...</td>\n",
       "      <td>0</td>\n",
       "      <td>0</td>\n",
       "      <td>0</td>\n",
       "      <td>0</td>\n",
       "      <td>0.000000e+00</td>\n",
       "      <td>0.000</td>\n",
       "      <td>0.000000e+00</td>\n",
       "      <td>0.000000e+00</td>\n",
       "      <td>Benign</td>\n",
       "      <td>Audio-Streaming</td>\n",
       "    </tr>\n",
       "    <tr>\n",
       "      <th>4</th>\n",
       "      <td>0</td>\n",
       "      <td>0</td>\n",
       "      <td>0</td>\n",
       "      <td>0</td>\n",
       "      <td>0</td>\n",
       "      <td>0</td>\n",
       "      <td>0</td>\n",
       "      <td>0</td>\n",
       "      <td>0</td>\n",
       "      <td>0</td>\n",
       "      <td>...</td>\n",
       "      <td>0</td>\n",
       "      <td>0</td>\n",
       "      <td>0</td>\n",
       "      <td>0</td>\n",
       "      <td>1.437760e+15</td>\n",
       "      <td>3117718.131</td>\n",
       "      <td>1.437760e+15</td>\n",
       "      <td>1.437760e+15</td>\n",
       "      <td>Benign</td>\n",
       "      <td>Audio-Streaming</td>\n",
       "    </tr>\n",
       "  </tbody>\n",
       "</table>\n",
       "<p>5 rows × 186 columns</p>\n",
       "</div>"
      ],
      "text/plain": [
       "   col_0  col_1  col_2  col_3  col_4  col_5  col_6  col_7  col_8  col_9  \\\n",
       "0      0      0      0      0      0      0      0      0      0      0   \n",
       "1      0      0      0      0      0      0      0      0      0      0   \n",
       "2      0      0      0      0      0      0      0      0      0      0   \n",
       "3      0      0      0      0      0      0      0      0      0      0   \n",
       "4      0      0      0      0      0      0      0      0      0      0   \n",
       "\n",
       "        ...         Active Mean  Active Std  Active Max  Active Min  \\\n",
       "0       ...                   0           0           0           0   \n",
       "1       ...                   0           0           0           0   \n",
       "2       ...                   0           0           0           0   \n",
       "3       ...                   0           0           0           0   \n",
       "4       ...                   0           0           0           0   \n",
       "\n",
       "      Idle Mean     Idle Std      Idle Max      Idle Min   Label  \\\n",
       "0  0.000000e+00        0.000  0.000000e+00  0.000000e+00  Benign   \n",
       "1  0.000000e+00        0.000  0.000000e+00  0.000000e+00  Benign   \n",
       "2  0.000000e+00        0.000  0.000000e+00  0.000000e+00  Benign   \n",
       "3  0.000000e+00        0.000  0.000000e+00  0.000000e+00  Benign   \n",
       "4  1.437760e+15  3117718.131  1.437760e+15  1.437760e+15  Benign   \n",
       "\n",
       "           Label.1  \n",
       "0  Audio-Streaming  \n",
       "1  Audio-Streaming  \n",
       "2  Audio-Streaming  \n",
       "3  Audio-Streaming  \n",
       "4  Audio-Streaming  \n",
       "\n",
       "[5 rows x 186 columns]"
      ]
     },
     "execution_count": 499,
     "metadata": {},
     "output_type": "execute_result"
    }
   ],
   "source": [
    "hash_enc = HashingEncoder(cols=hash_enc_cols, n_components=100).fit(model_samples)\n",
    "model_samples = hash_enc.transform(model_samples)\n",
    "model_samples.head()"
   ]
  },
  {
   "cell_type": "code",
   "execution_count": 500,
   "metadata": {
    "ExecuteTime": {
     "end_time": "2021-03-02T17:23:24.374829Z",
     "start_time": "2021-03-02T17:23:23.367787Z"
    }
   },
   "outputs": [
    {
     "data": {
      "text/html": [
       "<div>\n",
       "<style scoped>\n",
       "    .dataframe tbody tr th:only-of-type {\n",
       "        vertical-align: middle;\n",
       "    }\n",
       "\n",
       "    .dataframe tbody tr th {\n",
       "        vertical-align: top;\n",
       "    }\n",
       "\n",
       "    .dataframe thead th {\n",
       "        text-align: right;\n",
       "    }\n",
       "</style>\n",
       "<table border=\"1\" class=\"dataframe\">\n",
       "  <thead>\n",
       "    <tr style=\"text-align: right;\">\n",
       "      <th></th>\n",
       "      <th>src_ip_country</th>\n",
       "      <th>dst_ip_country</th>\n",
       "    </tr>\n",
       "  </thead>\n",
       "  <tbody>\n",
       "    <tr>\n",
       "      <th>0</th>\n",
       "      <td>0</td>\n",
       "      <td>134</td>\n",
       "    </tr>\n",
       "    <tr>\n",
       "      <th>1</th>\n",
       "      <td>0</td>\n",
       "      <td>134</td>\n",
       "    </tr>\n",
       "    <tr>\n",
       "      <th>2</th>\n",
       "      <td>0</td>\n",
       "      <td>134</td>\n",
       "    </tr>\n",
       "    <tr>\n",
       "      <th>3</th>\n",
       "      <td>0</td>\n",
       "      <td>134</td>\n",
       "    </tr>\n",
       "    <tr>\n",
       "      <th>4</th>\n",
       "      <td>0</td>\n",
       "      <td>134</td>\n",
       "    </tr>\n",
       "  </tbody>\n",
       "</table>\n",
       "</div>"
      ],
      "text/plain": [
       "   src_ip_country  dst_ip_country\n",
       "0               0             134\n",
       "1               0             134\n",
       "2               0             134\n",
       "3               0             134\n",
       "4               0             134"
      ]
     },
     "execution_count": 500,
     "metadata": {},
     "output_type": "execute_result"
    }
   ],
   "source": [
    "ord_enc = OrdinalEncoder()\n",
    "ord_enc.fit(model_samples[ord_enc_cols])\n",
    "model_samples[ord_enc_cols] = ord_enc.transform(model_samples[ord_enc_cols])\n",
    "model_samples[ord_enc_cols] = model_samples[ord_enc_cols].astype(int)\n",
    "model_samples[ord_enc_cols].head() "
   ]
  },
  {
   "cell_type": "code",
   "execution_count": 501,
   "metadata": {
    "ExecuteTime": {
     "end_time": "2021-03-02T17:23:24.478788Z",
     "start_time": "2021-03-02T17:23:24.377434Z"
    },
    "scrolled": false
   },
   "outputs": [
    {
     "data": {
      "text/html": [
       "<div>\n",
       "<style scoped>\n",
       "    .dataframe tbody tr th:only-of-type {\n",
       "        vertical-align: middle;\n",
       "    }\n",
       "\n",
       "    .dataframe tbody tr th {\n",
       "        vertical-align: top;\n",
       "    }\n",
       "\n",
       "    .dataframe thead th {\n",
       "        text-align: right;\n",
       "    }\n",
       "</style>\n",
       "<table border=\"1\" class=\"dataframe\">\n",
       "  <thead>\n",
       "    <tr style=\"text-align: right;\">\n",
       "      <th></th>\n",
       "      <th>col_0</th>\n",
       "      <th>col_1</th>\n",
       "      <th>col_2</th>\n",
       "      <th>col_3</th>\n",
       "      <th>col_4</th>\n",
       "      <th>col_5</th>\n",
       "      <th>col_6</th>\n",
       "      <th>col_7</th>\n",
       "      <th>col_8</th>\n",
       "      <th>col_9</th>\n",
       "      <th>...</th>\n",
       "      <th>Fwd Seg Size Min</th>\n",
       "      <th>Active Mean</th>\n",
       "      <th>Active Std</th>\n",
       "      <th>Active Max</th>\n",
       "      <th>Active Min</th>\n",
       "      <th>Idle Mean</th>\n",
       "      <th>Idle Std</th>\n",
       "      <th>Idle Max</th>\n",
       "      <th>Idle Min</th>\n",
       "      <th>Label</th>\n",
       "    </tr>\n",
       "  </thead>\n",
       "  <tbody>\n",
       "    <tr>\n",
       "      <th>0</th>\n",
       "      <td>0</td>\n",
       "      <td>0</td>\n",
       "      <td>0</td>\n",
       "      <td>0</td>\n",
       "      <td>0</td>\n",
       "      <td>0</td>\n",
       "      <td>0</td>\n",
       "      <td>0</td>\n",
       "      <td>0</td>\n",
       "      <td>0</td>\n",
       "      <td>...</td>\n",
       "      <td>20</td>\n",
       "      <td>0</td>\n",
       "      <td>0</td>\n",
       "      <td>0</td>\n",
       "      <td>0</td>\n",
       "      <td>0.000000e+00</td>\n",
       "      <td>0.000</td>\n",
       "      <td>0.000000e+00</td>\n",
       "      <td>0.000000e+00</td>\n",
       "      <td>Benign</td>\n",
       "    </tr>\n",
       "    <tr>\n",
       "      <th>1</th>\n",
       "      <td>0</td>\n",
       "      <td>0</td>\n",
       "      <td>0</td>\n",
       "      <td>0</td>\n",
       "      <td>0</td>\n",
       "      <td>0</td>\n",
       "      <td>0</td>\n",
       "      <td>0</td>\n",
       "      <td>0</td>\n",
       "      <td>0</td>\n",
       "      <td>...</td>\n",
       "      <td>20</td>\n",
       "      <td>0</td>\n",
       "      <td>0</td>\n",
       "      <td>0</td>\n",
       "      <td>0</td>\n",
       "      <td>0.000000e+00</td>\n",
       "      <td>0.000</td>\n",
       "      <td>0.000000e+00</td>\n",
       "      <td>0.000000e+00</td>\n",
       "      <td>Benign</td>\n",
       "    </tr>\n",
       "    <tr>\n",
       "      <th>2</th>\n",
       "      <td>0</td>\n",
       "      <td>0</td>\n",
       "      <td>0</td>\n",
       "      <td>0</td>\n",
       "      <td>0</td>\n",
       "      <td>0</td>\n",
       "      <td>0</td>\n",
       "      <td>0</td>\n",
       "      <td>0</td>\n",
       "      <td>0</td>\n",
       "      <td>...</td>\n",
       "      <td>20</td>\n",
       "      <td>0</td>\n",
       "      <td>0</td>\n",
       "      <td>0</td>\n",
       "      <td>0</td>\n",
       "      <td>0.000000e+00</td>\n",
       "      <td>0.000</td>\n",
       "      <td>0.000000e+00</td>\n",
       "      <td>0.000000e+00</td>\n",
       "      <td>Benign</td>\n",
       "    </tr>\n",
       "    <tr>\n",
       "      <th>3</th>\n",
       "      <td>0</td>\n",
       "      <td>0</td>\n",
       "      <td>0</td>\n",
       "      <td>0</td>\n",
       "      <td>0</td>\n",
       "      <td>0</td>\n",
       "      <td>0</td>\n",
       "      <td>0</td>\n",
       "      <td>0</td>\n",
       "      <td>0</td>\n",
       "      <td>...</td>\n",
       "      <td>20</td>\n",
       "      <td>0</td>\n",
       "      <td>0</td>\n",
       "      <td>0</td>\n",
       "      <td>0</td>\n",
       "      <td>0.000000e+00</td>\n",
       "      <td>0.000</td>\n",
       "      <td>0.000000e+00</td>\n",
       "      <td>0.000000e+00</td>\n",
       "      <td>Benign</td>\n",
       "    </tr>\n",
       "    <tr>\n",
       "      <th>4</th>\n",
       "      <td>0</td>\n",
       "      <td>0</td>\n",
       "      <td>0</td>\n",
       "      <td>0</td>\n",
       "      <td>0</td>\n",
       "      <td>0</td>\n",
       "      <td>0</td>\n",
       "      <td>0</td>\n",
       "      <td>0</td>\n",
       "      <td>0</td>\n",
       "      <td>...</td>\n",
       "      <td>20</td>\n",
       "      <td>0</td>\n",
       "      <td>0</td>\n",
       "      <td>0</td>\n",
       "      <td>0</td>\n",
       "      <td>1.437760e+15</td>\n",
       "      <td>3117718.131</td>\n",
       "      <td>1.437760e+15</td>\n",
       "      <td>1.437760e+15</td>\n",
       "      <td>Benign</td>\n",
       "    </tr>\n",
       "  </tbody>\n",
       "</table>\n",
       "<p>5 rows × 185 columns</p>\n",
       "</div>"
      ],
      "text/plain": [
       "   col_0  col_1  col_2  col_3  col_4  col_5  col_6  col_7  col_8  col_9  \\\n",
       "0      0      0      0      0      0      0      0      0      0      0   \n",
       "1      0      0      0      0      0      0      0      0      0      0   \n",
       "2      0      0      0      0      0      0      0      0      0      0   \n",
       "3      0      0      0      0      0      0      0      0      0      0   \n",
       "4      0      0      0      0      0      0      0      0      0      0   \n",
       "\n",
       "    ...    Fwd Seg Size Min  Active Mean  Active Std  Active Max  Active Min  \\\n",
       "0   ...                  20            0           0           0           0   \n",
       "1   ...                  20            0           0           0           0   \n",
       "2   ...                  20            0           0           0           0   \n",
       "3   ...                  20            0           0           0           0   \n",
       "4   ...                  20            0           0           0           0   \n",
       "\n",
       "      Idle Mean     Idle Std      Idle Max      Idle Min   Label  \n",
       "0  0.000000e+00        0.000  0.000000e+00  0.000000e+00  Benign  \n",
       "1  0.000000e+00        0.000  0.000000e+00  0.000000e+00  Benign  \n",
       "2  0.000000e+00        0.000  0.000000e+00  0.000000e+00  Benign  \n",
       "3  0.000000e+00        0.000  0.000000e+00  0.000000e+00  Benign  \n",
       "4  1.437760e+15  3117718.131  1.437760e+15  1.437760e+15  Benign  \n",
       "\n",
       "[5 rows x 185 columns]"
      ]
     },
     "execution_count": 501,
     "metadata": {},
     "output_type": "execute_result"
    }
   ],
   "source": [
    "model_samples_l1 = model_samples[model_samples['Label'] == \"Darknet\"].copy()\n",
    "del model_samples['Label.1']\n",
    "del model_samples_l1['Label']\n",
    "model_samples.head()"
   ]
  },
  {
   "cell_type": "code",
   "execution_count": 502,
   "metadata": {
    "ExecuteTime": {
     "end_time": "2021-03-02T17:23:39.564466Z",
     "start_time": "2021-03-02T17:23:39.559947Z"
    }
   },
   "outputs": [
    {
     "data": {
      "text/plain": [
       "Index(['col_0', 'col_1', 'col_2', 'col_3', 'col_4', 'col_5', 'col_6', 'col_7',\n",
       "       'col_8', 'col_9',\n",
       "       ...\n",
       "       'Fwd Seg Size Min', 'Active Mean', 'Active Std', 'Active Max',\n",
       "       'Active Min', 'Idle Mean', 'Idle Std', 'Idle Max', 'Idle Min',\n",
       "       'Label.1'],\n",
       "      dtype='object', length=185)"
      ]
     },
     "execution_count": 502,
     "metadata": {},
     "output_type": "execute_result"
    }
   ],
   "source": [
    "model_samples_l1.columns"
   ]
  },
  {
   "cell_type": "code",
   "execution_count": 503,
   "metadata": {
    "ExecuteTime": {
     "end_time": "2021-03-02T17:23:44.091848Z",
     "start_time": "2021-03-02T17:23:44.085533Z"
    }
   },
   "outputs": [
    {
     "data": {
      "text/plain": [
       "Index(['col_0', 'col_1', 'col_2', 'col_3', 'col_4', 'col_5', 'col_6', 'col_7',\n",
       "       'col_8', 'col_9',\n",
       "       ...\n",
       "       'Fwd Seg Size Min', 'Active Mean', 'Active Std', 'Active Max',\n",
       "       'Active Min', 'Idle Mean', 'Idle Std', 'Idle Max', 'Idle Min', 'Label'],\n",
       "      dtype='object', length=185)"
      ]
     },
     "execution_count": 503,
     "metadata": {},
     "output_type": "execute_result"
    }
   ],
   "source": [
    "model_samples.columns"
   ]
  },
  {
   "cell_type": "code",
   "execution_count": 504,
   "metadata": {
    "ExecuteTime": {
     "end_time": "2021-03-02T17:24:23.013349Z",
     "start_time": "2021-03-02T17:24:14.245236Z"
    }
   },
   "outputs": [],
   "source": [
    "model_samples = model_samples.replace([np.inf, -np.inf], np.nan)\n",
    "model_samples_l1 = model_samples_l1.replace([np.inf, -np.inf], np.nan)"
   ]
  },
  {
   "cell_type": "code",
   "execution_count": 505,
   "metadata": {
    "ExecuteTime": {
     "end_time": "2021-03-02T17:24:24.767135Z",
     "start_time": "2021-03-02T17:24:23.985351Z"
    },
    "scrolled": true
   },
   "outputs": [
    {
     "data": {
      "text/plain": [
       "141483"
      ]
     },
     "execution_count": 505,
     "metadata": {},
     "output_type": "execute_result"
    }
   ],
   "source": [
    "model_samples = model_samples.dropna()\n",
    "model_samples_l1 = model_samples_l1.dropna()\n",
    "len(model_samples)"
   ]
  },
  {
   "cell_type": "markdown",
   "metadata": {},
   "source": [
    "## Numerical features scaling"
   ]
  },
  {
   "cell_type": "code",
   "execution_count": 337,
   "metadata": {
    "ExecuteTime": {
     "end_time": "2021-03-01T23:54:01.626160Z",
     "start_time": "2021-03-01T23:54:01.620051Z"
    },
    "scrolled": false
   },
   "outputs": [
    {
     "data": {
      "text/plain": [
       "Index(['Flow Duration', 'Total Fwd Packet', 'Total Bwd packets',\n",
       "       'Total Length of Fwd Packet', 'Total Length of Bwd Packet',\n",
       "       'Fwd Packet Length Max', 'Fwd Packet Length Min',\n",
       "       'Fwd Packet Length Mean', 'Fwd Packet Length Std',\n",
       "       'Bwd Packet Length Max', 'Bwd Packet Length Min',\n",
       "       'Bwd Packet Length Mean', 'Bwd Packet Length Std', 'Flow Bytes/s',\n",
       "       'Flow Packets/s', 'Flow IAT Mean', 'Flow IAT Std', 'Flow IAT Max',\n",
       "       'Flow IAT Min', 'Fwd IAT Total', 'Fwd IAT Mean', 'Fwd IAT Std',\n",
       "       'Fwd IAT Max', 'Fwd IAT Min', 'Bwd IAT Total', 'Bwd IAT Mean',\n",
       "       'Bwd IAT Std', 'Bwd IAT Max', 'Bwd IAT Min', 'Fwd PSH Flags',\n",
       "       'Bwd PSH Flags', 'Fwd URG Flags', 'Bwd URG Flags', 'Fwd Header Length',\n",
       "       'Bwd Header Length', 'Fwd Packets/s', 'Bwd Packets/s',\n",
       "       'Packet Length Min', 'Packet Length Max', 'Packet Length Mean',\n",
       "       'Packet Length Std', 'Packet Length Variance', 'FIN Flag Count',\n",
       "       'SYN Flag Count', 'RST Flag Count', 'PSH Flag Count', 'ACK Flag Count',\n",
       "       'URG Flag Count', 'CWE Flag Count', 'ECE Flag Count', 'Down/Up Ratio',\n",
       "       'Average Packet Size', 'Fwd Segment Size Avg', 'Bwd Segment Size Avg',\n",
       "       'Fwd Bytes/Bulk Avg', 'Fwd Packet/Bulk Avg', 'Fwd Bulk Rate Avg',\n",
       "       'Bwd Bytes/Bulk Avg', 'Bwd Packet/Bulk Avg', 'Bwd Bulk Rate Avg',\n",
       "       'Subflow Fwd Packets', 'Subflow Fwd Bytes', 'Subflow Bwd Packets',\n",
       "       'Subflow Bwd Bytes', 'FWD Init Win Bytes', 'Bwd Init Win Bytes',\n",
       "       'Fwd Act Data Pkts', 'Fwd Seg Size Min'],\n",
       "      dtype='object')"
      ]
     },
     "execution_count": 337,
     "metadata": {},
     "output_type": "execute_result"
    }
   ],
   "source": [
    "real_columns = model_samples.columns[108:-9]\n",
    "real_columns"
   ]
  },
  {
   "cell_type": "code",
   "execution_count": 506,
   "metadata": {
    "ExecuteTime": {
     "end_time": "2021-03-02T17:24:46.611522Z",
     "start_time": "2021-03-02T17:24:40.172175Z"
    }
   },
   "outputs": [
    {
     "data": {
      "text/html": [
       "<div>\n",
       "<style scoped>\n",
       "    .dataframe tbody tr th:only-of-type {\n",
       "        vertical-align: middle;\n",
       "    }\n",
       "\n",
       "    .dataframe tbody tr th {\n",
       "        vertical-align: top;\n",
       "    }\n",
       "\n",
       "    .dataframe thead th {\n",
       "        text-align: right;\n",
       "    }\n",
       "</style>\n",
       "<table border=\"1\" class=\"dataframe\">\n",
       "  <thead>\n",
       "    <tr style=\"text-align: right;\">\n",
       "      <th></th>\n",
       "      <th>Flow Duration</th>\n",
       "      <th>Total Fwd Packet</th>\n",
       "      <th>Total Bwd packets</th>\n",
       "      <th>Total Length of Fwd Packet</th>\n",
       "      <th>Total Length of Bwd Packet</th>\n",
       "      <th>Fwd Packet Length Max</th>\n",
       "      <th>Fwd Packet Length Min</th>\n",
       "      <th>Fwd Packet Length Mean</th>\n",
       "      <th>Fwd Packet Length Std</th>\n",
       "      <th>Bwd Packet Length Max</th>\n",
       "      <th>...</th>\n",
       "      <th>Bwd Packet/Bulk Avg</th>\n",
       "      <th>Bwd Bulk Rate Avg</th>\n",
       "      <th>Subflow Fwd Packets</th>\n",
       "      <th>Subflow Fwd Bytes</th>\n",
       "      <th>Subflow Bwd Packets</th>\n",
       "      <th>Subflow Bwd Bytes</th>\n",
       "      <th>FWD Init Win Bytes</th>\n",
       "      <th>Bwd Init Win Bytes</th>\n",
       "      <th>Fwd Act Data Pkts</th>\n",
       "      <th>Fwd Seg Size Min</th>\n",
       "    </tr>\n",
       "  </thead>\n",
       "  <tbody>\n",
       "    <tr>\n",
       "      <th>117219</th>\n",
       "      <td>119384497.0</td>\n",
       "      <td>767.0</td>\n",
       "      <td>2027.0</td>\n",
       "      <td>90681.0</td>\n",
       "      <td>2448831.0</td>\n",
       "      <td>543.0</td>\n",
       "      <td>0.0</td>\n",
       "      <td>118.228162</td>\n",
       "      <td>224.244409</td>\n",
       "      <td>1420.0</td>\n",
       "      <td>...</td>\n",
       "      <td>336.0</td>\n",
       "      <td>150679.0</td>\n",
       "      <td>0.0</td>\n",
       "      <td>32.0</td>\n",
       "      <td>0.0</td>\n",
       "      <td>876.0</td>\n",
       "      <td>65535.0</td>\n",
       "      <td>65535.0</td>\n",
       "      <td>166.0</td>\n",
       "      <td>20.0</td>\n",
       "    </tr>\n",
       "    <tr>\n",
       "      <th>117220</th>\n",
       "      <td>119754701.0</td>\n",
       "      <td>1021.0</td>\n",
       "      <td>2537.0</td>\n",
       "      <td>171290.0</td>\n",
       "      <td>2922270.0</td>\n",
       "      <td>1460.0</td>\n",
       "      <td>0.0</td>\n",
       "      <td>167.766895</td>\n",
       "      <td>280.092409</td>\n",
       "      <td>1420.0</td>\n",
       "      <td>...</td>\n",
       "      <td>421.0</td>\n",
       "      <td>94293.0</td>\n",
       "      <td>0.0</td>\n",
       "      <td>48.0</td>\n",
       "      <td>0.0</td>\n",
       "      <td>821.0</td>\n",
       "      <td>65535.0</td>\n",
       "      <td>65535.0</td>\n",
       "      <td>292.0</td>\n",
       "      <td>20.0</td>\n",
       "    </tr>\n",
       "    <tr>\n",
       "      <th>117221</th>\n",
       "      <td>118908117.0</td>\n",
       "      <td>683.0</td>\n",
       "      <td>1662.0</td>\n",
       "      <td>77649.0</td>\n",
       "      <td>2001627.0</td>\n",
       "      <td>543.0</td>\n",
       "      <td>0.0</td>\n",
       "      <td>113.688141</td>\n",
       "      <td>221.086482</td>\n",
       "      <td>1420.0</td>\n",
       "      <td>...</td>\n",
       "      <td>275.0</td>\n",
       "      <td>168275.0</td>\n",
       "      <td>0.0</td>\n",
       "      <td>33.0</td>\n",
       "      <td>0.0</td>\n",
       "      <td>853.0</td>\n",
       "      <td>65535.0</td>\n",
       "      <td>65535.0</td>\n",
       "      <td>142.0</td>\n",
       "      <td>20.0</td>\n",
       "    </tr>\n",
       "    <tr>\n",
       "      <th>117222</th>\n",
       "      <td>739728.0</td>\n",
       "      <td>2.0</td>\n",
       "      <td>2.0</td>\n",
       "      <td>543.0</td>\n",
       "      <td>543.0</td>\n",
       "      <td>543.0</td>\n",
       "      <td>0.0</td>\n",
       "      <td>271.500000</td>\n",
       "      <td>383.958982</td>\n",
       "      <td>543.0</td>\n",
       "      <td>...</td>\n",
       "      <td>0.0</td>\n",
       "      <td>0.0</td>\n",
       "      <td>0.0</td>\n",
       "      <td>135.0</td>\n",
       "      <td>0.0</td>\n",
       "      <td>135.0</td>\n",
       "      <td>41180.0</td>\n",
       "      <td>65535.0</td>\n",
       "      <td>0.0</td>\n",
       "      <td>20.0</td>\n",
       "    </tr>\n",
       "    <tr>\n",
       "      <th>117223</th>\n",
       "      <td>149270.0</td>\n",
       "      <td>2.0</td>\n",
       "      <td>2.0</td>\n",
       "      <td>565.0</td>\n",
       "      <td>565.0</td>\n",
       "      <td>565.0</td>\n",
       "      <td>0.0</td>\n",
       "      <td>282.500000</td>\n",
       "      <td>399.515331</td>\n",
       "      <td>565.0</td>\n",
       "      <td>...</td>\n",
       "      <td>0.0</td>\n",
       "      <td>0.0</td>\n",
       "      <td>0.0</td>\n",
       "      <td>141.0</td>\n",
       "      <td>0.0</td>\n",
       "      <td>141.0</td>\n",
       "      <td>41180.0</td>\n",
       "      <td>65535.0</td>\n",
       "      <td>0.0</td>\n",
       "      <td>20.0</td>\n",
       "    </tr>\n",
       "    <tr>\n",
       "      <th>117224</th>\n",
       "      <td>11718197.0</td>\n",
       "      <td>3.0</td>\n",
       "      <td>4.0</td>\n",
       "      <td>1086.0</td>\n",
       "      <td>543.0</td>\n",
       "      <td>543.0</td>\n",
       "      <td>0.0</td>\n",
       "      <td>362.000000</td>\n",
       "      <td>313.501196</td>\n",
       "      <td>543.0</td>\n",
       "      <td>...</td>\n",
       "      <td>0.0</td>\n",
       "      <td>0.0</td>\n",
       "      <td>0.0</td>\n",
       "      <td>155.0</td>\n",
       "      <td>0.0</td>\n",
       "      <td>77.0</td>\n",
       "      <td>41180.0</td>\n",
       "      <td>65535.0</td>\n",
       "      <td>1.0</td>\n",
       "      <td>20.0</td>\n",
       "    </tr>\n",
       "    <tr>\n",
       "      <th>117225</th>\n",
       "      <td>115909057.0</td>\n",
       "      <td>783.0</td>\n",
       "      <td>1963.0</td>\n",
       "      <td>88277.0</td>\n",
       "      <td>2404390.0</td>\n",
       "      <td>1057.0</td>\n",
       "      <td>0.0</td>\n",
       "      <td>112.742018</td>\n",
       "      <td>232.654722</td>\n",
       "      <td>1420.0</td>\n",
       "      <td>...</td>\n",
       "      <td>326.0</td>\n",
       "      <td>191604.0</td>\n",
       "      <td>0.0</td>\n",
       "      <td>32.0</td>\n",
       "      <td>0.0</td>\n",
       "      <td>875.0</td>\n",
       "      <td>65535.0</td>\n",
       "      <td>65535.0</td>\n",
       "      <td>154.0</td>\n",
       "      <td>20.0</td>\n",
       "    </tr>\n",
       "    <tr>\n",
       "      <th>117226</th>\n",
       "      <td>3465904.0</td>\n",
       "      <td>14.0</td>\n",
       "      <td>18.0</td>\n",
       "      <td>4887.0</td>\n",
       "      <td>5401.0</td>\n",
       "      <td>543.0</td>\n",
       "      <td>0.0</td>\n",
       "      <td>349.071429</td>\n",
       "      <td>270.004121</td>\n",
       "      <td>1057.0</td>\n",
       "      <td>...</td>\n",
       "      <td>18.0</td>\n",
       "      <td>2968.0</td>\n",
       "      <td>0.0</td>\n",
       "      <td>152.0</td>\n",
       "      <td>0.0</td>\n",
       "      <td>168.0</td>\n",
       "      <td>41811.0</td>\n",
       "      <td>65535.0</td>\n",
       "      <td>8.0</td>\n",
       "      <td>20.0</td>\n",
       "    </tr>\n",
       "    <tr>\n",
       "      <th>117227</th>\n",
       "      <td>112024262.0</td>\n",
       "      <td>797.0</td>\n",
       "      <td>1682.0</td>\n",
       "      <td>84961.0</td>\n",
       "      <td>2022224.0</td>\n",
       "      <td>1460.0</td>\n",
       "      <td>0.0</td>\n",
       "      <td>106.601004</td>\n",
       "      <td>230.441054</td>\n",
       "      <td>1420.0</td>\n",
       "      <td>...</td>\n",
       "      <td>208.0</td>\n",
       "      <td>140065.0</td>\n",
       "      <td>0.0</td>\n",
       "      <td>34.0</td>\n",
       "      <td>0.0</td>\n",
       "      <td>815.0</td>\n",
       "      <td>65535.0</td>\n",
       "      <td>65535.0</td>\n",
       "      <td>147.0</td>\n",
       "      <td>20.0</td>\n",
       "    </tr>\n",
       "    <tr>\n",
       "      <th>117228</th>\n",
       "      <td>9993461.0</td>\n",
       "      <td>3.0</td>\n",
       "      <td>3.0</td>\n",
       "      <td>1130.0</td>\n",
       "      <td>565.0</td>\n",
       "      <td>565.0</td>\n",
       "      <td>0.0</td>\n",
       "      <td>376.666667</td>\n",
       "      <td>326.202902</td>\n",
       "      <td>565.0</td>\n",
       "      <td>...</td>\n",
       "      <td>0.0</td>\n",
       "      <td>0.0</td>\n",
       "      <td>0.0</td>\n",
       "      <td>188.0</td>\n",
       "      <td>0.0</td>\n",
       "      <td>94.0</td>\n",
       "      <td>41180.0</td>\n",
       "      <td>65535.0</td>\n",
       "      <td>1.0</td>\n",
       "      <td>20.0</td>\n",
       "    </tr>\n",
       "    <tr>\n",
       "      <th>117229</th>\n",
       "      <td>452.0</td>\n",
       "      <td>2.0</td>\n",
       "      <td>0.0</td>\n",
       "      <td>0.0</td>\n",
       "      <td>0.0</td>\n",
       "      <td>0.0</td>\n",
       "      <td>0.0</td>\n",
       "      <td>0.000000</td>\n",
       "      <td>0.000000</td>\n",
       "      <td>0.0</td>\n",
       "      <td>...</td>\n",
       "      <td>0.0</td>\n",
       "      <td>0.0</td>\n",
       "      <td>1.0</td>\n",
       "      <td>0.0</td>\n",
       "      <td>0.0</td>\n",
       "      <td>0.0</td>\n",
       "      <td>65535.0</td>\n",
       "      <td>0.0</td>\n",
       "      <td>0.0</td>\n",
       "      <td>20.0</td>\n",
       "    </tr>\n",
       "    <tr>\n",
       "      <th>117230</th>\n",
       "      <td>112066245.0</td>\n",
       "      <td>769.0</td>\n",
       "      <td>1901.0</td>\n",
       "      <td>88907.0</td>\n",
       "      <td>2315337.0</td>\n",
       "      <td>1057.0</td>\n",
       "      <td>0.0</td>\n",
       "      <td>115.613784</td>\n",
       "      <td>230.245895</td>\n",
       "      <td>1420.0</td>\n",
       "      <td>...</td>\n",
       "      <td>314.0</td>\n",
       "      <td>163813.0</td>\n",
       "      <td>0.0</td>\n",
       "      <td>33.0</td>\n",
       "      <td>0.0</td>\n",
       "      <td>867.0</td>\n",
       "      <td>65535.0</td>\n",
       "      <td>65535.0</td>\n",
       "      <td>158.0</td>\n",
       "      <td>20.0</td>\n",
       "    </tr>\n",
       "    <tr>\n",
       "      <th>117231</th>\n",
       "      <td>319979.0</td>\n",
       "      <td>3.0</td>\n",
       "      <td>1.0</td>\n",
       "      <td>1086.0</td>\n",
       "      <td>0.0</td>\n",
       "      <td>543.0</td>\n",
       "      <td>0.0</td>\n",
       "      <td>362.000000</td>\n",
       "      <td>313.501196</td>\n",
       "      <td>0.0</td>\n",
       "      <td>...</td>\n",
       "      <td>0.0</td>\n",
       "      <td>0.0</td>\n",
       "      <td>0.0</td>\n",
       "      <td>271.0</td>\n",
       "      <td>0.0</td>\n",
       "      <td>0.0</td>\n",
       "      <td>65535.0</td>\n",
       "      <td>65535.0</td>\n",
       "      <td>1.0</td>\n",
       "      <td>20.0</td>\n",
       "    </tr>\n",
       "    <tr>\n",
       "      <th>117232</th>\n",
       "      <td>116772419.0</td>\n",
       "      <td>873.0</td>\n",
       "      <td>1946.0</td>\n",
       "      <td>90051.0</td>\n",
       "      <td>2359653.0</td>\n",
       "      <td>1460.0</td>\n",
       "      <td>0.0</td>\n",
       "      <td>103.151203</td>\n",
       "      <td>218.005424</td>\n",
       "      <td>1420.0</td>\n",
       "      <td>...</td>\n",
       "      <td>322.0</td>\n",
       "      <td>183153.0</td>\n",
       "      <td>0.0</td>\n",
       "      <td>31.0</td>\n",
       "      <td>0.0</td>\n",
       "      <td>837.0</td>\n",
       "      <td>65535.0</td>\n",
       "      <td>65535.0</td>\n",
       "      <td>163.0</td>\n",
       "      <td>20.0</td>\n",
       "    </tr>\n",
       "    <tr>\n",
       "      <th>117233</th>\n",
       "      <td>119794558.0</td>\n",
       "      <td>884.0</td>\n",
       "      <td>2018.0</td>\n",
       "      <td>112161.0</td>\n",
       "      <td>2421343.0</td>\n",
       "      <td>1460.0</td>\n",
       "      <td>0.0</td>\n",
       "      <td>126.878959</td>\n",
       "      <td>263.599077</td>\n",
       "      <td>1420.0</td>\n",
       "      <td>...</td>\n",
       "      <td>200.0</td>\n",
       "      <td>148216.0</td>\n",
       "      <td>0.0</td>\n",
       "      <td>38.0</td>\n",
       "      <td>0.0</td>\n",
       "      <td>834.0</td>\n",
       "      <td>65535.0</td>\n",
       "      <td>65535.0</td>\n",
       "      <td>184.0</td>\n",
       "      <td>20.0</td>\n",
       "    </tr>\n",
       "    <tr>\n",
       "      <th>117234</th>\n",
       "      <td>101356732.0</td>\n",
       "      <td>607.0</td>\n",
       "      <td>1622.0</td>\n",
       "      <td>85098.0</td>\n",
       "      <td>1964176.0</td>\n",
       "      <td>1460.0</td>\n",
       "      <td>0.0</td>\n",
       "      <td>140.194399</td>\n",
       "      <td>278.154571</td>\n",
       "      <td>1420.0</td>\n",
       "      <td>...</td>\n",
       "      <td>267.0</td>\n",
       "      <td>278722.0</td>\n",
       "      <td>0.0</td>\n",
       "      <td>38.0</td>\n",
       "      <td>0.0</td>\n",
       "      <td>881.0</td>\n",
       "      <td>65535.0</td>\n",
       "      <td>65535.0</td>\n",
       "      <td>137.0</td>\n",
       "      <td>20.0</td>\n",
       "    </tr>\n",
       "    <tr>\n",
       "      <th>117235</th>\n",
       "      <td>6298113.0</td>\n",
       "      <td>4.0</td>\n",
       "      <td>2.0</td>\n",
       "      <td>1629.0</td>\n",
       "      <td>0.0</td>\n",
       "      <td>543.0</td>\n",
       "      <td>0.0</td>\n",
       "      <td>407.250000</td>\n",
       "      <td>271.500000</td>\n",
       "      <td>0.0</td>\n",
       "      <td>...</td>\n",
       "      <td>0.0</td>\n",
       "      <td>0.0</td>\n",
       "      <td>0.0</td>\n",
       "      <td>271.0</td>\n",
       "      <td>0.0</td>\n",
       "      <td>0.0</td>\n",
       "      <td>65535.0</td>\n",
       "      <td>65535.0</td>\n",
       "      <td>2.0</td>\n",
       "      <td>20.0</td>\n",
       "    </tr>\n",
       "    <tr>\n",
       "      <th>117236</th>\n",
       "      <td>115491284.0</td>\n",
       "      <td>777.0</td>\n",
       "      <td>1965.0</td>\n",
       "      <td>94445.0</td>\n",
       "      <td>2396767.0</td>\n",
       "      <td>1057.0</td>\n",
       "      <td>0.0</td>\n",
       "      <td>121.550837</td>\n",
       "      <td>255.530896</td>\n",
       "      <td>1420.0</td>\n",
       "      <td>...</td>\n",
       "      <td>323.0</td>\n",
       "      <td>277338.0</td>\n",
       "      <td>0.0</td>\n",
       "      <td>34.0</td>\n",
       "      <td>0.0</td>\n",
       "      <td>874.0</td>\n",
       "      <td>65535.0</td>\n",
       "      <td>65535.0</td>\n",
       "      <td>154.0</td>\n",
       "      <td>20.0</td>\n",
       "    </tr>\n",
       "    <tr>\n",
       "      <th>117237</th>\n",
       "      <td>114390485.0</td>\n",
       "      <td>694.0</td>\n",
       "      <td>1976.0</td>\n",
       "      <td>92592.0</td>\n",
       "      <td>2398753.0</td>\n",
       "      <td>1057.0</td>\n",
       "      <td>0.0</td>\n",
       "      <td>133.417867</td>\n",
       "      <td>248.556325</td>\n",
       "      <td>1420.0</td>\n",
       "      <td>...</td>\n",
       "      <td>327.0</td>\n",
       "      <td>218553.0</td>\n",
       "      <td>0.0</td>\n",
       "      <td>34.0</td>\n",
       "      <td>0.0</td>\n",
       "      <td>898.0</td>\n",
       "      <td>65535.0</td>\n",
       "      <td>65535.0</td>\n",
       "      <td>161.0</td>\n",
       "      <td>20.0</td>\n",
       "    </tr>\n",
       "    <tr>\n",
       "      <th>117238</th>\n",
       "      <td>6272512.0</td>\n",
       "      <td>3.0</td>\n",
       "      <td>1.0</td>\n",
       "      <td>1086.0</td>\n",
       "      <td>0.0</td>\n",
       "      <td>543.0</td>\n",
       "      <td>0.0</td>\n",
       "      <td>362.000000</td>\n",
       "      <td>313.501196</td>\n",
       "      <td>0.0</td>\n",
       "      <td>...</td>\n",
       "      <td>0.0</td>\n",
       "      <td>0.0</td>\n",
       "      <td>0.0</td>\n",
       "      <td>271.0</td>\n",
       "      <td>0.0</td>\n",
       "      <td>0.0</td>\n",
       "      <td>65535.0</td>\n",
       "      <td>65535.0</td>\n",
       "      <td>1.0</td>\n",
       "      <td>20.0</td>\n",
       "    </tr>\n",
       "    <tr>\n",
       "      <th>117239</th>\n",
       "      <td>113151643.0</td>\n",
       "      <td>626.0</td>\n",
       "      <td>1903.0</td>\n",
       "      <td>91079.0</td>\n",
       "      <td>2323853.0</td>\n",
       "      <td>1057.0</td>\n",
       "      <td>0.0</td>\n",
       "      <td>145.493610</td>\n",
       "      <td>249.546707</td>\n",
       "      <td>1420.0</td>\n",
       "      <td>...</td>\n",
       "      <td>315.0</td>\n",
       "      <td>254117.0</td>\n",
       "      <td>0.0</td>\n",
       "      <td>36.0</td>\n",
       "      <td>0.0</td>\n",
       "      <td>918.0</td>\n",
       "      <td>65535.0</td>\n",
       "      <td>65535.0</td>\n",
       "      <td>162.0</td>\n",
       "      <td>20.0</td>\n",
       "    </tr>\n",
       "    <tr>\n",
       "      <th>117240</th>\n",
       "      <td>6255979.0</td>\n",
       "      <td>3.0</td>\n",
       "      <td>1.0</td>\n",
       "      <td>1086.0</td>\n",
       "      <td>0.0</td>\n",
       "      <td>543.0</td>\n",
       "      <td>0.0</td>\n",
       "      <td>362.000000</td>\n",
       "      <td>313.501196</td>\n",
       "      <td>0.0</td>\n",
       "      <td>...</td>\n",
       "      <td>0.0</td>\n",
       "      <td>0.0</td>\n",
       "      <td>0.0</td>\n",
       "      <td>271.0</td>\n",
       "      <td>0.0</td>\n",
       "      <td>0.0</td>\n",
       "      <td>65535.0</td>\n",
       "      <td>65535.0</td>\n",
       "      <td>1.0</td>\n",
       "      <td>20.0</td>\n",
       "    </tr>\n",
       "    <tr>\n",
       "      <th>117241</th>\n",
       "      <td>113383723.0</td>\n",
       "      <td>767.0</td>\n",
       "      <td>2167.0</td>\n",
       "      <td>107137.0</td>\n",
       "      <td>2630093.0</td>\n",
       "      <td>1460.0</td>\n",
       "      <td>0.0</td>\n",
       "      <td>139.683181</td>\n",
       "      <td>256.704613</td>\n",
       "      <td>1420.0</td>\n",
       "      <td>...</td>\n",
       "      <td>269.0</td>\n",
       "      <td>161246.0</td>\n",
       "      <td>0.0</td>\n",
       "      <td>36.0</td>\n",
       "      <td>0.0</td>\n",
       "      <td>896.0</td>\n",
       "      <td>65535.0</td>\n",
       "      <td>65535.0</td>\n",
       "      <td>185.0</td>\n",
       "      <td>20.0</td>\n",
       "    </tr>\n",
       "    <tr>\n",
       "      <th>117242</th>\n",
       "      <td>296.0</td>\n",
       "      <td>1.0</td>\n",
       "      <td>1.0</td>\n",
       "      <td>0.0</td>\n",
       "      <td>0.0</td>\n",
       "      <td>0.0</td>\n",
       "      <td>0.0</td>\n",
       "      <td>0.000000</td>\n",
       "      <td>0.000000</td>\n",
       "      <td>0.0</td>\n",
       "      <td>...</td>\n",
       "      <td>0.0</td>\n",
       "      <td>0.0</td>\n",
       "      <td>0.0</td>\n",
       "      <td>0.0</td>\n",
       "      <td>0.0</td>\n",
       "      <td>0.0</td>\n",
       "      <td>41811.0</td>\n",
       "      <td>65535.0</td>\n",
       "      <td>0.0</td>\n",
       "      <td>20.0</td>\n",
       "    </tr>\n",
       "    <tr>\n",
       "      <th>117243</th>\n",
       "      <td>119814478.0</td>\n",
       "      <td>622.0</td>\n",
       "      <td>1460.0</td>\n",
       "      <td>74362.0</td>\n",
       "      <td>1740568.0</td>\n",
       "      <td>1057.0</td>\n",
       "      <td>0.0</td>\n",
       "      <td>119.553055</td>\n",
       "      <td>227.114008</td>\n",
       "      <td>1420.0</td>\n",
       "      <td>...</td>\n",
       "      <td>206.0</td>\n",
       "      <td>82424.0</td>\n",
       "      <td>0.0</td>\n",
       "      <td>35.0</td>\n",
       "      <td>0.0</td>\n",
       "      <td>836.0</td>\n",
       "      <td>65535.0</td>\n",
       "      <td>65535.0</td>\n",
       "      <td>135.0</td>\n",
       "      <td>20.0</td>\n",
       "    </tr>\n",
       "    <tr>\n",
       "      <th>117244</th>\n",
       "      <td>119971744.0</td>\n",
       "      <td>563.0</td>\n",
       "      <td>1694.0</td>\n",
       "      <td>81102.0</td>\n",
       "      <td>2046450.0</td>\n",
       "      <td>1460.0</td>\n",
       "      <td>0.0</td>\n",
       "      <td>144.053286</td>\n",
       "      <td>263.696770</td>\n",
       "      <td>1420.0</td>\n",
       "      <td>...</td>\n",
       "      <td>280.0</td>\n",
       "      <td>98489.0</td>\n",
       "      <td>0.0</td>\n",
       "      <td>35.0</td>\n",
       "      <td>0.0</td>\n",
       "      <td>906.0</td>\n",
       "      <td>65535.0</td>\n",
       "      <td>65535.0</td>\n",
       "      <td>138.0</td>\n",
       "      <td>20.0</td>\n",
       "    </tr>\n",
       "    <tr>\n",
       "      <th>117245</th>\n",
       "      <td>99315529.0</td>\n",
       "      <td>412.0</td>\n",
       "      <td>1131.0</td>\n",
       "      <td>59605.0</td>\n",
       "      <td>1359490.0</td>\n",
       "      <td>1460.0</td>\n",
       "      <td>0.0</td>\n",
       "      <td>144.672330</td>\n",
       "      <td>276.415643</td>\n",
       "      <td>1420.0</td>\n",
       "      <td>...</td>\n",
       "      <td>223.0</td>\n",
       "      <td>112762.0</td>\n",
       "      <td>0.0</td>\n",
       "      <td>38.0</td>\n",
       "      <td>0.0</td>\n",
       "      <td>881.0</td>\n",
       "      <td>65535.0</td>\n",
       "      <td>65535.0</td>\n",
       "      <td>97.0</td>\n",
       "      <td>20.0</td>\n",
       "    </tr>\n",
       "    <tr>\n",
       "      <th>117246</th>\n",
       "      <td>131877.0</td>\n",
       "      <td>2.0</td>\n",
       "      <td>2.0</td>\n",
       "      <td>543.0</td>\n",
       "      <td>543.0</td>\n",
       "      <td>543.0</td>\n",
       "      <td>0.0</td>\n",
       "      <td>271.500000</td>\n",
       "      <td>383.958982</td>\n",
       "      <td>543.0</td>\n",
       "      <td>...</td>\n",
       "      <td>0.0</td>\n",
       "      <td>0.0</td>\n",
       "      <td>0.0</td>\n",
       "      <td>135.0</td>\n",
       "      <td>0.0</td>\n",
       "      <td>135.0</td>\n",
       "      <td>65535.0</td>\n",
       "      <td>34752.0</td>\n",
       "      <td>0.0</td>\n",
       "      <td>20.0</td>\n",
       "    </tr>\n",
       "    <tr>\n",
       "      <th>117247</th>\n",
       "      <td>119998730.0</td>\n",
       "      <td>997.0</td>\n",
       "      <td>2220.0</td>\n",
       "      <td>105305.0</td>\n",
       "      <td>2681659.0</td>\n",
       "      <td>1460.0</td>\n",
       "      <td>0.0</td>\n",
       "      <td>105.621866</td>\n",
       "      <td>238.991591</td>\n",
       "      <td>1420.0</td>\n",
       "      <td>...</td>\n",
       "      <td>315.0</td>\n",
       "      <td>118154.0</td>\n",
       "      <td>0.0</td>\n",
       "      <td>32.0</td>\n",
       "      <td>0.0</td>\n",
       "      <td>833.0</td>\n",
       "      <td>65535.0</td>\n",
       "      <td>65535.0</td>\n",
       "      <td>176.0</td>\n",
       "      <td>20.0</td>\n",
       "    </tr>\n",
       "    <tr>\n",
       "      <th>117248</th>\n",
       "      <td>119594327.0</td>\n",
       "      <td>831.0</td>\n",
       "      <td>2078.0</td>\n",
       "      <td>108246.0</td>\n",
       "      <td>2489662.0</td>\n",
       "      <td>1460.0</td>\n",
       "      <td>0.0</td>\n",
       "      <td>130.259928</td>\n",
       "      <td>242.585381</td>\n",
       "      <td>1420.0</td>\n",
       "      <td>...</td>\n",
       "      <td>187.0</td>\n",
       "      <td>110437.0</td>\n",
       "      <td>0.0</td>\n",
       "      <td>37.0</td>\n",
       "      <td>0.0</td>\n",
       "      <td>855.0</td>\n",
       "      <td>65535.0</td>\n",
       "      <td>65535.0</td>\n",
       "      <td>193.0</td>\n",
       "      <td>20.0</td>\n",
       "    </tr>\n",
       "    <tr>\n",
       "      <th>...</th>\n",
       "      <td>...</td>\n",
       "      <td>...</td>\n",
       "      <td>...</td>\n",
       "      <td>...</td>\n",
       "      <td>...</td>\n",
       "      <td>...</td>\n",
       "      <td>...</td>\n",
       "      <td>...</td>\n",
       "      <td>...</td>\n",
       "      <td>...</td>\n",
       "      <td>...</td>\n",
       "      <td>...</td>\n",
       "      <td>...</td>\n",
       "      <td>...</td>\n",
       "      <td>...</td>\n",
       "      <td>...</td>\n",
       "      <td>...</td>\n",
       "      <td>...</td>\n",
       "      <td>...</td>\n",
       "      <td>...</td>\n",
       "      <td>...</td>\n",
       "    </tr>\n",
       "    <tr>\n",
       "      <th>141500</th>\n",
       "      <td>411885.0</td>\n",
       "      <td>2.0</td>\n",
       "      <td>0.0</td>\n",
       "      <td>44.0</td>\n",
       "      <td>0.0</td>\n",
       "      <td>22.0</td>\n",
       "      <td>22.0</td>\n",
       "      <td>22.000000</td>\n",
       "      <td>0.000000</td>\n",
       "      <td>0.0</td>\n",
       "      <td>...</td>\n",
       "      <td>0.0</td>\n",
       "      <td>0.0</td>\n",
       "      <td>1.0</td>\n",
       "      <td>22.0</td>\n",
       "      <td>0.0</td>\n",
       "      <td>0.0</td>\n",
       "      <td>0.0</td>\n",
       "      <td>0.0</td>\n",
       "      <td>1.0</td>\n",
       "      <td>8.0</td>\n",
       "    </tr>\n",
       "    <tr>\n",
       "      <th>141501</th>\n",
       "      <td>52.0</td>\n",
       "      <td>1.0</td>\n",
       "      <td>1.0</td>\n",
       "      <td>0.0</td>\n",
       "      <td>0.0</td>\n",
       "      <td>0.0</td>\n",
       "      <td>0.0</td>\n",
       "      <td>0.000000</td>\n",
       "      <td>0.000000</td>\n",
       "      <td>0.0</td>\n",
       "      <td>...</td>\n",
       "      <td>0.0</td>\n",
       "      <td>0.0</td>\n",
       "      <td>0.0</td>\n",
       "      <td>0.0</td>\n",
       "      <td>0.0</td>\n",
       "      <td>0.0</td>\n",
       "      <td>257.0</td>\n",
       "      <td>16500.0</td>\n",
       "      <td>0.0</td>\n",
       "      <td>20.0</td>\n",
       "    </tr>\n",
       "    <tr>\n",
       "      <th>141502</th>\n",
       "      <td>414037.0</td>\n",
       "      <td>2.0</td>\n",
       "      <td>0.0</td>\n",
       "      <td>44.0</td>\n",
       "      <td>0.0</td>\n",
       "      <td>22.0</td>\n",
       "      <td>22.0</td>\n",
       "      <td>22.000000</td>\n",
       "      <td>0.000000</td>\n",
       "      <td>0.0</td>\n",
       "      <td>...</td>\n",
       "      <td>0.0</td>\n",
       "      <td>0.0</td>\n",
       "      <td>1.0</td>\n",
       "      <td>22.0</td>\n",
       "      <td>0.0</td>\n",
       "      <td>0.0</td>\n",
       "      <td>0.0</td>\n",
       "      <td>0.0</td>\n",
       "      <td>1.0</td>\n",
       "      <td>8.0</td>\n",
       "    </tr>\n",
       "    <tr>\n",
       "      <th>141503</th>\n",
       "      <td>411824.0</td>\n",
       "      <td>2.0</td>\n",
       "      <td>0.0</td>\n",
       "      <td>44.0</td>\n",
       "      <td>0.0</td>\n",
       "      <td>22.0</td>\n",
       "      <td>22.0</td>\n",
       "      <td>22.000000</td>\n",
       "      <td>0.000000</td>\n",
       "      <td>0.0</td>\n",
       "      <td>...</td>\n",
       "      <td>0.0</td>\n",
       "      <td>0.0</td>\n",
       "      <td>1.0</td>\n",
       "      <td>22.0</td>\n",
       "      <td>0.0</td>\n",
       "      <td>0.0</td>\n",
       "      <td>0.0</td>\n",
       "      <td>0.0</td>\n",
       "      <td>1.0</td>\n",
       "      <td>8.0</td>\n",
       "    </tr>\n",
       "    <tr>\n",
       "      <th>141504</th>\n",
       "      <td>411328.0</td>\n",
       "      <td>2.0</td>\n",
       "      <td>0.0</td>\n",
       "      <td>44.0</td>\n",
       "      <td>0.0</td>\n",
       "      <td>22.0</td>\n",
       "      <td>22.0</td>\n",
       "      <td>22.000000</td>\n",
       "      <td>0.000000</td>\n",
       "      <td>0.0</td>\n",
       "      <td>...</td>\n",
       "      <td>0.0</td>\n",
       "      <td>0.0</td>\n",
       "      <td>1.0</td>\n",
       "      <td>22.0</td>\n",
       "      <td>0.0</td>\n",
       "      <td>0.0</td>\n",
       "      <td>0.0</td>\n",
       "      <td>0.0</td>\n",
       "      <td>1.0</td>\n",
       "      <td>8.0</td>\n",
       "    </tr>\n",
       "    <tr>\n",
       "      <th>141505</th>\n",
       "      <td>411596.0</td>\n",
       "      <td>2.0</td>\n",
       "      <td>0.0</td>\n",
       "      <td>44.0</td>\n",
       "      <td>0.0</td>\n",
       "      <td>22.0</td>\n",
       "      <td>22.0</td>\n",
       "      <td>22.000000</td>\n",
       "      <td>0.000000</td>\n",
       "      <td>0.0</td>\n",
       "      <td>...</td>\n",
       "      <td>0.0</td>\n",
       "      <td>0.0</td>\n",
       "      <td>1.0</td>\n",
       "      <td>22.0</td>\n",
       "      <td>0.0</td>\n",
       "      <td>0.0</td>\n",
       "      <td>0.0</td>\n",
       "      <td>0.0</td>\n",
       "      <td>1.0</td>\n",
       "      <td>8.0</td>\n",
       "    </tr>\n",
       "    <tr>\n",
       "      <th>141506</th>\n",
       "      <td>8356466.0</td>\n",
       "      <td>418.0</td>\n",
       "      <td>418.0</td>\n",
       "      <td>34694.0</td>\n",
       "      <td>34694.0</td>\n",
       "      <td>83.0</td>\n",
       "      <td>83.0</td>\n",
       "      <td>83.000000</td>\n",
       "      <td>0.000000</td>\n",
       "      <td>83.0</td>\n",
       "      <td>...</td>\n",
       "      <td>836.0</td>\n",
       "      <td>8303.0</td>\n",
       "      <td>0.0</td>\n",
       "      <td>41.0</td>\n",
       "      <td>0.0</td>\n",
       "      <td>41.0</td>\n",
       "      <td>0.0</td>\n",
       "      <td>0.0</td>\n",
       "      <td>417.0</td>\n",
       "      <td>8.0</td>\n",
       "    </tr>\n",
       "    <tr>\n",
       "      <th>141507</th>\n",
       "      <td>412573.0</td>\n",
       "      <td>2.0</td>\n",
       "      <td>0.0</td>\n",
       "      <td>44.0</td>\n",
       "      <td>0.0</td>\n",
       "      <td>22.0</td>\n",
       "      <td>22.0</td>\n",
       "      <td>22.000000</td>\n",
       "      <td>0.000000</td>\n",
       "      <td>0.0</td>\n",
       "      <td>...</td>\n",
       "      <td>0.0</td>\n",
       "      <td>0.0</td>\n",
       "      <td>1.0</td>\n",
       "      <td>22.0</td>\n",
       "      <td>0.0</td>\n",
       "      <td>0.0</td>\n",
       "      <td>0.0</td>\n",
       "      <td>0.0</td>\n",
       "      <td>1.0</td>\n",
       "      <td>8.0</td>\n",
       "    </tr>\n",
       "    <tr>\n",
       "      <th>141508</th>\n",
       "      <td>412287.0</td>\n",
       "      <td>2.0</td>\n",
       "      <td>0.0</td>\n",
       "      <td>44.0</td>\n",
       "      <td>0.0</td>\n",
       "      <td>22.0</td>\n",
       "      <td>22.0</td>\n",
       "      <td>22.000000</td>\n",
       "      <td>0.000000</td>\n",
       "      <td>0.0</td>\n",
       "      <td>...</td>\n",
       "      <td>0.0</td>\n",
       "      <td>0.0</td>\n",
       "      <td>1.0</td>\n",
       "      <td>22.0</td>\n",
       "      <td>0.0</td>\n",
       "      <td>0.0</td>\n",
       "      <td>0.0</td>\n",
       "      <td>0.0</td>\n",
       "      <td>1.0</td>\n",
       "      <td>8.0</td>\n",
       "    </tr>\n",
       "    <tr>\n",
       "      <th>141509</th>\n",
       "      <td>412164.0</td>\n",
       "      <td>2.0</td>\n",
       "      <td>0.0</td>\n",
       "      <td>44.0</td>\n",
       "      <td>0.0</td>\n",
       "      <td>22.0</td>\n",
       "      <td>22.0</td>\n",
       "      <td>22.000000</td>\n",
       "      <td>0.000000</td>\n",
       "      <td>0.0</td>\n",
       "      <td>...</td>\n",
       "      <td>0.0</td>\n",
       "      <td>0.0</td>\n",
       "      <td>1.0</td>\n",
       "      <td>22.0</td>\n",
       "      <td>0.0</td>\n",
       "      <td>0.0</td>\n",
       "      <td>0.0</td>\n",
       "      <td>0.0</td>\n",
       "      <td>1.0</td>\n",
       "      <td>8.0</td>\n",
       "    </tr>\n",
       "    <tr>\n",
       "      <th>141510</th>\n",
       "      <td>412307.0</td>\n",
       "      <td>2.0</td>\n",
       "      <td>0.0</td>\n",
       "      <td>44.0</td>\n",
       "      <td>0.0</td>\n",
       "      <td>22.0</td>\n",
       "      <td>22.0</td>\n",
       "      <td>22.000000</td>\n",
       "      <td>0.000000</td>\n",
       "      <td>0.0</td>\n",
       "      <td>...</td>\n",
       "      <td>0.0</td>\n",
       "      <td>0.0</td>\n",
       "      <td>1.0</td>\n",
       "      <td>22.0</td>\n",
       "      <td>0.0</td>\n",
       "      <td>0.0</td>\n",
       "      <td>0.0</td>\n",
       "      <td>0.0</td>\n",
       "      <td>1.0</td>\n",
       "      <td>8.0</td>\n",
       "    </tr>\n",
       "    <tr>\n",
       "      <th>141511</th>\n",
       "      <td>411962.0</td>\n",
       "      <td>2.0</td>\n",
       "      <td>0.0</td>\n",
       "      <td>44.0</td>\n",
       "      <td>0.0</td>\n",
       "      <td>22.0</td>\n",
       "      <td>22.0</td>\n",
       "      <td>22.000000</td>\n",
       "      <td>0.000000</td>\n",
       "      <td>0.0</td>\n",
       "      <td>...</td>\n",
       "      <td>0.0</td>\n",
       "      <td>0.0</td>\n",
       "      <td>1.0</td>\n",
       "      <td>22.0</td>\n",
       "      <td>0.0</td>\n",
       "      <td>0.0</td>\n",
       "      <td>0.0</td>\n",
       "      <td>0.0</td>\n",
       "      <td>1.0</td>\n",
       "      <td>8.0</td>\n",
       "    </tr>\n",
       "    <tr>\n",
       "      <th>141512</th>\n",
       "      <td>121454.0</td>\n",
       "      <td>1.0</td>\n",
       "      <td>1.0</td>\n",
       "      <td>27.0</td>\n",
       "      <td>85.0</td>\n",
       "      <td>27.0</td>\n",
       "      <td>27.0</td>\n",
       "      <td>27.000000</td>\n",
       "      <td>0.000000</td>\n",
       "      <td>85.0</td>\n",
       "      <td>...</td>\n",
       "      <td>0.0</td>\n",
       "      <td>0.0</td>\n",
       "      <td>0.0</td>\n",
       "      <td>13.0</td>\n",
       "      <td>0.0</td>\n",
       "      <td>42.0</td>\n",
       "      <td>0.0</td>\n",
       "      <td>0.0</td>\n",
       "      <td>0.0</td>\n",
       "      <td>8.0</td>\n",
       "    </tr>\n",
       "    <tr>\n",
       "      <th>141513</th>\n",
       "      <td>412964.0</td>\n",
       "      <td>2.0</td>\n",
       "      <td>0.0</td>\n",
       "      <td>44.0</td>\n",
       "      <td>0.0</td>\n",
       "      <td>22.0</td>\n",
       "      <td>22.0</td>\n",
       "      <td>22.000000</td>\n",
       "      <td>0.000000</td>\n",
       "      <td>0.0</td>\n",
       "      <td>...</td>\n",
       "      <td>0.0</td>\n",
       "      <td>0.0</td>\n",
       "      <td>1.0</td>\n",
       "      <td>22.0</td>\n",
       "      <td>0.0</td>\n",
       "      <td>0.0</td>\n",
       "      <td>0.0</td>\n",
       "      <td>0.0</td>\n",
       "      <td>1.0</td>\n",
       "      <td>8.0</td>\n",
       "    </tr>\n",
       "    <tr>\n",
       "      <th>141514</th>\n",
       "      <td>120290.0</td>\n",
       "      <td>1.0</td>\n",
       "      <td>1.0</td>\n",
       "      <td>27.0</td>\n",
       "      <td>85.0</td>\n",
       "      <td>27.0</td>\n",
       "      <td>27.0</td>\n",
       "      <td>27.000000</td>\n",
       "      <td>0.000000</td>\n",
       "      <td>85.0</td>\n",
       "      <td>...</td>\n",
       "      <td>0.0</td>\n",
       "      <td>0.0</td>\n",
       "      <td>0.0</td>\n",
       "      <td>13.0</td>\n",
       "      <td>0.0</td>\n",
       "      <td>42.0</td>\n",
       "      <td>0.0</td>\n",
       "      <td>0.0</td>\n",
       "      <td>0.0</td>\n",
       "      <td>8.0</td>\n",
       "    </tr>\n",
       "    <tr>\n",
       "      <th>141515</th>\n",
       "      <td>411146.0</td>\n",
       "      <td>2.0</td>\n",
       "      <td>0.0</td>\n",
       "      <td>44.0</td>\n",
       "      <td>0.0</td>\n",
       "      <td>22.0</td>\n",
       "      <td>22.0</td>\n",
       "      <td>22.000000</td>\n",
       "      <td>0.000000</td>\n",
       "      <td>0.0</td>\n",
       "      <td>...</td>\n",
       "      <td>0.0</td>\n",
       "      <td>0.0</td>\n",
       "      <td>1.0</td>\n",
       "      <td>22.0</td>\n",
       "      <td>0.0</td>\n",
       "      <td>0.0</td>\n",
       "      <td>0.0</td>\n",
       "      <td>0.0</td>\n",
       "      <td>1.0</td>\n",
       "      <td>8.0</td>\n",
       "    </tr>\n",
       "    <tr>\n",
       "      <th>141516</th>\n",
       "      <td>411471.0</td>\n",
       "      <td>2.0</td>\n",
       "      <td>0.0</td>\n",
       "      <td>44.0</td>\n",
       "      <td>0.0</td>\n",
       "      <td>22.0</td>\n",
       "      <td>22.0</td>\n",
       "      <td>22.000000</td>\n",
       "      <td>0.000000</td>\n",
       "      <td>0.0</td>\n",
       "      <td>...</td>\n",
       "      <td>0.0</td>\n",
       "      <td>0.0</td>\n",
       "      <td>1.0</td>\n",
       "      <td>22.0</td>\n",
       "      <td>0.0</td>\n",
       "      <td>0.0</td>\n",
       "      <td>0.0</td>\n",
       "      <td>0.0</td>\n",
       "      <td>1.0</td>\n",
       "      <td>8.0</td>\n",
       "    </tr>\n",
       "    <tr>\n",
       "      <th>141517</th>\n",
       "      <td>411426.0</td>\n",
       "      <td>2.0</td>\n",
       "      <td>0.0</td>\n",
       "      <td>44.0</td>\n",
       "      <td>0.0</td>\n",
       "      <td>22.0</td>\n",
       "      <td>22.0</td>\n",
       "      <td>22.000000</td>\n",
       "      <td>0.000000</td>\n",
       "      <td>0.0</td>\n",
       "      <td>...</td>\n",
       "      <td>0.0</td>\n",
       "      <td>0.0</td>\n",
       "      <td>1.0</td>\n",
       "      <td>22.0</td>\n",
       "      <td>0.0</td>\n",
       "      <td>0.0</td>\n",
       "      <td>0.0</td>\n",
       "      <td>0.0</td>\n",
       "      <td>1.0</td>\n",
       "      <td>8.0</td>\n",
       "    </tr>\n",
       "    <tr>\n",
       "      <th>141518</th>\n",
       "      <td>411693.0</td>\n",
       "      <td>2.0</td>\n",
       "      <td>0.0</td>\n",
       "      <td>44.0</td>\n",
       "      <td>0.0</td>\n",
       "      <td>22.0</td>\n",
       "      <td>22.0</td>\n",
       "      <td>22.000000</td>\n",
       "      <td>0.000000</td>\n",
       "      <td>0.0</td>\n",
       "      <td>...</td>\n",
       "      <td>0.0</td>\n",
       "      <td>0.0</td>\n",
       "      <td>1.0</td>\n",
       "      <td>22.0</td>\n",
       "      <td>0.0</td>\n",
       "      <td>0.0</td>\n",
       "      <td>0.0</td>\n",
       "      <td>0.0</td>\n",
       "      <td>1.0</td>\n",
       "      <td>8.0</td>\n",
       "    </tr>\n",
       "    <tr>\n",
       "      <th>141519</th>\n",
       "      <td>412587.0</td>\n",
       "      <td>2.0</td>\n",
       "      <td>0.0</td>\n",
       "      <td>44.0</td>\n",
       "      <td>0.0</td>\n",
       "      <td>22.0</td>\n",
       "      <td>22.0</td>\n",
       "      <td>22.000000</td>\n",
       "      <td>0.000000</td>\n",
       "      <td>0.0</td>\n",
       "      <td>...</td>\n",
       "      <td>0.0</td>\n",
       "      <td>0.0</td>\n",
       "      <td>1.0</td>\n",
       "      <td>22.0</td>\n",
       "      <td>0.0</td>\n",
       "      <td>0.0</td>\n",
       "      <td>0.0</td>\n",
       "      <td>0.0</td>\n",
       "      <td>1.0</td>\n",
       "      <td>8.0</td>\n",
       "    </tr>\n",
       "    <tr>\n",
       "      <th>141520</th>\n",
       "      <td>411712.0</td>\n",
       "      <td>2.0</td>\n",
       "      <td>0.0</td>\n",
       "      <td>44.0</td>\n",
       "      <td>0.0</td>\n",
       "      <td>22.0</td>\n",
       "      <td>22.0</td>\n",
       "      <td>22.000000</td>\n",
       "      <td>0.000000</td>\n",
       "      <td>0.0</td>\n",
       "      <td>...</td>\n",
       "      <td>0.0</td>\n",
       "      <td>0.0</td>\n",
       "      <td>1.0</td>\n",
       "      <td>22.0</td>\n",
       "      <td>0.0</td>\n",
       "      <td>0.0</td>\n",
       "      <td>0.0</td>\n",
       "      <td>0.0</td>\n",
       "      <td>1.0</td>\n",
       "      <td>8.0</td>\n",
       "    </tr>\n",
       "    <tr>\n",
       "      <th>141521</th>\n",
       "      <td>412214.0</td>\n",
       "      <td>2.0</td>\n",
       "      <td>0.0</td>\n",
       "      <td>44.0</td>\n",
       "      <td>0.0</td>\n",
       "      <td>22.0</td>\n",
       "      <td>22.0</td>\n",
       "      <td>22.000000</td>\n",
       "      <td>0.000000</td>\n",
       "      <td>0.0</td>\n",
       "      <td>...</td>\n",
       "      <td>0.0</td>\n",
       "      <td>0.0</td>\n",
       "      <td>1.0</td>\n",
       "      <td>22.0</td>\n",
       "      <td>0.0</td>\n",
       "      <td>0.0</td>\n",
       "      <td>0.0</td>\n",
       "      <td>0.0</td>\n",
       "      <td>1.0</td>\n",
       "      <td>8.0</td>\n",
       "    </tr>\n",
       "    <tr>\n",
       "      <th>141522</th>\n",
       "      <td>413216.0</td>\n",
       "      <td>2.0</td>\n",
       "      <td>0.0</td>\n",
       "      <td>44.0</td>\n",
       "      <td>0.0</td>\n",
       "      <td>22.0</td>\n",
       "      <td>22.0</td>\n",
       "      <td>22.000000</td>\n",
       "      <td>0.000000</td>\n",
       "      <td>0.0</td>\n",
       "      <td>...</td>\n",
       "      <td>0.0</td>\n",
       "      <td>0.0</td>\n",
       "      <td>1.0</td>\n",
       "      <td>22.0</td>\n",
       "      <td>0.0</td>\n",
       "      <td>0.0</td>\n",
       "      <td>0.0</td>\n",
       "      <td>0.0</td>\n",
       "      <td>1.0</td>\n",
       "      <td>8.0</td>\n",
       "    </tr>\n",
       "    <tr>\n",
       "      <th>141523</th>\n",
       "      <td>117858.0</td>\n",
       "      <td>1.0</td>\n",
       "      <td>1.0</td>\n",
       "      <td>27.0</td>\n",
       "      <td>85.0</td>\n",
       "      <td>27.0</td>\n",
       "      <td>27.0</td>\n",
       "      <td>27.000000</td>\n",
       "      <td>0.000000</td>\n",
       "      <td>85.0</td>\n",
       "      <td>...</td>\n",
       "      <td>0.0</td>\n",
       "      <td>0.0</td>\n",
       "      <td>0.0</td>\n",
       "      <td>13.0</td>\n",
       "      <td>0.0</td>\n",
       "      <td>42.0</td>\n",
       "      <td>0.0</td>\n",
       "      <td>0.0</td>\n",
       "      <td>0.0</td>\n",
       "      <td>8.0</td>\n",
       "    </tr>\n",
       "    <tr>\n",
       "      <th>141524</th>\n",
       "      <td>119936.0</td>\n",
       "      <td>1.0</td>\n",
       "      <td>1.0</td>\n",
       "      <td>49.0</td>\n",
       "      <td>383.0</td>\n",
       "      <td>49.0</td>\n",
       "      <td>49.0</td>\n",
       "      <td>49.000000</td>\n",
       "      <td>0.000000</td>\n",
       "      <td>383.0</td>\n",
       "      <td>...</td>\n",
       "      <td>0.0</td>\n",
       "      <td>0.0</td>\n",
       "      <td>0.0</td>\n",
       "      <td>24.0</td>\n",
       "      <td>0.0</td>\n",
       "      <td>191.0</td>\n",
       "      <td>0.0</td>\n",
       "      <td>0.0</td>\n",
       "      <td>0.0</td>\n",
       "      <td>8.0</td>\n",
       "    </tr>\n",
       "    <tr>\n",
       "      <th>141525</th>\n",
       "      <td>411806.0</td>\n",
       "      <td>2.0</td>\n",
       "      <td>0.0</td>\n",
       "      <td>44.0</td>\n",
       "      <td>0.0</td>\n",
       "      <td>22.0</td>\n",
       "      <td>22.0</td>\n",
       "      <td>22.000000</td>\n",
       "      <td>0.000000</td>\n",
       "      <td>0.0</td>\n",
       "      <td>...</td>\n",
       "      <td>0.0</td>\n",
       "      <td>0.0</td>\n",
       "      <td>1.0</td>\n",
       "      <td>22.0</td>\n",
       "      <td>0.0</td>\n",
       "      <td>0.0</td>\n",
       "      <td>0.0</td>\n",
       "      <td>0.0</td>\n",
       "      <td>1.0</td>\n",
       "      <td>8.0</td>\n",
       "    </tr>\n",
       "    <tr>\n",
       "      <th>141526</th>\n",
       "      <td>411574.0</td>\n",
       "      <td>2.0</td>\n",
       "      <td>0.0</td>\n",
       "      <td>44.0</td>\n",
       "      <td>0.0</td>\n",
       "      <td>22.0</td>\n",
       "      <td>22.0</td>\n",
       "      <td>22.000000</td>\n",
       "      <td>0.000000</td>\n",
       "      <td>0.0</td>\n",
       "      <td>...</td>\n",
       "      <td>0.0</td>\n",
       "      <td>0.0</td>\n",
       "      <td>1.0</td>\n",
       "      <td>22.0</td>\n",
       "      <td>0.0</td>\n",
       "      <td>0.0</td>\n",
       "      <td>0.0</td>\n",
       "      <td>0.0</td>\n",
       "      <td>1.0</td>\n",
       "      <td>8.0</td>\n",
       "    </tr>\n",
       "    <tr>\n",
       "      <th>141527</th>\n",
       "      <td>422299.0</td>\n",
       "      <td>2.0</td>\n",
       "      <td>0.0</td>\n",
       "      <td>44.0</td>\n",
       "      <td>0.0</td>\n",
       "      <td>22.0</td>\n",
       "      <td>22.0</td>\n",
       "      <td>22.000000</td>\n",
       "      <td>0.000000</td>\n",
       "      <td>0.0</td>\n",
       "      <td>...</td>\n",
       "      <td>0.0</td>\n",
       "      <td>0.0</td>\n",
       "      <td>1.0</td>\n",
       "      <td>22.0</td>\n",
       "      <td>0.0</td>\n",
       "      <td>0.0</td>\n",
       "      <td>0.0</td>\n",
       "      <td>0.0</td>\n",
       "      <td>1.0</td>\n",
       "      <td>8.0</td>\n",
       "    </tr>\n",
       "    <tr>\n",
       "      <th>141528</th>\n",
       "      <td>411855.0</td>\n",
       "      <td>2.0</td>\n",
       "      <td>0.0</td>\n",
       "      <td>44.0</td>\n",
       "      <td>0.0</td>\n",
       "      <td>22.0</td>\n",
       "      <td>22.0</td>\n",
       "      <td>22.000000</td>\n",
       "      <td>0.000000</td>\n",
       "      <td>0.0</td>\n",
       "      <td>...</td>\n",
       "      <td>0.0</td>\n",
       "      <td>0.0</td>\n",
       "      <td>1.0</td>\n",
       "      <td>22.0</td>\n",
       "      <td>0.0</td>\n",
       "      <td>0.0</td>\n",
       "      <td>0.0</td>\n",
       "      <td>0.0</td>\n",
       "      <td>1.0</td>\n",
       "      <td>8.0</td>\n",
       "    </tr>\n",
       "    <tr>\n",
       "      <th>141529</th>\n",
       "      <td>119990044.0</td>\n",
       "      <td>5995.0</td>\n",
       "      <td>6000.0</td>\n",
       "      <td>497585.0</td>\n",
       "      <td>498000.0</td>\n",
       "      <td>83.0</td>\n",
       "      <td>83.0</td>\n",
       "      <td>83.000000</td>\n",
       "      <td>0.000000</td>\n",
       "      <td>83.0</td>\n",
       "      <td>...</td>\n",
       "      <td>11995.0</td>\n",
       "      <td>8297.0</td>\n",
       "      <td>0.0</td>\n",
       "      <td>41.0</td>\n",
       "      <td>0.0</td>\n",
       "      <td>41.0</td>\n",
       "      <td>0.0</td>\n",
       "      <td>0.0</td>\n",
       "      <td>5994.0</td>\n",
       "      <td>8.0</td>\n",
       "    </tr>\n",
       "  </tbody>\n",
       "</table>\n",
       "<p>24311 rows × 68 columns</p>\n",
       "</div>"
      ],
      "text/plain": [
       "        Flow Duration  Total Fwd Packet  Total Bwd packets  \\\n",
       "117219    119384497.0             767.0             2027.0   \n",
       "117220    119754701.0            1021.0             2537.0   \n",
       "117221    118908117.0             683.0             1662.0   \n",
       "117222       739728.0               2.0                2.0   \n",
       "117223       149270.0               2.0                2.0   \n",
       "117224     11718197.0               3.0                4.0   \n",
       "117225    115909057.0             783.0             1963.0   \n",
       "117226      3465904.0              14.0               18.0   \n",
       "117227    112024262.0             797.0             1682.0   \n",
       "117228      9993461.0               3.0                3.0   \n",
       "117229          452.0               2.0                0.0   \n",
       "117230    112066245.0             769.0             1901.0   \n",
       "117231       319979.0               3.0                1.0   \n",
       "117232    116772419.0             873.0             1946.0   \n",
       "117233    119794558.0             884.0             2018.0   \n",
       "117234    101356732.0             607.0             1622.0   \n",
       "117235      6298113.0               4.0                2.0   \n",
       "117236    115491284.0             777.0             1965.0   \n",
       "117237    114390485.0             694.0             1976.0   \n",
       "117238      6272512.0               3.0                1.0   \n",
       "117239    113151643.0             626.0             1903.0   \n",
       "117240      6255979.0               3.0                1.0   \n",
       "117241    113383723.0             767.0             2167.0   \n",
       "117242          296.0               1.0                1.0   \n",
       "117243    119814478.0             622.0             1460.0   \n",
       "117244    119971744.0             563.0             1694.0   \n",
       "117245     99315529.0             412.0             1131.0   \n",
       "117246       131877.0               2.0                2.0   \n",
       "117247    119998730.0             997.0             2220.0   \n",
       "117248    119594327.0             831.0             2078.0   \n",
       "...               ...               ...                ...   \n",
       "141500       411885.0               2.0                0.0   \n",
       "141501           52.0               1.0                1.0   \n",
       "141502       414037.0               2.0                0.0   \n",
       "141503       411824.0               2.0                0.0   \n",
       "141504       411328.0               2.0                0.0   \n",
       "141505       411596.0               2.0                0.0   \n",
       "141506      8356466.0             418.0              418.0   \n",
       "141507       412573.0               2.0                0.0   \n",
       "141508       412287.0               2.0                0.0   \n",
       "141509       412164.0               2.0                0.0   \n",
       "141510       412307.0               2.0                0.0   \n",
       "141511       411962.0               2.0                0.0   \n",
       "141512       121454.0               1.0                1.0   \n",
       "141513       412964.0               2.0                0.0   \n",
       "141514       120290.0               1.0                1.0   \n",
       "141515       411146.0               2.0                0.0   \n",
       "141516       411471.0               2.0                0.0   \n",
       "141517       411426.0               2.0                0.0   \n",
       "141518       411693.0               2.0                0.0   \n",
       "141519       412587.0               2.0                0.0   \n",
       "141520       411712.0               2.0                0.0   \n",
       "141521       412214.0               2.0                0.0   \n",
       "141522       413216.0               2.0                0.0   \n",
       "141523       117858.0               1.0                1.0   \n",
       "141524       119936.0               1.0                1.0   \n",
       "141525       411806.0               2.0                0.0   \n",
       "141526       411574.0               2.0                0.0   \n",
       "141527       422299.0               2.0                0.0   \n",
       "141528       411855.0               2.0                0.0   \n",
       "141529    119990044.0            5995.0             6000.0   \n",
       "\n",
       "        Total Length of Fwd Packet  Total Length of Bwd Packet  \\\n",
       "117219                     90681.0                   2448831.0   \n",
       "117220                    171290.0                   2922270.0   \n",
       "117221                     77649.0                   2001627.0   \n",
       "117222                       543.0                       543.0   \n",
       "117223                       565.0                       565.0   \n",
       "117224                      1086.0                       543.0   \n",
       "117225                     88277.0                   2404390.0   \n",
       "117226                      4887.0                      5401.0   \n",
       "117227                     84961.0                   2022224.0   \n",
       "117228                      1130.0                       565.0   \n",
       "117229                         0.0                         0.0   \n",
       "117230                     88907.0                   2315337.0   \n",
       "117231                      1086.0                         0.0   \n",
       "117232                     90051.0                   2359653.0   \n",
       "117233                    112161.0                   2421343.0   \n",
       "117234                     85098.0                   1964176.0   \n",
       "117235                      1629.0                         0.0   \n",
       "117236                     94445.0                   2396767.0   \n",
       "117237                     92592.0                   2398753.0   \n",
       "117238                      1086.0                         0.0   \n",
       "117239                     91079.0                   2323853.0   \n",
       "117240                      1086.0                         0.0   \n",
       "117241                    107137.0                   2630093.0   \n",
       "117242                         0.0                         0.0   \n",
       "117243                     74362.0                   1740568.0   \n",
       "117244                     81102.0                   2046450.0   \n",
       "117245                     59605.0                   1359490.0   \n",
       "117246                       543.0                       543.0   \n",
       "117247                    105305.0                   2681659.0   \n",
       "117248                    108246.0                   2489662.0   \n",
       "...                            ...                         ...   \n",
       "141500                        44.0                         0.0   \n",
       "141501                         0.0                         0.0   \n",
       "141502                        44.0                         0.0   \n",
       "141503                        44.0                         0.0   \n",
       "141504                        44.0                         0.0   \n",
       "141505                        44.0                         0.0   \n",
       "141506                     34694.0                     34694.0   \n",
       "141507                        44.0                         0.0   \n",
       "141508                        44.0                         0.0   \n",
       "141509                        44.0                         0.0   \n",
       "141510                        44.0                         0.0   \n",
       "141511                        44.0                         0.0   \n",
       "141512                        27.0                        85.0   \n",
       "141513                        44.0                         0.0   \n",
       "141514                        27.0                        85.0   \n",
       "141515                        44.0                         0.0   \n",
       "141516                        44.0                         0.0   \n",
       "141517                        44.0                         0.0   \n",
       "141518                        44.0                         0.0   \n",
       "141519                        44.0                         0.0   \n",
       "141520                        44.0                         0.0   \n",
       "141521                        44.0                         0.0   \n",
       "141522                        44.0                         0.0   \n",
       "141523                        27.0                        85.0   \n",
       "141524                        49.0                       383.0   \n",
       "141525                        44.0                         0.0   \n",
       "141526                        44.0                         0.0   \n",
       "141527                        44.0                         0.0   \n",
       "141528                        44.0                         0.0   \n",
       "141529                    497585.0                    498000.0   \n",
       "\n",
       "        Fwd Packet Length Max  Fwd Packet Length Min  Fwd Packet Length Mean  \\\n",
       "117219                  543.0                    0.0              118.228162   \n",
       "117220                 1460.0                    0.0              167.766895   \n",
       "117221                  543.0                    0.0              113.688141   \n",
       "117222                  543.0                    0.0              271.500000   \n",
       "117223                  565.0                    0.0              282.500000   \n",
       "117224                  543.0                    0.0              362.000000   \n",
       "117225                 1057.0                    0.0              112.742018   \n",
       "117226                  543.0                    0.0              349.071429   \n",
       "117227                 1460.0                    0.0              106.601004   \n",
       "117228                  565.0                    0.0              376.666667   \n",
       "117229                    0.0                    0.0                0.000000   \n",
       "117230                 1057.0                    0.0              115.613784   \n",
       "117231                  543.0                    0.0              362.000000   \n",
       "117232                 1460.0                    0.0              103.151203   \n",
       "117233                 1460.0                    0.0              126.878959   \n",
       "117234                 1460.0                    0.0              140.194399   \n",
       "117235                  543.0                    0.0              407.250000   \n",
       "117236                 1057.0                    0.0              121.550837   \n",
       "117237                 1057.0                    0.0              133.417867   \n",
       "117238                  543.0                    0.0              362.000000   \n",
       "117239                 1057.0                    0.0              145.493610   \n",
       "117240                  543.0                    0.0              362.000000   \n",
       "117241                 1460.0                    0.0              139.683181   \n",
       "117242                    0.0                    0.0                0.000000   \n",
       "117243                 1057.0                    0.0              119.553055   \n",
       "117244                 1460.0                    0.0              144.053286   \n",
       "117245                 1460.0                    0.0              144.672330   \n",
       "117246                  543.0                    0.0              271.500000   \n",
       "117247                 1460.0                    0.0              105.621866   \n",
       "117248                 1460.0                    0.0              130.259928   \n",
       "...                       ...                    ...                     ...   \n",
       "141500                   22.0                   22.0               22.000000   \n",
       "141501                    0.0                    0.0                0.000000   \n",
       "141502                   22.0                   22.0               22.000000   \n",
       "141503                   22.0                   22.0               22.000000   \n",
       "141504                   22.0                   22.0               22.000000   \n",
       "141505                   22.0                   22.0               22.000000   \n",
       "141506                   83.0                   83.0               83.000000   \n",
       "141507                   22.0                   22.0               22.000000   \n",
       "141508                   22.0                   22.0               22.000000   \n",
       "141509                   22.0                   22.0               22.000000   \n",
       "141510                   22.0                   22.0               22.000000   \n",
       "141511                   22.0                   22.0               22.000000   \n",
       "141512                   27.0                   27.0               27.000000   \n",
       "141513                   22.0                   22.0               22.000000   \n",
       "141514                   27.0                   27.0               27.000000   \n",
       "141515                   22.0                   22.0               22.000000   \n",
       "141516                   22.0                   22.0               22.000000   \n",
       "141517                   22.0                   22.0               22.000000   \n",
       "141518                   22.0                   22.0               22.000000   \n",
       "141519                   22.0                   22.0               22.000000   \n",
       "141520                   22.0                   22.0               22.000000   \n",
       "141521                   22.0                   22.0               22.000000   \n",
       "141522                   22.0                   22.0               22.000000   \n",
       "141523                   27.0                   27.0               27.000000   \n",
       "141524                   49.0                   49.0               49.000000   \n",
       "141525                   22.0                   22.0               22.000000   \n",
       "141526                   22.0                   22.0               22.000000   \n",
       "141527                   22.0                   22.0               22.000000   \n",
       "141528                   22.0                   22.0               22.000000   \n",
       "141529                   83.0                   83.0               83.000000   \n",
       "\n",
       "        Fwd Packet Length Std  Bwd Packet Length Max        ...         \\\n",
       "117219             224.244409                 1420.0        ...          \n",
       "117220             280.092409                 1420.0        ...          \n",
       "117221             221.086482                 1420.0        ...          \n",
       "117222             383.958982                  543.0        ...          \n",
       "117223             399.515331                  565.0        ...          \n",
       "117224             313.501196                  543.0        ...          \n",
       "117225             232.654722                 1420.0        ...          \n",
       "117226             270.004121                 1057.0        ...          \n",
       "117227             230.441054                 1420.0        ...          \n",
       "117228             326.202902                  565.0        ...          \n",
       "117229               0.000000                    0.0        ...          \n",
       "117230             230.245895                 1420.0        ...          \n",
       "117231             313.501196                    0.0        ...          \n",
       "117232             218.005424                 1420.0        ...          \n",
       "117233             263.599077                 1420.0        ...          \n",
       "117234             278.154571                 1420.0        ...          \n",
       "117235             271.500000                    0.0        ...          \n",
       "117236             255.530896                 1420.0        ...          \n",
       "117237             248.556325                 1420.0        ...          \n",
       "117238             313.501196                    0.0        ...          \n",
       "117239             249.546707                 1420.0        ...          \n",
       "117240             313.501196                    0.0        ...          \n",
       "117241             256.704613                 1420.0        ...          \n",
       "117242               0.000000                    0.0        ...          \n",
       "117243             227.114008                 1420.0        ...          \n",
       "117244             263.696770                 1420.0        ...          \n",
       "117245             276.415643                 1420.0        ...          \n",
       "117246             383.958982                  543.0        ...          \n",
       "117247             238.991591                 1420.0        ...          \n",
       "117248             242.585381                 1420.0        ...          \n",
       "...                       ...                    ...        ...          \n",
       "141500               0.000000                    0.0        ...          \n",
       "141501               0.000000                    0.0        ...          \n",
       "141502               0.000000                    0.0        ...          \n",
       "141503               0.000000                    0.0        ...          \n",
       "141504               0.000000                    0.0        ...          \n",
       "141505               0.000000                    0.0        ...          \n",
       "141506               0.000000                   83.0        ...          \n",
       "141507               0.000000                    0.0        ...          \n",
       "141508               0.000000                    0.0        ...          \n",
       "141509               0.000000                    0.0        ...          \n",
       "141510               0.000000                    0.0        ...          \n",
       "141511               0.000000                    0.0        ...          \n",
       "141512               0.000000                   85.0        ...          \n",
       "141513               0.000000                    0.0        ...          \n",
       "141514               0.000000                   85.0        ...          \n",
       "141515               0.000000                    0.0        ...          \n",
       "141516               0.000000                    0.0        ...          \n",
       "141517               0.000000                    0.0        ...          \n",
       "141518               0.000000                    0.0        ...          \n",
       "141519               0.000000                    0.0        ...          \n",
       "141520               0.000000                    0.0        ...          \n",
       "141521               0.000000                    0.0        ...          \n",
       "141522               0.000000                    0.0        ...          \n",
       "141523               0.000000                   85.0        ...          \n",
       "141524               0.000000                  383.0        ...          \n",
       "141525               0.000000                    0.0        ...          \n",
       "141526               0.000000                    0.0        ...          \n",
       "141527               0.000000                    0.0        ...          \n",
       "141528               0.000000                    0.0        ...          \n",
       "141529               0.000000                   83.0        ...          \n",
       "\n",
       "        Bwd Packet/Bulk Avg  Bwd Bulk Rate Avg  Subflow Fwd Packets  \\\n",
       "117219                336.0           150679.0                  0.0   \n",
       "117220                421.0            94293.0                  0.0   \n",
       "117221                275.0           168275.0                  0.0   \n",
       "117222                  0.0                0.0                  0.0   \n",
       "117223                  0.0                0.0                  0.0   \n",
       "117224                  0.0                0.0                  0.0   \n",
       "117225                326.0           191604.0                  0.0   \n",
       "117226                 18.0             2968.0                  0.0   \n",
       "117227                208.0           140065.0                  0.0   \n",
       "117228                  0.0                0.0                  0.0   \n",
       "117229                  0.0                0.0                  1.0   \n",
       "117230                314.0           163813.0                  0.0   \n",
       "117231                  0.0                0.0                  0.0   \n",
       "117232                322.0           183153.0                  0.0   \n",
       "117233                200.0           148216.0                  0.0   \n",
       "117234                267.0           278722.0                  0.0   \n",
       "117235                  0.0                0.0                  0.0   \n",
       "117236                323.0           277338.0                  0.0   \n",
       "117237                327.0           218553.0                  0.0   \n",
       "117238                  0.0                0.0                  0.0   \n",
       "117239                315.0           254117.0                  0.0   \n",
       "117240                  0.0                0.0                  0.0   \n",
       "117241                269.0           161246.0                  0.0   \n",
       "117242                  0.0                0.0                  0.0   \n",
       "117243                206.0            82424.0                  0.0   \n",
       "117244                280.0            98489.0                  0.0   \n",
       "117245                223.0           112762.0                  0.0   \n",
       "117246                  0.0                0.0                  0.0   \n",
       "117247                315.0           118154.0                  0.0   \n",
       "117248                187.0           110437.0                  0.0   \n",
       "...                     ...                ...                  ...   \n",
       "141500                  0.0                0.0                  1.0   \n",
       "141501                  0.0                0.0                  0.0   \n",
       "141502                  0.0                0.0                  1.0   \n",
       "141503                  0.0                0.0                  1.0   \n",
       "141504                  0.0                0.0                  1.0   \n",
       "141505                  0.0                0.0                  1.0   \n",
       "141506                836.0             8303.0                  0.0   \n",
       "141507                  0.0                0.0                  1.0   \n",
       "141508                  0.0                0.0                  1.0   \n",
       "141509                  0.0                0.0                  1.0   \n",
       "141510                  0.0                0.0                  1.0   \n",
       "141511                  0.0                0.0                  1.0   \n",
       "141512                  0.0                0.0                  0.0   \n",
       "141513                  0.0                0.0                  1.0   \n",
       "141514                  0.0                0.0                  0.0   \n",
       "141515                  0.0                0.0                  1.0   \n",
       "141516                  0.0                0.0                  1.0   \n",
       "141517                  0.0                0.0                  1.0   \n",
       "141518                  0.0                0.0                  1.0   \n",
       "141519                  0.0                0.0                  1.0   \n",
       "141520                  0.0                0.0                  1.0   \n",
       "141521                  0.0                0.0                  1.0   \n",
       "141522                  0.0                0.0                  1.0   \n",
       "141523                  0.0                0.0                  0.0   \n",
       "141524                  0.0                0.0                  0.0   \n",
       "141525                  0.0                0.0                  1.0   \n",
       "141526                  0.0                0.0                  1.0   \n",
       "141527                  0.0                0.0                  1.0   \n",
       "141528                  0.0                0.0                  1.0   \n",
       "141529              11995.0             8297.0                  0.0   \n",
       "\n",
       "        Subflow Fwd Bytes  Subflow Bwd Packets  Subflow Bwd Bytes  \\\n",
       "117219               32.0                  0.0              876.0   \n",
       "117220               48.0                  0.0              821.0   \n",
       "117221               33.0                  0.0              853.0   \n",
       "117222              135.0                  0.0              135.0   \n",
       "117223              141.0                  0.0              141.0   \n",
       "117224              155.0                  0.0               77.0   \n",
       "117225               32.0                  0.0              875.0   \n",
       "117226              152.0                  0.0              168.0   \n",
       "117227               34.0                  0.0              815.0   \n",
       "117228              188.0                  0.0               94.0   \n",
       "117229                0.0                  0.0                0.0   \n",
       "117230               33.0                  0.0              867.0   \n",
       "117231              271.0                  0.0                0.0   \n",
       "117232               31.0                  0.0              837.0   \n",
       "117233               38.0                  0.0              834.0   \n",
       "117234               38.0                  0.0              881.0   \n",
       "117235              271.0                  0.0                0.0   \n",
       "117236               34.0                  0.0              874.0   \n",
       "117237               34.0                  0.0              898.0   \n",
       "117238              271.0                  0.0                0.0   \n",
       "117239               36.0                  0.0              918.0   \n",
       "117240              271.0                  0.0                0.0   \n",
       "117241               36.0                  0.0              896.0   \n",
       "117242                0.0                  0.0                0.0   \n",
       "117243               35.0                  0.0              836.0   \n",
       "117244               35.0                  0.0              906.0   \n",
       "117245               38.0                  0.0              881.0   \n",
       "117246              135.0                  0.0              135.0   \n",
       "117247               32.0                  0.0              833.0   \n",
       "117248               37.0                  0.0              855.0   \n",
       "...                   ...                  ...                ...   \n",
       "141500               22.0                  0.0                0.0   \n",
       "141501                0.0                  0.0                0.0   \n",
       "141502               22.0                  0.0                0.0   \n",
       "141503               22.0                  0.0                0.0   \n",
       "141504               22.0                  0.0                0.0   \n",
       "141505               22.0                  0.0                0.0   \n",
       "141506               41.0                  0.0               41.0   \n",
       "141507               22.0                  0.0                0.0   \n",
       "141508               22.0                  0.0                0.0   \n",
       "141509               22.0                  0.0                0.0   \n",
       "141510               22.0                  0.0                0.0   \n",
       "141511               22.0                  0.0                0.0   \n",
       "141512               13.0                  0.0               42.0   \n",
       "141513               22.0                  0.0                0.0   \n",
       "141514               13.0                  0.0               42.0   \n",
       "141515               22.0                  0.0                0.0   \n",
       "141516               22.0                  0.0                0.0   \n",
       "141517               22.0                  0.0                0.0   \n",
       "141518               22.0                  0.0                0.0   \n",
       "141519               22.0                  0.0                0.0   \n",
       "141520               22.0                  0.0                0.0   \n",
       "141521               22.0                  0.0                0.0   \n",
       "141522               22.0                  0.0                0.0   \n",
       "141523               13.0                  0.0               42.0   \n",
       "141524               24.0                  0.0              191.0   \n",
       "141525               22.0                  0.0                0.0   \n",
       "141526               22.0                  0.0                0.0   \n",
       "141527               22.0                  0.0                0.0   \n",
       "141528               22.0                  0.0                0.0   \n",
       "141529               41.0                  0.0               41.0   \n",
       "\n",
       "        FWD Init Win Bytes  Bwd Init Win Bytes  Fwd Act Data Pkts  \\\n",
       "117219             65535.0             65535.0              166.0   \n",
       "117220             65535.0             65535.0              292.0   \n",
       "117221             65535.0             65535.0              142.0   \n",
       "117222             41180.0             65535.0                0.0   \n",
       "117223             41180.0             65535.0                0.0   \n",
       "117224             41180.0             65535.0                1.0   \n",
       "117225             65535.0             65535.0              154.0   \n",
       "117226             41811.0             65535.0                8.0   \n",
       "117227             65535.0             65535.0              147.0   \n",
       "117228             41180.0             65535.0                1.0   \n",
       "117229             65535.0                 0.0                0.0   \n",
       "117230             65535.0             65535.0              158.0   \n",
       "117231             65535.0             65535.0                1.0   \n",
       "117232             65535.0             65535.0              163.0   \n",
       "117233             65535.0             65535.0              184.0   \n",
       "117234             65535.0             65535.0              137.0   \n",
       "117235             65535.0             65535.0                2.0   \n",
       "117236             65535.0             65535.0              154.0   \n",
       "117237             65535.0             65535.0              161.0   \n",
       "117238             65535.0             65535.0                1.0   \n",
       "117239             65535.0             65535.0              162.0   \n",
       "117240             65535.0             65535.0                1.0   \n",
       "117241             65535.0             65535.0              185.0   \n",
       "117242             41811.0             65535.0                0.0   \n",
       "117243             65535.0             65535.0              135.0   \n",
       "117244             65535.0             65535.0              138.0   \n",
       "117245             65535.0             65535.0               97.0   \n",
       "117246             65535.0             34752.0                0.0   \n",
       "117247             65535.0             65535.0              176.0   \n",
       "117248             65535.0             65535.0              193.0   \n",
       "...                    ...                 ...                ...   \n",
       "141500                 0.0                 0.0                1.0   \n",
       "141501               257.0             16500.0                0.0   \n",
       "141502                 0.0                 0.0                1.0   \n",
       "141503                 0.0                 0.0                1.0   \n",
       "141504                 0.0                 0.0                1.0   \n",
       "141505                 0.0                 0.0                1.0   \n",
       "141506                 0.0                 0.0              417.0   \n",
       "141507                 0.0                 0.0                1.0   \n",
       "141508                 0.0                 0.0                1.0   \n",
       "141509                 0.0                 0.0                1.0   \n",
       "141510                 0.0                 0.0                1.0   \n",
       "141511                 0.0                 0.0                1.0   \n",
       "141512                 0.0                 0.0                0.0   \n",
       "141513                 0.0                 0.0                1.0   \n",
       "141514                 0.0                 0.0                0.0   \n",
       "141515                 0.0                 0.0                1.0   \n",
       "141516                 0.0                 0.0                1.0   \n",
       "141517                 0.0                 0.0                1.0   \n",
       "141518                 0.0                 0.0                1.0   \n",
       "141519                 0.0                 0.0                1.0   \n",
       "141520                 0.0                 0.0                1.0   \n",
       "141521                 0.0                 0.0                1.0   \n",
       "141522                 0.0                 0.0                1.0   \n",
       "141523                 0.0                 0.0                0.0   \n",
       "141524                 0.0                 0.0                0.0   \n",
       "141525                 0.0                 0.0                1.0   \n",
       "141526                 0.0                 0.0                1.0   \n",
       "141527                 0.0                 0.0                1.0   \n",
       "141528                 0.0                 0.0                1.0   \n",
       "141529                 0.0                 0.0             5994.0   \n",
       "\n",
       "        Fwd Seg Size Min  \n",
       "117219              20.0  \n",
       "117220              20.0  \n",
       "117221              20.0  \n",
       "117222              20.0  \n",
       "117223              20.0  \n",
       "117224              20.0  \n",
       "117225              20.0  \n",
       "117226              20.0  \n",
       "117227              20.0  \n",
       "117228              20.0  \n",
       "117229              20.0  \n",
       "117230              20.0  \n",
       "117231              20.0  \n",
       "117232              20.0  \n",
       "117233              20.0  \n",
       "117234              20.0  \n",
       "117235              20.0  \n",
       "117236              20.0  \n",
       "117237              20.0  \n",
       "117238              20.0  \n",
       "117239              20.0  \n",
       "117240              20.0  \n",
       "117241              20.0  \n",
       "117242              20.0  \n",
       "117243              20.0  \n",
       "117244              20.0  \n",
       "117245              20.0  \n",
       "117246              20.0  \n",
       "117247              20.0  \n",
       "117248              20.0  \n",
       "...                  ...  \n",
       "141500               8.0  \n",
       "141501              20.0  \n",
       "141502               8.0  \n",
       "141503               8.0  \n",
       "141504               8.0  \n",
       "141505               8.0  \n",
       "141506               8.0  \n",
       "141507               8.0  \n",
       "141508               8.0  \n",
       "141509               8.0  \n",
       "141510               8.0  \n",
       "141511               8.0  \n",
       "141512               8.0  \n",
       "141513               8.0  \n",
       "141514               8.0  \n",
       "141515               8.0  \n",
       "141516               8.0  \n",
       "141517               8.0  \n",
       "141518               8.0  \n",
       "141519               8.0  \n",
       "141520               8.0  \n",
       "141521               8.0  \n",
       "141522               8.0  \n",
       "141523               8.0  \n",
       "141524               8.0  \n",
       "141525               8.0  \n",
       "141526               8.0  \n",
       "141527               8.0  \n",
       "141528               8.0  \n",
       "141529               8.0  \n",
       "\n",
       "[24311 rows x 68 columns]"
      ]
     },
     "execution_count": 506,
     "metadata": {},
     "output_type": "execute_result"
    }
   ],
   "source": [
    "model_samples[real_columns] = model_samples[real_columns].astype(np.float64)\n",
    "model_samples[real_columns] = model_samples[real_columns].replace([np.inf, -np.inf], np.nan)\n",
    "model_samples[real_columns].dropna()\n",
    "\n",
    "model_samples_l1[real_columns] = model_samples_l1[real_columns].astype(np.float64)\n",
    "model_samples_l1[real_columns] = model_samples_l1[real_columns].replace([np.inf, -np.inf], np.nan)\n",
    "model_samples_l1[real_columns].dropna()"
   ]
  },
  {
   "cell_type": "code",
   "execution_count": 507,
   "metadata": {
    "ExecuteTime": {
     "end_time": "2021-03-02T17:24:51.367276Z",
     "start_time": "2021-03-02T17:24:50.690280Z"
    }
   },
   "outputs": [],
   "source": [
    "df1 = model_samples[model_samples.isna().any(axis=1)]\n",
    "model_samples = model_samples.drop(df1.index)\n",
    "\n",
    "df1 = model_samples_l1[model_samples_l1.isna().any(axis=1)]\n",
    "model_samples_l1 = model_samples_l1.drop(df1.index)"
   ]
  },
  {
   "cell_type": "code",
   "execution_count": 508,
   "metadata": {
    "ExecuteTime": {
     "end_time": "2021-03-02T17:24:59.040533Z",
     "start_time": "2021-03-02T17:24:56.631165Z"
    }
   },
   "outputs": [],
   "source": [
    "scaler = StandardScaler().fit(model_samples[real_columns])\n",
    "model_samples[real_columns] = scaler.transform(model_samples[real_columns])\n",
    "model_samples_l1[real_columns] = scaler.transform(model_samples_l1[real_columns])"
   ]
  },
  {
   "cell_type": "code",
   "execution_count": 509,
   "metadata": {
    "ExecuteTime": {
     "end_time": "2021-03-02T17:24:59.778705Z",
     "start_time": "2021-03-02T17:24:59.695978Z"
    },
    "scrolled": true
   },
   "outputs": [
    {
     "data": {
      "text/html": [
       "<div>\n",
       "<style scoped>\n",
       "    .dataframe tbody tr th:only-of-type {\n",
       "        vertical-align: middle;\n",
       "    }\n",
       "\n",
       "    .dataframe tbody tr th {\n",
       "        vertical-align: top;\n",
       "    }\n",
       "\n",
       "    .dataframe thead th {\n",
       "        text-align: right;\n",
       "    }\n",
       "</style>\n",
       "<table border=\"1\" class=\"dataframe\">\n",
       "  <thead>\n",
       "    <tr style=\"text-align: right;\">\n",
       "      <th></th>\n",
       "      <th>Flow Duration</th>\n",
       "      <th>Total Fwd Packet</th>\n",
       "      <th>Total Bwd packets</th>\n",
       "      <th>Total Length of Fwd Packet</th>\n",
       "      <th>Total Length of Bwd Packet</th>\n",
       "      <th>Fwd Packet Length Max</th>\n",
       "      <th>Fwd Packet Length Min</th>\n",
       "      <th>Fwd Packet Length Mean</th>\n",
       "      <th>Fwd Packet Length Std</th>\n",
       "      <th>Bwd Packet Length Max</th>\n",
       "      <th>...</th>\n",
       "      <th>Bwd Packet/Bulk Avg</th>\n",
       "      <th>Bwd Bulk Rate Avg</th>\n",
       "      <th>Subflow Fwd Packets</th>\n",
       "      <th>Subflow Fwd Bytes</th>\n",
       "      <th>Subflow Bwd Packets</th>\n",
       "      <th>Subflow Bwd Bytes</th>\n",
       "      <th>FWD Init Win Bytes</th>\n",
       "      <th>Bwd Init Win Bytes</th>\n",
       "      <th>Fwd Act Data Pkts</th>\n",
       "      <th>Fwd Seg Size Min</th>\n",
       "    </tr>\n",
       "  </thead>\n",
       "  <tbody>\n",
       "    <tr>\n",
       "      <th>0</th>\n",
       "      <td>-0.546508</td>\n",
       "      <td>-0.063838</td>\n",
       "      <td>-0.044949</td>\n",
       "      <td>-0.034644</td>\n",
       "      <td>-0.028574</td>\n",
       "      <td>-0.321759</td>\n",
       "      <td>-0.498852</td>\n",
       "      <td>-0.316449</td>\n",
       "      <td>-0.379416</td>\n",
       "      <td>-0.292366</td>\n",
       "      <td>...</td>\n",
       "      <td>-0.052228</td>\n",
       "      <td>-0.043209</td>\n",
       "      <td>-0.634075</td>\n",
       "      <td>-0.313203</td>\n",
       "      <td>0.0</td>\n",
       "      <td>-0.413046</td>\n",
       "      <td>-0.345303</td>\n",
       "      <td>-0.095141</td>\n",
       "      <td>-0.061219</td>\n",
       "      <td>0.589647</td>\n",
       "    </tr>\n",
       "    <tr>\n",
       "      <th>1</th>\n",
       "      <td>-0.546503</td>\n",
       "      <td>-0.063838</td>\n",
       "      <td>-0.044949</td>\n",
       "      <td>-0.034644</td>\n",
       "      <td>-0.028574</td>\n",
       "      <td>-0.321759</td>\n",
       "      <td>-0.498852</td>\n",
       "      <td>-0.316449</td>\n",
       "      <td>-0.379416</td>\n",
       "      <td>-0.292366</td>\n",
       "      <td>...</td>\n",
       "      <td>-0.052228</td>\n",
       "      <td>-0.043209</td>\n",
       "      <td>-0.634075</td>\n",
       "      <td>-0.313203</td>\n",
       "      <td>0.0</td>\n",
       "      <td>-0.413046</td>\n",
       "      <td>-0.335704</td>\n",
       "      <td>-0.095141</td>\n",
       "      <td>-0.061219</td>\n",
       "      <td>0.589647</td>\n",
       "    </tr>\n",
       "    <tr>\n",
       "      <th>2</th>\n",
       "      <td>-0.546502</td>\n",
       "      <td>-0.063838</td>\n",
       "      <td>-0.044949</td>\n",
       "      <td>-0.034644</td>\n",
       "      <td>-0.028574</td>\n",
       "      <td>-0.321759</td>\n",
       "      <td>-0.498852</td>\n",
       "      <td>-0.316449</td>\n",
       "      <td>-0.379416</td>\n",
       "      <td>-0.292366</td>\n",
       "      <td>...</td>\n",
       "      <td>-0.052228</td>\n",
       "      <td>-0.043209</td>\n",
       "      <td>-0.634075</td>\n",
       "      <td>-0.313203</td>\n",
       "      <td>0.0</td>\n",
       "      <td>-0.413046</td>\n",
       "      <td>-0.329439</td>\n",
       "      <td>-0.095141</td>\n",
       "      <td>-0.061219</td>\n",
       "      <td>0.589647</td>\n",
       "    </tr>\n",
       "    <tr>\n",
       "      <th>3</th>\n",
       "      <td>-0.546504</td>\n",
       "      <td>-0.063838</td>\n",
       "      <td>-0.044949</td>\n",
       "      <td>-0.034644</td>\n",
       "      <td>-0.028574</td>\n",
       "      <td>-0.321759</td>\n",
       "      <td>-0.498852</td>\n",
       "      <td>-0.316449</td>\n",
       "      <td>-0.379416</td>\n",
       "      <td>-0.292366</td>\n",
       "      <td>...</td>\n",
       "      <td>-0.052228</td>\n",
       "      <td>-0.043209</td>\n",
       "      <td>-0.634075</td>\n",
       "      <td>-0.313203</td>\n",
       "      <td>0.0</td>\n",
       "      <td>-0.413046</td>\n",
       "      <td>-0.333582</td>\n",
       "      <td>-0.095141</td>\n",
       "      <td>-0.061219</td>\n",
       "      <td>0.589647</td>\n",
       "    </tr>\n",
       "    <tr>\n",
       "      <th>4</th>\n",
       "      <td>-0.263585</td>\n",
       "      <td>0.184194</td>\n",
       "      <td>0.071741</td>\n",
       "      <td>-0.014801</td>\n",
       "      <td>-0.027116</td>\n",
       "      <td>-0.120075</td>\n",
       "      <td>-0.498852</td>\n",
       "      <td>0.179861</td>\n",
       "      <td>-0.247304</td>\n",
       "      <td>0.340530</td>\n",
       "      <td>...</td>\n",
       "      <td>0.164343</td>\n",
       "      <td>-0.036900</td>\n",
       "      <td>-0.634075</td>\n",
       "      <td>0.158678</td>\n",
       "      <td>0.0</td>\n",
       "      <td>-0.368398</td>\n",
       "      <td>-0.396835</td>\n",
       "      <td>0.073134</td>\n",
       "      <td>0.305786</td>\n",
       "      <td>0.589647</td>\n",
       "    </tr>\n",
       "  </tbody>\n",
       "</table>\n",
       "<p>5 rows × 68 columns</p>\n",
       "</div>"
      ],
      "text/plain": [
       "   Flow Duration  Total Fwd Packet  Total Bwd packets  \\\n",
       "0      -0.546508         -0.063838          -0.044949   \n",
       "1      -0.546503         -0.063838          -0.044949   \n",
       "2      -0.546502         -0.063838          -0.044949   \n",
       "3      -0.546504         -0.063838          -0.044949   \n",
       "4      -0.263585          0.184194           0.071741   \n",
       "\n",
       "   Total Length of Fwd Packet  Total Length of Bwd Packet  \\\n",
       "0                   -0.034644                   -0.028574   \n",
       "1                   -0.034644                   -0.028574   \n",
       "2                   -0.034644                   -0.028574   \n",
       "3                   -0.034644                   -0.028574   \n",
       "4                   -0.014801                   -0.027116   \n",
       "\n",
       "   Fwd Packet Length Max  Fwd Packet Length Min  Fwd Packet Length Mean  \\\n",
       "0              -0.321759              -0.498852               -0.316449   \n",
       "1              -0.321759              -0.498852               -0.316449   \n",
       "2              -0.321759              -0.498852               -0.316449   \n",
       "3              -0.321759              -0.498852               -0.316449   \n",
       "4              -0.120075              -0.498852                0.179861   \n",
       "\n",
       "   Fwd Packet Length Std  Bwd Packet Length Max        ...         \\\n",
       "0              -0.379416              -0.292366        ...          \n",
       "1              -0.379416              -0.292366        ...          \n",
       "2              -0.379416              -0.292366        ...          \n",
       "3              -0.379416              -0.292366        ...          \n",
       "4              -0.247304               0.340530        ...          \n",
       "\n",
       "   Bwd Packet/Bulk Avg  Bwd Bulk Rate Avg  Subflow Fwd Packets  \\\n",
       "0            -0.052228          -0.043209            -0.634075   \n",
       "1            -0.052228          -0.043209            -0.634075   \n",
       "2            -0.052228          -0.043209            -0.634075   \n",
       "3            -0.052228          -0.043209            -0.634075   \n",
       "4             0.164343          -0.036900            -0.634075   \n",
       "\n",
       "   Subflow Fwd Bytes  Subflow Bwd Packets  Subflow Bwd Bytes  \\\n",
       "0          -0.313203                  0.0          -0.413046   \n",
       "1          -0.313203                  0.0          -0.413046   \n",
       "2          -0.313203                  0.0          -0.413046   \n",
       "3          -0.313203                  0.0          -0.413046   \n",
       "4           0.158678                  0.0          -0.368398   \n",
       "\n",
       "   FWD Init Win Bytes  Bwd Init Win Bytes  Fwd Act Data Pkts  Fwd Seg Size Min  \n",
       "0           -0.345303           -0.095141          -0.061219          0.589647  \n",
       "1           -0.335704           -0.095141          -0.061219          0.589647  \n",
       "2           -0.329439           -0.095141          -0.061219          0.589647  \n",
       "3           -0.333582           -0.095141          -0.061219          0.589647  \n",
       "4           -0.396835            0.073134           0.305786          0.589647  \n",
       "\n",
       "[5 rows x 68 columns]"
      ]
     },
     "execution_count": 509,
     "metadata": {},
     "output_type": "execute_result"
    }
   ],
   "source": [
    "model_samples[real_columns].head()"
   ]
  },
  {
   "cell_type": "markdown",
   "metadata": {},
   "source": [
    "## Processed dataset"
   ]
  },
  {
   "cell_type": "code",
   "execution_count": 42,
   "metadata": {
    "ExecuteTime": {
     "end_time": "2021-03-01T11:34:56.824603Z",
     "start_time": "2021-03-01T11:34:56.820332Z"
    }
   },
   "outputs": [
    {
     "name": "stdout",
     "output_type": "stream",
     "text": [
      "Index(['hour', 'src_ip_1gram', 'src_ip_2gram', 'src_ip_3gram', 'dst_ip_1gram'], dtype='object')\n",
      "Number of features: 92\n"
     ]
    }
   ],
   "source": [
    "print(samples.columns[:5])\n",
    "print(f\"Number of features: {len(samples.columns)}\")"
   ]
  },
  {
   "cell_type": "code",
   "execution_count": 43,
   "metadata": {
    "ExecuteTime": {
     "end_time": "2021-03-01T11:34:57.363443Z",
     "start_time": "2021-03-01T11:34:57.356345Z"
    }
   },
   "outputs": [
    {
     "data": {
      "text/plain": [
       "hour                            int64\n",
       "src_ip_1gram                   object\n",
       "src_ip_2gram                   object\n",
       "src_ip_3gram                   object\n",
       "dst_ip_1gram                   object\n",
       "dst_ip_2gram                   object\n",
       "dst_ip_3gram                   object\n",
       "src_ip_country                 object\n",
       "dst_ip_country                 object\n",
       "src_bogon                        bool\n",
       "dst_bogon                        bool\n",
       "Src Port                        int64\n",
       "Dst Port                        int64\n",
       "Protocol                        int64\n",
       "Flow Duration                   int64\n",
       "Total Fwd Packet                int64\n",
       "Total Bwd packets               int64\n",
       "Total Length of Fwd Packet      int64\n",
       "Total Length of Bwd Packet      int64\n",
       "Fwd Packet Length Max           int64\n",
       "Fwd Packet Length Min           int64\n",
       "Fwd Packet Length Mean        float64\n",
       "Fwd Packet Length Std         float64\n",
       "Bwd Packet Length Max           int64\n",
       "Bwd Packet Length Min           int64\n",
       "Bwd Packet Length Mean        float64\n",
       "Bwd Packet Length Std         float64\n",
       "Flow Bytes/s                   object\n",
       "Flow Packets/s                 object\n",
       "Flow IAT Mean                 float64\n",
       "Flow IAT Std                  float64\n",
       "Flow IAT Max                    int64\n",
       "Flow IAT Min                    int64\n",
       "Fwd IAT Total                   int64\n",
       "Fwd IAT Mean                  float64\n",
       "Fwd IAT Std                   float64\n",
       "Fwd IAT Max                     int64\n",
       "Fwd IAT Min                     int64\n",
       "Bwd IAT Total                   int64\n",
       "Bwd IAT Mean                  float64\n",
       "dtype: object"
      ]
     },
     "execution_count": 43,
     "metadata": {},
     "output_type": "execute_result"
    }
   ],
   "source": [
    "samples.dtypes[:40]"
   ]
  },
  {
   "cell_type": "code",
   "execution_count": null,
   "metadata": {
    "ExecuteTime": {
     "end_time": "2021-03-01T11:19:22.283050Z",
     "start_time": "2021-03-01T11:19:14.784Z"
    },
    "scrolled": false
   },
   "outputs": [],
   "source": [
    "samples.dtypes[40:81]"
   ]
  },
  {
   "cell_type": "code",
   "execution_count": null,
   "metadata": {
    "ExecuteTime": {
     "end_time": "2021-03-01T11:19:22.284998Z",
     "start_time": "2021-03-01T11:19:14.788Z"
    }
   },
   "outputs": [],
   "source": [
    "samples.dtypes[81:]"
   ]
  },
  {
   "cell_type": "code",
   "execution_count": null,
   "metadata": {
    "ExecuteTime": {
     "end_time": "2021-03-01T11:19:22.291686Z",
     "start_time": "2021-03-01T11:19:14.797Z"
    }
   },
   "outputs": [],
   "source": [
    "samples.to_csv(dataset_folder+\"darknet_processado.csv\")\n",
    "samples.head()"
   ]
  },
  {
   "cell_type": "markdown",
   "metadata": {},
   "source": [
    "# Dataset analysis"
   ]
  },
  {
   "cell_type": "code",
   "execution_count": 60,
   "metadata": {
    "ExecuteTime": {
     "end_time": "2021-03-01T19:51:48.967506Z",
     "start_time": "2021-03-01T19:51:48.955460Z"
    }
   },
   "outputs": [
    {
     "data": {
      "text/html": [
       "<div>\n",
       "<style scoped>\n",
       "    .dataframe tbody tr th:only-of-type {\n",
       "        vertical-align: middle;\n",
       "    }\n",
       "\n",
       "    .dataframe tbody tr th {\n",
       "        vertical-align: top;\n",
       "    }\n",
       "\n",
       "    .dataframe thead th {\n",
       "        text-align: right;\n",
       "    }\n",
       "</style>\n",
       "<table border=\"1\" class=\"dataframe\">\n",
       "  <thead>\n",
       "    <tr style=\"text-align: right;\">\n",
       "      <th></th>\n",
       "      <th>hour</th>\n",
       "      <th>Label</th>\n",
       "      <th>Label.1</th>\n",
       "    </tr>\n",
       "  </thead>\n",
       "  <tbody>\n",
       "    <tr>\n",
       "      <th>0</th>\n",
       "      <td>4</td>\n",
       "      <td>Benign</td>\n",
       "      <td>Audio-Streaming</td>\n",
       "    </tr>\n",
       "    <tr>\n",
       "      <th>1</th>\n",
       "      <td>4</td>\n",
       "      <td>Benign</td>\n",
       "      <td>Audio-Streaming</td>\n",
       "    </tr>\n",
       "    <tr>\n",
       "      <th>2</th>\n",
       "      <td>4</td>\n",
       "      <td>Benign</td>\n",
       "      <td>Audio-Streaming</td>\n",
       "    </tr>\n",
       "    <tr>\n",
       "      <th>3</th>\n",
       "      <td>4</td>\n",
       "      <td>Benign</td>\n",
       "      <td>Audio-Streaming</td>\n",
       "    </tr>\n",
       "    <tr>\n",
       "      <th>4</th>\n",
       "      <td>4</td>\n",
       "      <td>Benign</td>\n",
       "      <td>Audio-Streaming</td>\n",
       "    </tr>\n",
       "  </tbody>\n",
       "</table>\n",
       "</div>"
      ],
      "text/plain": [
       "   hour   Label          Label.1\n",
       "0     4  Benign  Audio-Streaming\n",
       "1     4  Benign  Audio-Streaming\n",
       "2     4  Benign  Audio-Streaming\n",
       "3     4  Benign  Audio-Streaming\n",
       "4     4  Benign  Audio-Streaming"
      ]
     },
     "execution_count": 60,
     "metadata": {},
     "output_type": "execute_result"
    }
   ],
   "source": [
    "cols=[\"hour\", \"Label\", \"Label.1\"]\n",
    "to_analyse = samples[cols]\n",
    "to_analyse.head()"
   ]
  },
  {
   "cell_type": "markdown",
   "metadata": {},
   "source": [
    "## Labels probability distribution"
   ]
  },
  {
   "cell_type": "code",
   "execution_count": 220,
   "metadata": {
    "ExecuteTime": {
     "end_time": "2021-03-01T19:32:33.889806Z",
     "start_time": "2021-03-01T19:32:33.366277Z"
    }
   },
   "outputs": [
    {
     "data": {
      "image/png": "[encoded data removed]",
      "text/plain": [
       "<Figure size 1296x432 with 1 Axes>"
      ]
     },
     "metadata": {
      "needs_background": "light"
     },
     "output_type": "display_data"
    }
   ],
   "source": [
    "sns.histplot(data=to_analyse, x=\"Label\", stat=\"probability\")\n",
    "plt.show()"
   ]
  },
  {
   "cell_type": "code",
   "execution_count": 221,
   "metadata": {
    "ExecuteTime": {
     "end_time": "2021-03-01T19:32:42.676225Z",
     "start_time": "2021-03-01T19:32:42.220054Z"
    }
   },
   "outputs": [
    {
     "data": {
      "image/png": "[encoded data removed]",
      "text/plain": [
       "<Figure size 1296x432 with 1 Axes>"
      ]
     },
     "metadata": {
      "needs_background": "light"
     },
     "output_type": "display_data"
    }
   ],
   "source": [
    "sns.histplot(data=to_analyse, x=\"Label.1\", stat=\"probability\")\n",
    "plt.show()"
   ]
  },
  {
   "cell_type": "markdown",
   "metadata": {},
   "source": [
    "## Traffic type on Darknet and outside"
   ]
  },
  {
   "cell_type": "code",
   "execution_count": 222,
   "metadata": {
    "ExecuteTime": {
     "end_time": "2021-03-01T19:33:00.262701Z",
     "start_time": "2021-03-01T19:32:59.792119Z"
    },
    "scrolled": true
   },
   "outputs": [
    {
     "data": {
      "image/png": "[encoded data removed]",
      "text/plain": [
       "<Figure size 1296x432 with 1 Axes>"
      ]
     },
     "metadata": {
      "needs_background": "light"
     },
     "output_type": "display_data"
    }
   ],
   "source": [
    "sns.histplot(data=to_analyse[to_analyse['Label'] == \"Benign\"], x=\"Label.1\", stat=\"probability\")\n",
    "plt.show()"
   ]
  },
  {
   "cell_type": "code",
   "execution_count": null,
   "metadata": {
    "ExecuteTime": {
     "start_time": "2021-03-01T19:33:10.991Z"
    },
    "scrolled": true
   },
   "outputs": [],
   "source": [
    "to_analyse[to_analyse['Label'] == \"Benign\"]['Label.1'].hist(cumulative=True, density=1, bins=8, grid=True)\n",
    "plt.show()"
   ]
  },
  {
   "cell_type": "code",
   "execution_count": 63,
   "metadata": {
    "ExecuteTime": {
     "end_time": "2021-03-01T19:52:30.249240Z",
     "start_time": "2021-03-01T19:52:29.845920Z"
    },
    "scrolled": true
   },
   "outputs": [
    {
     "data": {
      "image/png": "[encoded data removed]",
      "text/plain": [
       "<Figure size 1296x432 with 1 Axes>"
      ]
     },
     "metadata": {
      "needs_background": "light"
     },
     "output_type": "display_data"
    }
   ],
   "source": [
    "sns.histplot(data=to_analyse[to_analyse['Label'] == \"Darknet\"], x=\"Label.1\", stat=\"probability\")\n",
    "plt.show()"
   ]
  },
  {
   "cell_type": "code",
   "execution_count": null,
   "metadata": {
    "ExecuteTime": {
     "start_time": "2021-03-01T16:41:01.810Z"
    },
    "scrolled": true
   },
   "outputs": [],
   "source": [
    "to_analyse[to_analyse['Label'] == \"Darknet\"]['Label.1'].hist(cumulative=True, density=1, bins=8, grid=True)\n",
    "plt.show()"
   ]
  },
  {
   "cell_type": "markdown",
   "metadata": {},
   "source": [
    "## Access hour"
   ]
  },
  {
   "cell_type": "code",
   "execution_count": 61,
   "metadata": {
    "ExecuteTime": {
     "end_time": "2021-03-01T19:52:00.717091Z",
     "start_time": "2021-03-01T19:52:00.252297Z"
    },
    "scrolled": false
   },
   "outputs": [
    {
     "data": {
      "image/png": "[encoded data removed]",
      "text/plain": [
       "<Figure size 1296x432 with 1 Axes>"
      ]
     },
     "metadata": {
      "needs_background": "light"
     },
     "output_type": "display_data"
    }
   ],
   "source": [
    "sns.histplot(data=to_analyse[to_analyse['Label'] == \"Darknet\"], x=\"hour\", stat=\"probability\")\n",
    "plt.show()"
   ]
  },
  {
   "cell_type": "code",
   "execution_count": 62,
   "metadata": {
    "ExecuteTime": {
     "end_time": "2021-03-01T19:52:04.629979Z",
     "start_time": "2021-03-01T19:52:04.247580Z"
    }
   },
   "outputs": [
    {
     "data": {
      "image/png": "[encoded data removed]",
      "text/plain": [
       "<Figure size 1296x432 with 1 Axes>"
      ]
     },
     "metadata": {
      "needs_background": "light"
     },
     "output_type": "display_data"
    }
   ],
   "source": [
    "sns.histplot(data=to_analyse[to_analyse['Label'] == \"Benign\"], x=\"hour\", stat=\"probability\")\n",
    "plt.show()"
   ]
  },
  {
   "cell_type": "markdown",
   "metadata": {},
   "source": [
    "# Models evaluation"
   ]
  },
  {
   "cell_type": "code",
   "execution_count": 520,
   "metadata": {
    "ExecuteTime": {
     "end_time": "2021-03-02T17:34:32.471592Z",
     "start_time": "2021-03-02T17:34:32.468094Z"
    }
   },
   "outputs": [],
   "source": [
    "def split_train_target(samples, labels_col):\n",
    "    X = samples.copy()\n",
    "    del X[labels_col]\n",
    "    X = X.values\n",
    "    y = samples[labels_col].values\n",
    "    labels = np.unique(samples[labels_col])\n",
    "    return X, y, labels"
   ]
  },
  {
   "cell_type": "code",
   "execution_count": 342,
   "metadata": {
    "ExecuteTime": {
     "end_time": "2021-03-01T23:54:19.421452Z",
     "start_time": "2021-03-01T23:54:19.405752Z"
    }
   },
   "outputs": [],
   "source": [
    "def kfold_validation(model, X, y, labels=None, n_splits=10, random_state=42):\n",
    "    skf = StratifiedKFold(n_splits=n_splits, shuffle=True, random_state=random_state)\n",
    "    classifier_reports = []\n",
    "    for train_index, test_index in tqdm(skf.split(X, y), total=n_splits): \n",
    "        x_train_fold, x_test_fold = X[train_index], X[test_index] \n",
    "        y_train_fold, y_test_fold = y[train_index], y[test_index] \n",
    "        model = model.fit(x_train_fold,y_train_fold)\n",
    "        y_pred_fold = model.predict(x_test_fold)\n",
    "        class_report = classification_report(y_test_fold, y_pred_fold, target_names=labels,\n",
    "                                             output_dict=True)    \n",
    "        classifier_reports.append(class_report)\n",
    "    \n",
    "    final_report = {}\n",
    "    for report in classifier_reports:\n",
    "        for label in report.keys():\n",
    "            if type(report[label]) == dict:\n",
    "                if label not in final_report:\n",
    "                    final_report[label] = {}\n",
    "                for key in report[label].keys():\n",
    "                    if key not in final_report[label]:\n",
    "                            final_report[label][key] = 0.0\n",
    "                    final_report[label][key] += report[label][key]\n",
    "            else:\n",
    "                if label not in final_report:\n",
    "                    final_report[label] = 0.0\n",
    "                final_report[label] += report[label]\n",
    "\n",
    "    for label in final_report.keys():\n",
    "        if type(final_report[label]) == dict:\n",
    "            for metric in final_report[label].keys():\n",
    "                final_report[label][metric] /= n_splits\n",
    "        else:\n",
    "            final_report[label] /= n_splits\n",
    "    final_report[\"n_splits\"] = n_splits\n",
    "    return final_report"
   ]
  },
  {
   "cell_type": "code",
   "execution_count": 343,
   "metadata": {
    "ExecuteTime": {
     "end_time": "2021-03-01T23:54:19.431213Z",
     "start_time": "2021-03-01T23:54:19.423171Z"
    }
   },
   "outputs": [],
   "source": [
    "def show_kfold_report(report, labels):\n",
    "    metrics_printed = False\n",
    "    n_spaces = max([len(label) for label in labels])\n",
    "    for label in labels:\n",
    "        if not metrics_printed:\n",
    "            print(\" \"*n_spaces, end='')\n",
    "            for metric in report[label].keys():\n",
    "                print(f\"{metric}\", \" \"*6,end='')\n",
    "            metrics_printed = True\n",
    "            print()\n",
    "        print(f\"{label}: \", \" \"*(n_spaces-len(label)),end='')\n",
    "        for metric in report[label].keys():\n",
    "            print(\"%0.2f\\t\\t\"%(report[label][metric]*100),end='')\n",
    "        print()\n",
    "    print(\"\\n\\n\", \"%d-fold Accuracy: %0.2f%%\"%(report[\"n_splits\"],report['accuracy']*100))"
   ]
  },
  {
   "cell_type": "code",
   "execution_count": 344,
   "metadata": {
    "ExecuteTime": {
     "end_time": "2021-03-01T23:54:19.441389Z",
     "start_time": "2021-03-01T23:54:19.433046Z"
    }
   },
   "outputs": [],
   "source": [
    "def show_confusion_matrix(model, X, y, labels):\n",
    "    y_pred = model.predict(X)\n",
    "    conf = confusion_matrix(y, y_pred)\n",
    "    n_spaces = max([len(label) for label in labels])\n",
    "    print(\"Test accuracy: %0.2f%%\\n\"%(np.sum((y_pred==y))/y.size*100))\n",
    "    print(\"\\nConfusion matrix:\")\n",
    "    print(conf)\n",
    "    print()\n",
    "    for i in range(conf.shape[0]):\n",
    "        print(labels[i],\":\",\" \"*(n_spaces- len(labels[i])) ,\" %0.2f%%\"%(conf[i,i]/np.sum(conf[i,:])*100))"
   ]
  },
  {
   "cell_type": "code",
   "execution_count": 627,
   "metadata": {
    "ExecuteTime": {
     "end_time": "2021-03-02T22:06:09.228106Z",
     "start_time": "2021-03-02T22:06:09.219406Z"
    }
   },
   "outputs": [],
   "source": [
    "def evaluate_model(model, X_train, y_train, X_test, y_test, labels, n_splits=10, figsize=(10,10)):\n",
    "    kfold_report = kfold_validation(model, X_train, y_train, n_splits=n_splits)\n",
    "    show_kfold_report(kfold_report, labels)\n",
    "    show_confusion_matrix(model, X_test, y_test, labels)\n",
    "    fig, ax = plt.subplots(figsize=figsize)\n",
    "    plot_confusion_matrix(model, X_test, y_test, cmap=plt.cm.Blues, ax=ax)\n",
    "    plt.show()\n",
    "    return kfold_report"
   ]
  },
  {
   "cell_type": "markdown",
   "metadata": {},
   "source": [
    "## Benign vs Darknet classification"
   ]
  },
  {
   "cell_type": "code",
   "execution_count": 569,
   "metadata": {
    "ExecuteTime": {
     "end_time": "2021-03-02T18:45:04.333388Z",
     "start_time": "2021-03-02T18:44:57.680323Z"
    }
   },
   "outputs": [],
   "source": [
    "X, y, labels = split_train_target(model_samples, \"Label\")\n",
    "X_train, X_test, y_train, y_test = train_test_split(X, y, test_size=0.33, random_state=random_state)\n",
    "columns = model_samples_l1.columns.tolist()"
   ]
  },
  {
   "cell_type": "markdown",
   "metadata": {},
   "source": [
    "### Decision tree"
   ]
  },
  {
   "cell_type": "code",
   "execution_count": 628,
   "metadata": {
    "ExecuteTime": {
     "end_time": "2021-03-02T22:07:56.639965Z",
     "start_time": "2021-03-02T22:06:16.348039Z"
    },
    "scrolled": false
   },
   "outputs": [
    {
     "name": "stderr",
     "output_type": "stream",
     "text": [
      "100%|██████████| 10/10 [01:36<00:00,  9.68s/it]\n"
     ]
    },
    {
     "name": "stdout",
     "output_type": "stream",
     "text": [
      "       precision       recall       f1-score       support       \n",
      "Benign:   99.94\t\t99.92\t\t99.93\t\t784910.00\t\t\n",
      "Darknet:  99.64\t\t99.71\t\t99.67\t\t163010.00\t\t\n",
      "\n",
      "\n",
      " 10-fold Accuracy: 99.89%\n",
      "Test accuracy: 99.91%\n",
      "\n",
      "\n",
      "Confusion matrix:\n",
      "[[38661    18]\n",
      " [   22  7988]]\n",
      "\n",
      "Benign :    99.95%\n",
      "Darknet :   99.73%\n"
     ]
    },
    {
     "data": {
      "image/png": "[encoded data removed]",
      "text/plain": [
       "<Figure size 720x720 with 2 Axes>"
      ]
     },
     "metadata": {
      "needs_background": "light"
     },
     "output_type": "display_data"
    }
   ],
   "source": [
    "model = DecisionTreeClassifier(random_state=random_state)\n",
    "report = evaluate_model(model, X_train, y_train, X_test, y_test, labels)"
   ]
  },
  {
   "cell_type": "markdown",
   "metadata": {},
   "source": [
    "### Random forest"
   ]
  },
  {
   "cell_type": "code",
   "execution_count": 629,
   "metadata": {
    "ExecuteTime": {
     "end_time": "2021-03-02T22:13:25.419159Z",
     "start_time": "2021-03-02T22:07:56.643025Z"
    },
    "scrolled": false
   },
   "outputs": [
    {
     "name": "stderr",
     "output_type": "stream",
     "text": [
      "100%|██████████| 10/10 [05:23<00:00, 32.37s/it]\n"
     ]
    },
    {
     "name": "stdout",
     "output_type": "stream",
     "text": [
      "       precision       recall       f1-score       support       \n",
      "Benign:   99.89\t\t99.97\t\t99.93\t\t784910.00\t\t\n",
      "Darknet:  99.87\t\t99.47\t\t99.67\t\t163010.00\t\t\n",
      "\n",
      "\n",
      " 10-fold Accuracy: 99.89%\n",
      "Test accuracy: 99.90%\n",
      "\n",
      "\n",
      "Confusion matrix:\n",
      "[[38670     9]\n",
      " [   36  7974]]\n",
      "\n",
      "Benign :    99.98%\n",
      "Darknet :   99.55%\n"
     ]
    },
    {
     "data": {
      "image/png": "[encoded data removed]",
      "text/plain": [
       "<Figure size 720x720 with 2 Axes>"
      ]
     },
     "metadata": {
      "needs_background": "light"
     },
     "output_type": "display_data"
    }
   ],
   "source": [
    "rf_model = RandomForestClassifier(random_state=random_state)\n",
    "report_rf = evaluate_model(rf_model, X_train, y_train, X_test, y_test, labels)"
   ]
  },
  {
   "cell_type": "markdown",
   "metadata": {},
   "source": [
    "## Darknet traffic caracterization"
   ]
  },
  {
   "cell_type": "code",
   "execution_count": 632,
   "metadata": {
    "ExecuteTime": {
     "end_time": "2021-03-02T22:14:21.705170Z",
     "start_time": "2021-03-02T22:14:20.475193Z"
    }
   },
   "outputs": [],
   "source": [
    "X1, y1, labels1 = split_train_target(model_samples_l1, \"Label.1\")\n",
    "X1_train, X1_test, y1_train, y1_test = train_test_split(X1, y1, test_size=0.33, random_state=random_state)\n",
    "columns1 = model_samples_l1.columns.tolist()"
   ]
  },
  {
   "cell_type": "markdown",
   "metadata": {},
   "source": [
    "### Decision tree"
   ]
  },
  {
   "cell_type": "code",
   "execution_count": 635,
   "metadata": {
    "ExecuteTime": {
     "end_time": "2021-03-02T22:15:27.882664Z",
     "start_time": "2021-03-02T22:15:16.816645Z"
    }
   },
   "outputs": [
    {
     "name": "stderr",
     "output_type": "stream",
     "text": [
      "100%|██████████| 10/10 [00:09<00:00,  1.05it/s]\n"
     ]
    },
    {
     "name": "stdout",
     "output_type": "stream",
     "text": [
      "               precision       recall       f1-score       support       \n",
      "Audio-Streaming:  99.60\t\t99.66\t\t99.63\t\t88830.00\t\t\n",
      "Browsing:         93.05\t\t83.82\t\t87.85\t\t1750.00\t\t\n",
      "Chat:             98.93\t\t99.28\t\t99.10\t\t30520.00\t\t\n",
      "Email:            95.33\t\t95.70\t\t95.45\t\t3930.00\t\t\n",
      "File-Transfer:    98.27\t\t97.92\t\t98.09\t\t17300.00\t\t\n",
      "P2P:              97.12\t\t96.25\t\t96.48\t\t1570.00\t\t\n",
      "VOIP:             97.39\t\t97.97\t\t97.68\t\t9860.00\t\t\n",
      "Video-Streaming:  96.28\t\t96.16\t\t96.21\t\t9120.00\t\t\n",
      "\n",
      "\n",
      " 10-fold Accuracy: 98.81%\n",
      "Test accuracy: 99.03%\n",
      "\n",
      "\n",
      "Confusion matrix:\n",
      "[[4387    2   12    0    0    0    0    0]\n",
      " [   4   80    0    0    1    1    1    1]\n",
      " [   5    4 1479    0    0    0    1    0]\n",
      " [   0    0    0  184    5    0    0    0]\n",
      " [   1    0    0   11  864    0    0    4]\n",
      " [   0    0    0    0    0   63    0    0]\n",
      " [   0    0    1    0    0    0  473    5]\n",
      " [   2    0    1    0    4    2   10  415]]\n",
      "\n",
      "Audio-Streaming :   99.68%\n",
      "Browsing :          90.91%\n",
      "Chat :              99.33%\n",
      "Email :             97.35%\n",
      "File-Transfer :     98.18%\n",
      "P2P :               100.00%\n",
      "VOIP :              98.75%\n",
      "Video-Streaming :   95.62%\n"
     ]
    },
    {
     "data": {
      "image/png": "[encoded data removed]",
      "text/plain": [
       "<Figure size 1080x1080 with 2 Axes>"
      ]
     },
     "metadata": {
      "needs_background": "light"
     },
     "output_type": "display_data"
    }
   ],
   "source": [
    "model1 = DecisionTreeClassifier(random_state=random_state)\n",
    "report1 = evaluate_model(model1, X1_train, y1_train, X1_test, y1_test, labels1, figsize=(15,15))"
   ]
  },
  {
   "cell_type": "markdown",
   "metadata": {},
   "source": [
    "### Random forest"
   ]
  },
  {
   "cell_type": "code",
   "execution_count": 634,
   "metadata": {
    "ExecuteTime": {
     "end_time": "2021-03-02T22:15:16.807016Z",
     "start_time": "2021-03-02T22:14:33.827257Z"
    }
   },
   "outputs": [
    {
     "name": "stderr",
     "output_type": "stream",
     "text": [
      "100%|██████████| 10/10 [00:40<00:00,  4.08s/it]\n"
     ]
    },
    {
     "name": "stdout",
     "output_type": "stream",
     "text": [
      "               precision       recall       f1-score       support       \n",
      "Audio-Streaming:  99.50\t\t99.08\t\t99.29\t\t88830.00\t\t\n",
      "Browsing:         88.49\t\t83.95\t\t85.87\t\t1750.00\t\t\n",
      "Chat:             98.51\t\t99.08\t\t98.79\t\t30520.00\t\t\n",
      "Email:            98.47\t\t95.94\t\t97.15\t\t3930.00\t\t\n",
      "File-Transfer:    98.03\t\t96.99\t\t97.50\t\t17300.00\t\t\n",
      "P2P:              95.67\t\t97.50\t\t96.32\t\t1570.00\t\t\n",
      "VOIP:             97.13\t\t97.26\t\t97.16\t\t9860.00\t\t\n",
      "Video-Streaming:  91.32\t\t96.27\t\t93.71\t\t9120.00\t\t\n",
      "\n",
      "\n",
      " 10-fold Accuracy: 98.34%\n",
      "Test accuracy: 98.34%\n",
      "\n",
      "\n",
      "Confusion matrix:\n",
      "[[4361    2   17    0    6    0    0   15]\n",
      " [   6   75    4    0    0    0    1    2]\n",
      " [   9    3 1462    0   14    0    0    1]\n",
      " [   0    0    1  185    3    0    0    0]\n",
      " [  10    0    5    4  859    0    0    2]\n",
      " [   2    0    0    0    0   61    0    0]\n",
      " [   2    1    1    0    1    0  468    6]\n",
      " [   1    2    0    0    2    0   10  419]]\n",
      "\n",
      "Audio-Streaming :   99.09%\n",
      "Browsing :          85.23%\n",
      "Chat :              98.19%\n",
      "Email :             97.88%\n",
      "File-Transfer :     97.61%\n",
      "P2P :               96.83%\n",
      "VOIP :              97.70%\n",
      "Video-Streaming :   96.54%\n"
     ]
    },
    {
     "data": {
      "image/png": "[encoded data removed]",
      "text/plain": [
       "<Figure size 1080x1080 with 2 Axes>"
      ]
     },
     "metadata": {
      "needs_background": "light"
     },
     "output_type": "display_data"
    }
   ],
   "source": [
    "rf_model1 = RandomForestClassifier(random_state=random_state)\n",
    "report_rf1 = evaluate_model(rf_model1, X1_train, y1_train, X1_test, y1_test, labels1, figsize=(15,15))"
   ]
  },
  {
   "cell_type": "markdown",
   "metadata": {},
   "source": [
    "# Feature selection\n",
    "\n",
    "## Recursive Feature Elimination (RFE)"
   ]
  },
  {
   "cell_type": "code",
   "execution_count": 591,
   "metadata": {
    "ExecuteTime": {
     "end_time": "2021-03-02T20:53:00.253812Z",
     "start_time": "2021-03-02T20:53:00.248402Z"
    }
   },
   "outputs": [],
   "source": [
    "def select_features(model, X, y, min_feats=1,step=2, random_state=None):\n",
    "    rfe = RFECV(model, min_features_to_select=min_feats, step=step, cv=StratifiedKFold(10, shuffle=True, random_state=random_state), scoring='accuracy', n_jobs=4, verbose=3)\n",
    "    rfe.fit(X, y)\n",
    "    return rfe\n",
    "\n",
    "def final_evaluation(model, X, y, labels, rfe):\n",
    "    X_selected = rfe.transform(X)\n",
    "    X_train, X_test, y_train, y_test = train_test_split(X_selected, y, test_size=0.33, random_state=random_state)\n",
    "    kfold_report = kfold_validation(model, X_train, y_train, n_splits=10)\n",
    "    show_kfold_report(kfold_report, np.unique(y_train))\n",
    "    show_confusion_matrix(model, X_test, y_test, labels)"
   ]
  },
  {
   "cell_type": "code",
   "execution_count": 572,
   "metadata": {
    "ExecuteTime": {
     "end_time": "2021-03-02T18:45:15.010768Z",
     "start_time": "2021-03-02T18:45:15.004273Z"
    }
   },
   "outputs": [],
   "source": [
    "def summarize_feats(rfe, model, columns, to_remove=[]):\n",
    "    columns = [column for column in columns if column not in to_remove]\n",
    "    columns = [columns[i] for i in range(len(columns)) if (i < len(rfe.support_)) \n",
    "               and rfe.support_[i] ]\n",
    "    features = zip(columns, model.feature_importances_)\n",
    "    feat_import = [(feat, importance) for feat, importance in features]\n",
    "    feat_import.sort(key = lambda x: x[1], reverse=True)\n",
    "    \n",
    "    n_spaces = max([len(feat) for feat, _ in feat_import[:25]])\n",
    "    head = \"Feature\" + str(\" \"*(n_spaces-len(\"Feature\")) + \"\\tImportance\") \n",
    "    print(head)\n",
    "    print(\"-\"*(len(head)+5))\n",
    "    for feature, importance in feat_import[:25]:\n",
    "        print(f\"%s:\"%(feature),\" \"*(n_spaces-len(feature)),\"\\t%0.4f\"%(importance))\n",
    "    \n",
    "    return columns"
   ]
  },
  {
   "cell_type": "markdown",
   "metadata": {},
   "source": [
    "### Benign vs Darknet classification"
   ]
  },
  {
   "cell_type": "markdown",
   "metadata": {},
   "source": [
    "#### Decision tree"
   ]
  },
  {
   "cell_type": "code",
   "execution_count": 573,
   "metadata": {
    "ExecuteTime": {
     "end_time": "2021-03-02T19:02:54.340902Z",
     "start_time": "2021-03-02T18:45:15.186147Z"
    }
   },
   "outputs": [
    {
     "name": "stdout",
     "output_type": "stream",
     "text": [
      "Fitting estimator with 184 features.\n",
      "Fitting estimator with 180 features.\n",
      "Fitting estimator with 176 features.\n",
      "Fitting estimator with 172 features.\n",
      "Fitting estimator with 168 features.\n",
      "Fitting estimator with 164 features.\n",
      "Fitting estimator with 160 features.\n",
      "Fitting estimator with 156 features.\n",
      "Fitting estimator with 152 features.\n",
      "Fitting estimator with 148 features.\n",
      "Fitting estimator with 144 features.\n",
      "Fitting estimator with 140 features.\n",
      "Fitting estimator with 136 features.\n",
      "Fitting estimator with 132 features.\n",
      "Fitting estimator with 128 features.\n",
      "Fitting estimator with 124 features.\n",
      "Fitting estimator with 120 features.\n",
      "Fitting estimator with 116 features.\n",
      "Fitting estimator with 112 features.\n",
      "Fitting estimator with 108 features.\n",
      "Fitting estimator with 104 features.\n",
      "Fitting estimator with 100 features.\n",
      "Fitting estimator with 96 features.\n",
      "Fitting estimator with 92 features.\n",
      "Fitting estimator with 88 features.\n",
      "Fitting estimator with 84 features.\n",
      "Fitting estimator with 80 features.\n",
      "Fitting estimator with 76 features.\n",
      "Fitting estimator with 72 features.\n",
      "Fitting estimator with 68 features.\n",
      "Fitting estimator with 64 features.\n",
      "Fitting estimator with 60 features.\n",
      "Fitting estimator with 56 features.\n",
      "Fitting estimator with 52 features.\n",
      "Fitting estimator with 48 features.\n",
      "Fitting estimator with 44 features.\n",
      "Fitting estimator with 40 features.\n",
      "Fitting estimator with 36 features.\n"
     ]
    }
   ],
   "source": [
    "model = DecisionTreeClassifier(random_state=random_state)\n",
    "rfe = select_features(model, X, y, 10, step=4)"
   ]
  },
  {
   "cell_type": "code",
   "execution_count": 575,
   "metadata": {
    "ExecuteTime": {
     "end_time": "2021-03-02T19:03:23.604067Z",
     "start_time": "2021-03-02T19:03:23.583762Z"
    }
   },
   "outputs": [
    {
     "name": "stdout",
     "output_type": "stream",
     "text": [
      "Optimal number of features: 32\n",
      "Feature               \tImportance\n",
      "--------------------------------------\n",
      "col_91:                  \t0.7628\n",
      "col_49:                  \t0.1205\n",
      "Bwd Init Win Bytes:      \t0.0418\n",
      "col_24:                  \t0.0408\n",
      "hour:                    \t0.0152\n",
      "col_96:                  \t0.0034\n",
      "Idle Min:                \t0.0025\n",
      "Idle Std:                \t0.0021\n",
      "col_45:                  \t0.0018\n",
      "Idle Max:                \t0.0014\n",
      "Flow IAT Min:            \t0.0012\n",
      "col_1:                   \t0.0009\n",
      "Src Port:                \t0.0008\n",
      "FIN Flag Count:          \t0.0008\n",
      "Packet Length Variance:  \t0.0005\n",
      "FWD Init Win Bytes:      \t0.0004\n",
      "Flow IAT Mean:           \t0.0004\n",
      "col_29:                  \t0.0003\n",
      "Packet Length Min:       \t0.0003\n",
      "col_80:                  \t0.0002\n",
      "Bwd Packets/s:           \t0.0002\n",
      "Flow Bytes/s:            \t0.0002\n",
      "Fwd IAT Min:             \t0.0002\n",
      "Flow Duration:           \t0.0002\n",
      "Fwd PSH Flags:           \t0.0002\n"
     ]
    }
   ],
   "source": [
    "print(f\"Optimal number of features: {rfe.n_features_}\")\n",
    "selected_columns = summarize_feats(rfe, model, columns)"
   ]
  },
  {
   "cell_type": "code",
   "execution_count": 574,
   "metadata": {
    "ExecuteTime": {
     "end_time": "2021-03-02T19:03:23.576470Z",
     "start_time": "2021-03-02T19:02:54.344158Z"
    }
   },
   "outputs": [
    {
     "name": "stderr",
     "output_type": "stream",
     "text": [
      "100%|██████████| 10/10 [00:26<00:00,  2.70s/it]\n"
     ]
    },
    {
     "name": "stdout",
     "output_type": "stream",
     "text": [
      "       precision       recall       f1-score       support       \n",
      "Benign:   99.94\t\t99.92\t\t99.93\t\t784910.00\t\t\n",
      "Darknet:  99.63\t\t99.69\t\t99.66\t\t163010.00\t\t\n",
      "\n",
      "\n",
      " 10-fold Accuracy: 99.88%\n",
      "Test accuracy: 99.92%\n",
      "\n",
      "\n",
      "Confusion matrix:\n",
      "[[38659    20]\n",
      " [   19  7991]]\n",
      "\n",
      "Benign :    99.95%\n",
      "Darknet :   99.76%\n"
     ]
    }
   ],
   "source": [
    "final_report = final_evaluation(model, X, y, labels, rfe)"
   ]
  },
  {
   "cell_type": "code",
   "execution_count": 577,
   "metadata": {
    "ExecuteTime": {
     "end_time": "2021-03-02T20:13:11.792449Z",
     "start_time": "2021-03-02T20:13:11.757510Z"
    }
   },
   "outputs": [],
   "source": [
    "dotfile = open(\"dtree3.dot\", 'w')\n",
    "export_graphviz(model, out_file = dotfile, feature_names = selected_columns)\n",
    "dotfile.close()"
   ]
  },
  {
   "cell_type": "markdown",
   "metadata": {},
   "source": [
    "#### Random forest"
   ]
  },
  {
   "cell_type": "code",
   "execution_count": 578,
   "metadata": {
    "ExecuteTime": {
     "end_time": "2021-03-02T20:29:54.131799Z",
     "start_time": "2021-03-02T20:13:40.102718Z"
    }
   },
   "outputs": [
    {
     "name": "stdout",
     "output_type": "stream",
     "text": [
      "Fitting estimator with 184 features.\n",
      "Fitting estimator with 180 features.\n",
      "Fitting estimator with 176 features.\n",
      "Fitting estimator with 172 features.\n",
      "Fitting estimator with 168 features.\n",
      "Fitting estimator with 164 features.\n",
      "Fitting estimator with 160 features.\n",
      "Fitting estimator with 156 features.\n",
      "Fitting estimator with 152 features.\n",
      "Fitting estimator with 148 features.\n",
      "Fitting estimator with 144 features.\n",
      "Fitting estimator with 140 features.\n",
      "Fitting estimator with 136 features.\n",
      "Fitting estimator with 132 features.\n",
      "Fitting estimator with 128 features.\n",
      "Fitting estimator with 124 features.\n",
      "Fitting estimator with 120 features.\n",
      "Fitting estimator with 116 features.\n",
      "Fitting estimator with 112 features.\n",
      "Fitting estimator with 108 features.\n",
      "Fitting estimator with 104 features.\n",
      "Fitting estimator with 100 features.\n",
      "Fitting estimator with 96 features.\n",
      "Fitting estimator with 92 features.\n",
      "Fitting estimator with 88 features.\n",
      "Fitting estimator with 84 features.\n",
      "Fitting estimator with 80 features.\n",
      "Fitting estimator with 76 features.\n",
      "Fitting estimator with 72 features.\n",
      "Fitting estimator with 68 features.\n",
      "Fitting estimator with 64 features.\n",
      "Fitting estimator with 60 features.\n",
      "Fitting estimator with 56 features.\n",
      "Fitting estimator with 52 features.\n",
      "Fitting estimator with 48 features.\n",
      "Fitting estimator with 44 features.\n",
      "Fitting estimator with 40 features.\n",
      "Fitting estimator with 36 features.\n",
      "Fitting estimator with 32 features.\n"
     ]
    }
   ],
   "source": [
    "model_rf = DecisionTreeClassifier(random_state=random_state)\n",
    "rfe_rf = select_features(model_rf, X, y, 1, step=4)"
   ]
  },
  {
   "cell_type": "code",
   "execution_count": 580,
   "metadata": {
    "ExecuteTime": {
     "end_time": "2021-03-02T20:30:15.933316Z",
     "start_time": "2021-03-02T20:30:15.922507Z"
    },
    "scrolled": true
   },
   "outputs": [
    {
     "name": "stdout",
     "output_type": "stream",
     "text": [
      "Optimal number of features: 28\n",
      "Feature                   \tImportance\n",
      "------------------------------------------\n",
      "col_91:                      \t0.7628\n",
      "col_49:                      \t0.1205\n",
      "Bwd Init Win Bytes:          \t0.0419\n",
      "col_24:                      \t0.0410\n",
      "hour:                        \t0.0151\n",
      "col_96:                      \t0.0034\n",
      "Idle Min:                    \t0.0025\n",
      "Idle Std:                    \t0.0021\n",
      "col_45:                      \t0.0018\n",
      "Idle Max:                    \t0.0014\n",
      "Flow IAT Min:                \t0.0013\n",
      "col_1:                       \t0.0009\n",
      "FIN Flag Count:              \t0.0008\n",
      "Flow IAT Mean:               \t0.0007\n",
      "Src Port:                    \t0.0007\n",
      "Packet Length Variance:      \t0.0006\n",
      "FWD Init Win Bytes:          \t0.0004\n",
      "Flow Duration:               \t0.0004\n",
      "Bwd Packet Length Min:       \t0.0003\n",
      "col_80:                      \t0.0003\n",
      "Total Length of Bwd Packet:  \t0.0002\n",
      "Bwd Packets/s:               \t0.0002\n",
      "Fwd PSH Flags:               \t0.0002\n",
      "Fwd Seg Size Min:            \t0.0002\n",
      "Fwd IAT Min:                 \t0.0001\n"
     ]
    }
   ],
   "source": [
    "print(f\"Optimal number of features: {rfe_rf.n_features_}\")\n",
    "selected_columns_rf = summarize_feats(rfe_rf, model_rf, columns)"
   ]
  },
  {
   "cell_type": "code",
   "execution_count": 579,
   "metadata": {
    "ExecuteTime": {
     "end_time": "2021-03-02T20:30:15.919462Z",
     "start_time": "2021-03-02T20:29:54.134106Z"
    },
    "scrolled": true
   },
   "outputs": [
    {
     "name": "stderr",
     "output_type": "stream",
     "text": [
      "100%|██████████| 10/10 [00:20<00:00,  2.01s/it]\n"
     ]
    },
    {
     "name": "stdout",
     "output_type": "stream",
     "text": [
      "       precision       recall       f1-score       support       \n",
      "Benign:   99.93\t\t99.93\t\t99.93\t\t784910.00\t\t\n",
      "Darknet:  99.66\t\t99.67\t\t99.66\t\t163010.00\t\t\n",
      "\n",
      "\n",
      " 10-fold Accuracy: 99.88%\n",
      "Test accuracy: 99.92%\n",
      "\n",
      "\n",
      "Confusion matrix:\n",
      "[[38659    20]\n",
      " [   19  7991]]\n",
      "\n",
      "Benign :    99.95%\n",
      "Darknet :   99.76%\n"
     ]
    }
   ],
   "source": [
    "final_report_rf = final_evaluation(model_rf, X, y, labels, rfe_rf)"
   ]
  },
  {
   "cell_type": "code",
   "execution_count": null,
   "metadata": {},
   "outputs": [],
   "source": [
    "dotfile = open(\"rf.dot\", 'w')\n",
    "export_graphviz(model_rf, out_file = dotfile, feature_names = selected_columns_rf)\n",
    "dotfile.close()"
   ]
  },
  {
   "cell_type": "markdown",
   "metadata": {},
   "source": [
    "### Darknet traffic caracterization"
   ]
  },
  {
   "cell_type": "markdown",
   "metadata": {},
   "source": [
    "#### Decision tree"
   ]
  },
  {
   "cell_type": "code",
   "execution_count": 595,
   "metadata": {
    "ExecuteTime": {
     "end_time": "2021-03-02T21:00:45.647620Z",
     "start_time": "2021-03-02T20:59:40.232425Z"
    },
    "scrolled": true
   },
   "outputs": [
    {
     "name": "stdout",
     "output_type": "stream",
     "text": [
      "Fitting estimator with 184 features.\n",
      "Fitting estimator with 180 features.\n",
      "Fitting estimator with 176 features.\n",
      "Fitting estimator with 172 features.\n",
      "Fitting estimator with 168 features.\n",
      "Fitting estimator with 164 features.\n",
      "Fitting estimator with 160 features.\n",
      "Fitting estimator with 156 features.\n",
      "Fitting estimator with 152 features.\n",
      "Fitting estimator with 148 features.\n",
      "Fitting estimator with 144 features.\n",
      "Fitting estimator with 140 features.\n",
      "Fitting estimator with 136 features.\n",
      "Fitting estimator with 132 features.\n",
      "Fitting estimator with 128 features.\n",
      "Fitting estimator with 124 features.\n",
      "Fitting estimator with 120 features.\n",
      "Fitting estimator with 116 features.\n",
      "Fitting estimator with 112 features.\n",
      "Fitting estimator with 108 features.\n"
     ]
    }
   ],
   "source": [
    "model = DecisionTreeClassifier(random_state=random_state)\n",
    "rfe1 = select_features(model, X1, y1, 60, step=4)"
   ]
  },
  {
   "cell_type": "code",
   "execution_count": 597,
   "metadata": {
    "ExecuteTime": {
     "end_time": "2021-03-02T21:00:57.702638Z",
     "start_time": "2021-03-02T21:00:57.686129Z"
    },
    "scrolled": true
   },
   "outputs": [
    {
     "name": "stdout",
     "output_type": "stream",
     "text": [
      "Optimal number of features: 104\n",
      "Feature                   \tImportance\n",
      "------------------------------------------\n",
      "col_76:                      \t0.4287\n",
      "hour:                        \t0.3346\n",
      "Idle Max:                    \t0.0725\n",
      "Fwd Seg Size Min:            \t0.0387\n",
      "col_58:                      \t0.0327\n",
      "Flow Duration:               \t0.0197\n",
      "Src Port:                    \t0.0091\n",
      "Flow IAT Std:                \t0.0062\n",
      "Subflow Bwd Bytes:           \t0.0048\n",
      "Fwd Segment Size Avg:        \t0.0048\n",
      "Dst Port:                    \t0.0040\n",
      "Average Packet Size:         \t0.0038\n",
      "col_95:                      \t0.0031\n",
      "col_18:                      \t0.0030\n",
      "Total Length of Bwd Packet:  \t0.0024\n",
      "Bwd Packets/s:               \t0.0023\n",
      "col_29:                      \t0.0023\n",
      "Flow Bytes/s:                \t0.0022\n",
      "col_5:                       \t0.0021\n",
      "Flow IAT Min:                \t0.0018\n",
      "Bwd Header Length:           \t0.0016\n",
      "Idle Mean:                   \t0.0015\n",
      "Fwd IAT Std:                 \t0.0015\n",
      "Fwd Packet Length Std:       \t0.0013\n",
      "col_24:                      \t0.0013\n"
     ]
    }
   ],
   "source": [
    "final_evaluation(model, X1, y1, labels1, rfe1)\n",
    "\n",
    "print(f\"Optimal number of features: {rfe1.n_features_}\")\n",
    "selected_columns1 = summarize_feats(rfe1, model, columns1)"
   ]
  },
  {
   "cell_type": "code",
   "execution_count": 598,
   "metadata": {
    "ExecuteTime": {
     "end_time": "2021-03-02T21:01:04.996575Z",
     "start_time": "2021-03-02T21:01:04.909716Z"
    }
   },
   "outputs": [],
   "source": [
    "dotfile = open(\"dtree2.dot\", 'w')\n",
    "export_graphviz(model, out_file = dotfile, feature_names = selected_columns1)\n",
    "dotfile.close()"
   ]
  },
  {
   "cell_type": "markdown",
   "metadata": {},
   "source": [
    "#### Random forest"
   ]
  },
  {
   "cell_type": "code",
   "execution_count": 585,
   "metadata": {
    "ExecuteTime": {
     "end_time": "2021-03-02T20:32:46.497493Z",
     "start_time": "2021-03-02T20:31:29.677729Z"
    }
   },
   "outputs": [
    {
     "name": "stdout",
     "output_type": "stream",
     "text": [
      "Fitting estimator with 184 features.\n",
      "Fitting estimator with 180 features.\n",
      "Fitting estimator with 176 features.\n",
      "Fitting estimator with 172 features.\n",
      "Fitting estimator with 168 features.\n",
      "Fitting estimator with 164 features.\n",
      "Fitting estimator with 160 features.\n",
      "Fitting estimator with 156 features.\n",
      "Fitting estimator with 152 features.\n",
      "Fitting estimator with 148 features.\n",
      "Fitting estimator with 144 features.\n",
      "Fitting estimator with 140 features.\n",
      "Fitting estimator with 136 features.\n",
      "Fitting estimator with 132 features.\n",
      "Fitting estimator with 128 features.\n",
      "Fitting estimator with 124 features.\n",
      "Fitting estimator with 120 features.\n",
      "Fitting estimator with 116 features.\n",
      "Fitting estimator with 112 features.\n",
      "Fitting estimator with 108 features.\n",
      "Fitting estimator with 104 features.\n",
      "Fitting estimator with 100 features.\n"
     ]
    }
   ],
   "source": [
    "model_rf1 = DecisionTreeClassifier(random_state=random_state)\n",
    "rfe_rf1 = select_features(model_rf1, X1, y1, 1, step=4)"
   ]
  },
  {
   "cell_type": "code",
   "execution_count": 586,
   "metadata": {
    "ExecuteTime": {
     "end_time": "2021-03-02T20:32:51.468211Z",
     "start_time": "2021-03-02T20:32:46.499411Z"
    }
   },
   "outputs": [
    {
     "name": "stderr",
     "output_type": "stream",
     "text": [
      "100%|██████████| 10/10 [00:04<00:00,  2.27it/s]"
     ]
    },
    {
     "name": "stdout",
     "output_type": "stream",
     "text": [
      "               precision       recall       f1-score       support       \n",
      "Audio-Streaming:  99.61\t\t99.70\t\t99.65\t\t88830.00\t\t\n",
      "Browsing:         92.59\t\t88.43\t\t90.11\t\t1750.00\t\t\n",
      "Chat:             99.15\t\t99.18\t\t99.16\t\t30520.00\t\t\n",
      "Email:            95.57\t\t95.71\t\t95.55\t\t3930.00\t\t\n",
      "File-Transfer:    98.16\t\t98.15\t\t98.15\t\t17300.00\t\t\n",
      "P2P:              97.63\t\t96.88\t\t97.15\t\t1570.00\t\t\n",
      "VOIP:             97.49\t\t97.77\t\t97.62\t\t9860.00\t\t\n",
      "Video-Streaming:  96.60\t\t96.06\t\t96.31\t\t9120.00\t\t\n",
      "\n",
      "\n",
      " 10-fold Accuracy: 98.87%\n",
      "Test accuracy: 99.10%\n",
      "\n",
      "\n",
      "Confusion matrix:\n",
      "[[4386    4   11    0    0    0    0    0]\n",
      " [   4   81    0    0    1    1    1    0]\n",
      " [   5    4 1479    0    0    0    1    0]\n",
      " [   0    0    0  186    3    0    0    0]\n",
      " [   0    0    0   11  866    0    0    3]\n",
      " [   0    0    0    0    0   63    0    0]\n",
      " [   0    0    1    0    0    0  473    5]\n",
      " [   0    0    2    0    4    0   11  417]]\n",
      "\n",
      "Audio-Streaming :   99.66%\n",
      "Browsing :          92.05%\n",
      "Chat :              99.33%\n",
      "Email :             98.41%\n",
      "File-Transfer :     98.41%\n",
      "P2P :               100.00%\n",
      "VOIP :              98.75%\n",
      "Video-Streaming :   96.08%\n"
     ]
    },
    {
     "name": "stderr",
     "output_type": "stream",
     "text": [
      "\n"
     ]
    }
   ],
   "source": [
    "final_report_rf1 = final_evaluation(model_rf1, X1, y1, labels1, rfe_rf1)"
   ]
  },
  {
   "cell_type": "code",
   "execution_count": 587,
   "metadata": {
    "ExecuteTime": {
     "end_time": "2021-03-02T20:32:51.485983Z",
     "start_time": "2021-03-02T20:32:51.471256Z"
    }
   },
   "outputs": [
    {
     "name": "stdout",
     "output_type": "stream",
     "text": [
      "Optimal number of features: 96\n",
      "Feature               \tImportance\n",
      "--------------------------------------\n",
      "col_76:                  \t0.4287\n",
      "hour:                    \t0.3346\n",
      "Idle Max:                \t0.0649\n",
      "Fwd Seg Size Min:        \t0.0390\n",
      "col_58:                  \t0.0327\n",
      "Flow Duration:           \t0.0190\n",
      "Idle Mean:               \t0.0098\n",
      "Src Port:                \t0.0086\n",
      "Flow IAT Std:            \t0.0062\n",
      "Average Packet Size:     \t0.0061\n",
      "Subflow Bwd Bytes:       \t0.0048\n",
      "Dst Port:                \t0.0043\n",
      "Fwd Packet Length Mean:  \t0.0039\n",
      "col_95:                  \t0.0031\n",
      "col_18:                  \t0.0030\n",
      "Bwd Packets/s:           \t0.0025\n",
      "col_29:                  \t0.0023\n",
      "Flow Bytes/s:            \t0.0021\n",
      "col_5:                   \t0.0021\n",
      "Flow IAT Min:            \t0.0016\n",
      "Bwd Header Length:       \t0.0016\n",
      "Idle Min:                \t0.0015\n",
      "Fwd Packet Length Std:   \t0.0012\n",
      "col_26:                  \t0.0012\n",
      "Flow IAT Max:            \t0.0012\n"
     ]
    }
   ],
   "source": [
    "print(f\"Optimal number of features: {rfe_rf1.n_features_}\")\n",
    "selected_columns_rf1 = summarize_feats(rfe_rf1, model_rf1, columns1)"
   ]
  }
 ],
 "metadata": {
  "kernelspec": {
   "display_name": "Python 3.7.6 64-bit ('base': conda)",
   "language": "python",
   "name": "python37664bitbasecondabf5b2a144bd240adb9ab38fa9b1e2794"
  },
  "language_info": {
   "codemirror_mode": {
    "name": "ipython",
    "version": 3
   },
   "file_extension": ".py",
   "mimetype": "text/x-python",
   "name": "python",
   "nbconvert_exporter": "python",
   "pygments_lexer": "ipython3",
   "version": "3.7.6"
  },
  "toc": {
   "base_numbering": 1,
   "nav_menu": {},
   "number_sections": true,
   "sideBar": true,
   "skip_h1_title": false,
   "title_cell": "Table of Contents",
   "title_sidebar": "Contents",
   "toc_cell": false,
   "toc_position": {
    "height": "calc(100% - 180px)",
    "left": "10px",
    "top": "150px",
    "width": "273.188px"
   },
   "toc_section_display": true,
   "toc_window_display": true
  }
 },
 "nbformat": 4,
 "nbformat_minor": 4
}

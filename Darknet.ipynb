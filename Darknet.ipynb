{
 "cells": [
  {
   "cell_type": "markdown",
   "metadata": {},
   "source": [
    "<center><h1> Darknet traffic dataset </h1> </center>"
   ]
  },
  {
   "cell_type": "markdown",
   "metadata": {},
   "source": [
    "# Libraries importing and configuration"
   ]
  },
  {
   "cell_type": "code",
   "execution_count": 4,
   "metadata": {
    "ExecuteTime": {
     "end_time": "2021-03-16T20:55:25.502305Z",
     "start_time": "2021-03-16T20:55:22.981345Z"
    }
   },
   "outputs": [],
   "source": [
    "import pandas as pd\n",
    "import numpy as np\n",
    "import matplotlib.pyplot as plt\n",
    "import seaborn as sns\n",
    "import ipinfo\n",
    "import json\n",
    "\n",
    "from category_encoders.hashing import HashingEncoder\n",
    "from sklearn.preprocessing import OrdinalEncoder\n",
    "from sklearn.preprocessing import OneHotEncoder\n",
    "from sklearn.preprocessing import StandardScaler\n",
    "from sklearn.tree import DecisionTreeClassifier\n",
    "from sklearn.tree import plot_tree\n",
    "from sklearn.tree import export_graphviz\n",
    "from sklearn.ensemble import RandomForestClassifier\n",
    "from sklearn.model_selection import train_test_split\n",
    "from sklearn.model_selection import StratifiedKFold \n",
    "from sklearn.feature_selection import RFECV\n",
    "from sklearn.metrics import confusion_matrix\n",
    "from sklearn.metrics import plot_confusion_matrix\n",
    "from sklearn.metrics import classification_report\n",
    "from tqdm import tqdm"
   ]
  },
  {
   "cell_type": "code",
   "execution_count": 3,
   "metadata": {
    "ExecuteTime": {
     "end_time": "2021-03-09T17:29:14.639756Z",
     "start_time": "2021-03-09T17:29:14.632576Z"
    }
   },
   "outputs": [],
   "source": [
    "ipinfo_handler = ipinfo.getHandler(\"de30fe3213f197\")\n",
    "\n",
    "random_state = 42\n",
    "dataset_folder = \"dataset/\" \n",
    "\n",
    "pd.options.mode.chained_assignment = None  # default='warn'\n",
    "np.random.seed(random_state)\n",
    "plt.rcParams['figure.figsize'] = (18,6)\n",
    "plt.rcParams[\"savefig.format\"] = 'pdf'\n",
    "plt.rcParams[\"savefig.dpi\"] = 600\n",
    "plt.rcParams.update({'font.size': 18})"
   ]
  },
  {
   "cell_type": "code",
   "execution_count": 3,
   "metadata": {
    "ExecuteTime": {
     "end_time": "2021-03-09T12:49:59.974811Z",
     "start_time": "2021-03-09T12:49:56.623046Z"
    }
   },
   "outputs": [],
   "source": [
    "data = pd.read_csv(dataset_folder + \"Darknet.CSV\", low_memory=False)"
   ]
  },
  {
   "cell_type": "markdown",
   "metadata": {
    "heading_collapsed": true
   },
   "source": [
    "# Dataset processing"
   ]
  },
  {
   "cell_type": "markdown",
   "metadata": {
    "heading_collapsed": true,
    "hidden": true
   },
   "source": [
    "## Labels duplicates correction"
   ]
  },
  {
   "cell_type": "code",
   "execution_count": 4,
   "metadata": {
    "ExecuteTime": {
     "end_time": "2021-03-09T12:50:00.154536Z",
     "start_time": "2021-03-09T12:49:59.976823Z"
    },
    "hidden": true
   },
   "outputs": [
    {
     "name": "stdout",
     "output_type": "stream",
     "text": [
      "['Non-Tor' 'NonVPN' 'Tor' 'VPN']\n",
      "['AUDIO-STREAMING' 'Browsing' 'Chat' 'Email' 'File-Transfer'\n",
      " 'File-transfer' 'P2P' 'Video-Streaming' 'Audio-Streaming'\n",
      " 'Video-streaming' 'VOIP']\n"
     ]
    }
   ],
   "source": [
    "samples = data.copy()\n",
    "\n",
    "traffic_labels = samples[\"Label\"].unique()\n",
    "print(traffic_labels)\n",
    "traffic_type_labels = samples[\"Label.1\"].unique()\n",
    "print(traffic_type_labels)"
   ]
  },
  {
   "cell_type": "code",
   "execution_count": 5,
   "metadata": {
    "ExecuteTime": {
     "end_time": "2021-03-09T12:50:00.298614Z",
     "start_time": "2021-03-09T12:50:00.158893Z"
    },
    "hidden": true
   },
   "outputs": [
    {
     "name": "stdout",
     "output_type": "stream",
     "text": [
      "['Audio-Streaming' 'Browsing' 'Chat' 'Email' 'File-Transfer' 'P2P'\n",
      " 'Video-Streaming' 'VOIP']\n"
     ]
    }
   ],
   "source": [
    "samples['Label.1'].loc[samples['Label.1'] == 'AUDIO-STREAMING'] = 'Audio-Streaming'\n",
    "samples['Label.1'].loc[samples['Label.1'] == 'File-transfer'] = 'File-Transfer'\n",
    "samples['Label.1'].loc[samples['Label.1'] == 'Video-streaming'] = 'Video-Streaming'\n",
    "\n",
    "traffic_type_labels = samples[\"Label.1\"].unique()\n",
    "print(traffic_type_labels)"
   ]
  },
  {
   "cell_type": "markdown",
   "metadata": {
    "heading_collapsed": true,
    "hidden": true
   },
   "source": [
    "## Labels grouping in Benign and Darknet"
   ]
  },
  {
   "cell_type": "code",
   "execution_count": 6,
   "metadata": {
    "ExecuteTime": {
     "end_time": "2021-03-09T12:50:00.463825Z",
     "start_time": "2021-03-09T12:50:00.301569Z"
    },
    "hidden": true,
    "scrolled": false
   },
   "outputs": [
    {
     "name": "stdout",
     "output_type": "stream",
     "text": [
      "['Benign' 'Darknet']\n"
     ]
    }
   ],
   "source": [
    "samples['Label'].loc[(samples['Label'] == 'Non-Tor') | (samples['Label'] == 'NonVPN')] = 'Benign'\n",
    "samples['Label'].loc[(samples['Label'] == 'Tor') | (samples['Label'] == 'VPN')] = 'Darknet'\n",
    "\n",
    "traffic_labels = samples[\"Label\"].unique()\n",
    "print(traffic_labels)"
   ]
  },
  {
   "cell_type": "markdown",
   "metadata": {
    "heading_collapsed": true,
    "hidden": true
   },
   "source": [
    "## Timestamp feature extraction"
   ]
  },
  {
   "cell_type": "code",
   "execution_count": 7,
   "metadata": {
    "ExecuteTime": {
     "end_time": "2021-03-09T12:50:00.898747Z",
     "start_time": "2021-03-09T12:50:00.466655Z"
    },
    "hidden": true
   },
   "outputs": [
    {
     "name": "stdout",
     "output_type": "stream",
     "text": [
      "                Timestamp  hour\n",
      "0  24/07/2015 04:09:48 PM     4\n",
      "1  24/07/2015 04:09:48 PM     4\n",
      "2  24/07/2015 04:09:48 PM     4\n",
      "3  24/07/2015 04:09:48 PM     4\n",
      "4  24/07/2015 04:09:45 PM     4\n"
     ]
    }
   ],
   "source": [
    "hours = []\n",
    "for timestamp in samples['Timestamp']:\n",
    "    hora = int(timestamp.split()[1].split(':')[0])\n",
    "    hours.append(hora)\n",
    "samples['hour'] = hours\n",
    "print(samples[['Timestamp', 'hour']][:5])"
   ]
  },
  {
   "cell_type": "markdown",
   "metadata": {
    "hidden": true
   },
   "source": [
    "## Source and destination ips feature extraction"
   ]
  },
  {
   "cell_type": "markdown",
   "metadata": {
    "heading_collapsed": true,
    "hidden": true
   },
   "source": [
    "### 1-gram, 2-gram and 3-gram extraction"
   ]
  },
  {
   "cell_type": "code",
   "execution_count": 8,
   "metadata": {
    "ExecuteTime": {
     "end_time": "2021-03-09T12:50:00.909517Z",
     "start_time": "2021-03-09T12:50:00.903626Z"
    },
    "hidden": true
   },
   "outputs": [],
   "source": [
    "def create_grams(ip):\n",
    "    parts = ip.split('.')\n",
    "    one_gram = parts[0]\n",
    "    two_gram = parts[0] + \" \" + parts[1]\n",
    "    three_gram = parts[0] + \" \" + parts[1] + \" \" + parts[2]\n",
    "    return one_gram, two_gram, three_gram"
   ]
  },
  {
   "cell_type": "code",
   "execution_count": 9,
   "metadata": {
    "ExecuteTime": {
     "end_time": "2021-03-09T12:50:01.563565Z",
     "start_time": "2021-03-09T12:50:00.912699Z"
    },
    "hidden": true,
    "scrolled": true
   },
   "outputs": [],
   "source": [
    "src_one_gram = []\n",
    "src_two_gram = []\n",
    "src_three_gram = []\n",
    "dst_one_gram = []\n",
    "dst_two_gram = []\n",
    "dst_three_gram = []\n",
    "\n",
    "for src_ip, dst_ip in zip(samples[\"Src IP\"], samples[\"Dst IP\"]): \n",
    "    src_one, src_two, src_three = create_grams(src_ip)\n",
    "    src_one_gram.append(src_one)\n",
    "    src_two_gram.append(src_two)\n",
    "    src_three_gram.append(src_three)\n",
    "    dst_one, dst_two, dst_three = create_grams(dst_ip)\n",
    "    dst_one_gram.append(dst_one)\n",
    "    dst_two_gram.append(dst_two)\n",
    "    dst_three_gram.append(dst_three)\n",
    "\n",
    "samples[\"src_ip_1gram\"] = src_one_gram\n",
    "samples[\"src_ip_2gram\"] = src_two_gram\n",
    "samples[\"src_ip_3gram\"] = src_three_gram\n",
    "\n",
    "samples[\"dst_ip_1gram\"] = dst_one_gram\n",
    "samples[\"dst_ip_2gram\"] = dst_two_gram\n",
    "samples[\"dst_ip_3gram\"] = dst_three_gram\n",
    "\n",
    "#print(samples[[\"Src IP\",\"src_ip_1gram\",\"src_ip_2gram\",\"src_ip_3gram\"]][200:205])\n",
    "#print(samples[[\"Dst IP\",\"dst_ip_1gram\",\"dst_ip_2gram\",\"dst_ip_3gram\"]][:5])"
   ]
  },
  {
   "cell_type": "markdown",
   "metadata": {
    "heading_collapsed": true,
    "hidden": true
   },
   "source": [
    "### Ips details extraction"
   ]
  },
  {
   "cell_type": "code",
   "execution_count": 10,
   "metadata": {
    "ExecuteTime": {
     "end_time": "2021-03-09T12:50:01.575312Z",
     "start_time": "2021-03-09T12:50:01.565323Z"
    },
    "hidden": true
   },
   "outputs": [],
   "source": [
    "def get_ip_detail(ip, ip_dict, repeated):\n",
    "    if ip not in ip_dict.keys():\n",
    "        details = ipinfo_handler.getDetails(ip)\n",
    "        ip_dict[ip] = details.all\n",
    "    else:\n",
    "        repeated += 1\n",
    "    return repeated\n",
    "\n",
    "def dump_ips(ip_dict, folder):\n",
    "    j = json.dumps(ip_dict)\n",
    "    f = open(folder+\"ips_dict.json\",\"w\")\n",
    "    f.write(j)\n",
    "    f.close()\n",
    "\n",
    "def load_ips(file):\n",
    "    data = {}\n",
    "    with open(file) as json_file:\n",
    "        data = json.load(json_file)\n",
    "    return data"
   ]
  },
  {
   "cell_type": "code",
   "execution_count": 11,
   "metadata": {
    "ExecuteTime": {
     "end_time": "2021-03-09T12:50:01.744685Z",
     "start_time": "2021-03-09T12:50:01.577601Z"
    },
    "hidden": true
   },
   "outputs": [],
   "source": [
    "ip_dict = load_ips(\"ips_dict.json\")"
   ]
  },
  {
   "cell_type": "code",
   "execution_count": 12,
   "metadata": {
    "ExecuteTime": {
     "end_time": "2021-03-09T12:50:01.920805Z",
     "start_time": "2021-03-09T12:50:01.750395Z"
    },
    "hidden": true
   },
   "outputs": [
    {
     "name": "stderr",
     "output_type": "stream",
     "text": [
      "100%|██████████| 11111/11111 [00:00<00:00, 467173.69it/s]\n"
     ]
    }
   ],
   "source": [
    "ips = np.concatenate((samples[\"Src IP\"].unique(), samples[\"Dst IP\"].unique())) \n",
    "for i in tqdm(range(len(ips))):\n",
    "    get_ip_detail(ips[i], ip_dict, 0)\n",
    "dump_ips(ip_dict, \"\")"
   ]
  },
  {
   "cell_type": "code",
   "execution_count": 13,
   "metadata": {
    "ExecuteTime": {
     "end_time": "2021-03-09T12:50:02.425418Z",
     "start_time": "2021-03-09T12:50:01.927032Z"
    },
    "hidden": true,
    "scrolled": true
   },
   "outputs": [
    {
     "name": "stderr",
     "output_type": "stream",
     "text": [
      "100%|██████████| 141530/141530 [00:00<00:00, 327568.62it/s]\n"
     ]
    }
   ],
   "source": [
    "ips_tuple = zip(samples[\"Src IP\"], samples[\"Dst IP\"])\n",
    "dst_ip_country = []\n",
    "src_ip_country = []\n",
    "src_bogon = []\n",
    "dst_bogon = []\n",
    "\n",
    "for src_ip, dst_ip in tqdm(ips_tuple, total=len(samples[\"Src IP\"])):\n",
    "    if 'country' in ip_dict[dst_ip].keys():\n",
    "        dst_ip_country.append(ip_dict[dst_ip]['country'])\n",
    "    else:\n",
    "        dst_ip_country.append(\"\")\n",
    "    if 'country' in ip_dict[src_ip].keys():\n",
    "        src_ip_country.append(ip_dict[src_ip]['country'])\n",
    "    else:\n",
    "        src_ip_country.append(\"\")\n",
    "    if 'bogon' in ip_dict[dst_ip].keys():\n",
    "        dst_bogon.append(ip_dict[dst_ip]['bogon'])\n",
    "    else:\n",
    "        dst_bogon.append(False)\n",
    "    if 'bogon' in ip_dict[src_ip].keys():\n",
    "        src_bogon.append(ip_dict[src_ip]['bogon'])\n",
    "    else:\n",
    "        src_bogon.append(False)\n",
    "samples['src_ip_country'] = src_ip_country\n",
    "samples['dst_ip_country'] = dst_ip_country\n",
    "samples['src_bogon'] = src_bogon\n",
    "samples['dst_bogon'] = dst_bogon"
   ]
  },
  {
   "cell_type": "markdown",
   "metadata": {
    "heading_collapsed": true,
    "hidden": true
   },
   "source": [
    "## Irrelevant attributes extraction"
   ]
  },
  {
   "cell_type": "code",
   "execution_count": 14,
   "metadata": {
    "ExecuteTime": {
     "end_time": "2021-03-09T12:50:03.091308Z",
     "start_time": "2021-03-09T12:50:02.428529Z"
    },
    "hidden": true,
    "scrolled": true
   },
   "outputs": [],
   "source": [
    "model_samples = samples.copy()\n",
    "to_analyse = samples.copy()\n",
    "\n",
    "del model_samples['Flow ID']\n",
    "del model_samples['Timestamp']\n",
    "del model_samples['Src IP']\n",
    "del model_samples['Dst IP']"
   ]
  },
  {
   "cell_type": "code",
   "execution_count": 15,
   "metadata": {
    "ExecuteTime": {
     "end_time": "2021-03-09T12:50:03.301285Z",
     "start_time": "2021-03-09T12:50:03.094163Z"
    },
    "hidden": true
   },
   "outputs": [],
   "source": [
    "cols = np.concatenate((model_samples.columns[81:], model_samples.columns[:81]))\n",
    "model_samples = model_samples[cols]"
   ]
  },
  {
   "cell_type": "code",
   "execution_count": 16,
   "metadata": {
    "ExecuteTime": {
     "end_time": "2021-03-09T12:50:03.315319Z",
     "start_time": "2021-03-09T12:50:03.303636Z"
    },
    "hidden": true
   },
   "outputs": [
    {
     "data": {
      "text/plain": [
       "Index(['hour', 'src_ip_1gram', 'src_ip_2gram', 'src_ip_3gram', 'dst_ip_1gram',\n",
       "       'dst_ip_2gram', 'dst_ip_3gram', 'src_ip_country', 'dst_ip_country',\n",
       "       'src_bogon', 'dst_bogon', 'Src Port', 'Dst Port', 'Protocol',\n",
       "       'Flow Duration', 'Total Fwd Packet', 'Total Bwd packets',\n",
       "       'Total Length of Fwd Packet', 'Total Length of Bwd Packet',\n",
       "       'Fwd Packet Length Max', 'Fwd Packet Length Min',\n",
       "       'Fwd Packet Length Mean', 'Fwd Packet Length Std',\n",
       "       'Bwd Packet Length Max', 'Bwd Packet Length Min',\n",
       "       'Bwd Packet Length Mean', 'Bwd Packet Length Std', 'Flow Bytes/s',\n",
       "       'Flow Packets/s', 'Flow IAT Mean', 'Flow IAT Std', 'Flow IAT Max',\n",
       "       'Flow IAT Min', 'Fwd IAT Total', 'Fwd IAT Mean', 'Fwd IAT Std',\n",
       "       'Fwd IAT Max', 'Fwd IAT Min', 'Bwd IAT Total', 'Bwd IAT Mean',\n",
       "       'Bwd IAT Std', 'Bwd IAT Max', 'Bwd IAT Min', 'Fwd PSH Flags',\n",
       "       'Bwd PSH Flags', 'Fwd URG Flags', 'Bwd URG Flags', 'Fwd Header Length',\n",
       "       'Bwd Header Length', 'Fwd Packets/s', 'Bwd Packets/s',\n",
       "       'Packet Length Min', 'Packet Length Max', 'Packet Length Mean',\n",
       "       'Packet Length Std', 'Packet Length Variance', 'FIN Flag Count',\n",
       "       'SYN Flag Count', 'RST Flag Count', 'PSH Flag Count', 'ACK Flag Count',\n",
       "       'URG Flag Count', 'CWE Flag Count', 'ECE Flag Count', 'Down/Up Ratio',\n",
       "       'Average Packet Size', 'Fwd Segment Size Avg', 'Bwd Segment Size Avg',\n",
       "       'Fwd Bytes/Bulk Avg', 'Fwd Packet/Bulk Avg', 'Fwd Bulk Rate Avg',\n",
       "       'Bwd Bytes/Bulk Avg', 'Bwd Packet/Bulk Avg', 'Bwd Bulk Rate Avg',\n",
       "       'Subflow Fwd Packets', 'Subflow Fwd Bytes', 'Subflow Bwd Packets',\n",
       "       'Subflow Bwd Bytes', 'FWD Init Win Bytes', 'Bwd Init Win Bytes',\n",
       "       'Fwd Act Data Pkts', 'Fwd Seg Size Min', 'Active Mean', 'Active Std',\n",
       "       'Active Max', 'Active Min', 'Idle Mean', 'Idle Std', 'Idle Max',\n",
       "       'Idle Min', 'Label', 'Label.1'],\n",
       "      dtype='object')"
      ]
     },
     "execution_count": 16,
     "metadata": {},
     "output_type": "execute_result"
    }
   ],
   "source": [
    "model_samples.columns"
   ]
  },
  {
   "cell_type": "markdown",
   "metadata": {
    "hidden": true
   },
   "source": [
    "## Categorical features encoding"
   ]
  },
  {
   "cell_type": "code",
   "execution_count": 17,
   "metadata": {
    "ExecuteTime": {
     "end_time": "2021-03-09T12:50:03.328566Z",
     "start_time": "2021-03-09T12:50:03.318864Z"
    },
    "hidden": true
   },
   "outputs": [
    {
     "name": "stdout",
     "output_type": "stream",
     "text": [
      "['src_ip_1gram', 'src_ip_2gram', 'src_ip_3gram', 'dst_ip_1gram', 'dst_ip_2gram', 'dst_ip_3gram']\n",
      "['src_ip_country', 'dst_ip_country']\n"
     ]
    }
   ],
   "source": [
    "hash_enc_cols = ['src_ip_1gram', 'src_ip_2gram', 'src_ip_3gram', 'dst_ip_1gram',\n",
    " 'dst_ip_2gram', 'dst_ip_3gram']\n",
    "print(hash_enc_cols)\n",
    "ord_enc_cols = ['src_ip_country','dst_ip_country']\n",
    "print(ord_enc_cols)"
   ]
  },
  {
   "cell_type": "code",
   "execution_count": 18,
   "metadata": {
    "ExecuteTime": {
     "end_time": "2021-03-09T12:51:58.247381Z",
     "start_time": "2021-03-09T12:50:03.334432Z"
    },
    "hidden": true,
    "scrolled": true
   },
   "outputs": [
    {
     "data": {
      "text/html": [
       "<div>\n",
       "<style scoped>\n",
       "    .dataframe tbody tr th:only-of-type {\n",
       "        vertical-align: middle;\n",
       "    }\n",
       "\n",
       "    .dataframe tbody tr th {\n",
       "        vertical-align: top;\n",
       "    }\n",
       "\n",
       "    .dataframe thead th {\n",
       "        text-align: right;\n",
       "    }\n",
       "</style>\n",
       "<table border=\"1\" class=\"dataframe\">\n",
       "  <thead>\n",
       "    <tr style=\"text-align: right;\">\n",
       "      <th></th>\n",
       "      <th>col_0</th>\n",
       "      <th>col_1</th>\n",
       "      <th>col_2</th>\n",
       "      <th>col_3</th>\n",
       "      <th>col_4</th>\n",
       "      <th>col_5</th>\n",
       "      <th>col_6</th>\n",
       "      <th>col_7</th>\n",
       "      <th>col_8</th>\n",
       "      <th>col_9</th>\n",
       "      <th>...</th>\n",
       "      <th>Active Mean</th>\n",
       "      <th>Active Std</th>\n",
       "      <th>Active Max</th>\n",
       "      <th>Active Min</th>\n",
       "      <th>Idle Mean</th>\n",
       "      <th>Idle Std</th>\n",
       "      <th>Idle Max</th>\n",
       "      <th>Idle Min</th>\n",
       "      <th>Label</th>\n",
       "      <th>Label.1</th>\n",
       "    </tr>\n",
       "  </thead>\n",
       "  <tbody>\n",
       "    <tr>\n",
       "      <th>0</th>\n",
       "      <td>0</td>\n",
       "      <td>0</td>\n",
       "      <td>0</td>\n",
       "      <td>0</td>\n",
       "      <td>0</td>\n",
       "      <td>0</td>\n",
       "      <td>0</td>\n",
       "      <td>0</td>\n",
       "      <td>0</td>\n",
       "      <td>0</td>\n",
       "      <td>...</td>\n",
       "      <td>0</td>\n",
       "      <td>0</td>\n",
       "      <td>0</td>\n",
       "      <td>0</td>\n",
       "      <td>0.000000e+00</td>\n",
       "      <td>0.000</td>\n",
       "      <td>0.000000e+00</td>\n",
       "      <td>0.000000e+00</td>\n",
       "      <td>Benign</td>\n",
       "      <td>Audio-Streaming</td>\n",
       "    </tr>\n",
       "    <tr>\n",
       "      <th>1</th>\n",
       "      <td>0</td>\n",
       "      <td>0</td>\n",
       "      <td>0</td>\n",
       "      <td>0</td>\n",
       "      <td>0</td>\n",
       "      <td>0</td>\n",
       "      <td>0</td>\n",
       "      <td>0</td>\n",
       "      <td>0</td>\n",
       "      <td>0</td>\n",
       "      <td>...</td>\n",
       "      <td>0</td>\n",
       "      <td>0</td>\n",
       "      <td>0</td>\n",
       "      <td>0</td>\n",
       "      <td>0.000000e+00</td>\n",
       "      <td>0.000</td>\n",
       "      <td>0.000000e+00</td>\n",
       "      <td>0.000000e+00</td>\n",
       "      <td>Benign</td>\n",
       "      <td>Audio-Streaming</td>\n",
       "    </tr>\n",
       "    <tr>\n",
       "      <th>2</th>\n",
       "      <td>0</td>\n",
       "      <td>0</td>\n",
       "      <td>0</td>\n",
       "      <td>0</td>\n",
       "      <td>0</td>\n",
       "      <td>0</td>\n",
       "      <td>0</td>\n",
       "      <td>0</td>\n",
       "      <td>0</td>\n",
       "      <td>0</td>\n",
       "      <td>...</td>\n",
       "      <td>0</td>\n",
       "      <td>0</td>\n",
       "      <td>0</td>\n",
       "      <td>0</td>\n",
       "      <td>0.000000e+00</td>\n",
       "      <td>0.000</td>\n",
       "      <td>0.000000e+00</td>\n",
       "      <td>0.000000e+00</td>\n",
       "      <td>Benign</td>\n",
       "      <td>Audio-Streaming</td>\n",
       "    </tr>\n",
       "    <tr>\n",
       "      <th>3</th>\n",
       "      <td>0</td>\n",
       "      <td>0</td>\n",
       "      <td>0</td>\n",
       "      <td>0</td>\n",
       "      <td>0</td>\n",
       "      <td>0</td>\n",
       "      <td>0</td>\n",
       "      <td>0</td>\n",
       "      <td>0</td>\n",
       "      <td>0</td>\n",
       "      <td>...</td>\n",
       "      <td>0</td>\n",
       "      <td>0</td>\n",
       "      <td>0</td>\n",
       "      <td>0</td>\n",
       "      <td>0.000000e+00</td>\n",
       "      <td>0.000</td>\n",
       "      <td>0.000000e+00</td>\n",
       "      <td>0.000000e+00</td>\n",
       "      <td>Benign</td>\n",
       "      <td>Audio-Streaming</td>\n",
       "    </tr>\n",
       "    <tr>\n",
       "      <th>4</th>\n",
       "      <td>0</td>\n",
       "      <td>0</td>\n",
       "      <td>0</td>\n",
       "      <td>0</td>\n",
       "      <td>0</td>\n",
       "      <td>0</td>\n",
       "      <td>0</td>\n",
       "      <td>0</td>\n",
       "      <td>0</td>\n",
       "      <td>0</td>\n",
       "      <td>...</td>\n",
       "      <td>0</td>\n",
       "      <td>0</td>\n",
       "      <td>0</td>\n",
       "      <td>0</td>\n",
       "      <td>1.437760e+15</td>\n",
       "      <td>3117718.131</td>\n",
       "      <td>1.437760e+15</td>\n",
       "      <td>1.437760e+15</td>\n",
       "      <td>Benign</td>\n",
       "      <td>Audio-Streaming</td>\n",
       "    </tr>\n",
       "  </tbody>\n",
       "</table>\n",
       "<p>5 rows × 186 columns</p>\n",
       "</div>"
      ],
      "text/plain": [
       "   col_0  col_1  col_2  col_3  col_4  col_5  col_6  col_7  col_8  col_9  \\\n",
       "0      0      0      0      0      0      0      0      0      0      0   \n",
       "1      0      0      0      0      0      0      0      0      0      0   \n",
       "2      0      0      0      0      0      0      0      0      0      0   \n",
       "3      0      0      0      0      0      0      0      0      0      0   \n",
       "4      0      0      0      0      0      0      0      0      0      0   \n",
       "\n",
       "        ...         Active Mean  Active Std  Active Max  Active Min  \\\n",
       "0       ...                   0           0           0           0   \n",
       "1       ...                   0           0           0           0   \n",
       "2       ...                   0           0           0           0   \n",
       "3       ...                   0           0           0           0   \n",
       "4       ...                   0           0           0           0   \n",
       "\n",
       "      Idle Mean     Idle Std      Idle Max      Idle Min   Label  \\\n",
       "0  0.000000e+00        0.000  0.000000e+00  0.000000e+00  Benign   \n",
       "1  0.000000e+00        0.000  0.000000e+00  0.000000e+00  Benign   \n",
       "2  0.000000e+00        0.000  0.000000e+00  0.000000e+00  Benign   \n",
       "3  0.000000e+00        0.000  0.000000e+00  0.000000e+00  Benign   \n",
       "4  1.437760e+15  3117718.131  1.437760e+15  1.437760e+15  Benign   \n",
       "\n",
       "           Label.1  \n",
       "0  Audio-Streaming  \n",
       "1  Audio-Streaming  \n",
       "2  Audio-Streaming  \n",
       "3  Audio-Streaming  \n",
       "4  Audio-Streaming  \n",
       "\n",
       "[5 rows x 186 columns]"
      ]
     },
     "execution_count": 18,
     "metadata": {},
     "output_type": "execute_result"
    }
   ],
   "source": [
    "hash_enc = HashingEncoder(cols=hash_enc_cols, n_components=100).fit(model_samples)\n",
    "model_samples = hash_enc.transform(model_samples)\n",
    "model_samples.head()"
   ]
  },
  {
   "cell_type": "code",
   "execution_count": 19,
   "metadata": {
    "ExecuteTime": {
     "end_time": "2021-03-09T12:51:58.987907Z",
     "start_time": "2021-03-09T12:51:58.251218Z"
    },
    "hidden": true,
    "scrolled": true
   },
   "outputs": [
    {
     "data": {
      "text/html": [
       "<div>\n",
       "<style scoped>\n",
       "    .dataframe tbody tr th:only-of-type {\n",
       "        vertical-align: middle;\n",
       "    }\n",
       "\n",
       "    .dataframe tbody tr th {\n",
       "        vertical-align: top;\n",
       "    }\n",
       "\n",
       "    .dataframe thead th {\n",
       "        text-align: right;\n",
       "    }\n",
       "</style>\n",
       "<table border=\"1\" class=\"dataframe\">\n",
       "  <thead>\n",
       "    <tr style=\"text-align: right;\">\n",
       "      <th></th>\n",
       "      <th>src_ip_country</th>\n",
       "      <th>dst_ip_country</th>\n",
       "    </tr>\n",
       "  </thead>\n",
       "  <tbody>\n",
       "    <tr>\n",
       "      <th>0</th>\n",
       "      <td>0</td>\n",
       "      <td>134</td>\n",
       "    </tr>\n",
       "    <tr>\n",
       "      <th>1</th>\n",
       "      <td>0</td>\n",
       "      <td>134</td>\n",
       "    </tr>\n",
       "    <tr>\n",
       "      <th>2</th>\n",
       "      <td>0</td>\n",
       "      <td>134</td>\n",
       "    </tr>\n",
       "    <tr>\n",
       "      <th>3</th>\n",
       "      <td>0</td>\n",
       "      <td>134</td>\n",
       "    </tr>\n",
       "    <tr>\n",
       "      <th>4</th>\n",
       "      <td>0</td>\n",
       "      <td>134</td>\n",
       "    </tr>\n",
       "  </tbody>\n",
       "</table>\n",
       "</div>"
      ],
      "text/plain": [
       "   src_ip_country  dst_ip_country\n",
       "0               0             134\n",
       "1               0             134\n",
       "2               0             134\n",
       "3               0             134\n",
       "4               0             134"
      ]
     },
     "execution_count": 19,
     "metadata": {},
     "output_type": "execute_result"
    }
   ],
   "source": [
    "ord_enc = OrdinalEncoder()\n",
    "ord_enc.fit(model_samples[ord_enc_cols])\n",
    "model_samples[ord_enc_cols] = ord_enc.transform(model_samples[ord_enc_cols])\n",
    "model_samples[ord_enc_cols] = model_samples[ord_enc_cols].astype(int)\n",
    "model_samples[ord_enc_cols].head() "
   ]
  },
  {
   "cell_type": "code",
   "execution_count": 20,
   "metadata": {
    "ExecuteTime": {
     "end_time": "2021-03-09T12:51:59.257604Z",
     "start_time": "2021-03-09T12:51:58.990262Z"
    },
    "hidden": true,
    "scrolled": true
   },
   "outputs": [
    {
     "data": {
      "text/html": [
       "<div>\n",
       "<style scoped>\n",
       "    .dataframe tbody tr th:only-of-type {\n",
       "        vertical-align: middle;\n",
       "    }\n",
       "\n",
       "    .dataframe tbody tr th {\n",
       "        vertical-align: top;\n",
       "    }\n",
       "\n",
       "    .dataframe thead th {\n",
       "        text-align: right;\n",
       "    }\n",
       "</style>\n",
       "<table border=\"1\" class=\"dataframe\">\n",
       "  <thead>\n",
       "    <tr style=\"text-align: right;\">\n",
       "      <th></th>\n",
       "      <th>col_0</th>\n",
       "      <th>col_1</th>\n",
       "      <th>col_2</th>\n",
       "      <th>col_3</th>\n",
       "      <th>col_4</th>\n",
       "      <th>col_5</th>\n",
       "      <th>col_6</th>\n",
       "      <th>col_7</th>\n",
       "      <th>col_8</th>\n",
       "      <th>col_9</th>\n",
       "      <th>...</th>\n",
       "      <th>Fwd Seg Size Min</th>\n",
       "      <th>Active Mean</th>\n",
       "      <th>Active Std</th>\n",
       "      <th>Active Max</th>\n",
       "      <th>Active Min</th>\n",
       "      <th>Idle Mean</th>\n",
       "      <th>Idle Std</th>\n",
       "      <th>Idle Max</th>\n",
       "      <th>Idle Min</th>\n",
       "      <th>Label</th>\n",
       "    </tr>\n",
       "  </thead>\n",
       "  <tbody>\n",
       "    <tr>\n",
       "      <th>0</th>\n",
       "      <td>0</td>\n",
       "      <td>0</td>\n",
       "      <td>0</td>\n",
       "      <td>0</td>\n",
       "      <td>0</td>\n",
       "      <td>0</td>\n",
       "      <td>0</td>\n",
       "      <td>0</td>\n",
       "      <td>0</td>\n",
       "      <td>0</td>\n",
       "      <td>...</td>\n",
       "      <td>20</td>\n",
       "      <td>0</td>\n",
       "      <td>0</td>\n",
       "      <td>0</td>\n",
       "      <td>0</td>\n",
       "      <td>0.000000e+00</td>\n",
       "      <td>0.000</td>\n",
       "      <td>0.000000e+00</td>\n",
       "      <td>0.000000e+00</td>\n",
       "      <td>Benign</td>\n",
       "    </tr>\n",
       "    <tr>\n",
       "      <th>1</th>\n",
       "      <td>0</td>\n",
       "      <td>0</td>\n",
       "      <td>0</td>\n",
       "      <td>0</td>\n",
       "      <td>0</td>\n",
       "      <td>0</td>\n",
       "      <td>0</td>\n",
       "      <td>0</td>\n",
       "      <td>0</td>\n",
       "      <td>0</td>\n",
       "      <td>...</td>\n",
       "      <td>20</td>\n",
       "      <td>0</td>\n",
       "      <td>0</td>\n",
       "      <td>0</td>\n",
       "      <td>0</td>\n",
       "      <td>0.000000e+00</td>\n",
       "      <td>0.000</td>\n",
       "      <td>0.000000e+00</td>\n",
       "      <td>0.000000e+00</td>\n",
       "      <td>Benign</td>\n",
       "    </tr>\n",
       "    <tr>\n",
       "      <th>2</th>\n",
       "      <td>0</td>\n",
       "      <td>0</td>\n",
       "      <td>0</td>\n",
       "      <td>0</td>\n",
       "      <td>0</td>\n",
       "      <td>0</td>\n",
       "      <td>0</td>\n",
       "      <td>0</td>\n",
       "      <td>0</td>\n",
       "      <td>0</td>\n",
       "      <td>...</td>\n",
       "      <td>20</td>\n",
       "      <td>0</td>\n",
       "      <td>0</td>\n",
       "      <td>0</td>\n",
       "      <td>0</td>\n",
       "      <td>0.000000e+00</td>\n",
       "      <td>0.000</td>\n",
       "      <td>0.000000e+00</td>\n",
       "      <td>0.000000e+00</td>\n",
       "      <td>Benign</td>\n",
       "    </tr>\n",
       "    <tr>\n",
       "      <th>3</th>\n",
       "      <td>0</td>\n",
       "      <td>0</td>\n",
       "      <td>0</td>\n",
       "      <td>0</td>\n",
       "      <td>0</td>\n",
       "      <td>0</td>\n",
       "      <td>0</td>\n",
       "      <td>0</td>\n",
       "      <td>0</td>\n",
       "      <td>0</td>\n",
       "      <td>...</td>\n",
       "      <td>20</td>\n",
       "      <td>0</td>\n",
       "      <td>0</td>\n",
       "      <td>0</td>\n",
       "      <td>0</td>\n",
       "      <td>0.000000e+00</td>\n",
       "      <td>0.000</td>\n",
       "      <td>0.000000e+00</td>\n",
       "      <td>0.000000e+00</td>\n",
       "      <td>Benign</td>\n",
       "    </tr>\n",
       "    <tr>\n",
       "      <th>4</th>\n",
       "      <td>0</td>\n",
       "      <td>0</td>\n",
       "      <td>0</td>\n",
       "      <td>0</td>\n",
       "      <td>0</td>\n",
       "      <td>0</td>\n",
       "      <td>0</td>\n",
       "      <td>0</td>\n",
       "      <td>0</td>\n",
       "      <td>0</td>\n",
       "      <td>...</td>\n",
       "      <td>20</td>\n",
       "      <td>0</td>\n",
       "      <td>0</td>\n",
       "      <td>0</td>\n",
       "      <td>0</td>\n",
       "      <td>1.437760e+15</td>\n",
       "      <td>3117718.131</td>\n",
       "      <td>1.437760e+15</td>\n",
       "      <td>1.437760e+15</td>\n",
       "      <td>Benign</td>\n",
       "    </tr>\n",
       "  </tbody>\n",
       "</table>\n",
       "<p>5 rows × 185 columns</p>\n",
       "</div>"
      ],
      "text/plain": [
       "   col_0  col_1  col_2  col_3  col_4  col_5  col_6  col_7  col_8  col_9  \\\n",
       "0      0      0      0      0      0      0      0      0      0      0   \n",
       "1      0      0      0      0      0      0      0      0      0      0   \n",
       "2      0      0      0      0      0      0      0      0      0      0   \n",
       "3      0      0      0      0      0      0      0      0      0      0   \n",
       "4      0      0      0      0      0      0      0      0      0      0   \n",
       "\n",
       "    ...    Fwd Seg Size Min  Active Mean  Active Std  Active Max  Active Min  \\\n",
       "0   ...                  20            0           0           0           0   \n",
       "1   ...                  20            0           0           0           0   \n",
       "2   ...                  20            0           0           0           0   \n",
       "3   ...                  20            0           0           0           0   \n",
       "4   ...                  20            0           0           0           0   \n",
       "\n",
       "      Idle Mean     Idle Std      Idle Max      Idle Min   Label  \n",
       "0  0.000000e+00        0.000  0.000000e+00  0.000000e+00  Benign  \n",
       "1  0.000000e+00        0.000  0.000000e+00  0.000000e+00  Benign  \n",
       "2  0.000000e+00        0.000  0.000000e+00  0.000000e+00  Benign  \n",
       "3  0.000000e+00        0.000  0.000000e+00  0.000000e+00  Benign  \n",
       "4  1.437760e+15  3117718.131  1.437760e+15  1.437760e+15  Benign  \n",
       "\n",
       "[5 rows x 185 columns]"
      ]
     },
     "execution_count": 20,
     "metadata": {},
     "output_type": "execute_result"
    }
   ],
   "source": [
    "model_samples_l1 = model_samples.copy()\n",
    "model_samples_l1 = model_samples_l1[model_samples_l1['Label'] == \"Darknet\"]\n",
    "del model_samples['Label.1']\n",
    "del model_samples_l1['Label']\n",
    "model_samples.head()"
   ]
  },
  {
   "cell_type": "code",
   "execution_count": 21,
   "metadata": {
    "ExecuteTime": {
     "end_time": "2021-03-09T12:51:59.311428Z",
     "start_time": "2021-03-09T12:51:59.260997Z"
    },
    "hidden": true
   },
   "outputs": [
    {
     "data": {
      "text/html": [
       "<div>\n",
       "<style scoped>\n",
       "    .dataframe tbody tr th:only-of-type {\n",
       "        vertical-align: middle;\n",
       "    }\n",
       "\n",
       "    .dataframe tbody tr th {\n",
       "        vertical-align: top;\n",
       "    }\n",
       "\n",
       "    .dataframe thead th {\n",
       "        text-align: right;\n",
       "    }\n",
       "</style>\n",
       "<table border=\"1\" class=\"dataframe\">\n",
       "  <thead>\n",
       "    <tr style=\"text-align: right;\">\n",
       "      <th></th>\n",
       "      <th>col_0</th>\n",
       "      <th>col_1</th>\n",
       "      <th>col_2</th>\n",
       "      <th>col_3</th>\n",
       "      <th>col_4</th>\n",
       "      <th>col_5</th>\n",
       "      <th>col_6</th>\n",
       "      <th>col_7</th>\n",
       "      <th>col_8</th>\n",
       "      <th>col_9</th>\n",
       "      <th>...</th>\n",
       "      <th>Fwd Seg Size Min</th>\n",
       "      <th>Active Mean</th>\n",
       "      <th>Active Std</th>\n",
       "      <th>Active Max</th>\n",
       "      <th>Active Min</th>\n",
       "      <th>Idle Mean</th>\n",
       "      <th>Idle Std</th>\n",
       "      <th>Idle Max</th>\n",
       "      <th>Idle Min</th>\n",
       "      <th>Label.1</th>\n",
       "    </tr>\n",
       "  </thead>\n",
       "  <tbody>\n",
       "    <tr>\n",
       "      <th>117219</th>\n",
       "      <td>0</td>\n",
       "      <td>0</td>\n",
       "      <td>0</td>\n",
       "      <td>0</td>\n",
       "      <td>0</td>\n",
       "      <td>0</td>\n",
       "      <td>0</td>\n",
       "      <td>0</td>\n",
       "      <td>0</td>\n",
       "      <td>0</td>\n",
       "      <td>...</td>\n",
       "      <td>20</td>\n",
       "      <td>0</td>\n",
       "      <td>0</td>\n",
       "      <td>0</td>\n",
       "      <td>0</td>\n",
       "      <td>1.456330e+15</td>\n",
       "      <td>3.683488e+07</td>\n",
       "      <td>1.456330e+15</td>\n",
       "      <td>1.456330e+15</td>\n",
       "      <td>Audio-Streaming</td>\n",
       "    </tr>\n",
       "    <tr>\n",
       "      <th>117220</th>\n",
       "      <td>0</td>\n",
       "      <td>0</td>\n",
       "      <td>0</td>\n",
       "      <td>0</td>\n",
       "      <td>0</td>\n",
       "      <td>0</td>\n",
       "      <td>0</td>\n",
       "      <td>0</td>\n",
       "      <td>0</td>\n",
       "      <td>0</td>\n",
       "      <td>...</td>\n",
       "      <td>20</td>\n",
       "      <td>0</td>\n",
       "      <td>0</td>\n",
       "      <td>0</td>\n",
       "      <td>0</td>\n",
       "      <td>1.456330e+15</td>\n",
       "      <td>3.558961e+07</td>\n",
       "      <td>1.456330e+15</td>\n",
       "      <td>1.456330e+15</td>\n",
       "      <td>Audio-Streaming</td>\n",
       "    </tr>\n",
       "    <tr>\n",
       "      <th>117221</th>\n",
       "      <td>0</td>\n",
       "      <td>0</td>\n",
       "      <td>0</td>\n",
       "      <td>0</td>\n",
       "      <td>0</td>\n",
       "      <td>0</td>\n",
       "      <td>0</td>\n",
       "      <td>0</td>\n",
       "      <td>0</td>\n",
       "      <td>0</td>\n",
       "      <td>...</td>\n",
       "      <td>20</td>\n",
       "      <td>0</td>\n",
       "      <td>0</td>\n",
       "      <td>0</td>\n",
       "      <td>0</td>\n",
       "      <td>1.456330e+15</td>\n",
       "      <td>3.301057e+07</td>\n",
       "      <td>1.456330e+15</td>\n",
       "      <td>1.456330e+15</td>\n",
       "      <td>Audio-Streaming</td>\n",
       "    </tr>\n",
       "    <tr>\n",
       "      <th>117222</th>\n",
       "      <td>0</td>\n",
       "      <td>0</td>\n",
       "      <td>0</td>\n",
       "      <td>0</td>\n",
       "      <td>0</td>\n",
       "      <td>0</td>\n",
       "      <td>0</td>\n",
       "      <td>0</td>\n",
       "      <td>0</td>\n",
       "      <td>0</td>\n",
       "      <td>...</td>\n",
       "      <td>20</td>\n",
       "      <td>0</td>\n",
       "      <td>0</td>\n",
       "      <td>0</td>\n",
       "      <td>0</td>\n",
       "      <td>1.456330e+15</td>\n",
       "      <td>5.227810e+05</td>\n",
       "      <td>1.456330e+15</td>\n",
       "      <td>1.456330e+15</td>\n",
       "      <td>Audio-Streaming</td>\n",
       "    </tr>\n",
       "    <tr>\n",
       "      <th>117223</th>\n",
       "      <td>0</td>\n",
       "      <td>0</td>\n",
       "      <td>0</td>\n",
       "      <td>0</td>\n",
       "      <td>0</td>\n",
       "      <td>0</td>\n",
       "      <td>0</td>\n",
       "      <td>0</td>\n",
       "      <td>0</td>\n",
       "      <td>0</td>\n",
       "      <td>...</td>\n",
       "      <td>20</td>\n",
       "      <td>0</td>\n",
       "      <td>0</td>\n",
       "      <td>0</td>\n",
       "      <td>0</td>\n",
       "      <td>1.456330e+15</td>\n",
       "      <td>1.052330e+05</td>\n",
       "      <td>1.456330e+15</td>\n",
       "      <td>1.456330e+15</td>\n",
       "      <td>Audio-Streaming</td>\n",
       "    </tr>\n",
       "  </tbody>\n",
       "</table>\n",
       "<p>5 rows × 185 columns</p>\n",
       "</div>"
      ],
      "text/plain": [
       "        col_0  col_1  col_2  col_3  col_4  col_5  col_6  col_7  col_8  col_9  \\\n",
       "117219      0      0      0      0      0      0      0      0      0      0   \n",
       "117220      0      0      0      0      0      0      0      0      0      0   \n",
       "117221      0      0      0      0      0      0      0      0      0      0   \n",
       "117222      0      0      0      0      0      0      0      0      0      0   \n",
       "117223      0      0      0      0      0      0      0      0      0      0   \n",
       "\n",
       "             ...         Fwd Seg Size Min  Active Mean  Active Std  \\\n",
       "117219       ...                       20            0           0   \n",
       "117220       ...                       20            0           0   \n",
       "117221       ...                       20            0           0   \n",
       "117222       ...                       20            0           0   \n",
       "117223       ...                       20            0           0   \n",
       "\n",
       "        Active Max  Active Min     Idle Mean      Idle Std      Idle Max  \\\n",
       "117219           0           0  1.456330e+15  3.683488e+07  1.456330e+15   \n",
       "117220           0           0  1.456330e+15  3.558961e+07  1.456330e+15   \n",
       "117221           0           0  1.456330e+15  3.301057e+07  1.456330e+15   \n",
       "117222           0           0  1.456330e+15  5.227810e+05  1.456330e+15   \n",
       "117223           0           0  1.456330e+15  1.052330e+05  1.456330e+15   \n",
       "\n",
       "            Idle Min          Label.1  \n",
       "117219  1.456330e+15  Audio-Streaming  \n",
       "117220  1.456330e+15  Audio-Streaming  \n",
       "117221  1.456330e+15  Audio-Streaming  \n",
       "117222  1.456330e+15  Audio-Streaming  \n",
       "117223  1.456330e+15  Audio-Streaming  \n",
       "\n",
       "[5 rows x 185 columns]"
      ]
     },
     "execution_count": 21,
     "metadata": {},
     "output_type": "execute_result"
    }
   ],
   "source": [
    "model_samples_l1.head()"
   ]
  },
  {
   "cell_type": "code",
   "execution_count": 22,
   "metadata": {
    "ExecuteTime": {
     "end_time": "2021-03-09T12:51:59.322390Z",
     "start_time": "2021-03-09T12:51:59.314933Z"
    },
    "hidden": true
   },
   "outputs": [
    {
     "name": "stdout",
     "output_type": "stream",
     "text": [
      "Index(['col_0', 'col_1', 'col_2', 'col_3', 'col_4', 'col_5', 'col_6', 'col_7',\n",
      "       'col_8', 'col_9',\n",
      "       ...\n",
      "       'Fwd Seg Size Min', 'Active Mean', 'Active Std', 'Active Max',\n",
      "       'Active Min', 'Idle Mean', 'Idle Std', 'Idle Max', 'Idle Min',\n",
      "       'Label.1'],\n",
      "      dtype='object', length=185)\n",
      "Index(['col_0', 'col_1', 'col_2', 'col_3', 'col_4', 'col_5', 'col_6', 'col_7',\n",
      "       'col_8', 'col_9',\n",
      "       ...\n",
      "       'Fwd Seg Size Min', 'Active Mean', 'Active Std', 'Active Max',\n",
      "       'Active Min', 'Idle Mean', 'Idle Std', 'Idle Max', 'Idle Min', 'Label'],\n",
      "      dtype='object', length=185)\n"
     ]
    }
   ],
   "source": [
    "print(model_samples_l1.columns)\n",
    "print(model_samples.columns)"
   ]
  },
  {
   "cell_type": "code",
   "execution_count": 23,
   "metadata": {
    "ExecuteTime": {
     "end_time": "2021-03-09T12:52:09.580109Z",
     "start_time": "2021-03-09T12:51:59.328357Z"
    },
    "hidden": true
   },
   "outputs": [
    {
     "data": {
      "text/plain": [
       "141483"
      ]
     },
     "execution_count": 23,
     "metadata": {},
     "output_type": "execute_result"
    }
   ],
   "source": [
    "model_samples = model_samples.replace([np.inf, -np.inf], np.nan)\n",
    "model_samples_l1 = model_samples_l1.replace([np.inf, -np.inf], np.nan)\n",
    "\n",
    "model_samples = model_samples.dropna()\n",
    "model_samples_l1 = model_samples_l1.dropna()\n",
    "len(model_samples)"
   ]
  },
  {
   "cell_type": "markdown",
   "metadata": {
    "hidden": true
   },
   "source": [
    "## Numerical features scaling"
   ]
  },
  {
   "cell_type": "code",
   "execution_count": 24,
   "metadata": {
    "ExecuteTime": {
     "end_time": "2021-03-09T12:52:09.589243Z",
     "start_time": "2021-03-09T12:52:09.582954Z"
    },
    "hidden": true,
    "scrolled": false
   },
   "outputs": [
    {
     "name": "stdout",
     "output_type": "stream",
     "text": [
      "['Flow Duration', 'Total Fwd Packet', 'Total Bwd packets', 'Total Length of Fwd Packet', 'Total Length of Bwd Packet', 'Fwd Packet Length Max', 'Fwd Packet Length Min', 'Fwd Packet Length Mean', 'Fwd Packet Length Std', 'Bwd Packet Length Max', 'Bwd Packet Length Min', 'Bwd Packet Length Mean', 'Bwd Packet Length Std', 'Flow Bytes/s', 'Flow Packets/s', 'Flow IAT Mean', 'Flow IAT Std', 'Flow IAT Max', 'Flow IAT Min', 'Fwd IAT Total', 'Fwd IAT Mean', 'Fwd IAT Std', 'Fwd IAT Max', 'Fwd IAT Min', 'Bwd IAT Total', 'Bwd IAT Mean', 'Bwd IAT Std', 'Bwd IAT Max', 'Bwd IAT Min', 'Fwd PSH Flags', 'Bwd PSH Flags', 'Fwd URG Flags', 'Bwd URG Flags', 'Fwd Header Length', 'Bwd Header Length', 'Fwd Packets/s', 'Bwd Packets/s', 'Packet Length Min', 'Packet Length Max', 'Packet Length Mean', 'Packet Length Std', 'Packet Length Variance', 'FIN Flag Count', 'SYN Flag Count', 'RST Flag Count', 'PSH Flag Count', 'ACK Flag Count', 'URG Flag Count', 'CWE Flag Count', 'ECE Flag Count', 'Down/Up Ratio', 'Average Packet Size', 'Fwd Segment Size Avg', 'Bwd Segment Size Avg', 'Fwd Bytes/Bulk Avg', 'Fwd Packet/Bulk Avg', 'Fwd Bulk Rate Avg', 'Bwd Bytes/Bulk Avg', 'Bwd Packet/Bulk Avg', 'Bwd Bulk Rate Avg', 'Subflow Fwd Packets', 'Subflow Fwd Bytes', 'Subflow Bwd Packets', 'Subflow Bwd Bytes', 'FWD Init Win Bytes', 'Bwd Init Win Bytes', 'Fwd Act Data Pkts', 'Fwd Seg Size Min']\n"
     ]
    }
   ],
   "source": [
    "real_columns = ['Flow Duration', 'Total Fwd Packet', 'Total Bwd packets', 'Total Length of Fwd Packet', 'Total Length of Bwd Packet', 'Fwd Packet Length Max', 'Fwd Packet Length Min', 'Fwd Packet Length Mean', 'Fwd Packet Length Std', 'Bwd Packet Length Max', 'Bwd Packet Length Min', 'Bwd Packet Length Mean', 'Bwd Packet Length Std', 'Flow Bytes/s', 'Flow Packets/s', 'Flow IAT Mean', 'Flow IAT Std', 'Flow IAT Max', 'Flow IAT Min', 'Fwd IAT Total', 'Fwd IAT Mean', 'Fwd IAT Std', 'Fwd IAT Max', 'Fwd IAT Min', 'Bwd IAT Total', 'Bwd IAT Mean', 'Bwd IAT Std', 'Bwd IAT Max', 'Bwd IAT Min', 'Fwd PSH Flags', 'Bwd PSH Flags', 'Fwd URG Flags', 'Bwd URG Flags', 'Fwd Header Length', 'Bwd Header Length', 'Fwd Packets/s', 'Bwd Packets/s', 'Packet Length Min', 'Packet Length Max', 'Packet Length Mean', 'Packet Length Std', 'Packet Length Variance', 'FIN Flag Count', 'SYN Flag Count', 'RST Flag Count', 'PSH Flag Count', 'ACK Flag Count', 'URG Flag Count', 'CWE Flag Count', 'ECE Flag Count', 'Down/Up Ratio', 'Average Packet Size', 'Fwd Segment Size Avg', 'Bwd Segment Size Avg', 'Fwd Bytes/Bulk Avg', 'Fwd Packet/Bulk Avg', 'Fwd Bulk Rate Avg', 'Bwd Bytes/Bulk Avg', 'Bwd Packet/Bulk Avg', 'Bwd Bulk Rate Avg', 'Subflow Fwd Packets', 'Subflow Fwd Bytes', 'Subflow Bwd Packets', 'Subflow Bwd Bytes', 'FWD Init Win Bytes', 'Bwd Init Win Bytes', 'Fwd Act Data Pkts', 'Fwd Seg Size Min']\n",
    "print(real_columns)"
   ]
  },
  {
   "cell_type": "code",
   "execution_count": 25,
   "metadata": {
    "ExecuteTime": {
     "end_time": "2021-03-09T12:52:15.858605Z",
     "start_time": "2021-03-09T12:52:09.593449Z"
    },
    "hidden": true
   },
   "outputs": [],
   "source": [
    "model_samples[real_columns] = model_samples[real_columns].astype(np.float64)\n",
    "model_samples[real_columns] = model_samples[real_columns].replace([np.inf, -np.inf], np.nan)\n",
    "model_samples[real_columns] = model_samples[real_columns].dropna()\n",
    "\n",
    "model_samples_l1[real_columns] = model_samples_l1[real_columns].astype(np.float64)\n",
    "model_samples_l1[real_columns] = model_samples_l1[real_columns].replace([np.inf, -np.inf], np.nan)\n",
    "model_samples_l1[real_columns] = model_samples_l1[real_columns].dropna()"
   ]
  },
  {
   "cell_type": "code",
   "execution_count": 26,
   "metadata": {
    "ExecuteTime": {
     "end_time": "2021-03-09T12:52:16.559449Z",
     "start_time": "2021-03-09T12:52:15.860331Z"
    },
    "hidden": true
   },
   "outputs": [],
   "source": [
    "df1 = model_samples[model_samples.isna().any(axis=1)]\n",
    "model_samples = model_samples.drop(df1.index)\n",
    "\n",
    "df1 = model_samples_l1[model_samples_l1.isna().any(axis=1)]\n",
    "model_samples_l1 = model_samples_l1.drop(df1.index)"
   ]
  },
  {
   "cell_type": "code",
   "execution_count": 27,
   "metadata": {
    "ExecuteTime": {
     "end_time": "2021-03-09T12:52:18.879419Z",
     "start_time": "2021-03-09T12:52:16.561394Z"
    },
    "hidden": true
   },
   "outputs": [],
   "source": [
    "scaler = StandardScaler().fit(model_samples[real_columns])\n",
    "model_samples[real_columns] = scaler.transform(model_samples[real_columns])\n",
    "model_samples_l1[real_columns] = scaler.transform(model_samples_l1[real_columns])"
   ]
  },
  {
   "cell_type": "code",
   "execution_count": 28,
   "metadata": {
    "ExecuteTime": {
     "end_time": "2021-03-09T12:52:18.959637Z",
     "start_time": "2021-03-09T12:52:18.881214Z"
    },
    "hidden": true,
    "scrolled": false
   },
   "outputs": [
    {
     "data": {
      "text/html": [
       "<div>\n",
       "<style scoped>\n",
       "    .dataframe tbody tr th:only-of-type {\n",
       "        vertical-align: middle;\n",
       "    }\n",
       "\n",
       "    .dataframe tbody tr th {\n",
       "        vertical-align: top;\n",
       "    }\n",
       "\n",
       "    .dataframe thead th {\n",
       "        text-align: right;\n",
       "    }\n",
       "</style>\n",
       "<table border=\"1\" class=\"dataframe\">\n",
       "  <thead>\n",
       "    <tr style=\"text-align: right;\">\n",
       "      <th></th>\n",
       "      <th>Flow Duration</th>\n",
       "      <th>Total Fwd Packet</th>\n",
       "      <th>Total Bwd packets</th>\n",
       "      <th>Total Length of Fwd Packet</th>\n",
       "      <th>Total Length of Bwd Packet</th>\n",
       "      <th>Fwd Packet Length Max</th>\n",
       "      <th>Fwd Packet Length Min</th>\n",
       "      <th>Fwd Packet Length Mean</th>\n",
       "      <th>Fwd Packet Length Std</th>\n",
       "      <th>Bwd Packet Length Max</th>\n",
       "      <th>...</th>\n",
       "      <th>Bwd Packet/Bulk Avg</th>\n",
       "      <th>Bwd Bulk Rate Avg</th>\n",
       "      <th>Subflow Fwd Packets</th>\n",
       "      <th>Subflow Fwd Bytes</th>\n",
       "      <th>Subflow Bwd Packets</th>\n",
       "      <th>Subflow Bwd Bytes</th>\n",
       "      <th>FWD Init Win Bytes</th>\n",
       "      <th>Bwd Init Win Bytes</th>\n",
       "      <th>Fwd Act Data Pkts</th>\n",
       "      <th>Fwd Seg Size Min</th>\n",
       "    </tr>\n",
       "  </thead>\n",
       "  <tbody>\n",
       "    <tr>\n",
       "      <th>0</th>\n",
       "      <td>-0.546508</td>\n",
       "      <td>-0.063838</td>\n",
       "      <td>-0.044949</td>\n",
       "      <td>-0.034644</td>\n",
       "      <td>-0.028574</td>\n",
       "      <td>-0.321759</td>\n",
       "      <td>-0.498852</td>\n",
       "      <td>-0.316449</td>\n",
       "      <td>-0.379416</td>\n",
       "      <td>-0.292366</td>\n",
       "      <td>...</td>\n",
       "      <td>-0.052228</td>\n",
       "      <td>-0.043209</td>\n",
       "      <td>-0.634075</td>\n",
       "      <td>-0.313203</td>\n",
       "      <td>0.0</td>\n",
       "      <td>-0.413046</td>\n",
       "      <td>-0.345303</td>\n",
       "      <td>-0.095141</td>\n",
       "      <td>-0.061219</td>\n",
       "      <td>0.589647</td>\n",
       "    </tr>\n",
       "    <tr>\n",
       "      <th>1</th>\n",
       "      <td>-0.546503</td>\n",
       "      <td>-0.063838</td>\n",
       "      <td>-0.044949</td>\n",
       "      <td>-0.034644</td>\n",
       "      <td>-0.028574</td>\n",
       "      <td>-0.321759</td>\n",
       "      <td>-0.498852</td>\n",
       "      <td>-0.316449</td>\n",
       "      <td>-0.379416</td>\n",
       "      <td>-0.292366</td>\n",
       "      <td>...</td>\n",
       "      <td>-0.052228</td>\n",
       "      <td>-0.043209</td>\n",
       "      <td>-0.634075</td>\n",
       "      <td>-0.313203</td>\n",
       "      <td>0.0</td>\n",
       "      <td>-0.413046</td>\n",
       "      <td>-0.335704</td>\n",
       "      <td>-0.095141</td>\n",
       "      <td>-0.061219</td>\n",
       "      <td>0.589647</td>\n",
       "    </tr>\n",
       "    <tr>\n",
       "      <th>2</th>\n",
       "      <td>-0.546502</td>\n",
       "      <td>-0.063838</td>\n",
       "      <td>-0.044949</td>\n",
       "      <td>-0.034644</td>\n",
       "      <td>-0.028574</td>\n",
       "      <td>-0.321759</td>\n",
       "      <td>-0.498852</td>\n",
       "      <td>-0.316449</td>\n",
       "      <td>-0.379416</td>\n",
       "      <td>-0.292366</td>\n",
       "      <td>...</td>\n",
       "      <td>-0.052228</td>\n",
       "      <td>-0.043209</td>\n",
       "      <td>-0.634075</td>\n",
       "      <td>-0.313203</td>\n",
       "      <td>0.0</td>\n",
       "      <td>-0.413046</td>\n",
       "      <td>-0.329439</td>\n",
       "      <td>-0.095141</td>\n",
       "      <td>-0.061219</td>\n",
       "      <td>0.589647</td>\n",
       "    </tr>\n",
       "    <tr>\n",
       "      <th>3</th>\n",
       "      <td>-0.546504</td>\n",
       "      <td>-0.063838</td>\n",
       "      <td>-0.044949</td>\n",
       "      <td>-0.034644</td>\n",
       "      <td>-0.028574</td>\n",
       "      <td>-0.321759</td>\n",
       "      <td>-0.498852</td>\n",
       "      <td>-0.316449</td>\n",
       "      <td>-0.379416</td>\n",
       "      <td>-0.292366</td>\n",
       "      <td>...</td>\n",
       "      <td>-0.052228</td>\n",
       "      <td>-0.043209</td>\n",
       "      <td>-0.634075</td>\n",
       "      <td>-0.313203</td>\n",
       "      <td>0.0</td>\n",
       "      <td>-0.413046</td>\n",
       "      <td>-0.333582</td>\n",
       "      <td>-0.095141</td>\n",
       "      <td>-0.061219</td>\n",
       "      <td>0.589647</td>\n",
       "    </tr>\n",
       "    <tr>\n",
       "      <th>4</th>\n",
       "      <td>-0.263585</td>\n",
       "      <td>0.184194</td>\n",
       "      <td>0.071741</td>\n",
       "      <td>-0.014801</td>\n",
       "      <td>-0.027116</td>\n",
       "      <td>-0.120075</td>\n",
       "      <td>-0.498852</td>\n",
       "      <td>0.179861</td>\n",
       "      <td>-0.247304</td>\n",
       "      <td>0.340530</td>\n",
       "      <td>...</td>\n",
       "      <td>0.164343</td>\n",
       "      <td>-0.036900</td>\n",
       "      <td>-0.634075</td>\n",
       "      <td>0.158678</td>\n",
       "      <td>0.0</td>\n",
       "      <td>-0.368398</td>\n",
       "      <td>-0.396835</td>\n",
       "      <td>0.073134</td>\n",
       "      <td>0.305786</td>\n",
       "      <td>0.589647</td>\n",
       "    </tr>\n",
       "  </tbody>\n",
       "</table>\n",
       "<p>5 rows × 68 columns</p>\n",
       "</div>"
      ],
      "text/plain": [
       "   Flow Duration  Total Fwd Packet  Total Bwd packets  \\\n",
       "0      -0.546508         -0.063838          -0.044949   \n",
       "1      -0.546503         -0.063838          -0.044949   \n",
       "2      -0.546502         -0.063838          -0.044949   \n",
       "3      -0.546504         -0.063838          -0.044949   \n",
       "4      -0.263585          0.184194           0.071741   \n",
       "\n",
       "   Total Length of Fwd Packet  Total Length of Bwd Packet  \\\n",
       "0                   -0.034644                   -0.028574   \n",
       "1                   -0.034644                   -0.028574   \n",
       "2                   -0.034644                   -0.028574   \n",
       "3                   -0.034644                   -0.028574   \n",
       "4                   -0.014801                   -0.027116   \n",
       "\n",
       "   Fwd Packet Length Max  Fwd Packet Length Min  Fwd Packet Length Mean  \\\n",
       "0              -0.321759              -0.498852               -0.316449   \n",
       "1              -0.321759              -0.498852               -0.316449   \n",
       "2              -0.321759              -0.498852               -0.316449   \n",
       "3              -0.321759              -0.498852               -0.316449   \n",
       "4              -0.120075              -0.498852                0.179861   \n",
       "\n",
       "   Fwd Packet Length Std  Bwd Packet Length Max        ...         \\\n",
       "0              -0.379416              -0.292366        ...          \n",
       "1              -0.379416              -0.292366        ...          \n",
       "2              -0.379416              -0.292366        ...          \n",
       "3              -0.379416              -0.292366        ...          \n",
       "4              -0.247304               0.340530        ...          \n",
       "\n",
       "   Bwd Packet/Bulk Avg  Bwd Bulk Rate Avg  Subflow Fwd Packets  \\\n",
       "0            -0.052228          -0.043209            -0.634075   \n",
       "1            -0.052228          -0.043209            -0.634075   \n",
       "2            -0.052228          -0.043209            -0.634075   \n",
       "3            -0.052228          -0.043209            -0.634075   \n",
       "4             0.164343          -0.036900            -0.634075   \n",
       "\n",
       "   Subflow Fwd Bytes  Subflow Bwd Packets  Subflow Bwd Bytes  \\\n",
       "0          -0.313203                  0.0          -0.413046   \n",
       "1          -0.313203                  0.0          -0.413046   \n",
       "2          -0.313203                  0.0          -0.413046   \n",
       "3          -0.313203                  0.0          -0.413046   \n",
       "4           0.158678                  0.0          -0.368398   \n",
       "\n",
       "   FWD Init Win Bytes  Bwd Init Win Bytes  Fwd Act Data Pkts  Fwd Seg Size Min  \n",
       "0           -0.345303           -0.095141          -0.061219          0.589647  \n",
       "1           -0.335704           -0.095141          -0.061219          0.589647  \n",
       "2           -0.329439           -0.095141          -0.061219          0.589647  \n",
       "3           -0.333582           -0.095141          -0.061219          0.589647  \n",
       "4           -0.396835            0.073134           0.305786          0.589647  \n",
       "\n",
       "[5 rows x 68 columns]"
      ]
     },
     "execution_count": 28,
     "metadata": {},
     "output_type": "execute_result"
    }
   ],
   "source": [
    "model_samples[real_columns].head()"
   ]
  },
  {
   "cell_type": "markdown",
   "metadata": {
    "hidden": true
   },
   "source": [
    "## Processed dataset"
   ]
  },
  {
   "cell_type": "code",
   "execution_count": 29,
   "metadata": {
    "ExecuteTime": {
     "end_time": "2021-03-09T12:52:18.977737Z",
     "start_time": "2021-03-09T12:52:18.961723Z"
    },
    "hidden": true
   },
   "outputs": [
    {
     "name": "stdout",
     "output_type": "stream",
     "text": [
      "Index(['Flow ID', 'Src IP', 'Src Port', 'Dst IP', 'Dst Port'], dtype='object')\n",
      "Number of features: 96\n"
     ]
    }
   ],
   "source": [
    "print(samples.columns[:5])\n",
    "print(f\"Number of features: {len(samples.columns)}\")"
   ]
  },
  {
   "cell_type": "code",
   "execution_count": 30,
   "metadata": {
    "ExecuteTime": {
     "end_time": "2021-03-09T12:52:18.989576Z",
     "start_time": "2021-03-09T12:52:18.980065Z"
    },
    "hidden": true
   },
   "outputs": [
    {
     "data": {
      "text/plain": [
       "Flow ID                        object\n",
       "Src IP                         object\n",
       "Src Port                        int64\n",
       "Dst IP                         object\n",
       "Dst Port                        int64\n",
       "Protocol                        int64\n",
       "Timestamp                      object\n",
       "Flow Duration                   int64\n",
       "Total Fwd Packet                int64\n",
       "Total Bwd packets               int64\n",
       "Total Length of Fwd Packet      int64\n",
       "Total Length of Bwd Packet      int64\n",
       "Fwd Packet Length Max           int64\n",
       "Fwd Packet Length Min           int64\n",
       "Fwd Packet Length Mean        float64\n",
       "Fwd Packet Length Std         float64\n",
       "Bwd Packet Length Max           int64\n",
       "Bwd Packet Length Min           int64\n",
       "Bwd Packet Length Mean        float64\n",
       "Bwd Packet Length Std         float64\n",
       "Flow Bytes/s                   object\n",
       "Flow Packets/s                 object\n",
       "Flow IAT Mean                 float64\n",
       "Flow IAT Std                  float64\n",
       "Flow IAT Max                    int64\n",
       "Flow IAT Min                    int64\n",
       "Fwd IAT Total                   int64\n",
       "Fwd IAT Mean                  float64\n",
       "Fwd IAT Std                   float64\n",
       "Fwd IAT Max                     int64\n",
       "Fwd IAT Min                     int64\n",
       "Bwd IAT Total                   int64\n",
       "Bwd IAT Mean                  float64\n",
       "Bwd IAT Std                   float64\n",
       "Bwd IAT Max                     int64\n",
       "Bwd IAT Min                     int64\n",
       "Fwd PSH Flags                   int64\n",
       "Bwd PSH Flags                   int64\n",
       "Fwd URG Flags                   int64\n",
       "Bwd URG Flags                   int64\n",
       "dtype: object"
      ]
     },
     "execution_count": 30,
     "metadata": {},
     "output_type": "execute_result"
    }
   ],
   "source": [
    "samples.dtypes[:40]"
   ]
  },
  {
   "cell_type": "code",
   "execution_count": 31,
   "metadata": {
    "ExecuteTime": {
     "end_time": "2021-03-09T12:52:19.001209Z",
     "start_time": "2021-03-09T12:52:18.992807Z"
    },
    "hidden": true,
    "scrolled": false
   },
   "outputs": [
    {
     "data": {
      "text/plain": [
       "Fwd Header Length           int64\n",
       "Bwd Header Length           int64\n",
       "Fwd Packets/s             float64\n",
       "Bwd Packets/s             float64\n",
       "Packet Length Min           int64\n",
       "Packet Length Max           int64\n",
       "Packet Length Mean        float64\n",
       "Packet Length Std         float64\n",
       "Packet Length Variance    float64\n",
       "FIN Flag Count              int64\n",
       "SYN Flag Count              int64\n",
       "RST Flag Count              int64\n",
       "PSH Flag Count              int64\n",
       "ACK Flag Count              int64\n",
       "URG Flag Count              int64\n",
       "CWE Flag Count              int64\n",
       "ECE Flag Count              int64\n",
       "Down/Up Ratio               int64\n",
       "Average Packet Size       float64\n",
       "Fwd Segment Size Avg      float64\n",
       "Bwd Segment Size Avg      float64\n",
       "Fwd Bytes/Bulk Avg          int64\n",
       "Fwd Packet/Bulk Avg         int64\n",
       "Fwd Bulk Rate Avg           int64\n",
       "Bwd Bytes/Bulk Avg          int64\n",
       "Bwd Packet/Bulk Avg         int64\n",
       "Bwd Bulk Rate Avg           int64\n",
       "Subflow Fwd Packets         int64\n",
       "Subflow Fwd Bytes           int64\n",
       "Subflow Bwd Packets         int64\n",
       "Subflow Bwd Bytes           int64\n",
       "FWD Init Win Bytes          int64\n",
       "Bwd Init Win Bytes          int64\n",
       "Fwd Act Data Pkts           int64\n",
       "Fwd Seg Size Min            int64\n",
       "Active Mean                 int64\n",
       "Active Std                  int64\n",
       "Active Max                  int64\n",
       "Active Min                  int64\n",
       "Idle Mean                 float64\n",
       "Idle Std                  float64\n",
       "dtype: object"
      ]
     },
     "execution_count": 31,
     "metadata": {},
     "output_type": "execute_result"
    }
   ],
   "source": [
    "samples.dtypes[40:81]"
   ]
  },
  {
   "cell_type": "code",
   "execution_count": 32,
   "metadata": {
    "ExecuteTime": {
     "end_time": "2021-03-09T12:52:19.016082Z",
     "start_time": "2021-03-09T12:52:19.003947Z"
    },
    "hidden": true
   },
   "outputs": [
    {
     "data": {
      "text/plain": [
       "Idle Max          float64\n",
       "Idle Min          float64\n",
       "Label              object\n",
       "Label.1            object\n",
       "hour                int64\n",
       "src_ip_1gram       object\n",
       "src_ip_2gram       object\n",
       "src_ip_3gram       object\n",
       "dst_ip_1gram       object\n",
       "dst_ip_2gram       object\n",
       "dst_ip_3gram       object\n",
       "src_ip_country     object\n",
       "dst_ip_country     object\n",
       "src_bogon            bool\n",
       "dst_bogon            bool\n",
       "dtype: object"
      ]
     },
     "execution_count": 32,
     "metadata": {},
     "output_type": "execute_result"
    }
   ],
   "source": [
    "samples.dtypes[81:]"
   ]
  },
  {
   "cell_type": "code",
   "execution_count": 33,
   "metadata": {
    "ExecuteTime": {
     "end_time": "2021-03-09T12:52:35.317316Z",
     "start_time": "2021-03-09T12:52:19.019268Z"
    },
    "hidden": true
   },
   "outputs": [
    {
     "data": {
      "text/html": [
       "<div>\n",
       "<style scoped>\n",
       "    .dataframe tbody tr th:only-of-type {\n",
       "        vertical-align: middle;\n",
       "    }\n",
       "\n",
       "    .dataframe tbody tr th {\n",
       "        vertical-align: top;\n",
       "    }\n",
       "\n",
       "    .dataframe thead th {\n",
       "        text-align: right;\n",
       "    }\n",
       "</style>\n",
       "<table border=\"1\" class=\"dataframe\">\n",
       "  <thead>\n",
       "    <tr style=\"text-align: right;\">\n",
       "      <th></th>\n",
       "      <th>Flow ID</th>\n",
       "      <th>Src IP</th>\n",
       "      <th>Src Port</th>\n",
       "      <th>Dst IP</th>\n",
       "      <th>Dst Port</th>\n",
       "      <th>Protocol</th>\n",
       "      <th>Timestamp</th>\n",
       "      <th>Flow Duration</th>\n",
       "      <th>Total Fwd Packet</th>\n",
       "      <th>Total Bwd packets</th>\n",
       "      <th>...</th>\n",
       "      <th>src_ip_1gram</th>\n",
       "      <th>src_ip_2gram</th>\n",
       "      <th>src_ip_3gram</th>\n",
       "      <th>dst_ip_1gram</th>\n",
       "      <th>dst_ip_2gram</th>\n",
       "      <th>dst_ip_3gram</th>\n",
       "      <th>src_ip_country</th>\n",
       "      <th>dst_ip_country</th>\n",
       "      <th>src_bogon</th>\n",
       "      <th>dst_bogon</th>\n",
       "    </tr>\n",
       "  </thead>\n",
       "  <tbody>\n",
       "    <tr>\n",
       "      <th>0</th>\n",
       "      <td>10.152.152.11-216.58.220.99-57158-443-6</td>\n",
       "      <td>10.152.152.11</td>\n",
       "      <td>57158</td>\n",
       "      <td>216.58.220.99</td>\n",
       "      <td>443</td>\n",
       "      <td>6</td>\n",
       "      <td>24/07/2015 04:09:48 PM</td>\n",
       "      <td>229</td>\n",
       "      <td>1</td>\n",
       "      <td>1</td>\n",
       "      <td>...</td>\n",
       "      <td>10</td>\n",
       "      <td>10 152</td>\n",
       "      <td>10 152 152</td>\n",
       "      <td>216</td>\n",
       "      <td>216 58</td>\n",
       "      <td>216 58 220</td>\n",
       "      <td></td>\n",
       "      <td>US</td>\n",
       "      <td>True</td>\n",
       "      <td>False</td>\n",
       "    </tr>\n",
       "    <tr>\n",
       "      <th>1</th>\n",
       "      <td>10.152.152.11-216.58.220.99-57159-443-6</td>\n",
       "      <td>10.152.152.11</td>\n",
       "      <td>57159</td>\n",
       "      <td>216.58.220.99</td>\n",
       "      <td>443</td>\n",
       "      <td>6</td>\n",
       "      <td>24/07/2015 04:09:48 PM</td>\n",
       "      <td>407</td>\n",
       "      <td>1</td>\n",
       "      <td>1</td>\n",
       "      <td>...</td>\n",
       "      <td>10</td>\n",
       "      <td>10 152</td>\n",
       "      <td>10 152 152</td>\n",
       "      <td>216</td>\n",
       "      <td>216 58</td>\n",
       "      <td>216 58 220</td>\n",
       "      <td></td>\n",
       "      <td>US</td>\n",
       "      <td>True</td>\n",
       "      <td>False</td>\n",
       "    </tr>\n",
       "    <tr>\n",
       "      <th>2</th>\n",
       "      <td>10.152.152.11-216.58.220.99-57160-443-6</td>\n",
       "      <td>10.152.152.11</td>\n",
       "      <td>57160</td>\n",
       "      <td>216.58.220.99</td>\n",
       "      <td>443</td>\n",
       "      <td>6</td>\n",
       "      <td>24/07/2015 04:09:48 PM</td>\n",
       "      <td>431</td>\n",
       "      <td>1</td>\n",
       "      <td>1</td>\n",
       "      <td>...</td>\n",
       "      <td>10</td>\n",
       "      <td>10 152</td>\n",
       "      <td>10 152 152</td>\n",
       "      <td>216</td>\n",
       "      <td>216 58</td>\n",
       "      <td>216 58 220</td>\n",
       "      <td></td>\n",
       "      <td>US</td>\n",
       "      <td>True</td>\n",
       "      <td>False</td>\n",
       "    </tr>\n",
       "    <tr>\n",
       "      <th>3</th>\n",
       "      <td>10.152.152.11-74.125.136.120-49134-443-6</td>\n",
       "      <td>10.152.152.11</td>\n",
       "      <td>49134</td>\n",
       "      <td>74.125.136.120</td>\n",
       "      <td>443</td>\n",
       "      <td>6</td>\n",
       "      <td>24/07/2015 04:09:48 PM</td>\n",
       "      <td>359</td>\n",
       "      <td>1</td>\n",
       "      <td>1</td>\n",
       "      <td>...</td>\n",
       "      <td>10</td>\n",
       "      <td>10 152</td>\n",
       "      <td>10 152 152</td>\n",
       "      <td>74</td>\n",
       "      <td>74 125</td>\n",
       "      <td>74 125 136</td>\n",
       "      <td></td>\n",
       "      <td>US</td>\n",
       "      <td>True</td>\n",
       "      <td>False</td>\n",
       "    </tr>\n",
       "    <tr>\n",
       "      <th>4</th>\n",
       "      <td>10.152.152.11-173.194.65.127-34697-19305-6</td>\n",
       "      <td>10.152.152.11</td>\n",
       "      <td>34697</td>\n",
       "      <td>173.194.65.127</td>\n",
       "      <td>19305</td>\n",
       "      <td>6</td>\n",
       "      <td>24/07/2015 04:09:45 PM</td>\n",
       "      <td>10778451</td>\n",
       "      <td>591</td>\n",
       "      <td>400</td>\n",
       "      <td>...</td>\n",
       "      <td>10</td>\n",
       "      <td>10 152</td>\n",
       "      <td>10 152 152</td>\n",
       "      <td>173</td>\n",
       "      <td>173 194</td>\n",
       "      <td>173 194 65</td>\n",
       "      <td></td>\n",
       "      <td>US</td>\n",
       "      <td>True</td>\n",
       "      <td>False</td>\n",
       "    </tr>\n",
       "  </tbody>\n",
       "</table>\n",
       "<p>5 rows × 96 columns</p>\n",
       "</div>"
      ],
      "text/plain": [
       "                                      Flow ID         Src IP  Src Port  \\\n",
       "0     10.152.152.11-216.58.220.99-57158-443-6  10.152.152.11     57158   \n",
       "1     10.152.152.11-216.58.220.99-57159-443-6  10.152.152.11     57159   \n",
       "2     10.152.152.11-216.58.220.99-57160-443-6  10.152.152.11     57160   \n",
       "3    10.152.152.11-74.125.136.120-49134-443-6  10.152.152.11     49134   \n",
       "4  10.152.152.11-173.194.65.127-34697-19305-6  10.152.152.11     34697   \n",
       "\n",
       "           Dst IP  Dst Port  Protocol               Timestamp  Flow Duration  \\\n",
       "0   216.58.220.99       443         6  24/07/2015 04:09:48 PM            229   \n",
       "1   216.58.220.99       443         6  24/07/2015 04:09:48 PM            407   \n",
       "2   216.58.220.99       443         6  24/07/2015 04:09:48 PM            431   \n",
       "3  74.125.136.120       443         6  24/07/2015 04:09:48 PM            359   \n",
       "4  173.194.65.127     19305         6  24/07/2015 04:09:45 PM       10778451   \n",
       "\n",
       "   Total Fwd Packet  Total Bwd packets    ...      src_ip_1gram  src_ip_2gram  \\\n",
       "0                 1                  1    ...                10        10 152   \n",
       "1                 1                  1    ...                10        10 152   \n",
       "2                 1                  1    ...                10        10 152   \n",
       "3                 1                  1    ...                10        10 152   \n",
       "4               591                400    ...                10        10 152   \n",
       "\n",
       "   src_ip_3gram  dst_ip_1gram  dst_ip_2gram  dst_ip_3gram  src_ip_country  \\\n",
       "0    10 152 152           216        216 58    216 58 220                   \n",
       "1    10 152 152           216        216 58    216 58 220                   \n",
       "2    10 152 152           216        216 58    216 58 220                   \n",
       "3    10 152 152            74        74 125    74 125 136                   \n",
       "4    10 152 152           173       173 194    173 194 65                   \n",
       "\n",
       "   dst_ip_country  src_bogon  dst_bogon  \n",
       "0              US       True      False  \n",
       "1              US       True      False  \n",
       "2              US       True      False  \n",
       "3              US       True      False  \n",
       "4              US       True      False  \n",
       "\n",
       "[5 rows x 96 columns]"
      ]
     },
     "execution_count": 33,
     "metadata": {},
     "output_type": "execute_result"
    }
   ],
   "source": [
    "samples.to_csv(dataset_folder+\"darknet_processado.csv\")\n",
    "samples.head()"
   ]
  },
  {
   "cell_type": "markdown",
   "metadata": {
    "heading_collapsed": true
   },
   "source": [
    "# Dataset analysis"
   ]
  },
  {
   "cell_type": "code",
   "execution_count": 34,
   "metadata": {
    "ExecuteTime": {
     "end_time": "2021-03-09T12:52:35.957371Z",
     "start_time": "2021-03-09T12:52:35.322443Z"
    },
    "hidden": true,
    "scrolled": true
   },
   "outputs": [
    {
     "name": "stdout",
     "output_type": "stream",
     "text": [
      "\n"
     ]
    },
    {
     "data": {
      "image/png": "[encoded data removed]",
      "text/plain": [
       "<Figure size 360x360 with 1 Axes>"
      ]
     },
     "metadata": {},
     "output_type": "display_data"
    }
   ],
   "source": [
    "df = to_analyse.groupby(\"Label\").count()\n",
    "print()\n",
    "fig, ax = plt.subplots(figsize=(5,5))\n",
    "\n",
    "df.plot(y=\"Label.1\", legend=None, ax=ax, shadow=False, kind=\"pie\", fontsize=18,autopct=lambda x: int(df[\"Label.1\"].values.sum()*x/100))\n",
    "plt.ylabel(\"\")\n",
    "plt.savefig('distr_dados_ref')\n",
    "plt.show()"
   ]
  },
  {
   "cell_type": "markdown",
   "metadata": {
    "hidden": true
   },
   "source": [
    "## Labels probability distribution"
   ]
  },
  {
   "cell_type": "code",
   "execution_count": 35,
   "metadata": {
    "ExecuteTime": {
     "end_time": "2021-03-09T12:52:37.322860Z",
     "start_time": "2021-03-09T12:52:35.963360Z"
    },
    "hidden": true
   },
   "outputs": [
    {
     "data": {
      "image/png": "[encoded data removed]",
      "text/plain": [
       "<Figure size 1296x432 with 1 Axes>"
      ]
     },
     "metadata": {
      "needs_background": "light"
     },
     "output_type": "display_data"
    }
   ],
   "source": [
    "sns.histplot(data=to_analyse, x=\"Label\", stat=\"frequency\")\n",
    "plt.show()"
   ]
  },
  {
   "cell_type": "code",
   "execution_count": 36,
   "metadata": {
    "ExecuteTime": {
     "end_time": "2021-03-09T12:52:37.805904Z",
     "start_time": "2021-03-09T12:52:37.325454Z"
    },
    "hidden": true
   },
   "outputs": [
    {
     "data": {
      "image/png": "[encoded data removed]",
      "text/plain": [
       "<Figure size 1296x432 with 1 Axes>"
      ]
     },
     "metadata": {
      "needs_background": "light"
     },
     "output_type": "display_data"
    }
   ],
   "source": [
    "sns.histplot(data=to_analyse, x=\"Label.1\", stat=\"probability\")\n",
    "plt.show()"
   ]
  },
  {
   "cell_type": "markdown",
   "metadata": {
    "hidden": true
   },
   "source": [
    "## Traffic type on Darknet and outside"
   ]
  },
  {
   "cell_type": "code",
   "execution_count": 37,
   "metadata": {
    "ExecuteTime": {
     "end_time": "2021-03-09T12:52:38.408139Z",
     "start_time": "2021-03-09T12:52:37.809370Z"
    },
    "hidden": true,
    "scrolled": true
   },
   "outputs": [
    {
     "data": {
      "image/png": "[encoded data removed]",
      "text/plain": [
       "<Figure size 1296x432 with 1 Axes>"
      ]
     },
     "metadata": {
      "needs_background": "light"
     },
     "output_type": "display_data"
    }
   ],
   "source": [
    "sns.histplot(data=to_analyse[to_analyse['Label'] == \"Benign\"], x=\"Label.1\", stat=\"probability\")\n",
    "plt.show()"
   ]
  },
  {
   "cell_type": "code",
   "execution_count": 38,
   "metadata": {
    "ExecuteTime": {
     "end_time": "2021-03-09T12:52:38.796075Z",
     "start_time": "2021-03-09T12:52:38.410497Z"
    },
    "hidden": true,
    "scrolled": true
   },
   "outputs": [
    {
     "data": {
      "image/png": "[encoded data removed]",
      "text/plain": [
       "<Figure size 1296x432 with 1 Axes>"
      ]
     },
     "metadata": {
      "needs_background": "light"
     },
     "output_type": "display_data"
    }
   ],
   "source": [
    "sns.histplot(data=to_analyse[to_analyse['Label'] == \"Darknet\"], x=\"Label.1\", stat=\"probability\")\n",
    "plt.show()"
   ]
  },
  {
   "cell_type": "markdown",
   "metadata": {
    "hidden": true
   },
   "source": [
    "## Access hour"
   ]
  },
  {
   "cell_type": "code",
   "execution_count": 39,
   "metadata": {
    "ExecuteTime": {
     "end_time": "2021-03-09T12:52:41.389002Z",
     "start_time": "2021-03-09T12:52:38.798537Z"
    },
    "hidden": true
   },
   "outputs": [
    {
     "data": {
      "image/png": "[encoded data removed]",
      "text/plain": [
       "<Figure size 1296x432 with 1 Axes>"
      ]
     },
     "metadata": {
      "needs_background": "light"
     },
     "output_type": "display_data"
    }
   ],
   "source": [
    "plot_graph_darknet = to_analyse[to_analyse['Label'] == \"Darknet\"]\n",
    "plot_graph_benign = to_analyse[to_analyse['Label'] == \"Benign\"]\n",
    "sns.kdeplot(plot_graph_darknet['hour'], shade=True)\n",
    "sns.kdeplot(plot_graph_benign['hour'], shade=True)\n",
    "plt.xlabel(\"Horas\")\n",
    "plt.ylabel(\"Densidade\")\n",
    "plt.legend(['Darknet', 'Benigna'])\n",
    "plt.savefig('hour_relationship2')\n",
    "plt.show()"
   ]
  },
  {
   "cell_type": "markdown",
   "metadata": {
    "heading_collapsed": true
   },
   "source": [
    "# Models evaluation"
   ]
  },
  {
   "cell_type": "code",
   "execution_count": 45,
   "metadata": {
    "ExecuteTime": {
     "end_time": "2021-03-09T12:55:03.953494Z",
     "start_time": "2021-03-09T12:55:03.944827Z"
    },
    "hidden": true
   },
   "outputs": [],
   "source": [
    "def split_train_target(samples, labels_col):\n",
    "    X = samples.copy()\n",
    "    del X[labels_col]\n",
    "    X = X.values\n",
    "    y = samples[labels_col].values\n",
    "    labels = np.unique(samples[labels_col])\n",
    "    return X, y, labels"
   ]
  },
  {
   "cell_type": "code",
   "execution_count": 46,
   "metadata": {
    "ExecuteTime": {
     "end_time": "2021-03-09T12:55:04.128455Z",
     "start_time": "2021-03-09T12:55:04.114624Z"
    },
    "hidden": true
   },
   "outputs": [],
   "source": [
    "def kfold_validation(model, X, y, labels=None, n_splits=10, random_state=42):\n",
    "    skf = StratifiedKFold(n_splits=n_splits, shuffle=True, random_state=random_state)\n",
    "    classifier_reports = []\n",
    "    for train_index, test_index in tqdm(skf.split(X, y), total=n_splits): \n",
    "        x_train_fold, x_test_fold = X[train_index], X[test_index] \n",
    "        y_train_fold, y_test_fold = y[train_index], y[test_index] \n",
    "        model = model.fit(x_train_fold,y_train_fold)\n",
    "        y_pred_fold = model.predict(x_test_fold)\n",
    "        class_report = classification_report(y_test_fold, y_pred_fold, target_names=labels,\n",
    "                                             output_dict=True)    \n",
    "        classifier_reports.append(class_report)\n",
    "    \n",
    "    final_report = {}\n",
    "    for report in classifier_reports:\n",
    "        for label in report.keys():\n",
    "            if type(report[label]) == dict:\n",
    "                if label not in final_report:\n",
    "                    final_report[label] = {}\n",
    "                for key in report[label].keys():\n",
    "                    if key not in final_report[label]:\n",
    "                            final_report[label][key] = 0.0\n",
    "                    final_report[label][key] += report[label][key]\n",
    "            else:\n",
    "                if label not in final_report:\n",
    "                    final_report[label] = 0.0\n",
    "                final_report[label] += report[label]\n",
    "\n",
    "    for label in final_report.keys():\n",
    "        if type(final_report[label]) == dict:\n",
    "            for metric in final_report[label].keys():\n",
    "                final_report[label][metric] /= n_splits\n",
    "        else:\n",
    "            final_report[label] /= n_splits\n",
    "    final_report[\"n_splits\"] = n_splits\n",
    "    return final_report"
   ]
  },
  {
   "cell_type": "code",
   "execution_count": 47,
   "metadata": {
    "ExecuteTime": {
     "end_time": "2021-03-09T12:55:05.205181Z",
     "start_time": "2021-03-09T12:55:05.195805Z"
    },
    "hidden": true
   },
   "outputs": [],
   "source": [
    "def show_kfold_report(report, labels):\n",
    "    metrics_printed = False\n",
    "    n_spaces = max([len(label) for label in labels])\n",
    "    for label in labels:\n",
    "        if not metrics_printed:\n",
    "            print(\" \"*n_spaces, end='')\n",
    "            for metric in report[label].keys():\n",
    "                print(f\"{metric}\", \" \"*6,end='')\n",
    "            metrics_printed = True\n",
    "            print()\n",
    "        print(f\"{label}: \", \" \"*(n_spaces-len(label)),end='')\n",
    "        for metric in report[label].keys():\n",
    "            print(\"%0.2f\\t\\t\"%(report[label][metric]*100),end='')\n",
    "        print()\n",
    "    print(\"\\n\\n\", \"%d-fold Accuracy: %0.2f%%\"%(report[\"n_splits\"],report['accuracy']*100))"
   ]
  },
  {
   "cell_type": "code",
   "execution_count": 48,
   "metadata": {
    "ExecuteTime": {
     "end_time": "2021-03-09T12:55:05.863314Z",
     "start_time": "2021-03-09T12:55:05.856997Z"
    },
    "hidden": true
   },
   "outputs": [],
   "source": [
    "def show_confusion_matrix(model, X, y, labels):\n",
    "    y_pred = model.predict(X)\n",
    "    conf = confusion_matrix(y, y_pred)\n",
    "    n_spaces = max([len(label) for label in labels])\n",
    "    print(\"Test accuracy: %0.2f%%\\n\"%(np.sum((y_pred==y))/y.size*100))\n",
    "    print(\"\\nConfusion matrix:\")\n",
    "    print(conf)\n",
    "    print()\n",
    "    for i in range(conf.shape[0]):\n",
    "        print(labels[i],\":\",\" \"*(n_spaces- len(labels[i])) ,\" %0.2f%%\"%(conf[i,i]/np.sum(conf[:,i])*100))"
   ]
  },
  {
   "cell_type": "code",
   "execution_count": 92,
   "metadata": {
    "ExecuteTime": {
     "end_time": "2021-03-09T17:38:57.272718Z",
     "start_time": "2021-03-09T17:38:57.261922Z"
    },
    "hidden": true
   },
   "outputs": [],
   "source": [
    "def evaluate_model(model, X_train, y_train, X_test, y_test, labels, n_splits=10, figsize=(10,10), rotation=(35,25),fname=\"conf_mat\", display_labels=None):\n",
    "    kfold_report = kfold_validation(model, X_train, y_train, n_splits=n_splits)\n",
    "    show_kfold_report(kfold_report, labels)\n",
    "    show_confusion_matrix(model, X_test, y_test, labels)\n",
    "    \n",
    "    fig, ax = plt.subplots(figsize=figsize)\n",
    "    plot_confusion_matrix(model, X_test, y_test, cmap=plt.cm.Blues, ax=ax, colorbar=True,\n",
    "                         display_labels=display_labels)\n",
    "    plt.yticks(rotation=rotation[0], va='top')\n",
    "    plt.xticks(rotation=rotation[1])\n",
    "    plt.ylabel(\"\")\n",
    "    plt.xlabel(\"\")\n",
    "    plt.tight_layout() \n",
    "    plt.savefig(fname)\n",
    "    plt.show()\n",
    "    return kfold_report"
   ]
  },
  {
   "cell_type": "markdown",
   "metadata": {
    "hidden": true
   },
   "source": [
    "## Benign vs Darknet classification"
   ]
  },
  {
   "cell_type": "code",
   "execution_count": 49,
   "metadata": {
    "ExecuteTime": {
     "end_time": "2021-03-08T16:33:14.163412Z",
     "start_time": "2021-03-08T16:33:07.825615Z"
    },
    "hidden": true
   },
   "outputs": [],
   "source": [
    "X, y, labels = split_train_target(model_samples, \"Label\")\n",
    "X_train, X_test, y_train, y_test = train_test_split(X, y, test_size=0.33, random_state=random_state)\n",
    "columns = model_samples_l1.columns.tolist()"
   ]
  },
  {
   "cell_type": "markdown",
   "metadata": {
    "hidden": true
   },
   "source": [
    "### Decision tree"
   ]
  },
  {
   "cell_type": "code",
   "execution_count": 54,
   "metadata": {
    "ExecuteTime": {
     "end_time": "2021-03-08T16:40:20.628918Z",
     "start_time": "2021-03-08T16:39:05.309185Z"
    },
    "hidden": true,
    "scrolled": false
   },
   "outputs": [
    {
     "name": "stderr",
     "output_type": "stream",
     "text": [
      "\n",
      "  0%|          | 0/10 [00:00<?, ?it/s]\u001b[A\n",
      " 10%|█         | 1/10 [00:07<01:05,  7.32s/it]\u001b[A\n",
      " 20%|██        | 2/10 [00:15<00:59,  7.44s/it]\u001b[A\n",
      " 30%|███       | 3/10 [00:23<00:53,  7.71s/it]\u001b[A\n",
      " 40%|████      | 4/10 [00:30<00:45,  7.62s/it]\u001b[A\n",
      " 50%|█████     | 5/10 [00:37<00:36,  7.38s/it]\u001b[A\n",
      " 60%|██████    | 6/10 [00:44<00:29,  7.36s/it]\u001b[A\n",
      " 70%|███████   | 7/10 [00:52<00:21,  7.29s/it]\u001b[A\n",
      " 80%|████████  | 8/10 [00:58<00:14,  7.11s/it]\u001b[A\n",
      " 90%|█████████ | 9/10 [01:05<00:07,  7.10s/it]\u001b[A\n",
      "100%|██████████| 10/10 [01:13<00:00,  7.31s/it]\u001b[A\n"
     ]
    },
    {
     "name": "stdout",
     "output_type": "stream",
     "text": [
      "       precision       recall       f1-score       support       \n",
      "Benign:   99.94\t\t99.92\t\t99.93\t\t784910.00\t\t\n",
      "Darknet:  99.64\t\t99.71\t\t99.67\t\t163010.00\t\t\n",
      "\n",
      "\n",
      " 10-fold Accuracy: 99.89%\n",
      "Test accuracy: 99.91%\n",
      "\n",
      "\n",
      "Confusion matrix:\n",
      "[[38661    18]\n",
      " [   22  7988]]\n",
      "\n",
      "Benign :    99.94%\n",
      "Darknet :   99.78%\n"
     ]
    },
    {
     "data": {
      "image/png": "[encoded data removed]",
      "text/plain": [
       "<Figure size 216x216 with 1 Axes>"
      ]
     },
     "metadata": {
      "needs_background": "light"
     },
     "output_type": "display_data"
    }
   ],
   "source": [
    "model = DecisionTreeClassifier(random_state=random_state)\n",
    "report = evaluate_model(model, X_train, y_train, X_test, y_test, labels, figsize=(3,3),rotation=(90, 0), fname=\"dt_conf_origin\")"
   ]
  },
  {
   "cell_type": "markdown",
   "metadata": {
    "hidden": true
   },
   "source": [
    "### Random forest"
   ]
  },
  {
   "cell_type": "code",
   "execution_count": 55,
   "metadata": {
    "ExecuteTime": {
     "end_time": "2021-03-08T16:47:08.744955Z",
     "start_time": "2021-03-08T16:43:11.933650Z"
    },
    "hidden": true,
    "scrolled": false
   },
   "outputs": [
    {
     "name": "stderr",
     "output_type": "stream",
     "text": [
      "\n",
      "  0%|          | 0/10 [00:00<?, ?it/s]\u001b[A\n",
      " 10%|█         | 1/10 [00:26<03:54, 26.03s/it]\u001b[A\n",
      " 20%|██        | 2/10 [00:49<03:21, 25.24s/it]\u001b[A\n",
      " 30%|███       | 3/10 [01:12<02:51, 24.49s/it]\u001b[A\n",
      " 40%|████      | 4/10 [01:35<02:24, 24.01s/it]\u001b[A\n",
      " 50%|█████     | 5/10 [01:57<01:57, 23.58s/it]\u001b[A\n",
      " 60%|██████    | 6/10 [02:21<01:34, 23.73s/it]\u001b[A\n",
      " 70%|███████   | 7/10 [02:44<01:10, 23.53s/it]\u001b[A\n",
      " 80%|████████  | 8/10 [03:07<00:46, 23.14s/it]\u001b[A\n",
      " 90%|█████████ | 9/10 [03:28<00:22, 22.61s/it]\u001b[A\n",
      "100%|██████████| 10/10 [03:53<00:00, 23.33s/it]\u001b[A\n"
     ]
    },
    {
     "name": "stdout",
     "output_type": "stream",
     "text": [
      "       precision       recall       f1-score       support       \n",
      "Benign:   99.89\t\t99.97\t\t99.93\t\t784910.00\t\t\n",
      "Darknet:  99.87\t\t99.47\t\t99.67\t\t163010.00\t\t\n",
      "\n",
      "\n",
      " 10-fold Accuracy: 99.89%\n",
      "Test accuracy: 99.90%\n",
      "\n",
      "\n",
      "Confusion matrix:\n",
      "[[38670     9]\n",
      " [   36  7974]]\n",
      "\n",
      "Benign :    99.91%\n",
      "Darknet :   99.89%\n"
     ]
    },
    {
     "data": {
      "image/png": "[encoded data removed]",
      "text/plain": [
       "<Figure size 216x216 with 1 Axes>"
      ]
     },
     "metadata": {
      "needs_background": "light"
     },
     "output_type": "display_data"
    }
   ],
   "source": [
    "rf_model = RandomForestClassifier(random_state=random_state)\n",
    "report_rf = evaluate_model(rf_model, X_train, y_train, X_test, y_test, labels, \n",
    "                           figsize=(3,3), rotation=(90, 0), fname=\"rf_conf_origin\")"
   ]
  },
  {
   "cell_type": "markdown",
   "metadata": {
    "hidden": true
   },
   "source": [
    "## Darknet traffic caracterization"
   ]
  },
  {
   "cell_type": "code",
   "execution_count": 60,
   "metadata": {
    "ExecuteTime": {
     "end_time": "2021-03-09T17:12:09.941910Z",
     "start_time": "2021-03-09T17:12:09.119403Z"
    },
    "hidden": true
   },
   "outputs": [],
   "source": [
    "X1, y1, labels1 = split_train_target(model_samples_l1, \"Label.1\")\n",
    "X1_train, X1_test, y1_train, y1_test = train_test_split(X1, y1, test_size=0.33, random_state=random_state)\n",
    "columns1 = model_samples_l1.columns.tolist()"
   ]
  },
  {
   "cell_type": "markdown",
   "metadata": {
    "hidden": true
   },
   "source": [
    "### Decision tree"
   ]
  },
  {
   "cell_type": "code",
   "execution_count": 93,
   "metadata": {
    "ExecuteTime": {
     "end_time": "2021-03-09T17:39:13.190651Z",
     "start_time": "2021-03-09T17:39:01.681732Z"
    },
    "hidden": true
   },
   "outputs": [
    {
     "name": "stderr",
     "output_type": "stream",
     "text": [
      "100%|██████████| 10/10 [00:07<00:00,  1.31it/s]\n"
     ]
    },
    {
     "name": "stdout",
     "output_type": "stream",
     "text": [
      "               precision       recall       f1-score       support       \n",
      "Audio-Streaming:  99.60\t\t99.66\t\t99.63\t\t88830.00\t\t\n",
      "Browsing:         93.05\t\t83.82\t\t87.85\t\t1750.00\t\t\n",
      "Chat:             98.93\t\t99.28\t\t99.10\t\t30520.00\t\t\n",
      "Email:            95.33\t\t95.70\t\t95.45\t\t3930.00\t\t\n",
      "File-Transfer:    98.27\t\t97.92\t\t98.09\t\t17300.00\t\t\n",
      "P2P:              97.12\t\t96.25\t\t96.48\t\t1570.00\t\t\n",
      "VOIP:             97.39\t\t97.97\t\t97.68\t\t9860.00\t\t\n",
      "Video-Streaming:  96.28\t\t96.16\t\t96.21\t\t9120.00\t\t\n",
      "\n",
      "\n",
      " 10-fold Accuracy: 98.81%\n",
      "Test accuracy: 99.03%\n",
      "\n",
      "\n",
      "Confusion matrix:\n",
      "[[4387    2   12    0    0    0    0    0]\n",
      " [   4   80    0    0    1    1    1    1]\n",
      " [   5    4 1479    0    0    0    1    0]\n",
      " [   0    0    0  184    5    0    0    0]\n",
      " [   1    0    0   11  864    0    0    4]\n",
      " [   0    0    0    0    0   63    0    0]\n",
      " [   0    0    1    0    0    0  473    5]\n",
      " [   2    0    1    0    4    2   10  415]]\n",
      "\n",
      "Audio-Streaming :   99.73%\n",
      "Browsing :          93.02%\n",
      "Chat :              99.06%\n",
      "Email :             94.36%\n",
      "File-Transfer :     98.86%\n",
      "P2P :               95.45%\n",
      "VOIP :              97.53%\n",
      "Video-Streaming :   97.65%\n"
     ]
    },
    {
     "data": {
      "image/png": "[encoded data removed]",
      "text/plain": [
       "<Figure size 576x576 with 2 Axes>"
      ]
     },
     "metadata": {
      "needs_background": "light"
     },
     "output_type": "display_data"
    }
   ],
   "source": [
    "model1 = DecisionTreeClassifier(random_state=random_state)\n",
    "report1 = evaluate_model(model1, X1_train, y1_train, X1_test, y1_test, labels1, \n",
    "                         figsize=(8,8), rotation=(0,0), fname=\"dt_conf_app\",\n",
    "                        display_labels=[\"A\", \"B\", \"C\", \"D\", \"E\",\"F\",\"G\",\"H\"])"
   ]
  },
  {
   "cell_type": "markdown",
   "metadata": {
    "hidden": true
   },
   "source": [
    "### Random forest"
   ]
  },
  {
   "cell_type": "code",
   "execution_count": 95,
   "metadata": {
    "ExecuteTime": {
     "end_time": "2021-03-09T17:40:38.409655Z",
     "start_time": "2021-03-09T17:39:58.255440Z"
    },
    "hidden": true
   },
   "outputs": [
    {
     "name": "stderr",
     "output_type": "stream",
     "text": [
      "100%|██████████| 10/10 [00:35<00:00,  3.57s/it]\n"
     ]
    },
    {
     "name": "stdout",
     "output_type": "stream",
     "text": [
      "               precision       recall       f1-score       support       \n",
      "Audio-Streaming:  99.50\t\t99.08\t\t99.29\t\t88830.00\t\t\n",
      "Browsing:         88.49\t\t83.95\t\t85.87\t\t1750.00\t\t\n",
      "Chat:             98.51\t\t99.08\t\t98.79\t\t30520.00\t\t\n",
      "Email:            98.47\t\t95.94\t\t97.15\t\t3930.00\t\t\n",
      "File-Transfer:    98.03\t\t96.99\t\t97.50\t\t17300.00\t\t\n",
      "P2P:              95.67\t\t97.50\t\t96.32\t\t1570.00\t\t\n",
      "VOIP:             97.13\t\t97.26\t\t97.16\t\t9860.00\t\t\n",
      "Video-Streaming:  91.32\t\t96.27\t\t93.71\t\t9120.00\t\t\n",
      "\n",
      "\n",
      " 10-fold Accuracy: 98.34%\n",
      "Test accuracy: 98.34%\n",
      "\n",
      "\n",
      "Confusion matrix:\n",
      "[[4361    2   17    0    6    0    0   15]\n",
      " [   6   75    4    0    0    0    1    2]\n",
      " [   9    3 1462    0   14    0    0    1]\n",
      " [   0    0    1  185    3    0    0    0]\n",
      " [  10    0    5    4  859    0    0    2]\n",
      " [   2    0    0    0    0   61    0    0]\n",
      " [   2    1    1    0    1    0  468    6]\n",
      " [   1    2    0    0    2    0   10  419]]\n",
      "\n",
      "Audio-Streaming :   99.32%\n",
      "Browsing :          90.36%\n",
      "Chat :              98.12%\n",
      "Email :             97.88%\n",
      "File-Transfer :     97.06%\n",
      "P2P :               100.00%\n",
      "VOIP :              97.70%\n",
      "Video-Streaming :   94.16%\n"
     ]
    },
    {
     "data": {
      "image/png": "[encoded data removed]",
      "text/plain": [
       "<Figure size 576x576 with 2 Axes>"
      ]
     },
     "metadata": {
      "needs_background": "light"
     },
     "output_type": "display_data"
    }
   ],
   "source": [
    "rf_model1 = RandomForestClassifier(random_state=random_state)\n",
    "report_rf1 = evaluate_model(rf_model1, X1_train, y1_train, X1_test, y1_test, labels1, figsize=(8,8), \n",
    "                            rotation=(0,0), fname=\"rf_conf_app\",\n",
    "                        display_labels=[\"A\", \"B\", \"C\", \"D\", \"E\",\"F\",\"G\",\"H\"])"
   ]
  },
  {
   "cell_type": "markdown",
   "metadata": {
    "heading_collapsed": true
   },
   "source": [
    "# Feature selection"
   ]
  },
  {
   "cell_type": "markdown",
   "metadata": {
    "hidden": true
   },
   "source": [
    "## Recursive Feature Elimination (RFE)"
   ]
  },
  {
   "cell_type": "code",
   "execution_count": 43,
   "metadata": {
    "ExecuteTime": {
     "end_time": "2021-03-09T12:54:58.614340Z",
     "start_time": "2021-03-09T12:54:58.608522Z"
    },
    "hidden": true
   },
   "outputs": [],
   "source": [
    "def select_features(model, X, y, min_feats=1,step=2, random_state=None):\n",
    "    rfe = RFECV(model, min_features_to_select=min_feats, step=step, cv=StratifiedKFold(10, shuffle=True, random_state=random_state), scoring='accuracy', n_jobs=4, verbose=3)\n",
    "    rfe.fit(X, y)\n",
    "    return rfe\n",
    "\n",
    "def final_evaluation(model, X, y, labels, rfe):\n",
    "    X_selected = rfe.transform(X)\n",
    "    X_train, X_test, y_train, y_test = train_test_split(X_selected, y, test_size=0.33, random_state=random_state)\n",
    "    kfold_report = kfold_validation(model, X_train, y_train, n_splits=10)\n",
    "    show_kfold_report(kfold_report, np.unique(y_train))\n",
    "    show_confusion_matrix(model, X_test, y_test, labels)"
   ]
  },
  {
   "cell_type": "code",
   "execution_count": 44,
   "metadata": {
    "ExecuteTime": {
     "end_time": "2021-03-09T12:54:58.815891Z",
     "start_time": "2021-03-09T12:54:58.805616Z"
    },
    "hidden": true
   },
   "outputs": [],
   "source": [
    "def summarize_feats(rfe, model, columns, to_remove=[]):\n",
    "    columns = [column for column in columns if column not in to_remove]\n",
    "    columns = [columns[i] for i in range(len(columns)) if (i < len(rfe.support_)) \n",
    "               and rfe.support_[i] ]\n",
    "    features = zip(columns, model.feature_importances_)\n",
    "    feat_import = [(feat, importance) for feat, importance in features]\n",
    "    feat_import.sort(key = lambda x: x[1], reverse=True)\n",
    "    \n",
    "    n_spaces = max([len(feat) for feat, _ in feat_import])\n",
    "    head = \"Feature\" + str(\" \"*(n_spaces-len(\"Feature\")) + \"\\tImportance\") \n",
    "    print(head)\n",
    "    print(\"-\"*(len(head)+5))\n",
    "    for feature, importance in feat_import:\n",
    "        print(f\"%s:\"%(feature),\" \"*(n_spaces-len(feature)),\"\\t%0.4f\"%(importance))\n",
    "    \n",
    "    return columns"
   ]
  },
  {
   "cell_type": "markdown",
   "metadata": {
    "hidden": true
   },
   "source": [
    "### Benign vs Darknet classification"
   ]
  },
  {
   "cell_type": "markdown",
   "metadata": {
    "hidden": true
   },
   "source": [
    "#### Without new features"
   ]
  },
  {
   "cell_type": "code",
   "execution_count": 198,
   "metadata": {
    "ExecuteTime": {
     "end_time": "2021-03-03T11:34:24.412339Z",
     "start_time": "2021-03-03T11:34:24.161981Z"
    },
    "hidden": true
   },
   "outputs": [
    {
     "data": {
      "text/plain": [
       "Index(['Src Port', 'Dst Port', 'Protocol', 'Flow Duration', 'Total Fwd Packet',\n",
       "       'Total Bwd packets', 'Total Length of Fwd Packet',\n",
       "       'Total Length of Bwd Packet', 'Fwd Packet Length Max',\n",
       "       'Fwd Packet Length Min', 'Fwd Packet Length Mean',\n",
       "       'Fwd Packet Length Std', 'Bwd Packet Length Max',\n",
       "       'Bwd Packet Length Min', 'Bwd Packet Length Mean',\n",
       "       'Bwd Packet Length Std', 'Flow Bytes/s', 'Flow Packets/s',\n",
       "       'Flow IAT Mean', 'Flow IAT Std', 'Flow IAT Max', 'Flow IAT Min',\n",
       "       'Fwd IAT Total', 'Fwd IAT Mean', 'Fwd IAT Std', 'Fwd IAT Max',\n",
       "       'Fwd IAT Min', 'Bwd IAT Total', 'Bwd IAT Mean', 'Bwd IAT Std',\n",
       "       'Bwd IAT Max', 'Bwd IAT Min', 'Fwd PSH Flags', 'Bwd PSH Flags',\n",
       "       'Fwd URG Flags', 'Bwd URG Flags', 'Fwd Header Length',\n",
       "       'Bwd Header Length', 'Fwd Packets/s', 'Bwd Packets/s',\n",
       "       'Packet Length Min', 'Packet Length Max', 'Packet Length Mean',\n",
       "       'Packet Length Std', 'Packet Length Variance', 'FIN Flag Count',\n",
       "       'SYN Flag Count', 'RST Flag Count', 'PSH Flag Count', 'ACK Flag Count',\n",
       "       'URG Flag Count', 'CWE Flag Count', 'ECE Flag Count', 'Down/Up Ratio',\n",
       "       'Average Packet Size', 'Fwd Segment Size Avg', 'Bwd Segment Size Avg',\n",
       "       'Fwd Bytes/Bulk Avg', 'Fwd Packet/Bulk Avg', 'Fwd Bulk Rate Avg',\n",
       "       'Bwd Bytes/Bulk Avg', 'Bwd Packet/Bulk Avg', 'Bwd Bulk Rate Avg',\n",
       "       'Subflow Fwd Packets', 'Subflow Fwd Bytes', 'Subflow Bwd Packets',\n",
       "       'Subflow Bwd Bytes', 'FWD Init Win Bytes', 'Bwd Init Win Bytes',\n",
       "       'Fwd Act Data Pkts', 'Fwd Seg Size Min', 'Active Mean', 'Active Std',\n",
       "       'Active Max', 'Active Min', 'Idle Mean', 'Idle Std', 'Idle Max',\n",
       "       'Idle Min', 'Label'],\n",
       "      dtype='object')"
      ]
     },
     "execution_count": 198,
     "metadata": {},
     "output_type": "execute_result"
    }
   ],
   "source": [
    "ben_samples = model_samples.copy()\n",
    "ben_samples = ben_samples.drop(ben_samples.columns[:105].tolist(),axis=1)\n",
    "ben_samples.columns"
   ]
  },
  {
   "cell_type": "code",
   "execution_count": 199,
   "metadata": {
    "ExecuteTime": {
     "end_time": "2021-03-03T11:34:24.960458Z",
     "start_time": "2021-03-03T11:34:24.415481Z"
    },
    "hidden": true
   },
   "outputs": [],
   "source": [
    "X2, y2, labels2 = split_train_target(ben_samples, \"Label\")\n",
    "X2_train, X2_test, y2_train, y2_test = train_test_split(X2, y2, test_size=0.33, random_state=random_state)\n",
    "columns2 = ben_samples.columns.tolist()"
   ]
  },
  {
   "cell_type": "markdown",
   "metadata": {
    "hidden": true
   },
   "source": [
    "##### Decision tree"
   ]
  },
  {
   "cell_type": "code",
   "execution_count": 200,
   "metadata": {
    "ExecuteTime": {
     "end_time": "2021-03-03T12:04:00.646520Z",
     "start_time": "2021-03-03T11:34:24.963860Z"
    },
    "hidden": true,
    "scrolled": true
   },
   "outputs": [
    {
     "name": "stdout",
     "output_type": "stream",
     "text": [
      "Fitting estimator with 79 features.\n",
      "Fitting estimator with 78 features.\n",
      "Fitting estimator with 77 features.\n",
      "Fitting estimator with 76 features.\n",
      "Fitting estimator with 75 features.\n",
      "Fitting estimator with 74 features.\n",
      "Fitting estimator with 73 features.\n",
      "Fitting estimator with 72 features.\n",
      "Fitting estimator with 71 features.\n",
      "Fitting estimator with 70 features.\n",
      "Fitting estimator with 69 features.\n"
     ]
    }
   ],
   "source": [
    "model2 = DecisionTreeClassifier(random_state=random_state)\n",
    "rfe2 = select_features(model2, X2, y2, 1, step=1)"
   ]
  },
  {
   "cell_type": "code",
   "execution_count": 201,
   "metadata": {
    "ExecuteTime": {
     "end_time": "2021-03-03T12:04:48.311661Z",
     "start_time": "2021-03-03T12:04:00.649136Z"
    },
    "hidden": true
   },
   "outputs": [
    {
     "name": "stderr",
     "output_type": "stream",
     "text": [
      "100%|██████████| 10/10 [00:46<00:00,  4.69s/it]\n"
     ]
    },
    {
     "name": "stdout",
     "output_type": "stream",
     "text": [
      "       precision       recall       f1-score       support       \n",
      "Benign:   98.80\t\t98.81\t\t98.80\t\t784910.00\t\t\n",
      "Darknet:  94.26\t\t94.20\t\t94.23\t\t163010.00\t\t\n",
      "\n",
      "\n",
      " 10-fold Accuracy: 98.02%\n",
      "Test accuracy: 98.15%\n",
      "\n",
      "\n",
      "Confusion matrix:\n",
      "[[38236   443]\n",
      " [  423  7587]]\n",
      "\n",
      "Benign :    98.91%\n",
      "Darknet :   94.48%\n",
      "\n",
      "Optimal number of features: 68\n",
      "Feature                   \tImportance\n",
      "------------------------------------------\n",
      "Bwd Packet Length Min:       \t0.3555\n",
      "Flow IAT Mean:               \t0.1229\n",
      "Fwd Seg Size Min:            \t0.1102\n",
      "Idle Max:                    \t0.0783\n",
      "Bwd Init Win Bytes:          \t0.0421\n",
      "Src Port:                    \t0.0392\n",
      "Flow IAT Max:                \t0.0373\n",
      "Flow IAT Min:                \t0.0226\n",
      "FWD Init Win Bytes:          \t0.0190\n",
      "Fwd Packet Length Min:       \t0.0172\n",
      "Bwd Header Length:           \t0.0161\n",
      "Dst Port:                    \t0.0127\n",
      "Subflow Fwd Bytes:           \t0.0115\n",
      "Flow Duration:               \t0.0114\n",
      "Idle Min:                    \t0.0102\n",
      "Flow Bytes/s:                \t0.0098\n",
      "Fwd Packets/s:               \t0.0077\n",
      "Packet Length Std:           \t0.0075\n",
      "Bwd Packets/s:               \t0.0065\n",
      "Idle Mean:                   \t0.0059\n",
      "Packet Length Variance:      \t0.0059\n",
      "Fwd IAT Mean:                \t0.0054\n",
      "Fwd Packet Length Max:       \t0.0053\n",
      "Average Packet Size:         \t0.0048\n",
      "Fwd IAT Min:                 \t0.0044\n",
      "Fwd Act Data Pkts:           \t0.0040\n",
      "Fwd IAT Max:                 \t0.0034\n",
      "Packet Length Mean:          \t0.0030\n",
      "Flow Packets/s:              \t0.0027\n",
      "Bwd Packet Length Mean:      \t0.0022\n",
      "Fwd IAT Total:               \t0.0020\n",
      "Total Length of Fwd Packet:  \t0.0018\n",
      "FIN Flag Count:              \t0.0011\n",
      "Subflow Bwd Bytes:           \t0.0009\n",
      "Packet Length Max:           \t0.0009\n",
      "RST Flag Count:              \t0.0008\n",
      "Flow IAT Std:                \t0.0008\n",
      "Total Length of Bwd Packet:  \t0.0008\n",
      "Fwd Packet Length Mean:      \t0.0007\n",
      "Bwd Bulk Rate Avg:           \t0.0006\n",
      "Fwd Packet Length Std:       \t0.0006\n",
      "Bwd Segment Size Avg:        \t0.0006\n",
      "Fwd IAT Std:                 \t0.0004\n",
      "Total Bwd packets:           \t0.0004\n",
      "Packet Length Min:           \t0.0004\n",
      "Bwd Packet Length Max:       \t0.0004\n",
      "Fwd Header Length:           \t0.0003\n",
      "Bwd IAT Min:                 \t0.0003\n",
      "Fwd Segment Size Avg:        \t0.0003\n",
      "ACK Flag Count:              \t0.0003\n",
      "Total Fwd Packet:            \t0.0002\n",
      "Bwd IAT Mean:                \t0.0002\n",
      "Idle Std:                    \t0.0001\n",
      "Protocol:                    \t0.0001\n",
      "Bwd IAT Total:               \t0.0001\n",
      "SYN Flag Count:              \t0.0000\n",
      "PSH Flag Count:              \t0.0000\n",
      "Bwd Packet Length Std:       \t0.0000\n",
      "Bwd IAT Std:                 \t0.0000\n",
      "CWE Flag Count:              \t0.0000\n",
      "Down/Up Ratio:               \t0.0000\n",
      "Bwd Bytes/Bulk Avg:          \t0.0000\n",
      "Subflow Fwd Packets:         \t0.0000\n",
      "Subflow Bwd Packets:         \t0.0000\n",
      "Active Mean:                 \t0.0000\n",
      "Active Std:                  \t0.0000\n",
      "Active Max:                  \t0.0000\n",
      "Active Min:                  \t0.0000\n"
     ]
    }
   ],
   "source": [
    "final_report2 = final_evaluation(model2, X2, y2, labels2, rfe2)\n",
    "print()\n",
    "print(f\"Optimal number of features: {rfe2.n_features_}\")\n",
    "selected_columns2 = summarize_feats(rfe2, model2, columns2)"
   ]
  },
  {
   "cell_type": "code",
   "execution_count": 202,
   "metadata": {
    "ExecuteTime": {
     "end_time": "2021-03-03T12:04:48.762439Z",
     "start_time": "2021-03-03T12:04:48.314614Z"
    },
    "hidden": true
   },
   "outputs": [],
   "source": [
    "dotfile = open(\"dtree3.dot\", 'w')\n",
    "export_graphviz(model2, out_file = dotfile, feature_names = selected_columns2)\n",
    "dotfile.close()"
   ]
  },
  {
   "cell_type": "markdown",
   "metadata": {
    "hidden": true
   },
   "source": [
    "##### Random forest"
   ]
  },
  {
   "cell_type": "code",
   "execution_count": 203,
   "metadata": {
    "ExecuteTime": {
     "end_time": "2021-03-03T12:12:17.548806Z",
     "start_time": "2021-03-03T12:04:48.764499Z"
    },
    "hidden": true,
    "scrolled": true
   },
   "outputs": [
    {
     "name": "stdout",
     "output_type": "stream",
     "text": [
      "Fitting estimator with 79 features.\n",
      "Fitting estimator with 75 features.\n",
      "Fitting estimator with 71 features.\n",
      "Fitting estimator with 67 features.\n",
      "Fitting estimator with 63 features.\n",
      "Fitting estimator with 59 features.\n",
      "Fitting estimator with 55 features.\n",
      "Fitting estimator with 51 features.\n",
      "Fitting estimator with 47 features.\n"
     ]
    }
   ],
   "source": [
    "model_rf = DecisionTreeClassifier(random_state=random_state)\n",
    "rfe_rf = select_features(model_rf, X2, y2, 1, step=4)"
   ]
  },
  {
   "cell_type": "code",
   "execution_count": 204,
   "metadata": {
    "ExecuteTime": {
     "end_time": "2021-03-03T12:12:53.013989Z",
     "start_time": "2021-03-03T12:12:17.550986Z"
    },
    "hidden": true,
    "scrolled": true
   },
   "outputs": [
    {
     "name": "stderr",
     "output_type": "stream",
     "text": [
      "100%|██████████| 10/10 [00:34<00:00,  3.48s/it]\n"
     ]
    },
    {
     "name": "stdout",
     "output_type": "stream",
     "text": [
      "       precision       recall       f1-score       support       \n",
      "Benign:   98.80\t\t98.82\t\t98.81\t\t784910.00\t\t\n",
      "Darknet:  94.31\t\t94.21\t\t94.26\t\t163010.00\t\t\n",
      "\n",
      "\n",
      " 10-fold Accuracy: 98.03%\n",
      "Test accuracy: 98.18%\n",
      "\n",
      "\n",
      "Confusion matrix:\n",
      "[[38248   431]\n",
      " [  421  7589]]\n",
      "\n",
      "Benign :    98.91%\n",
      "Darknet :   94.63%\n",
      "\n",
      "Optimal number of features: 43\n",
      "Feature                   \tImportance\n",
      "------------------------------------------\n",
      "Bwd Packet Length Min:       \t0.3560\n",
      "Flow IAT Mean:               \t0.1212\n",
      "Fwd Seg Size Min:            \t0.1102\n",
      "Idle Max:                    \t0.0680\n",
      "Bwd Init Win Bytes:          \t0.0423\n",
      "Src Port:                    \t0.0389\n",
      "Flow IAT Max:                \t0.0369\n",
      "Flow IAT Min:                \t0.0230\n",
      "Idle Min:                    \t0.0229\n",
      "FWD Init Win Bytes:          \t0.0190\n",
      "Fwd Packet Length Min:       \t0.0172\n",
      "Bwd Header Length:           \t0.0165\n",
      "Flow Duration:               \t0.0133\n",
      "Dst Port:                    \t0.0130\n",
      "Subflow Fwd Bytes:           \t0.0112\n",
      "Flow Bytes/s:                \t0.0097\n",
      "Fwd Packets/s:               \t0.0088\n",
      "Packet Length Std:           \t0.0075\n",
      "Packet Length Variance:      \t0.0068\n",
      "Bwd Packets/s:               \t0.0063\n",
      "Fwd IAT Max:                 \t0.0058\n",
      "Fwd IAT Min:                 \t0.0050\n",
      "Fwd Act Data Pkts:           \t0.0040\n",
      "Flow Packets/s:              \t0.0038\n",
      "Packet Length Mean:          \t0.0034\n",
      "Packet Length Max:           \t0.0034\n",
      "Fwd IAT Total:               \t0.0032\n",
      "Average Packet Size:         \t0.0030\n",
      "Subflow Bwd Bytes:           \t0.0030\n",
      "Fwd IAT Mean:                \t0.0023\n",
      "Idle Mean:                   \t0.0022\n",
      "Fwd Packet Length Mean:      \t0.0021\n",
      "Total Length of Fwd Packet:  \t0.0015\n",
      "Idle Std:                    \t0.0015\n",
      "Total Length of Bwd Packet:  \t0.0012\n",
      "FIN Flag Count:              \t0.0011\n",
      "Fwd Packet Length Max:       \t0.0011\n",
      "Fwd Segment Size Avg:        \t0.0009\n",
      "Flow IAT Std:                \t0.0009\n",
      "RST Flag Count:              \t0.0008\n",
      "Fwd Packet Length Std:       \t0.0007\n",
      "Packet Length Min:           \t0.0004\n",
      "Bwd IAT Std:                 \t0.0000\n"
     ]
    }
   ],
   "source": [
    "final_report_rf = final_evaluation(model_rf, X2, y2, labels2, rfe_rf)\n",
    "print()\n",
    "print(f\"Optimal number of features: {rfe_rf.n_features_}\")\n",
    "selected_columns_rf = summarize_feats(rfe_rf, model_rf, columns2)"
   ]
  },
  {
   "cell_type": "code",
   "execution_count": 205,
   "metadata": {
    "ExecuteTime": {
     "end_time": "2021-03-03T12:12:53.491628Z",
     "start_time": "2021-03-03T12:12:53.016394Z"
    },
    "hidden": true
   },
   "outputs": [],
   "source": [
    "dotfile = open(\"rf.dot\", 'w')\n",
    "export_graphviz(model_rf, out_file = dotfile, feature_names = selected_columns_rf)\n",
    "dotfile.close()"
   ]
  },
  {
   "cell_type": "markdown",
   "metadata": {
    "hidden": true
   },
   "source": [
    "#### With new features"
   ]
  },
  {
   "cell_type": "code",
   "execution_count": 55,
   "metadata": {
    "ExecuteTime": {
     "end_time": "2021-03-09T13:22:09.604572Z",
     "start_time": "2021-03-09T13:22:02.733475Z"
    },
    "hidden": true
   },
   "outputs": [],
   "source": [
    "X2, y2, labels2 = split_train_target(model_samples, \"Label\")\n",
    "X2_train, X2_test, y2_train, y2_test = train_test_split(X2, y2, test_size=0.33, random_state=random_state)\n",
    "columns2 = model_samples.columns.tolist()"
   ]
  },
  {
   "cell_type": "markdown",
   "metadata": {
    "hidden": true
   },
   "source": [
    "##### Decision tree"
   ]
  },
  {
   "cell_type": "code",
   "execution_count": 207,
   "metadata": {
    "ExecuteTime": {
     "end_time": "2021-03-03T13:28:32.725823Z",
     "start_time": "2021-03-03T12:12:59.624961Z"
    },
    "hidden": true,
    "scrolled": true
   },
   "outputs": [
    {
     "name": "stdout",
     "output_type": "stream",
     "text": [
      "Fitting estimator with 184 features.\n",
      "Fitting estimator with 183 features.\n",
      "Fitting estimator with 182 features.\n",
      "Fitting estimator with 181 features.\n",
      "Fitting estimator with 180 features.\n",
      "Fitting estimator with 179 features.\n",
      "Fitting estimator with 178 features.\n",
      "Fitting estimator with 177 features.\n",
      "Fitting estimator with 176 features.\n",
      "Fitting estimator with 175 features.\n",
      "Fitting estimator with 174 features.\n",
      "Fitting estimator with 173 features.\n",
      "Fitting estimator with 172 features.\n",
      "Fitting estimator with 171 features.\n",
      "Fitting estimator with 170 features.\n",
      "Fitting estimator with 169 features.\n",
      "Fitting estimator with 168 features.\n",
      "Fitting estimator with 167 features.\n",
      "Fitting estimator with 166 features.\n",
      "Fitting estimator with 165 features.\n",
      "Fitting estimator with 164 features.\n",
      "Fitting estimator with 163 features.\n",
      "Fitting estimator with 162 features.\n",
      "Fitting estimator with 161 features.\n",
      "Fitting estimator with 160 features.\n",
      "Fitting estimator with 159 features.\n",
      "Fitting estimator with 158 features.\n",
      "Fitting estimator with 157 features.\n",
      "Fitting estimator with 156 features.\n",
      "Fitting estimator with 155 features.\n",
      "Fitting estimator with 154 features.\n",
      "Fitting estimator with 153 features.\n",
      "Fitting estimator with 152 features.\n",
      "Fitting estimator with 151 features.\n",
      "Fitting estimator with 150 features.\n",
      "Fitting estimator with 149 features.\n",
      "Fitting estimator with 148 features.\n",
      "Fitting estimator with 147 features.\n",
      "Fitting estimator with 146 features.\n",
      "Fitting estimator with 145 features.\n",
      "Fitting estimator with 144 features.\n",
      "Fitting estimator with 143 features.\n",
      "Fitting estimator with 142 features.\n",
      "Fitting estimator with 141 features.\n",
      "Fitting estimator with 140 features.\n",
      "Fitting estimator with 139 features.\n",
      "Fitting estimator with 138 features.\n",
      "Fitting estimator with 137 features.\n",
      "Fitting estimator with 136 features.\n",
      "Fitting estimator with 135 features.\n",
      "Fitting estimator with 134 features.\n",
      "Fitting estimator with 133 features.\n",
      "Fitting estimator with 132 features.\n",
      "Fitting estimator with 131 features.\n",
      "Fitting estimator with 130 features.\n",
      "Fitting estimator with 129 features.\n",
      "Fitting estimator with 128 features.\n",
      "Fitting estimator with 127 features.\n",
      "Fitting estimator with 126 features.\n",
      "Fitting estimator with 125 features.\n",
      "Fitting estimator with 124 features.\n",
      "Fitting estimator with 123 features.\n",
      "Fitting estimator with 122 features.\n",
      "Fitting estimator with 121 features.\n",
      "Fitting estimator with 120 features.\n",
      "Fitting estimator with 119 features.\n",
      "Fitting estimator with 118 features.\n",
      "Fitting estimator with 117 features.\n",
      "Fitting estimator with 116 features.\n",
      "Fitting estimator with 115 features.\n",
      "Fitting estimator with 114 features.\n",
      "Fitting estimator with 113 features.\n",
      "Fitting estimator with 112 features.\n",
      "Fitting estimator with 111 features.\n",
      "Fitting estimator with 110 features.\n",
      "Fitting estimator with 109 features.\n",
      "Fitting estimator with 108 features.\n",
      "Fitting estimator with 107 features.\n",
      "Fitting estimator with 106 features.\n",
      "Fitting estimator with 105 features.\n",
      "Fitting estimator with 104 features.\n",
      "Fitting estimator with 103 features.\n",
      "Fitting estimator with 102 features.\n",
      "Fitting estimator with 101 features.\n",
      "Fitting estimator with 100 features.\n",
      "Fitting estimator with 99 features.\n",
      "Fitting estimator with 98 features.\n",
      "Fitting estimator with 97 features.\n",
      "Fitting estimator with 96 features.\n",
      "Fitting estimator with 95 features.\n",
      "Fitting estimator with 94 features.\n",
      "Fitting estimator with 93 features.\n",
      "Fitting estimator with 92 features.\n",
      "Fitting estimator with 91 features.\n",
      "Fitting estimator with 90 features.\n",
      "Fitting estimator with 89 features.\n",
      "Fitting estimator with 88 features.\n",
      "Fitting estimator with 87 features.\n",
      "Fitting estimator with 86 features.\n",
      "Fitting estimator with 85 features.\n",
      "Fitting estimator with 84 features.\n",
      "Fitting estimator with 83 features.\n",
      "Fitting estimator with 82 features.\n",
      "Fitting estimator with 81 features.\n",
      "Fitting estimator with 80 features.\n",
      "Fitting estimator with 79 features.\n",
      "Fitting estimator with 78 features.\n",
      "Fitting estimator with 77 features.\n",
      "Fitting estimator with 76 features.\n",
      "Fitting estimator with 75 features.\n",
      "Fitting estimator with 74 features.\n",
      "Fitting estimator with 73 features.\n",
      "Fitting estimator with 72 features.\n",
      "Fitting estimator with 71 features.\n",
      "Fitting estimator with 70 features.\n",
      "Fitting estimator with 69 features.\n",
      "Fitting estimator with 68 features.\n",
      "Fitting estimator with 67 features.\n",
      "Fitting estimator with 66 features.\n",
      "Fitting estimator with 65 features.\n",
      "Fitting estimator with 64 features.\n",
      "Fitting estimator with 63 features.\n",
      "Fitting estimator with 62 features.\n",
      "Fitting estimator with 61 features.\n",
      "Fitting estimator with 60 features.\n",
      "Fitting estimator with 59 features.\n",
      "Fitting estimator with 58 features.\n",
      "Fitting estimator with 57 features.\n",
      "Fitting estimator with 56 features.\n",
      "Fitting estimator with 55 features.\n",
      "Fitting estimator with 54 features.\n",
      "Fitting estimator with 53 features.\n",
      "Fitting estimator with 52 features.\n",
      "Fitting estimator with 51 features.\n",
      "Fitting estimator with 50 features.\n",
      "Fitting estimator with 49 features.\n",
      "Fitting estimator with 48 features.\n",
      "Fitting estimator with 47 features.\n",
      "Fitting estimator with 46 features.\n",
      "Fitting estimator with 45 features.\n",
      "Fitting estimator with 44 features.\n",
      "Fitting estimator with 43 features.\n",
      "Fitting estimator with 42 features.\n",
      "Fitting estimator with 41 features.\n",
      "Fitting estimator with 40 features.\n",
      "Fitting estimator with 39 features.\n",
      "Fitting estimator with 38 features.\n",
      "Fitting estimator with 37 features.\n",
      "Fitting estimator with 36 features.\n",
      "Fitting estimator with 35 features.\n",
      "Fitting estimator with 34 features.\n",
      "Fitting estimator with 33 features.\n",
      "Fitting estimator with 32 features.\n",
      "Fitting estimator with 31 features.\n",
      "Fitting estimator with 30 features.\n",
      "Fitting estimator with 29 features.\n",
      "Fitting estimator with 28 features.\n",
      "Fitting estimator with 27 features.\n",
      "Fitting estimator with 26 features.\n",
      "Fitting estimator with 25 features.\n",
      "Fitting estimator with 24 features.\n",
      "Fitting estimator with 23 features.\n",
      "Fitting estimator with 22 features.\n",
      "Fitting estimator with 21 features.\n",
      "Fitting estimator with 20 features.\n",
      "Fitting estimator with 19 features.\n",
      "Fitting estimator with 18 features.\n"
     ]
    }
   ],
   "source": [
    "model2 = DecisionTreeClassifier(random_state=random_state)\n",
    "rfe2 = select_features(model2, X2, y2, 1, step=1)"
   ]
  },
  {
   "cell_type": "code",
   "execution_count": 208,
   "metadata": {
    "ExecuteTime": {
     "end_time": "2021-03-03T13:28:48.103421Z",
     "start_time": "2021-03-03T13:28:32.728774Z"
    },
    "hidden": true
   },
   "outputs": [
    {
     "name": "stderr",
     "output_type": "stream",
     "text": [
      "100%|██████████| 10/10 [00:13<00:00,  1.40s/it]\n"
     ]
    },
    {
     "name": "stdout",
     "output_type": "stream",
     "text": [
      "       precision       recall       f1-score       support       \n",
      "Benign:   99.93\t\t99.92\t\t99.92\t\t784910.00\t\t\n",
      "Darknet:  99.60\t\t99.65\t\t99.63\t\t163010.00\t\t\n",
      "\n",
      "\n",
      " 10-fold Accuracy: 99.87%\n",
      "Test accuracy: 99.88%\n",
      "\n",
      "\n",
      "Confusion matrix:\n",
      "[[38646    33]\n",
      " [   24  7986]]\n",
      "\n",
      "Benign :    99.94%\n",
      "Darknet :   99.59%\n",
      "\n",
      "Optimal number of features: 17\n",
      "Feature           \tImportance\n",
      "----------------------------------\n",
      "col_91:              \t0.7628\n",
      "col_49:              \t0.1205\n",
      "Bwd Init Win Bytes:  \t0.0422\n",
      "col_24:              \t0.0410\n",
      "hour:                \t0.0140\n",
      "col_96:              \t0.0034\n",
      "Idle Max:            \t0.0024\n",
      "Idle Std:            \t0.0020\n",
      "Idle Min:            \t0.0018\n",
      "col_45:              \t0.0018\n",
      "Flow IAT Min:        \t0.0017\n",
      "Src Port:            \t0.0015\n",
      "Packet Length Std:   \t0.0014\n",
      "Flow Duration:       \t0.0013\n",
      "col_1:               \t0.0009\n",
      "FWD Init Win Bytes:  \t0.0006\n",
      "src_bogon:           \t0.0006\n"
     ]
    }
   ],
   "source": [
    "final_report2 = final_evaluation(model2, X2, y2, labels2, rfe2)\n",
    "print()\n",
    "print(f\"Optimal number of features: {rfe2.n_features_}\")\n",
    "selected_columns2 = summarize_feats(rfe2, model2, columns2)"
   ]
  },
  {
   "cell_type": "code",
   "execution_count": 209,
   "metadata": {
    "ExecuteTime": {
     "end_time": "2021-03-03T13:28:48.165148Z",
     "start_time": "2021-03-03T13:28:48.106379Z"
    },
    "hidden": true
   },
   "outputs": [],
   "source": [
    "dotfile = open(\"dtree3.dot\", 'w')\n",
    "export_graphviz(model2, out_file = dotfile, feature_names = selected_columns2)\n",
    "dotfile.close()"
   ]
  },
  {
   "cell_type": "markdown",
   "metadata": {
    "hidden": true
   },
   "source": [
    "##### Random forest"
   ]
  },
  {
   "cell_type": "code",
   "execution_count": 56,
   "metadata": {
    "ExecuteTime": {
     "end_time": "2021-03-09T14:36:32.500907Z",
     "start_time": "2021-03-09T13:22:25.907265Z"
    },
    "hidden": true,
    "scrolled": true
   },
   "outputs": [
    {
     "name": "stdout",
     "output_type": "stream",
     "text": [
      "Fitting estimator with 184 features.\n",
      "Fitting estimator with 183 features.\n",
      "Fitting estimator with 182 features.\n",
      "Fitting estimator with 181 features.\n",
      "Fitting estimator with 180 features.\n",
      "Fitting estimator with 179 features.\n",
      "Fitting estimator with 178 features.\n",
      "Fitting estimator with 177 features.\n",
      "Fitting estimator with 176 features.\n",
      "Fitting estimator with 175 features.\n",
      "Fitting estimator with 174 features.\n",
      "Fitting estimator with 173 features.\n",
      "Fitting estimator with 172 features.\n",
      "Fitting estimator with 171 features.\n",
      "Fitting estimator with 170 features.\n",
      "Fitting estimator with 169 features.\n",
      "Fitting estimator with 168 features.\n",
      "Fitting estimator with 167 features.\n",
      "Fitting estimator with 166 features.\n",
      "Fitting estimator with 165 features.\n",
      "Fitting estimator with 164 features.\n",
      "Fitting estimator with 163 features.\n",
      "Fitting estimator with 162 features.\n",
      "Fitting estimator with 161 features.\n",
      "Fitting estimator with 160 features.\n",
      "Fitting estimator with 159 features.\n",
      "Fitting estimator with 158 features.\n",
      "Fitting estimator with 157 features.\n",
      "Fitting estimator with 156 features.\n",
      "Fitting estimator with 155 features.\n",
      "Fitting estimator with 154 features.\n",
      "Fitting estimator with 153 features.\n",
      "Fitting estimator with 152 features.\n",
      "Fitting estimator with 151 features.\n",
      "Fitting estimator with 150 features.\n",
      "Fitting estimator with 149 features.\n",
      "Fitting estimator with 148 features.\n",
      "Fitting estimator with 147 features.\n",
      "Fitting estimator with 146 features.\n",
      "Fitting estimator with 145 features.\n",
      "Fitting estimator with 144 features.\n",
      "Fitting estimator with 143 features.\n",
      "Fitting estimator with 142 features.\n",
      "Fitting estimator with 141 features.\n",
      "Fitting estimator with 140 features.\n",
      "Fitting estimator with 139 features.\n",
      "Fitting estimator with 138 features.\n",
      "Fitting estimator with 137 features.\n",
      "Fitting estimator with 136 features.\n",
      "Fitting estimator with 135 features.\n",
      "Fitting estimator with 134 features.\n",
      "Fitting estimator with 133 features.\n",
      "Fitting estimator with 132 features.\n",
      "Fitting estimator with 131 features.\n",
      "Fitting estimator with 130 features.\n",
      "Fitting estimator with 129 features.\n",
      "Fitting estimator with 128 features.\n",
      "Fitting estimator with 127 features.\n",
      "Fitting estimator with 126 features.\n",
      "Fitting estimator with 125 features.\n",
      "Fitting estimator with 124 features.\n",
      "Fitting estimator with 123 features.\n",
      "Fitting estimator with 122 features.\n",
      "Fitting estimator with 121 features.\n",
      "Fitting estimator with 120 features.\n",
      "Fitting estimator with 119 features.\n",
      "Fitting estimator with 118 features.\n",
      "Fitting estimator with 117 features.\n",
      "Fitting estimator with 116 features.\n",
      "Fitting estimator with 115 features.\n",
      "Fitting estimator with 114 features.\n",
      "Fitting estimator with 113 features.\n",
      "Fitting estimator with 112 features.\n",
      "Fitting estimator with 111 features.\n",
      "Fitting estimator with 110 features.\n",
      "Fitting estimator with 109 features.\n",
      "Fitting estimator with 108 features.\n",
      "Fitting estimator with 107 features.\n",
      "Fitting estimator with 106 features.\n",
      "Fitting estimator with 105 features.\n",
      "Fitting estimator with 104 features.\n",
      "Fitting estimator with 103 features.\n",
      "Fitting estimator with 102 features.\n",
      "Fitting estimator with 101 features.\n",
      "Fitting estimator with 100 features.\n",
      "Fitting estimator with 99 features.\n",
      "Fitting estimator with 98 features.\n",
      "Fitting estimator with 97 features.\n",
      "Fitting estimator with 96 features.\n",
      "Fitting estimator with 95 features.\n",
      "Fitting estimator with 94 features.\n",
      "Fitting estimator with 93 features.\n",
      "Fitting estimator with 92 features.\n",
      "Fitting estimator with 91 features.\n",
      "Fitting estimator with 90 features.\n",
      "Fitting estimator with 89 features.\n",
      "Fitting estimator with 88 features.\n",
      "Fitting estimator with 87 features.\n",
      "Fitting estimator with 86 features.\n",
      "Fitting estimator with 85 features.\n",
      "Fitting estimator with 84 features.\n",
      "Fitting estimator with 83 features.\n",
      "Fitting estimator with 82 features.\n",
      "Fitting estimator with 81 features.\n",
      "Fitting estimator with 80 features.\n",
      "Fitting estimator with 79 features.\n",
      "Fitting estimator with 78 features.\n",
      "Fitting estimator with 77 features.\n",
      "Fitting estimator with 76 features.\n",
      "Fitting estimator with 75 features.\n",
      "Fitting estimator with 74 features.\n",
      "Fitting estimator with 73 features.\n"
     ]
    }
   ],
   "source": [
    "model_rf = DecisionTreeClassifier(random_state=random_state)\n",
    "rfe_rf = select_features(model_rf, X2, y2, 1, step=1)"
   ]
  },
  {
   "cell_type": "code",
   "execution_count": 57,
   "metadata": {
    "ExecuteTime": {
     "end_time": "2021-03-09T14:37:16.544268Z",
     "start_time": "2021-03-09T14:36:32.503571Z"
    },
    "hidden": true,
    "scrolled": true
   },
   "outputs": [
    {
     "name": "stderr",
     "output_type": "stream",
     "text": [
      "100%|██████████| 10/10 [00:40<00:00,  4.09s/it]\n"
     ]
    },
    {
     "name": "stdout",
     "output_type": "stream",
     "text": [
      "       precision       recall       f1-score       support       \n",
      "Benign:   99.94\t\t99.92\t\t99.93\t\t784910.00\t\t\n",
      "Darknet:  99.63\t\t99.69\t\t99.66\t\t163010.00\t\t\n",
      "\n",
      "\n",
      " 10-fold Accuracy: 99.88%\n",
      "Test accuracy: 99.91%\n",
      "\n",
      "\n",
      "Confusion matrix:\n",
      "[[38659    20]\n",
      " [   20  7990]]\n",
      "\n",
      "Benign :    99.95%\n",
      "Darknet :   99.75%\n",
      "\n",
      "Optimal number of features: 72\n",
      "Feature                   \tImportance\n",
      "------------------------------------------\n",
      "col_91:                      \t0.7628\n",
      "col_49:                      \t0.1205\n",
      "Bwd Init Win Bytes:          \t0.0418\n",
      "col_24:                      \t0.0410\n",
      "hour:                        \t0.0149\n",
      "col_96:                      \t0.0034\n",
      "Idle Min:                    \t0.0026\n",
      "Idle Std:                    \t0.0020\n",
      "col_45:                      \t0.0018\n",
      "Flow IAT Min:                \t0.0010\n",
      "col_1:                       \t0.0009\n",
      "Src Port:                    \t0.0007\n",
      "src_bogon:                   \t0.0006\n",
      "FWD Init Win Bytes:          \t0.0005\n",
      "Packet Length Variance:      \t0.0004\n",
      "Idle Max:                    \t0.0004\n",
      "Fwd Packets/s:               \t0.0003\n",
      "col_80:                      \t0.0003\n",
      "Fwd Packet Length Std:       \t0.0003\n",
      "Fwd Packet Length Max:       \t0.0003\n",
      "Total Length of Fwd Packet:  \t0.0003\n",
      "col_18:                      \t0.0002\n",
      "Average Packet Size:         \t0.0002\n",
      "Fwd IAT Min:                 \t0.0002\n",
      "Flow IAT Max:                \t0.0002\n",
      "col_29:                      \t0.0002\n",
      "Flow Packets/s:              \t0.0002\n",
      "Idle Mean:                   \t0.0002\n",
      "Packet Length Std:           \t0.0002\n",
      "Bwd Bulk Rate Avg:           \t0.0002\n",
      "Fwd Seg Size Min:            \t0.0001\n",
      "col_19:                      \t0.0001\n",
      "Bwd Packets/s:               \t0.0001\n",
      "Flow IAT Mean:               \t0.0001\n",
      "Total Length of Bwd Packet:  \t0.0001\n",
      "col_46:                      \t0.0001\n",
      "Flow IAT Std:                \t0.0001\n",
      "col_42:                      \t0.0001\n",
      "Bwd Packet Length Min:       \t0.0001\n",
      "Total Fwd Packet:            \t0.0001\n",
      "col_86:                      \t0.0000\n",
      "Fwd Packet Length Mean:      \t0.0000\n",
      "Flow Bytes/s:                \t0.0000\n",
      "Fwd IAT Mean:                \t0.0000\n",
      "Flow Duration:               \t0.0000\n",
      "col_30:                      \t0.0000\n",
      "col_6:                       \t0.0000\n",
      "Packet Length Min:           \t0.0000\n",
      "col_74:                      \t0.0000\n",
      "col_44:                      \t0.0000\n",
      "col_21:                      \t0.0000\n",
      "col_55:                      \t0.0000\n",
      "col_2:                       \t0.0000\n",
      "col_3:                       \t0.0000\n",
      "col_4:                       \t0.0000\n",
      "col_5:                       \t0.0000\n",
      "col_7:                       \t0.0000\n",
      "col_8:                       \t0.0000\n",
      "col_9:                       \t0.0000\n",
      "col_10:                      \t0.0000\n",
      "col_11:                      \t0.0000\n",
      "col_13:                      \t0.0000\n",
      "col_16:                      \t0.0000\n",
      "col_20:                      \t0.0000\n",
      "col_22:                      \t0.0000\n",
      "col_34:                      \t0.0000\n",
      "Protocol:                    \t0.0000\n",
      "Total Bwd packets:           \t0.0000\n",
      "Bwd Packet Length Max:       \t0.0000\n",
      "Bwd Packet Length Mean:      \t0.0000\n",
      "Fwd IAT Total:               \t0.0000\n",
      "Bwd IAT Std:                 \t0.0000\n"
     ]
    }
   ],
   "source": [
    "final_report_rf = final_evaluation(model_rf, X2, y2, labels2, rfe_rf)\n",
    "print()\n",
    "print(f\"Optimal number of features: {rfe_rf.n_features_}\")\n",
    "selected_columns_rf = summarize_feats(rfe_rf, model_rf, columns2)"
   ]
  },
  {
   "cell_type": "code",
   "execution_count": null,
   "metadata": {
    "ExecuteTime": {
     "end_time": "2021-03-03T14:35:13.672883Z",
     "start_time": "2021-03-03T11:29:45.901Z"
    },
    "hidden": true
   },
   "outputs": [],
   "source": [
    "dotfile = open(\"rf.dot\", 'w')\n",
    "export_graphviz(model_rf, out_file = dotfile, feature_names = selected_columns_rf)\n",
    "dotfile.close()"
   ]
  },
  {
   "cell_type": "markdown",
   "metadata": {
    "hidden": true
   },
   "source": [
    "### Darknet traffic caracterization"
   ]
  },
  {
   "cell_type": "markdown",
   "metadata": {
    "hidden": true
   },
   "source": [
    "#### Without new features"
   ]
  },
  {
   "cell_type": "code",
   "execution_count": 213,
   "metadata": {
    "ExecuteTime": {
     "end_time": "2021-03-03T15:45:19.687585Z",
     "start_time": "2021-03-03T15:45:19.661067Z"
    },
    "hidden": true
   },
   "outputs": [
    {
     "data": {
      "text/plain": [
       "Index(['Src Port', 'Dst Port', 'Protocol', 'Flow Duration', 'Total Fwd Packet',\n",
       "       'Total Bwd packets', 'Total Length of Fwd Packet',\n",
       "       'Total Length of Bwd Packet', 'Fwd Packet Length Max',\n",
       "       'Fwd Packet Length Min', 'Fwd Packet Length Mean',\n",
       "       'Fwd Packet Length Std', 'Bwd Packet Length Max',\n",
       "       'Bwd Packet Length Min', 'Bwd Packet Length Mean',\n",
       "       'Bwd Packet Length Std', 'Flow Bytes/s', 'Flow Packets/s',\n",
       "       'Flow IAT Mean', 'Flow IAT Std', 'Flow IAT Max', 'Flow IAT Min',\n",
       "       'Fwd IAT Total', 'Fwd IAT Mean', 'Fwd IAT Std', 'Fwd IAT Max',\n",
       "       'Fwd IAT Min', 'Bwd IAT Total', 'Bwd IAT Mean', 'Bwd IAT Std',\n",
       "       'Bwd IAT Max', 'Bwd IAT Min', 'Fwd PSH Flags', 'Bwd PSH Flags',\n",
       "       'Fwd URG Flags', 'Bwd URG Flags', 'Fwd Header Length',\n",
       "       'Bwd Header Length', 'Fwd Packets/s', 'Bwd Packets/s',\n",
       "       'Packet Length Min', 'Packet Length Max', 'Packet Length Mean',\n",
       "       'Packet Length Std', 'Packet Length Variance', 'FIN Flag Count',\n",
       "       'SYN Flag Count', 'RST Flag Count', 'PSH Flag Count', 'ACK Flag Count',\n",
       "       'URG Flag Count', 'CWE Flag Count', 'ECE Flag Count', 'Down/Up Ratio',\n",
       "       'Average Packet Size', 'Fwd Segment Size Avg', 'Bwd Segment Size Avg',\n",
       "       'Fwd Bytes/Bulk Avg', 'Fwd Packet/Bulk Avg', 'Fwd Bulk Rate Avg',\n",
       "       'Bwd Bytes/Bulk Avg', 'Bwd Packet/Bulk Avg', 'Bwd Bulk Rate Avg',\n",
       "       'Subflow Fwd Packets', 'Subflow Fwd Bytes', 'Subflow Bwd Packets',\n",
       "       'Subflow Bwd Bytes', 'FWD Init Win Bytes', 'Bwd Init Win Bytes',\n",
       "       'Fwd Act Data Pkts', 'Fwd Seg Size Min', 'Active Mean', 'Active Std',\n",
       "       'Active Max', 'Active Min', 'Idle Mean', 'Idle Std', 'Idle Max',\n",
       "       'Idle Min', 'Label.1'],\n",
       "      dtype='object')"
      ]
     },
     "execution_count": 213,
     "metadata": {},
     "output_type": "execute_result"
    }
   ],
   "source": [
    "l1_samples = model_samples_l1.copy()\n",
    "l1_samples = l1_samples.drop(l1_samples.columns[:105].tolist(),axis=1)\n",
    "l1_samples.columns"
   ]
  },
  {
   "cell_type": "code",
   "execution_count": 214,
   "metadata": {
    "ExecuteTime": {
     "end_time": "2021-03-03T15:45:19.740017Z",
     "start_time": "2021-03-03T15:45:19.690589Z"
    },
    "hidden": true
   },
   "outputs": [],
   "source": [
    "X3, y3, labels3 = split_train_target(l1_samples, \"Label.1\")\n",
    "X3_train, X3_test, y3_train, y3_test = train_test_split(X3, y3, test_size=0.33, random_state=random_state)\n",
    "columns3 = l1_samples.columns.tolist()"
   ]
  },
  {
   "cell_type": "markdown",
   "metadata": {
    "hidden": true
   },
   "source": [
    "##### Decision tree"
   ]
  },
  {
   "cell_type": "code",
   "execution_count": 215,
   "metadata": {
    "ExecuteTime": {
     "end_time": "2021-03-03T15:47:28.432900Z",
     "start_time": "2021-03-03T15:45:19.741723Z"
    },
    "hidden": true,
    "scrolled": true
   },
   "outputs": [
    {
     "name": "stdout",
     "output_type": "stream",
     "text": [
      "Fitting estimator with 79 features.\n",
      "Fitting estimator with 78 features.\n",
      "Fitting estimator with 77 features.\n",
      "Fitting estimator with 76 features.\n",
      "Fitting estimator with 75 features.\n",
      "Fitting estimator with 74 features.\n",
      "Fitting estimator with 73 features.\n",
      "Fitting estimator with 72 features.\n",
      "Fitting estimator with 71 features.\n",
      "Fitting estimator with 70 features.\n",
      "Fitting estimator with 69 features.\n",
      "Fitting estimator with 68 features.\n",
      "Fitting estimator with 67 features.\n",
      "Fitting estimator with 66 features.\n",
      "Fitting estimator with 65 features.\n",
      "Fitting estimator with 64 features.\n",
      "Fitting estimator with 63 features.\n",
      "Fitting estimator with 62 features.\n",
      "Fitting estimator with 61 features.\n",
      "Fitting estimator with 60 features.\n",
      "Fitting estimator with 59 features.\n"
     ]
    }
   ],
   "source": [
    "model3 = DecisionTreeClassifier(random_state=random_state)\n",
    "rfe1 = select_features(model3, X3, y3, 1, step=1)"
   ]
  },
  {
   "cell_type": "code",
   "execution_count": 216,
   "metadata": {
    "ExecuteTime": {
     "end_time": "2021-03-03T15:47:32.184824Z",
     "start_time": "2021-03-03T15:47:28.434890Z"
    },
    "hidden": true,
    "scrolled": false
   },
   "outputs": [
    {
     "name": "stderr",
     "output_type": "stream",
     "text": [
      "100%|██████████| 10/10 [00:03<00:00,  2.73it/s]"
     ]
    },
    {
     "name": "stdout",
     "output_type": "stream",
     "text": [
      "               precision       recall       f1-score       support       \n",
      "Audio-Streaming:  97.92\t\t97.74\t\t97.83\t\t88830.00\t\t\n",
      "Browsing:         83.50\t\t81.01\t\t82.13\t\t1750.00\t\t\n",
      "Chat:             95.85\t\t96.33\t\t96.08\t\t30520.00\t\t\n",
      "Email:            90.30\t\t90.87\t\t90.44\t\t3930.00\t\t\n",
      "File-Transfer:    93.84\t\t93.06\t\t93.44\t\t17300.00\t\t\n",
      "P2P:              93.48\t\t96.88\t\t95.03\t\t1570.00\t\t\n",
      "VOIP:             94.52\t\t95.33\t\t94.91\t\t9860.00\t\t\n",
      "Video-Streaming:  85.90\t\t85.75\t\t85.76\t\t9120.00\t\t\n",
      "\n",
      "\n",
      " 10-fold Accuracy: 95.81%\n",
      "Test accuracy: 96.04%\n",
      "\n",
      "\n",
      "Confusion matrix:\n",
      "[[4323    2   16    2   20    1    6   31]\n",
      " [   3   72    6    0    2    1    2    2]\n",
      " [  17    4 1424   10   23    0    5    6]\n",
      " [   2    0    7  172    6    0    1    1]\n",
      " [  12    1   24    2  821    0   13    7]\n",
      " [   0    0    0    0    0   63    0    0]\n",
      " [   5    1    9    1    6    0  451    6]\n",
      " [  39    3    1    0    5    0    7  379]]\n",
      "\n",
      "Audio-Streaming :   98.23%\n",
      "Browsing :          86.75%\n",
      "Chat :              95.76%\n",
      "Email :             91.98%\n",
      "File-Transfer :     92.98%\n",
      "P2P :               96.92%\n",
      "VOIP :              92.99%\n",
      "Video-Streaming :   87.73%\n",
      "\n",
      "Optimal number of features: 58\n",
      "Feature                   \tImportance\n",
      "------------------------------------------\n",
      "Flow Duration:               \t0.2627\n",
      "Idle Max:                    \t0.2317\n",
      "Bwd Packet Length Min:       \t0.1452\n",
      "Total Length of Bwd Packet:  \t0.0379\n",
      "Packet Length Variance:      \t0.0342\n",
      "Dst Port:                    \t0.0342\n",
      "Fwd Act Data Pkts:           \t0.0319\n",
      "Src Port:                    \t0.0256\n",
      "FWD Init Win Bytes:          \t0.0172\n",
      "Total Length of Fwd Packet:  \t0.0171\n",
      "Fwd Seg Size Min:            \t0.0116\n",
      "Idle Mean:                   \t0.0089\n",
      "Flow IAT Min:                \t0.0083\n",
      "Fwd Packet Length Max:       \t0.0076\n",
      "Fwd Packet Length Min:       \t0.0074\n",
      "Flow IAT Mean:               \t0.0074\n",
      "Idle Min:                    \t0.0073\n",
      "Bwd Packets/s:               \t0.0073\n",
      "Subflow Bwd Bytes:           \t0.0068\n",
      "Bwd Init Win Bytes:          \t0.0067\n",
      "Subflow Fwd Bytes:           \t0.0064\n",
      "Packet Length Std:           \t0.0063\n",
      "Fwd IAT Std:                 \t0.0057\n",
      "Flow Bytes/s:                \t0.0049\n",
      "Fwd Packets/s:               \t0.0048\n",
      "Packet Length Max:           \t0.0046\n",
      "Flow IAT Max:                \t0.0045\n",
      "Fwd Header Length:           \t0.0041\n",
      "Fwd IAT Total:               \t0.0037\n",
      "Fwd IAT Max:                 \t0.0035\n",
      "Bwd Segment Size Avg:        \t0.0033\n",
      "Flow Packets/s:              \t0.0028\n",
      "Average Packet Size:         \t0.0027\n",
      "Fwd IAT Min:                 \t0.0026\n",
      "Bwd Packet Length Max:       \t0.0024\n",
      "Fwd Packet Length Mean:      \t0.0024\n",
      "Packet Length Mean:          \t0.0024\n",
      "FIN Flag Count:              \t0.0023\n",
      "Fwd IAT Mean:                \t0.0019\n",
      "Fwd Packet Length Std:       \t0.0019\n",
      "Bwd Packet Length Std:       \t0.0013\n",
      "Packet Length Min:           \t0.0013\n",
      "Idle Std:                    \t0.0012\n",
      "Total Bwd packets:           \t0.0009\n",
      "PSH Flag Count:              \t0.0008\n",
      "Bwd IAT Mean:                \t0.0007\n",
      "Fwd Segment Size Avg:        \t0.0007\n",
      "RST Flag Count:              \t0.0006\n",
      "Bwd IAT Total:               \t0.0006\n",
      "Bwd Packet Length Mean:      \t0.0005\n",
      "Bwd IAT Std:                 \t0.0004\n",
      "Bwd IAT Min:                 \t0.0003\n",
      "Bwd IAT Max:                 \t0.0003\n",
      "Bwd Header Length:           \t0.0002\n",
      "Flow IAT Std:                \t0.0001\n",
      "Subflow Fwd Packets:         \t0.0000\n",
      "Active Mean:                 \t0.0000\n",
      "Active Max:                  \t0.0000\n"
     ]
    },
    {
     "name": "stderr",
     "output_type": "stream",
     "text": [
      "\n"
     ]
    }
   ],
   "source": [
    "final_evaluation(model3, X3, y3, labels3, rfe1)\n",
    "print()\n",
    "print(f\"Optimal number of features: {rfe1.n_features_}\")\n",
    "selected_columns1 = summarize_feats(rfe1, model3, columns3)"
   ]
  },
  {
   "cell_type": "code",
   "execution_count": 217,
   "metadata": {
    "ExecuteTime": {
     "end_time": "2021-03-03T15:47:32.330892Z",
     "start_time": "2021-03-03T15:47:32.186740Z"
    },
    "hidden": true
   },
   "outputs": [],
   "source": [
    "dotfile = open(\"dtree2.dot\", 'w')\n",
    "export_graphviz(model3, out_file = dotfile, feature_names = selected_columns1)\n",
    "dotfile.close()"
   ]
  },
  {
   "cell_type": "markdown",
   "metadata": {
    "hidden": true
   },
   "source": [
    "##### Random forest"
   ]
  },
  {
   "cell_type": "code",
   "execution_count": 218,
   "metadata": {
    "ExecuteTime": {
     "end_time": "2021-03-03T15:49:55.388643Z",
     "start_time": "2021-03-03T15:47:32.334096Z"
    },
    "hidden": true
   },
   "outputs": [
    {
     "name": "stdout",
     "output_type": "stream",
     "text": [
      "Fitting estimator with 79 features.\n",
      "Fitting estimator with 78 features.\n",
      "Fitting estimator with 77 features.\n",
      "Fitting estimator with 76 features.\n",
      "Fitting estimator with 75 features.\n",
      "Fitting estimator with 74 features.\n",
      "Fitting estimator with 73 features.\n",
      "Fitting estimator with 72 features.\n",
      "Fitting estimator with 71 features.\n",
      "Fitting estimator with 70 features.\n",
      "Fitting estimator with 69 features.\n",
      "Fitting estimator with 68 features.\n",
      "Fitting estimator with 67 features.\n",
      "Fitting estimator with 66 features.\n",
      "Fitting estimator with 65 features.\n",
      "Fitting estimator with 64 features.\n",
      "Fitting estimator with 63 features.\n",
      "Fitting estimator with 62 features.\n",
      "Fitting estimator with 61 features.\n",
      "Fitting estimator with 60 features.\n",
      "Fitting estimator with 59 features.\n",
      "Fitting estimator with 58 features.\n",
      "Fitting estimator with 57 features.\n",
      "Fitting estimator with 56 features.\n",
      "Fitting estimator with 55 features.\n",
      "Fitting estimator with 54 features.\n",
      "Fitting estimator with 53 features.\n",
      "Fitting estimator with 52 features.\n",
      "Fitting estimator with 51 features.\n",
      "Fitting estimator with 50 features.\n",
      "Fitting estimator with 49 features.\n",
      "Fitting estimator with 48 features.\n",
      "Fitting estimator with 47 features.\n",
      "Fitting estimator with 46 features.\n",
      "Fitting estimator with 45 features.\n",
      "Fitting estimator with 44 features.\n",
      "Fitting estimator with 43 features.\n",
      "Fitting estimator with 42 features.\n",
      "Fitting estimator with 41 features.\n",
      "Fitting estimator with 40 features.\n",
      "Fitting estimator with 39 features.\n",
      "Fitting estimator with 38 features.\n",
      "Fitting estimator with 37 features.\n",
      "Fitting estimator with 36 features.\n",
      "Fitting estimator with 35 features.\n",
      "Fitting estimator with 34 features.\n",
      "Fitting estimator with 33 features.\n",
      "Fitting estimator with 32 features.\n",
      "Fitting estimator with 31 features.\n",
      "Fitting estimator with 30 features.\n",
      "Fitting estimator with 29 features.\n",
      "Fitting estimator with 28 features.\n",
      "Fitting estimator with 27 features.\n",
      "Fitting estimator with 26 features.\n",
      "Fitting estimator with 25 features.\n",
      "Fitting estimator with 24 features.\n",
      "Fitting estimator with 23 features.\n",
      "Fitting estimator with 22 features.\n",
      "Fitting estimator with 21 features.\n"
     ]
    }
   ],
   "source": [
    "model_rf1 = DecisionTreeClassifier(random_state=random_state)\n",
    "rfe_rf1 = select_features(model_rf1, X3, y3, 1, step=1)"
   ]
  },
  {
   "cell_type": "code",
   "execution_count": 219,
   "metadata": {
    "ExecuteTime": {
     "end_time": "2021-03-03T15:49:57.402919Z",
     "start_time": "2021-03-03T15:49:55.390668Z"
    },
    "hidden": true
   },
   "outputs": [
    {
     "name": "stderr",
     "output_type": "stream",
     "text": [
      "100%|██████████| 10/10 [00:01<00:00,  5.15it/s]\n"
     ]
    },
    {
     "name": "stdout",
     "output_type": "stream",
     "text": [
      "               precision       recall       f1-score       support       \n",
      "Audio-Streaming:  98.12\t\t97.93\t\t98.02\t\t88830.00\t\t\n",
      "Browsing:         88.67\t\t85.65\t\t86.88\t\t1750.00\t\t\n",
      "Chat:             96.06\t\t96.23\t\t96.14\t\t30520.00\t\t\n",
      "Email:            90.85\t\t90.36\t\t90.49\t\t3930.00\t\t\n",
      "File-Transfer:    93.63\t\t93.18\t\t93.39\t\t17300.00\t\t\n",
      "P2P:              91.90\t\t98.12\t\t94.84\t\t1570.00\t\t\n",
      "VOIP:             94.74\t\t95.54\t\t95.11\t\t9860.00\t\t\n",
      "Video-Streaming:  86.14\t\t86.41\t\t86.20\t\t9120.00\t\t\n",
      "\n",
      "\n",
      " 10-fold Accuracy: 96.00%\n",
      "Test accuracy: 95.77%\n",
      "\n",
      "\n",
      "Confusion matrix:\n",
      "[[4307    3   21    5   23    1   12   29]\n",
      " [   7   70    4    0    2    2    1    2]\n",
      " [  26    2 1417    6   21    0    7   10]\n",
      " [   0    0    5  174    6    0    3    1]\n",
      " [  19    1   15    3  823    0    9   10]\n",
      " [   0    0    0    0    0   63    0    0]\n",
      " [   5    0    9    1    4    1  452    7]\n",
      " [  34    2    5    0    2    0   13  378]]\n",
      "\n",
      "Audio-Streaming :   97.93%\n",
      "Browsing :          89.74%\n",
      "Chat :              96.00%\n",
      "Email :             92.06%\n",
      "File-Transfer :     93.42%\n",
      "P2P :               94.03%\n",
      "VOIP :              90.95%\n",
      "Video-Streaming :   86.50%\n",
      "\n",
      "Optimal number of features: 20\n",
      "Feature                   \tImportance\n",
      "------------------------------------------\n",
      "Flow Duration:               \t0.2663\n",
      "Idle Max:                    \t0.2290\n",
      "Bwd Packet Length Min:       \t0.1450\n",
      "Packet Length Variance:      \t0.0429\n",
      "Dst Port:                    \t0.0422\n",
      "Bwd Packet Length Max:       \t0.0408\n",
      "Fwd Act Data Pkts:           \t0.0322\n",
      "Src Port:                    \t0.0314\n",
      "FWD Init Win Bytes:          \t0.0217\n",
      "Total Length of Fwd Packet:  \t0.0213\n",
      "Fwd Packet Length Mean:      \t0.0178\n",
      "Average Packet Size:         \t0.0155\n",
      "Idle Min:                    \t0.0148\n",
      "Fwd Seg Size Min:            \t0.0140\n",
      "Flow IAT Min:                \t0.0134\n",
      "Flow IAT Max:                \t0.0133\n",
      "Bwd Packets/s:               \t0.0115\n",
      "Packet Length Max:           \t0.0109\n",
      "Flow IAT Mean:               \t0.0093\n",
      "Idle Mean:                   \t0.0069\n"
     ]
    }
   ],
   "source": [
    "final_report_rf1 = final_evaluation(model_rf1, X3, y3, labels3, rfe_rf1)\n",
    "print()\n",
    "print(f\"Optimal number of features: {rfe_rf1.n_features_}\")\n",
    "selected_columns_rf1 = summarize_feats(rfe_rf1, model_rf1, columns3)"
   ]
  },
  {
   "cell_type": "code",
   "execution_count": 220,
   "metadata": {
    "ExecuteTime": {
     "end_time": "2021-03-03T15:49:57.545851Z",
     "start_time": "2021-03-03T15:49:57.404735Z"
    },
    "hidden": true
   },
   "outputs": [],
   "source": [
    "dotfile = open(\"rf.dot\", 'w')\n",
    "export_graphviz(model_rf1, out_file = dotfile, feature_names = selected_columns_rf1)\n",
    "dotfile.close()"
   ]
  },
  {
   "cell_type": "markdown",
   "metadata": {
    "hidden": true
   },
   "source": [
    "#### With new features"
   ]
  },
  {
   "cell_type": "code",
   "execution_count": 50,
   "metadata": {
    "ExecuteTime": {
     "end_time": "2021-03-09T12:55:12.431857Z",
     "start_time": "2021-03-09T12:55:11.538737Z"
    },
    "hidden": true
   },
   "outputs": [],
   "source": [
    "X3, y3, labels3 = split_train_target(model_samples_l1, \"Label.1\")\n",
    "X3_train, X3_test, y3_train, y3_test = train_test_split(X3, y3, test_size=0.33, random_state=random_state)\n",
    "columns3 = model_samples_l1.columns.tolist()"
   ]
  },
  {
   "cell_type": "markdown",
   "metadata": {
    "hidden": true
   },
   "source": [
    "##### Decision tree"
   ]
  },
  {
   "cell_type": "code",
   "execution_count": 51,
   "metadata": {
    "ExecuteTime": {
     "end_time": "2021-03-09T13:00:33.178023Z",
     "start_time": "2021-03-09T12:55:25.385719Z"
    },
    "hidden": true,
    "scrolled": true
   },
   "outputs": [
    {
     "name": "stdout",
     "output_type": "stream",
     "text": [
      "Fitting estimator with 184 features.\n",
      "Fitting estimator with 183 features.\n"
     ]
    }
   ],
   "source": [
    "model3 = DecisionTreeClassifier(random_state=random_state)\n",
    "rfe1 = select_features(model3, X3, y3, 1, step=1)"
   ]
  },
  {
   "cell_type": "code",
   "execution_count": 52,
   "metadata": {
    "ExecuteTime": {
     "end_time": "2021-03-09T13:00:40.868672Z",
     "start_time": "2021-03-09T13:00:33.180152Z"
    },
    "hidden": true,
    "scrolled": false
   },
   "outputs": [
    {
     "name": "stderr",
     "output_type": "stream",
     "text": [
      "100%|██████████| 10/10 [00:06<00:00,  1.51it/s]\n"
     ]
    },
    {
     "name": "stdout",
     "output_type": "stream",
     "text": [
      "               precision       recall       f1-score       support       \n",
      "Audio-Streaming:  99.66\t\t99.72\t\t99.69\t\t88830.00\t\t\n",
      "Browsing:         93.91\t\t86.18\t\t89.70\t\t1750.00\t\t\n",
      "Chat:             99.18\t\t99.31\t\t99.25\t\t30520.00\t\t\n",
      "Email:            95.78\t\t95.94\t\t95.82\t\t3930.00\t\t\n",
      "File-Transfer:    98.21\t\t98.21\t\t98.21\t\t17300.00\t\t\n",
      "P2P:              96.13\t\t98.12\t\t96.96\t\t1570.00\t\t\n",
      "VOIP:             97.58\t\t97.77\t\t97.67\t\t9860.00\t\t\n",
      "Video-Streaming:  96.60\t\t96.38\t\t96.48\t\t9120.00\t\t\n",
      "\n",
      "\n",
      " 10-fold Accuracy: 98.93%\n",
      "Test accuracy: 99.14%\n",
      "\n",
      "\n",
      "Confusion matrix:\n",
      "[[4389    2   10    0    0    0    0    0]\n",
      " [   5   80    0    0    1    1    1    0]\n",
      " [   3    4 1481    0    0    0    1    0]\n",
      " [   0    0    0  184    5    0    0    0]\n",
      " [   1    0    0   11  865    0    0    3]\n",
      " [   0    0    0    0    0   63    0    0]\n",
      " [   0    0    1    0    0    0  473    5]\n",
      " [   0    0    0    0    4    2    9  419]]\n",
      "\n",
      "Audio-Streaming :   99.80%\n",
      "Browsing :          93.02%\n",
      "Chat :              99.26%\n",
      "Email :             94.36%\n",
      "File-Transfer :     98.86%\n",
      "P2P :               95.45%\n",
      "VOIP :              97.73%\n",
      "Video-Streaming :   98.13%\n",
      "\n",
      "Optimal number of features: 182\n",
      "Feature                   \tImportance\n",
      "------------------------------------------\n",
      "col_76:                      \t0.4287\n",
      "hour:                        \t0.3320\n",
      "Idle Max:                    \t0.0650\n",
      "Fwd Seg Size Min:            \t0.0391\n",
      "col_58:                      \t0.0325\n",
      "Flow Duration:               \t0.0190\n",
      "col_45:                      \t0.0093\n",
      "Src Port:                    \t0.0088\n",
      "Flow IAT Std:                \t0.0061\n",
      "Subflow Bwd Bytes:           \t0.0048\n",
      "col_18:                      \t0.0038\n",
      "Dst Port:                    \t0.0037\n",
      "Packet Length Mean:          \t0.0035\n",
      "Fwd Packet Length Mean:      \t0.0034\n",
      "col_95:                      \t0.0031\n",
      "Bwd Packet Length Min:       \t0.0024\n",
      "col_29:                      \t0.0023\n",
      "Flow Bytes/s:                \t0.0023\n",
      "Idle Min:                    \t0.0021\n",
      "Flow IAT Min:                \t0.0020\n",
      "col_5:                       \t0.0017\n",
      "Bwd Init Win Bytes:          \t0.0017\n",
      "Bwd Packets/s:               \t0.0016\n",
      "Bwd Header Length:           \t0.0016\n",
      "Fwd Packet Length Std:       \t0.0012\n",
      "Flow IAT Mean:               \t0.0010\n",
      "Idle Mean:                   \t0.0010\n",
      "Fwd Packets/s:               \t0.0009\n",
      "col_93:                      \t0.0008\n",
      "Flow Packets/s:              \t0.0008\n",
      "Fwd IAT Std:                 \t0.0008\n",
      "col_42:                      \t0.0008\n",
      "Flow IAT Max:                \t0.0007\n",
      "Packet Length Std:           \t0.0007\n",
      "Fwd Segment Size Avg:        \t0.0007\n",
      "Total Length of Fwd Packet:  \t0.0007\n",
      "FWD Init Win Bytes:          \t0.0006\n",
      "Bwd IAT Min:                 \t0.0006\n",
      "Bwd Packet Length Max:       \t0.0005\n",
      "col_41:                      \t0.0005\n",
      "col_91:                      \t0.0004\n",
      "RST Flag Count:              \t0.0004\n",
      "col_75:                      \t0.0004\n",
      "col_9:                       \t0.0004\n",
      "col_20:                      \t0.0004\n",
      "col_21:                      \t0.0004\n",
      "Bwd IAT Std:                 \t0.0003\n",
      "Packet Length Variance:      \t0.0003\n",
      "col_74:                      \t0.0003\n",
      "col_85:                      \t0.0002\n",
      "Total Fwd Packet:            \t0.0002\n",
      "Fwd IAT Min:                 \t0.0002\n",
      "col_61:                      \t0.0002\n",
      "col_26:                      \t0.0002\n",
      "col_62:                      \t0.0002\n",
      "col_17:                      \t0.0002\n",
      "col_96:                      \t0.0002\n",
      "Bwd IAT Mean:                \t0.0002\n",
      "dst_ip_country:              \t0.0002\n",
      "col_98:                      \t0.0002\n",
      "Packet Length Max:           \t0.0002\n",
      "col_14:                      \t0.0002\n",
      "Bwd Packet Length Mean:      \t0.0002\n",
      "ACK Flag Count:              \t0.0002\n",
      "Fwd Act Data Pkts:           \t0.0002\n",
      "col_53:                      \t0.0002\n",
      "col_77:                      \t0.0002\n",
      "Fwd Packet Length Max:       \t0.0001\n",
      "col_81:                      \t0.0001\n",
      "Bwd Bulk Rate Avg:           \t0.0001\n",
      "col_55:                      \t0.0001\n",
      "Fwd Packet Length Min:       \t0.0001\n",
      "Bwd Segment Size Avg:        \t0.0000\n",
      "Total Length of Bwd Packet:  \t0.0000\n",
      "Packet Length Min:           \t0.0000\n",
      "col_1:                       \t0.0000\n",
      "col_2:                       \t0.0000\n",
      "col_3:                       \t0.0000\n",
      "col_4:                       \t0.0000\n",
      "col_6:                       \t0.0000\n",
      "col_7:                       \t0.0000\n",
      "col_8:                       \t0.0000\n",
      "col_10:                      \t0.0000\n",
      "col_11:                      \t0.0000\n",
      "col_12:                      \t0.0000\n",
      "col_13:                      \t0.0000\n",
      "col_15:                      \t0.0000\n",
      "col_16:                      \t0.0000\n",
      "col_19:                      \t0.0000\n",
      "col_22:                      \t0.0000\n",
      "col_23:                      \t0.0000\n",
      "col_24:                      \t0.0000\n",
      "col_25:                      \t0.0000\n",
      "col_27:                      \t0.0000\n",
      "col_28:                      \t0.0000\n",
      "col_30:                      \t0.0000\n",
      "col_31:                      \t0.0000\n",
      "col_32:                      \t0.0000\n",
      "col_33:                      \t0.0000\n",
      "col_34:                      \t0.0000\n",
      "col_35:                      \t0.0000\n",
      "col_36:                      \t0.0000\n",
      "col_37:                      \t0.0000\n",
      "col_38:                      \t0.0000\n",
      "col_39:                      \t0.0000\n",
      "col_40:                      \t0.0000\n",
      "col_43:                      \t0.0000\n",
      "col_44:                      \t0.0000\n",
      "col_46:                      \t0.0000\n",
      "col_47:                      \t0.0000\n",
      "col_48:                      \t0.0000\n",
      "col_49:                      \t0.0000\n",
      "col_50:                      \t0.0000\n",
      "col_51:                      \t0.0000\n",
      "col_52:                      \t0.0000\n",
      "col_54:                      \t0.0000\n",
      "col_56:                      \t0.0000\n",
      "col_57:                      \t0.0000\n",
      "col_59:                      \t0.0000\n",
      "col_60:                      \t0.0000\n",
      "col_63:                      \t0.0000\n",
      "col_64:                      \t0.0000\n",
      "col_65:                      \t0.0000\n",
      "col_66:                      \t0.0000\n",
      "col_67:                      \t0.0000\n",
      "col_68:                      \t0.0000\n",
      "col_69:                      \t0.0000\n",
      "col_70:                      \t0.0000\n",
      "col_71:                      \t0.0000\n",
      "col_72:                      \t0.0000\n",
      "col_73:                      \t0.0000\n",
      "col_78:                      \t0.0000\n",
      "col_79:                      \t0.0000\n",
      "col_80:                      \t0.0000\n",
      "col_82:                      \t0.0000\n",
      "col_83:                      \t0.0000\n",
      "col_84:                      \t0.0000\n",
      "col_86:                      \t0.0000\n",
      "col_87:                      \t0.0000\n",
      "col_88:                      \t0.0000\n",
      "col_89:                      \t0.0000\n",
      "col_90:                      \t0.0000\n",
      "col_94:                      \t0.0000\n",
      "col_97:                      \t0.0000\n",
      "col_99:                      \t0.0000\n",
      "src_ip_country:              \t0.0000\n",
      "src_bogon:                   \t0.0000\n",
      "dst_bogon:                   \t0.0000\n",
      "Protocol:                    \t0.0000\n",
      "Total Bwd packets:           \t0.0000\n",
      "Bwd Packet Length Std:       \t0.0000\n",
      "Fwd IAT Total:               \t0.0000\n",
      "Fwd IAT Mean:                \t0.0000\n",
      "Fwd IAT Max:                 \t0.0000\n",
      "Bwd IAT Total:               \t0.0000\n",
      "Bwd IAT Max:                 \t0.0000\n",
      "Fwd PSH Flags:               \t0.0000\n",
      "Bwd PSH Flags:               \t0.0000\n",
      "Fwd URG Flags:               \t0.0000\n",
      "Bwd URG Flags:               \t0.0000\n",
      "Fwd Header Length:           \t0.0000\n",
      "FIN Flag Count:              \t0.0000\n",
      "SYN Flag Count:              \t0.0000\n",
      "PSH Flag Count:              \t0.0000\n",
      "URG Flag Count:              \t0.0000\n",
      "CWE Flag Count:              \t0.0000\n",
      "ECE Flag Count:              \t0.0000\n",
      "Down/Up Ratio:               \t0.0000\n",
      "Average Packet Size:         \t0.0000\n",
      "Fwd Bytes/Bulk Avg:          \t0.0000\n",
      "Fwd Packet/Bulk Avg:         \t0.0000\n",
      "Fwd Bulk Rate Avg:           \t0.0000\n",
      "Bwd Bytes/Bulk Avg:          \t0.0000\n",
      "Bwd Packet/Bulk Avg:         \t0.0000\n",
      "Subflow Fwd Packets:         \t0.0000\n",
      "Subflow Fwd Bytes:           \t0.0000\n",
      "Subflow Bwd Packets:         \t0.0000\n",
      "Active Mean:                 \t0.0000\n",
      "Active Std:                  \t0.0000\n",
      "Active Max:                  \t0.0000\n",
      "Active Min:                  \t0.0000\n",
      "Idle Std:                    \t0.0000\n"
     ]
    }
   ],
   "source": [
    "final_evaluation(model3, X3, y3, labels3, rfe1)\n",
    "print()\n",
    "print(f\"Optimal number of features: {rfe1.n_features_}\")\n",
    "selected_columns1 = summarize_feats(rfe1, model3, columns3)"
   ]
  },
  {
   "cell_type": "code",
   "execution_count": 224,
   "metadata": {
    "ExecuteTime": {
     "end_time": "2021-03-03T15:53:59.999569Z",
     "start_time": "2021-03-03T15:53:59.931876Z"
    },
    "hidden": true
   },
   "outputs": [],
   "source": [
    "dotfile = open(\"dtree2.dot\", 'w')\n",
    "export_graphviz(model3, out_file = dotfile, feature_names = selected_columns1)\n",
    "dotfile.close()"
   ]
  },
  {
   "cell_type": "markdown",
   "metadata": {
    "hidden": true
   },
   "source": [
    "##### Random forest"
   ]
  },
  {
   "cell_type": "code",
   "execution_count": 53,
   "metadata": {
    "ExecuteTime": {
     "end_time": "2021-03-09T13:17:02.472871Z",
     "start_time": "2021-03-09T13:10:57.457765Z"
    },
    "hidden": true,
    "scrolled": true
   },
   "outputs": [
    {
     "name": "stdout",
     "output_type": "stream",
     "text": [
      "Fitting estimator with 184 features.\n",
      "Fitting estimator with 183 features.\n",
      "Fitting estimator with 182 features.\n",
      "Fitting estimator with 181 features.\n",
      "Fitting estimator with 180 features.\n",
      "Fitting estimator with 179 features.\n",
      "Fitting estimator with 178 features.\n",
      "Fitting estimator with 177 features.\n",
      "Fitting estimator with 176 features.\n",
      "Fitting estimator with 175 features.\n",
      "Fitting estimator with 174 features.\n",
      "Fitting estimator with 173 features.\n",
      "Fitting estimator with 172 features.\n",
      "Fitting estimator with 171 features.\n",
      "Fitting estimator with 170 features.\n",
      "Fitting estimator with 169 features.\n",
      "Fitting estimator with 168 features.\n",
      "Fitting estimator with 167 features.\n",
      "Fitting estimator with 166 features.\n",
      "Fitting estimator with 165 features.\n",
      "Fitting estimator with 164 features.\n",
      "Fitting estimator with 163 features.\n",
      "Fitting estimator with 162 features.\n",
      "Fitting estimator with 161 features.\n",
      "Fitting estimator with 160 features.\n",
      "Fitting estimator with 159 features.\n",
      "Fitting estimator with 158 features.\n",
      "Fitting estimator with 157 features.\n",
      "Fitting estimator with 156 features.\n",
      "Fitting estimator with 155 features.\n",
      "Fitting estimator with 154 features.\n",
      "Fitting estimator with 153 features.\n",
      "Fitting estimator with 152 features.\n",
      "Fitting estimator with 151 features.\n",
      "Fitting estimator with 150 features.\n",
      "Fitting estimator with 149 features.\n",
      "Fitting estimator with 148 features.\n",
      "Fitting estimator with 147 features.\n",
      "Fitting estimator with 146 features.\n",
      "Fitting estimator with 145 features.\n",
      "Fitting estimator with 144 features.\n",
      "Fitting estimator with 143 features.\n",
      "Fitting estimator with 142 features.\n",
      "Fitting estimator with 141 features.\n",
      "Fitting estimator with 140 features.\n",
      "Fitting estimator with 139 features.\n",
      "Fitting estimator with 138 features.\n",
      "Fitting estimator with 137 features.\n",
      "Fitting estimator with 136 features.\n",
      "Fitting estimator with 135 features.\n",
      "Fitting estimator with 134 features.\n",
      "Fitting estimator with 133 features.\n",
      "Fitting estimator with 132 features.\n",
      "Fitting estimator with 131 features.\n"
     ]
    }
   ],
   "source": [
    "model_rf1 = DecisionTreeClassifier(random_state=random_state)\n",
    "rfe_rf1 = select_features(model_rf1, X3, y3, 1, step=1)"
   ]
  },
  {
   "cell_type": "code",
   "execution_count": 226,
   "metadata": {
    "ExecuteTime": {
     "end_time": "2021-03-03T15:58:04.524255Z",
     "start_time": "2021-03-03T15:57:58.853972Z"
    },
    "hidden": true
   },
   "outputs": [
    {
     "name": "stderr",
     "output_type": "stream",
     "text": [
      "100%|██████████| 10/10 [00:04<00:00,  2.04it/s]"
     ]
    },
    {
     "name": "stdout",
     "output_type": "stream",
     "text": [
      "               precision       recall       f1-score       support       \n",
      "Audio-Streaming:  99.60\t\t99.73\t\t99.66\t\t88830.00\t\t\n",
      "Browsing:         95.15\t\t86.67\t\t90.43\t\t1750.00\t\t\n",
      "Chat:             99.22\t\t99.25\t\t99.23\t\t30520.00\t\t\n",
      "Email:            95.71\t\t96.21\t\t95.92\t\t3930.00\t\t\n",
      "File-Transfer:    98.46\t\t98.44\t\t98.44\t\t17300.00\t\t\n",
      "P2P:              97.09\t\t96.88\t\t96.82\t\t1570.00\t\t\n",
      "VOIP:             97.59\t\t98.07\t\t97.83\t\t9860.00\t\t\n",
      "Video-Streaming:  97.05\t\t96.49\t\t96.76\t\t9120.00\t\t\n",
      "\n",
      "\n",
      " 10-fold Accuracy: 98.97%\n",
      "Test accuracy: 99.04%\n",
      "\n",
      "\n",
      "Confusion matrix:\n",
      "[[4387    2   12    0    0    0    0    0]\n",
      " [   6   79    0    0    1    1    1    0]\n",
      " [   6    5 1478    0    0    0    0    0]\n",
      " [   0    0    0  183    6    0    0    0]\n",
      " [   0    0    0   11  866    0    0    3]\n",
      " [   0    0    0    0    0   63    0    0]\n",
      " [   0    0    1    0    0    0  473    5]\n",
      " [   4    0    0    0    4    0    9  417]]\n",
      "\n",
      "Audio-Streaming :   99.64%\n",
      "Browsing :          91.86%\n",
      "Chat :              99.13%\n",
      "Email :             94.33%\n",
      "File-Transfer :     98.75%\n",
      "P2P :               98.44%\n",
      "VOIP :              97.93%\n",
      "Video-Streaming :   98.12%\n",
      "\n",
      "\n",
      "Optimal number of features: 160\n",
      "Feature                   \tImportance\n",
      "------------------------------------------\n",
      "col_76:                      \t0.4287\n",
      "hour:                        \t0.3315\n",
      "Idle Max:                    \t0.0589\n",
      "Fwd Seg Size Min:            \t0.0387\n",
      "col_58:                      \t0.0325\n",
      "Flow Duration:               \t0.0195\n",
      "col_45:                      \t0.0093\n",
      "Src Port:                    \t0.0092\n",
      "Flow IAT Std:                \t0.0061\n",
      "col_91:                      \t0.0060\n",
      "Subflow Bwd Bytes:           \t0.0049\n",
      "Dst Port:                    \t0.0048\n",
      "Idle Min:                    \t0.0037\n",
      "Fwd Segment Size Avg:        \t0.0036\n",
      "Packet Length Mean:          \t0.0035\n",
      "col_95:                      \t0.0031\n",
      "col_18:                      \t0.0030\n",
      "Bwd Packet Length Mean:      \t0.0024\n",
      "col_29:                      \t0.0023\n",
      "col_5:                       \t0.0021\n",
      "Flow IAT Min:                \t0.0020\n",
      "Flow Bytes/s:                \t0.0019\n",
      "Bwd Packets/s:               \t0.0019\n",
      "Bwd Header Length:           \t0.0018\n",
      "Idle Mean:                   \t0.0018\n",
      "Flow IAT Max:                \t0.0014\n",
      "col_26:                      \t0.0012\n",
      "Packet Length Variance:      \t0.0012\n",
      "Fwd Packet Length Std:       \t0.0012\n",
      "col_42:                      \t0.0010\n",
      "col_93:                      \t0.0008\n",
      "Fwd IAT Std:                 \t0.0008\n",
      "Bwd IAT Min:                 \t0.0007\n",
      "Packet Length Std:           \t0.0006\n",
      "Total Length of Bwd Packet:  \t0.0006\n",
      "Fwd IAT Min:                 \t0.0006\n",
      "FWD Init Win Bytes:          \t0.0006\n",
      "Bwd IAT Std:                 \t0.0005\n",
      "RST Flag Count:              \t0.0004\n",
      "col_75:                      \t0.0004\n",
      "SYN Flag Count:              \t0.0004\n",
      "col_46:                      \t0.0004\n",
      "col_62:                      \t0.0004\n",
      "Flow Packets/s:              \t0.0004\n",
      "col_55:                      \t0.0003\n",
      "Total Fwd Packet:            \t0.0003\n",
      "Fwd Packet Length Max:       \t0.0003\n",
      "Fwd Packets/s:               \t0.0002\n",
      "Packet Length Min:           \t0.0002\n",
      "Fwd Packet Length Mean:      \t0.0002\n",
      "col_61:                      \t0.0002\n",
      "Bwd Packet Length Max:       \t0.0002\n",
      "Fwd IAT Total:               \t0.0002\n",
      "Packet Length Max:           \t0.0002\n",
      "Subflow Fwd Bytes:           \t0.0002\n",
      "col_98:                      \t0.0002\n",
      "Fwd Header Length:           \t0.0002\n",
      "Bwd Init Win Bytes:          \t0.0002\n",
      "col_6:                       \t0.0002\n",
      "Fwd Act Data Pkts:           \t0.0002\n",
      "col_53:                      \t0.0002\n",
      "ACK Flag Count:              \t0.0001\n",
      "Bwd Packet Length Min:       \t0.0000\n",
      "FIN Flag Count:              \t0.0000\n",
      "col_7:                       \t0.0000\n",
      "col_8:                       \t0.0000\n",
      "col_9:                       \t0.0000\n",
      "col_10:                      \t0.0000\n",
      "col_11:                      \t0.0000\n",
      "col_12:                      \t0.0000\n",
      "col_13:                      \t0.0000\n",
      "col_14:                      \t0.0000\n",
      "col_15:                      \t0.0000\n",
      "col_16:                      \t0.0000\n",
      "col_17:                      \t0.0000\n",
      "col_19:                      \t0.0000\n",
      "col_20:                      \t0.0000\n",
      "col_21:                      \t0.0000\n",
      "col_22:                      \t0.0000\n",
      "col_23:                      \t0.0000\n",
      "col_24:                      \t0.0000\n",
      "col_25:                      \t0.0000\n",
      "col_27:                      \t0.0000\n",
      "col_28:                      \t0.0000\n",
      "col_30:                      \t0.0000\n",
      "col_31:                      \t0.0000\n",
      "col_32:                      \t0.0000\n",
      "col_33:                      \t0.0000\n",
      "col_34:                      \t0.0000\n",
      "col_35:                      \t0.0000\n",
      "col_36:                      \t0.0000\n",
      "col_37:                      \t0.0000\n",
      "col_38:                      \t0.0000\n",
      "col_39:                      \t0.0000\n",
      "col_40:                      \t0.0000\n",
      "col_41:                      \t0.0000\n",
      "col_43:                      \t0.0000\n",
      "col_44:                      \t0.0000\n",
      "col_47:                      \t0.0000\n",
      "col_48:                      \t0.0000\n",
      "col_49:                      \t0.0000\n",
      "col_50:                      \t0.0000\n",
      "col_51:                      \t0.0000\n",
      "col_52:                      \t0.0000\n",
      "col_54:                      \t0.0000\n",
      "col_56:                      \t0.0000\n",
      "col_57:                      \t0.0000\n",
      "col_59:                      \t0.0000\n",
      "col_63:                      \t0.0000\n",
      "col_64:                      \t0.0000\n",
      "col_65:                      \t0.0000\n",
      "col_66:                      \t0.0000\n",
      "col_67:                      \t0.0000\n",
      "col_68:                      \t0.0000\n",
      "col_69:                      \t0.0000\n",
      "col_70:                      \t0.0000\n",
      "col_71:                      \t0.0000\n",
      "col_72:                      \t0.0000\n",
      "col_73:                      \t0.0000\n",
      "col_74:                      \t0.0000\n",
      "col_78:                      \t0.0000\n",
      "col_82:                      \t0.0000\n",
      "col_89:                      \t0.0000\n",
      "col_90:                      \t0.0000\n",
      "src_ip_country:              \t0.0000\n",
      "dst_ip_country:              \t0.0000\n",
      "src_bogon:                   \t0.0000\n",
      "dst_bogon:                   \t0.0000\n",
      "Protocol:                    \t0.0000\n",
      "Total Bwd packets:           \t0.0000\n",
      "Total Length of Fwd Packet:  \t0.0000\n",
      "Fwd Packet Length Min:       \t0.0000\n",
      "Bwd Packet Length Std:       \t0.0000\n",
      "Flow IAT Mean:               \t0.0000\n",
      "Fwd IAT Mean:                \t0.0000\n",
      "Fwd IAT Max:                 \t0.0000\n",
      "Bwd IAT Total:               \t0.0000\n",
      "Bwd IAT Mean:                \t0.0000\n",
      "Bwd IAT Max:                 \t0.0000\n",
      "Fwd PSH Flags:               \t0.0000\n",
      "Bwd PSH Flags:               \t0.0000\n",
      "Fwd URG Flags:               \t0.0000\n",
      "Bwd URG Flags:               \t0.0000\n",
      "PSH Flag Count:              \t0.0000\n",
      "URG Flag Count:              \t0.0000\n",
      "CWE Flag Count:              \t0.0000\n",
      "ECE Flag Count:              \t0.0000\n",
      "Average Packet Size:         \t0.0000\n",
      "Bwd Segment Size Avg:        \t0.0000\n",
      "Fwd Bytes/Bulk Avg:          \t0.0000\n",
      "Fwd Packet/Bulk Avg:         \t0.0000\n",
      "Bwd Bytes/Bulk Avg:          \t0.0000\n",
      "Bwd Packet/Bulk Avg:         \t0.0000\n",
      "Bwd Bulk Rate Avg:           \t0.0000\n",
      "Subflow Fwd Packets:         \t0.0000\n",
      "Subflow Bwd Packets:         \t0.0000\n",
      "Active Std:                  \t0.0000\n",
      "Active Max:                  \t0.0000\n",
      "Active Min:                  \t0.0000\n",
      "Idle Std:                    \t0.0000\n"
     ]
    },
    {
     "name": "stderr",
     "output_type": "stream",
     "text": [
      "\n"
     ]
    }
   ],
   "source": [
    "final_report_rf1 = final_evaluation(model_rf1, X3, y3, labels3, rfe_rf1)\n",
    "print()\n",
    "print(f\"\\nOptimal number of features: {rfe_rf1.n_features_}\")\n",
    "selected_columns_rf1 = summarize_feats(rfe_rf1, model_rf1, columns3)"
   ]
  },
  {
   "cell_type": "code",
   "execution_count": null,
   "metadata": {
    "ExecuteTime": {
     "end_time": "2021-03-03T14:35:13.693966Z",
     "start_time": "2021-03-03T11:29:45.992Z"
    },
    "hidden": true
   },
   "outputs": [],
   "source": [
    "dotfile = open(\"rf.dot\", 'w')\n",
    "export_graphviz(model_rf1, out_file = dotfile, feature_names = selected_columns_rf1)\n",
    "dotfile.close()"
   ]
  }
 ],
 "metadata": {
  "kernelspec": {
   "display_name": "Python 3",
   "language": "python",
   "name": "python3"
  },
  "language_info": {
   "codemirror_mode": {
    "name": "ipython",
    "version": 3
   },
   "file_extension": ".py",
   "mimetype": "text/x-python",
   "name": "python",
   "nbconvert_exporter": "python",
   "pygments_lexer": "ipython3",
   "version": "3.9.2"
  },
  "toc": {
   "base_numbering": 1,
   "nav_menu": {},
   "number_sections": true,
   "sideBar": true,
   "skip_h1_title": false,
   "title_cell": "Table of Contents",
   "title_sidebar": "Contents",
   "toc_cell": false,
   "toc_position": {
    "height": "calc(100% - 180px)",
    "left": "10px",
    "top": "150px",
    "width": "273.188px"
   },
   "toc_section_display": true,
   "toc_window_display": true
  },
  "varInspector": {
   "cols": {
    "lenName": 16,
    "lenType": 16,
    "lenVar": 40
   },
   "kernels_config": {
    "python": {
     "delete_cmd_postfix": "",
     "delete_cmd_prefix": "del ",
     "library": "var_list.py",
     "varRefreshCmd": "print(var_dic_list())"
    },
    "r": {
     "delete_cmd_postfix": ") ",
     "delete_cmd_prefix": "rm(",
     "library": "var_list.r",
     "varRefreshCmd": "cat(var_dic_list()) "
    }
   },
   "types_to_exclude": [
    "module",
    "function",
    "builtin_function_or_method",
    "instance",
    "_Feature"
   ],
   "window_display": false
  }
 },
 "nbformat": 4,
 "nbformat_minor": 4
}

{
 "cells": [
  {
   "cell_type": "markdown",
   "metadata": {},
   "source": [
    "<center><h1> Darknet traffic dataset </h1> </center>"
   ]
  },
  {
   "cell_type": "markdown",
   "metadata": {},
   "source": [
    "# Libraries importing and configuration"
   ]
  },
  {
   "cell_type": "code",
   "execution_count": 2,
   "metadata": {
    "ExecuteTime": {
     "end_time": "2021-03-04T16:30:34.503045Z",
     "start_time": "2021-03-04T16:30:32.689577Z"
    }
   },
   "outputs": [],
   "source": [
    "import pandas as pd\n",
    "import numpy as np\n",
    "import matplotlib.pyplot as plt\n",
    "import seaborn as sns\n",
    "import ipinfo\n",
    "import json\n",
    "\n",
    "from category_encoders.hashing import HashingEncoder\n",
    "from sklearn.preprocessing import OrdinalEncoder\n",
    "from sklearn.preprocessing import OneHotEncoder\n",
    "from sklearn.preprocessing import StandardScaler\n",
    "from sklearn.tree import DecisionTreeClassifier\n",
    "from sklearn.tree import plot_tree\n",
    "from sklearn.tree import export_graphviz\n",
    "from sklearn.ensemble import RandomForestClassifier\n",
    "from sklearn.model_selection import train_test_split\n",
    "from sklearn.model_selection import StratifiedKFold \n",
    "from sklearn.feature_selection import RFECV\n",
    "from sklearn.metrics import confusion_matrix\n",
    "from sklearn.metrics import plot_confusion_matrix\n",
    "from sklearn.metrics import classification_report\n",
    "from tqdm import tqdm"
   ]
  },
  {
   "cell_type": "code",
   "execution_count": 7,
   "metadata": {
    "ExecuteTime": {
     "end_time": "2021-03-01T22:09:51.933530Z",
     "start_time": "2021-03-01T22:09:51.920557Z"
    }
   },
   "outputs": [],
   "source": [
    "ipinfo_handler = ipinfo.getHandler(\"de30fe3213f197\")\n",
    "\n",
    "random_state = 42\n",
    "dataset_folder = \"dataset/\" \n",
    "\n",
    "pd.options.mode.chained_assignment = None  # default='warn'\n",
    "np.random.seed(random_state)\n",
    "plt.rcParams['figure.figsize'] = (18,6)\n",
    "plt.rcParams.update({'font.size': 15})"
   ]
  },
  {
   "cell_type": "code",
   "execution_count": 8,
   "metadata": {
    "ExecuteTime": {
     "end_time": "2021-03-01T22:09:56.178460Z",
     "start_time": "2021-03-01T22:09:52.151278Z"
    }
   },
   "outputs": [],
   "source": [
    "data = pd.read_csv(dataset_folder + \"Darknet.CSV\", low_memory=False)"
   ]
  },
  {
   "cell_type": "markdown",
   "metadata": {},
   "source": [
    "# Dataset processing"
   ]
  },
  {
   "cell_type": "markdown",
   "metadata": {},
   "source": [
    "## Labels duplicates correction"
   ]
  },
  {
   "cell_type": "code",
   "execution_count": 9,
   "metadata": {
    "ExecuteTime": {
     "end_time": "2021-03-01T22:30:49.465843Z",
     "start_time": "2021-03-01T22:30:49.331634Z"
    }
   },
   "outputs": [
    {
     "name": "stdout",
     "output_type": "stream",
     "text": [
      "['Non-Tor' 'NonVPN' 'Tor' 'VPN']\n",
      "['AUDIO-STREAMING' 'Browsing' 'Chat' 'Email' 'File-Transfer'\n",
      " 'File-transfer' 'P2P' 'Video-Streaming' 'Audio-Streaming'\n",
      " 'Video-streaming' 'VOIP']\n"
     ]
    }
   ],
   "source": [
    "samples = data.copy()\n",
    "\n",
    "traffic_labels = samples[\"Label\"].unique()\n",
    "print(traffic_labels)\n",
    "traffic_type_labels = samples[\"Label.1\"].unique()\n",
    "print(traffic_type_labels)"
   ]
  },
  {
   "cell_type": "code",
   "execution_count": 10,
   "metadata": {
    "ExecuteTime": {
     "end_time": "2021-03-01T22:30:49.733906Z",
     "start_time": "2021-03-01T22:30:49.608739Z"
    }
   },
   "outputs": [
    {
     "name": "stdout",
     "output_type": "stream",
     "text": [
      "['Audio-Streaming' 'Browsing' 'Chat' 'Email' 'File-Transfer' 'P2P'\n",
      " 'Video-Streaming' 'VOIP']\n"
     ]
    }
   ],
   "source": [
    "samples['Label.1'].loc[samples['Label.1'] == 'AUDIO-STREAMING'] = 'Audio-Streaming'\n",
    "samples['Label.1'].loc[samples['Label.1'] == 'File-transfer'] = 'File-Transfer'\n",
    "samples['Label.1'].loc[samples['Label.1'] == 'Video-streaming'] = 'Video-Streaming'\n",
    "\n",
    "traffic_type_labels = samples[\"Label.1\"].unique()\n",
    "print(traffic_type_labels)"
   ]
  },
  {
   "cell_type": "markdown",
   "metadata": {},
   "source": [
    "## Labels grouping in Benign and Darknet"
   ]
  },
  {
   "cell_type": "code",
   "execution_count": 11,
   "metadata": {
    "ExecuteTime": {
     "end_time": "2021-03-01T22:30:51.073387Z",
     "start_time": "2021-03-01T22:30:50.914000Z"
    },
    "scrolled": false
   },
   "outputs": [
    {
     "name": "stdout",
     "output_type": "stream",
     "text": [
      "['Benign' 'Darknet']\n"
     ]
    }
   ],
   "source": [
    "samples['Label'].loc[(samples['Label'] == 'Non-Tor') | (samples['Label'] == 'NonVPN')] = 'Benign'\n",
    "samples['Label'].loc[(samples['Label'] == 'Tor') | (samples['Label'] == 'VPN')] = 'Darknet'\n",
    "\n",
    "traffic_labels = samples[\"Label\"].unique()\n",
    "print(traffic_labels)"
   ]
  },
  {
   "cell_type": "markdown",
   "metadata": {},
   "source": [
    "## Timestamp feature extraction"
   ]
  },
  {
   "cell_type": "code",
   "execution_count": 12,
   "metadata": {
    "ExecuteTime": {
     "end_time": "2021-03-01T22:30:53.213883Z",
     "start_time": "2021-03-01T22:30:52.793727Z"
    }
   },
   "outputs": [
    {
     "name": "stdout",
     "output_type": "stream",
     "text": [
      "                Timestamp  hour\n",
      "0  24/07/2015 04:09:48 PM     4\n",
      "1  24/07/2015 04:09:48 PM     4\n",
      "2  24/07/2015 04:09:48 PM     4\n",
      "3  24/07/2015 04:09:48 PM     4\n",
      "4  24/07/2015 04:09:45 PM     4\n"
     ]
    }
   ],
   "source": [
    "hours = []\n",
    "for timestamp in samples['Timestamp']:\n",
    "    hora = int(timestamp.split()[1].split(':')[0])\n",
    "    hours.append(hora)\n",
    "samples['hour'] = hours\n",
    "print(samples[['Timestamp', 'hour']][:5])"
   ]
  },
  {
   "cell_type": "markdown",
   "metadata": {},
   "source": [
    "## Source and destination ips feature extraction"
   ]
  },
  {
   "cell_type": "markdown",
   "metadata": {},
   "source": [
    "### 1-gram, 2-gram and 3-gram extraction"
   ]
  },
  {
   "cell_type": "code",
   "execution_count": 13,
   "metadata": {
    "ExecuteTime": {
     "end_time": "2021-03-01T22:30:53.707869Z",
     "start_time": "2021-03-01T22:30:53.702954Z"
    }
   },
   "outputs": [],
   "source": [
    "def create_grams(ip):\n",
    "    parts = ip.split('.')\n",
    "    one_gram = parts[0]\n",
    "    two_gram = parts[0] + \" \" + parts[1]\n",
    "    three_gram = parts[0] + \" \" + parts[1] + \" \" + parts[2]\n",
    "    return one_gram, two_gram, three_gram"
   ]
  },
  {
   "cell_type": "code",
   "execution_count": 14,
   "metadata": {
    "ExecuteTime": {
     "end_time": "2021-03-01T22:30:54.804371Z",
     "start_time": "2021-03-01T22:30:53.926763Z"
    },
    "scrolled": true
   },
   "outputs": [],
   "source": [
    "src_one_gram = []\n",
    "src_two_gram = []\n",
    "src_three_gram = []\n",
    "dst_one_gram = []\n",
    "dst_two_gram = []\n",
    "dst_three_gram = []\n",
    "\n",
    "for src_ip, dst_ip in zip(samples[\"Src IP\"], samples[\"Dst IP\"]): \n",
    "    src_one, src_two, src_three = create_grams(src_ip)\n",
    "    src_one_gram.append(src_one)\n",
    "    src_two_gram.append(src_two)\n",
    "    src_three_gram.append(src_three)\n",
    "    dst_one, dst_two, dst_three = create_grams(dst_ip)\n",
    "    dst_one_gram.append(dst_one)\n",
    "    dst_two_gram.append(dst_two)\n",
    "    dst_three_gram.append(dst_three)\n",
    "\n",
    "samples[\"src_ip_1gram\"] = src_one_gram\n",
    "samples[\"src_ip_2gram\"] = src_two_gram\n",
    "samples[\"src_ip_3gram\"] = src_three_gram\n",
    "\n",
    "samples[\"dst_ip_1gram\"] = dst_one_gram\n",
    "samples[\"dst_ip_2gram\"] = dst_two_gram\n",
    "samples[\"dst_ip_3gram\"] = dst_three_gram\n",
    "\n",
    "#print(samples[[\"Src IP\",\"src_ip_1gram\",\"src_ip_2gram\",\"src_ip_3gram\"]][200:205])\n",
    "#print(samples[[\"Dst IP\",\"dst_ip_1gram\",\"dst_ip_2gram\",\"dst_ip_3gram\"]][:5])"
   ]
  },
  {
   "cell_type": "markdown",
   "metadata": {},
   "source": [
    "### Ips details extraction"
   ]
  },
  {
   "cell_type": "code",
   "execution_count": 15,
   "metadata": {
    "ExecuteTime": {
     "end_time": "2021-03-01T22:30:54.816462Z",
     "start_time": "2021-03-01T22:30:54.807970Z"
    }
   },
   "outputs": [],
   "source": [
    "def get_ip_detail(ip, ip_dict, repeated):\n",
    "    if ip not in ip_dict.keys():\n",
    "        details = ipinfo_handler.getDetails(ip)\n",
    "        ip_dict[ip] = details.all\n",
    "    else:\n",
    "        repeated += 1\n",
    "    return repeated\n",
    "\n",
    "def dump_ips(ip_dict, folder):\n",
    "    j = json.dumps(ip_dict)\n",
    "    f = open(folder+\"ips_dict.json\",\"w\")\n",
    "    f.write(j)\n",
    "    f.close()\n",
    "\n",
    "def load_ips(file):\n",
    "    data = {}\n",
    "    with open(file) as json_file:\n",
    "        data = json.load(json_file)\n",
    "    return data"
   ]
  },
  {
   "cell_type": "code",
   "execution_count": 16,
   "metadata": {
    "ExecuteTime": {
     "end_time": "2021-03-01T22:30:54.982804Z",
     "start_time": "2021-03-01T22:30:54.819605Z"
    }
   },
   "outputs": [],
   "source": [
    "ip_dict = load_ips(\"ips_dict.json\")"
   ]
  },
  {
   "cell_type": "code",
   "execution_count": 17,
   "metadata": {
    "ExecuteTime": {
     "end_time": "2021-03-01T22:30:55.180369Z",
     "start_time": "2021-03-01T22:30:54.986091Z"
    }
   },
   "outputs": [
    {
     "name": "stderr",
     "output_type": "stream",
     "text": [
      "100%|███████████████████████████████████████████████████████████████████████| 11111/11111 [00:00<00:00, 1393544.40it/s]\n"
     ]
    }
   ],
   "source": [
    "ips = np.concatenate((samples[\"Src IP\"].unique(), samples[\"Dst IP\"].unique())) \n",
    "for i in tqdm(range(len(ips))):\n",
    "    get_ip_detail(ips[i], ip_dict, 0)\n",
    "dump_ips(ip_dict, \"\")"
   ]
  },
  {
   "cell_type": "code",
   "execution_count": 18,
   "metadata": {
    "ExecuteTime": {
     "end_time": "2021-03-01T22:30:55.813371Z",
     "start_time": "2021-03-01T22:30:55.184777Z"
    },
    "scrolled": true
   },
   "outputs": [
    {
     "name": "stderr",
     "output_type": "stream",
     "text": [
      "100%|██████████████████████████████████████████████████████████████████████| 141530/141530 [00:00<00:00, 621074.44it/s]\n"
     ]
    }
   ],
   "source": [
    "ips_tuple = zip(samples[\"Src IP\"], samples[\"Dst IP\"])\n",
    "dst_ip_country = []\n",
    "src_ip_country = []\n",
    "src_bogon = []\n",
    "dst_bogon = []\n",
    "\n",
    "for src_ip, dst_ip in tqdm(ips_tuple, total=len(samples[\"Src IP\"])):\n",
    "    if 'country' in ip_dict[dst_ip].keys():\n",
    "        dst_ip_country.append(ip_dict[dst_ip]['country'])\n",
    "    else:\n",
    "        dst_ip_country.append(\"\")\n",
    "    if 'country' in ip_dict[src_ip].keys():\n",
    "        src_ip_country.append(ip_dict[src_ip]['country'])\n",
    "    else:\n",
    "        src_ip_country.append(\"\")\n",
    "    if 'bogon' in ip_dict[dst_ip].keys():\n",
    "        dst_bogon.append(ip_dict[dst_ip]['bogon'])\n",
    "    else:\n",
    "        dst_bogon.append(False)\n",
    "    if 'bogon' in ip_dict[src_ip].keys():\n",
    "        src_bogon.append(ip_dict[src_ip]['bogon'])\n",
    "    else:\n",
    "        src_bogon.append(False)\n",
    "samples['src_ip_country'] = src_ip_country\n",
    "samples['dst_ip_country'] = dst_ip_country\n",
    "samples['src_bogon'] = src_bogon\n",
    "samples['dst_bogon'] = dst_bogon"
   ]
  },
  {
   "cell_type": "markdown",
   "metadata": {},
   "source": [
    "## Irrelevant attributes extraction"
   ]
  },
  {
   "cell_type": "code",
   "execution_count": 19,
   "metadata": {
    "ExecuteTime": {
     "end_time": "2021-03-02T17:21:27.976007Z",
     "start_time": "2021-03-02T17:21:27.675341Z"
    },
    "scrolled": true
   },
   "outputs": [],
   "source": [
    "model_samples = samples.copy()\n",
    "\n",
    "del model_samples['Flow ID']\n",
    "del model_samples['Timestamp']\n",
    "del model_samples['Src IP']\n",
    "del model_samples['Dst IP']"
   ]
  },
  {
   "cell_type": "code",
   "execution_count": 20,
   "metadata": {
    "ExecuteTime": {
     "end_time": "2021-03-02T17:21:29.350302Z",
     "start_time": "2021-03-02T17:21:29.231723Z"
    }
   },
   "outputs": [],
   "source": [
    "cols = np.concatenate((model_samples.columns[81:], model_samples.columns[:81]))\n",
    "model_samples = model_samples[cols]"
   ]
  },
  {
   "cell_type": "code",
   "execution_count": 21,
   "metadata": {
    "ExecuteTime": {
     "end_time": "2021-03-02T17:21:31.193248Z",
     "start_time": "2021-03-02T17:21:31.183581Z"
    }
   },
   "outputs": [
    {
     "data": {
      "text/plain": [
       "Index(['hour', 'src_ip_1gram', 'src_ip_2gram', 'src_ip_3gram', 'dst_ip_1gram',\n",
       "       'dst_ip_2gram', 'dst_ip_3gram', 'src_ip_country', 'dst_ip_country',\n",
       "       'src_bogon', 'dst_bogon', 'Src Port', 'Dst Port', 'Protocol',\n",
       "       'Flow Duration', 'Total Fwd Packet', 'Total Bwd packets',\n",
       "       'Total Length of Fwd Packet', 'Total Length of Bwd Packet',\n",
       "       'Fwd Packet Length Max', 'Fwd Packet Length Min',\n",
       "       'Fwd Packet Length Mean', 'Fwd Packet Length Std',\n",
       "       'Bwd Packet Length Max', 'Bwd Packet Length Min',\n",
       "       'Bwd Packet Length Mean', 'Bwd Packet Length Std', 'Flow Bytes/s',\n",
       "       'Flow Packets/s', 'Flow IAT Mean', 'Flow IAT Std', 'Flow IAT Max',\n",
       "       'Flow IAT Min', 'Fwd IAT Total', 'Fwd IAT Mean', 'Fwd IAT Std',\n",
       "       'Fwd IAT Max', 'Fwd IAT Min', 'Bwd IAT Total', 'Bwd IAT Mean',\n",
       "       'Bwd IAT Std', 'Bwd IAT Max', 'Bwd IAT Min', 'Fwd PSH Flags',\n",
       "       'Bwd PSH Flags', 'Fwd URG Flags', 'Bwd URG Flags', 'Fwd Header Length',\n",
       "       'Bwd Header Length', 'Fwd Packets/s', 'Bwd Packets/s',\n",
       "       'Packet Length Min', 'Packet Length Max', 'Packet Length Mean',\n",
       "       'Packet Length Std', 'Packet Length Variance', 'FIN Flag Count',\n",
       "       'SYN Flag Count', 'RST Flag Count', 'PSH Flag Count', 'ACK Flag Count',\n",
       "       'URG Flag Count', 'CWE Flag Count', 'ECE Flag Count', 'Down/Up Ratio',\n",
       "       'Average Packet Size', 'Fwd Segment Size Avg', 'Bwd Segment Size Avg',\n",
       "       'Fwd Bytes/Bulk Avg', 'Fwd Packet/Bulk Avg', 'Fwd Bulk Rate Avg',\n",
       "       'Bwd Bytes/Bulk Avg', 'Bwd Packet/Bulk Avg', 'Bwd Bulk Rate Avg',\n",
       "       'Subflow Fwd Packets', 'Subflow Fwd Bytes', 'Subflow Bwd Packets',\n",
       "       'Subflow Bwd Bytes', 'FWD Init Win Bytes', 'Bwd Init Win Bytes',\n",
       "       'Fwd Act Data Pkts', 'Fwd Seg Size Min', 'Active Mean', 'Active Std',\n",
       "       'Active Max', 'Active Min', 'Idle Mean', 'Idle Std', 'Idle Max',\n",
       "       'Idle Min', 'Label', 'Label.1'],\n",
       "      dtype='object')"
      ]
     },
     "execution_count": 21,
     "metadata": {},
     "output_type": "execute_result"
    }
   ],
   "source": [
    "model_samples.columns"
   ]
  },
  {
   "cell_type": "markdown",
   "metadata": {},
   "source": [
    "## Categorical features encoding"
   ]
  },
  {
   "cell_type": "code",
   "execution_count": 22,
   "metadata": {
    "ExecuteTime": {
     "end_time": "2021-03-02T17:21:36.756723Z",
     "start_time": "2021-03-02T17:21:36.752246Z"
    }
   },
   "outputs": [
    {
     "name": "stdout",
     "output_type": "stream",
     "text": [
      "['src_ip_1gram' 'src_ip_2gram' 'src_ip_3gram' 'dst_ip_1gram'\n",
      " 'dst_ip_2gram' 'dst_ip_3gram']\n",
      "['src_ip_country', 'dst_ip_country']\n",
      "['Label.1']\n"
     ]
    }
   ],
   "source": [
    "hash_enc_cols = cols[1:7]\n",
    "print(hash_enc_cols)\n",
    "ord_enc_cols = ['src_ip_country','dst_ip_country']\n",
    "print(ord_enc_cols)\n",
    "one_hot_enc_cols = ['Label.1']\n",
    "print(one_hot_enc_cols)"
   ]
  },
  {
   "cell_type": "code",
   "execution_count": 23,
   "metadata": {
    "ExecuteTime": {
     "end_time": "2021-03-02T17:23:23.364591Z",
     "start_time": "2021-03-02T17:21:38.250299Z"
    },
    "scrolled": true
   },
   "outputs": [
    {
     "data": {
      "text/html": [
       "<div>\n",
       "<style scoped>\n",
       "    .dataframe tbody tr th:only-of-type {\n",
       "        vertical-align: middle;\n",
       "    }\n",
       "\n",
       "    .dataframe tbody tr th {\n",
       "        vertical-align: top;\n",
       "    }\n",
       "\n",
       "    .dataframe thead th {\n",
       "        text-align: right;\n",
       "    }\n",
       "</style>\n",
       "<table border=\"1\" class=\"dataframe\">\n",
       "  <thead>\n",
       "    <tr style=\"text-align: right;\">\n",
       "      <th></th>\n",
       "      <th>col_0</th>\n",
       "      <th>col_1</th>\n",
       "      <th>col_2</th>\n",
       "      <th>col_3</th>\n",
       "      <th>col_4</th>\n",
       "      <th>col_5</th>\n",
       "      <th>col_6</th>\n",
       "      <th>col_7</th>\n",
       "      <th>col_8</th>\n",
       "      <th>col_9</th>\n",
       "      <th>...</th>\n",
       "      <th>Active Mean</th>\n",
       "      <th>Active Std</th>\n",
       "      <th>Active Max</th>\n",
       "      <th>Active Min</th>\n",
       "      <th>Idle Mean</th>\n",
       "      <th>Idle Std</th>\n",
       "      <th>Idle Max</th>\n",
       "      <th>Idle Min</th>\n",
       "      <th>Label</th>\n",
       "      <th>Label.1</th>\n",
       "    </tr>\n",
       "  </thead>\n",
       "  <tbody>\n",
       "    <tr>\n",
       "      <th>0</th>\n",
       "      <td>0</td>\n",
       "      <td>0</td>\n",
       "      <td>0</td>\n",
       "      <td>0</td>\n",
       "      <td>0</td>\n",
       "      <td>0</td>\n",
       "      <td>0</td>\n",
       "      <td>0</td>\n",
       "      <td>0</td>\n",
       "      <td>0</td>\n",
       "      <td>...</td>\n",
       "      <td>0</td>\n",
       "      <td>0</td>\n",
       "      <td>0</td>\n",
       "      <td>0</td>\n",
       "      <td>0.000000e+00</td>\n",
       "      <td>0.000</td>\n",
       "      <td>0.000000e+00</td>\n",
       "      <td>0.000000e+00</td>\n",
       "      <td>Benign</td>\n",
       "      <td>Audio-Streaming</td>\n",
       "    </tr>\n",
       "    <tr>\n",
       "      <th>1</th>\n",
       "      <td>0</td>\n",
       "      <td>0</td>\n",
       "      <td>0</td>\n",
       "      <td>0</td>\n",
       "      <td>0</td>\n",
       "      <td>0</td>\n",
       "      <td>0</td>\n",
       "      <td>0</td>\n",
       "      <td>0</td>\n",
       "      <td>0</td>\n",
       "      <td>...</td>\n",
       "      <td>0</td>\n",
       "      <td>0</td>\n",
       "      <td>0</td>\n",
       "      <td>0</td>\n",
       "      <td>0.000000e+00</td>\n",
       "      <td>0.000</td>\n",
       "      <td>0.000000e+00</td>\n",
       "      <td>0.000000e+00</td>\n",
       "      <td>Benign</td>\n",
       "      <td>Audio-Streaming</td>\n",
       "    </tr>\n",
       "    <tr>\n",
       "      <th>2</th>\n",
       "      <td>0</td>\n",
       "      <td>0</td>\n",
       "      <td>0</td>\n",
       "      <td>0</td>\n",
       "      <td>0</td>\n",
       "      <td>0</td>\n",
       "      <td>0</td>\n",
       "      <td>0</td>\n",
       "      <td>0</td>\n",
       "      <td>0</td>\n",
       "      <td>...</td>\n",
       "      <td>0</td>\n",
       "      <td>0</td>\n",
       "      <td>0</td>\n",
       "      <td>0</td>\n",
       "      <td>0.000000e+00</td>\n",
       "      <td>0.000</td>\n",
       "      <td>0.000000e+00</td>\n",
       "      <td>0.000000e+00</td>\n",
       "      <td>Benign</td>\n",
       "      <td>Audio-Streaming</td>\n",
       "    </tr>\n",
       "    <tr>\n",
       "      <th>3</th>\n",
       "      <td>0</td>\n",
       "      <td>0</td>\n",
       "      <td>0</td>\n",
       "      <td>0</td>\n",
       "      <td>0</td>\n",
       "      <td>0</td>\n",
       "      <td>0</td>\n",
       "      <td>0</td>\n",
       "      <td>0</td>\n",
       "      <td>0</td>\n",
       "      <td>...</td>\n",
       "      <td>0</td>\n",
       "      <td>0</td>\n",
       "      <td>0</td>\n",
       "      <td>0</td>\n",
       "      <td>0.000000e+00</td>\n",
       "      <td>0.000</td>\n",
       "      <td>0.000000e+00</td>\n",
       "      <td>0.000000e+00</td>\n",
       "      <td>Benign</td>\n",
       "      <td>Audio-Streaming</td>\n",
       "    </tr>\n",
       "    <tr>\n",
       "      <th>4</th>\n",
       "      <td>0</td>\n",
       "      <td>0</td>\n",
       "      <td>0</td>\n",
       "      <td>0</td>\n",
       "      <td>0</td>\n",
       "      <td>0</td>\n",
       "      <td>0</td>\n",
       "      <td>0</td>\n",
       "      <td>0</td>\n",
       "      <td>0</td>\n",
       "      <td>...</td>\n",
       "      <td>0</td>\n",
       "      <td>0</td>\n",
       "      <td>0</td>\n",
       "      <td>0</td>\n",
       "      <td>1.437760e+15</td>\n",
       "      <td>3117718.131</td>\n",
       "      <td>1.437760e+15</td>\n",
       "      <td>1.437760e+15</td>\n",
       "      <td>Benign</td>\n",
       "      <td>Audio-Streaming</td>\n",
       "    </tr>\n",
       "  </tbody>\n",
       "</table>\n",
       "<p>5 rows × 186 columns</p>\n",
       "</div>"
      ],
      "text/plain": [
       "   col_0  col_1  col_2  col_3  col_4  col_5  col_6  col_7  col_8  col_9  ...  \\\n",
       "0      0      0      0      0      0      0      0      0      0      0  ...   \n",
       "1      0      0      0      0      0      0      0      0      0      0  ...   \n",
       "2      0      0      0      0      0      0      0      0      0      0  ...   \n",
       "3      0      0      0      0      0      0      0      0      0      0  ...   \n",
       "4      0      0      0      0      0      0      0      0      0      0  ...   \n",
       "\n",
       "   Active Mean  Active Std  Active Max  Active Min     Idle Mean     Idle Std  \\\n",
       "0            0           0           0           0  0.000000e+00        0.000   \n",
       "1            0           0           0           0  0.000000e+00        0.000   \n",
       "2            0           0           0           0  0.000000e+00        0.000   \n",
       "3            0           0           0           0  0.000000e+00        0.000   \n",
       "4            0           0           0           0  1.437760e+15  3117718.131   \n",
       "\n",
       "       Idle Max      Idle Min   Label          Label.1  \n",
       "0  0.000000e+00  0.000000e+00  Benign  Audio-Streaming  \n",
       "1  0.000000e+00  0.000000e+00  Benign  Audio-Streaming  \n",
       "2  0.000000e+00  0.000000e+00  Benign  Audio-Streaming  \n",
       "3  0.000000e+00  0.000000e+00  Benign  Audio-Streaming  \n",
       "4  1.437760e+15  1.437760e+15  Benign  Audio-Streaming  \n",
       "\n",
       "[5 rows x 186 columns]"
      ]
     },
     "execution_count": 23,
     "metadata": {},
     "output_type": "execute_result"
    }
   ],
   "source": [
    "hash_enc = HashingEncoder(cols=hash_enc_cols, n_components=100).fit(model_samples)\n",
    "model_samples = hash_enc.transform(model_samples)\n",
    "model_samples.head()"
   ]
  },
  {
   "cell_type": "code",
   "execution_count": 24,
   "metadata": {
    "ExecuteTime": {
     "end_time": "2021-03-02T17:23:24.374829Z",
     "start_time": "2021-03-02T17:23:23.367787Z"
    }
   },
   "outputs": [
    {
     "data": {
      "text/html": [
       "<div>\n",
       "<style scoped>\n",
       "    .dataframe tbody tr th:only-of-type {\n",
       "        vertical-align: middle;\n",
       "    }\n",
       "\n",
       "    .dataframe tbody tr th {\n",
       "        vertical-align: top;\n",
       "    }\n",
       "\n",
       "    .dataframe thead th {\n",
       "        text-align: right;\n",
       "    }\n",
       "</style>\n",
       "<table border=\"1\" class=\"dataframe\">\n",
       "  <thead>\n",
       "    <tr style=\"text-align: right;\">\n",
       "      <th></th>\n",
       "      <th>src_ip_country</th>\n",
       "      <th>dst_ip_country</th>\n",
       "    </tr>\n",
       "  </thead>\n",
       "  <tbody>\n",
       "    <tr>\n",
       "      <th>0</th>\n",
       "      <td>0</td>\n",
       "      <td>134</td>\n",
       "    </tr>\n",
       "    <tr>\n",
       "      <th>1</th>\n",
       "      <td>0</td>\n",
       "      <td>134</td>\n",
       "    </tr>\n",
       "    <tr>\n",
       "      <th>2</th>\n",
       "      <td>0</td>\n",
       "      <td>134</td>\n",
       "    </tr>\n",
       "    <tr>\n",
       "      <th>3</th>\n",
       "      <td>0</td>\n",
       "      <td>134</td>\n",
       "    </tr>\n",
       "    <tr>\n",
       "      <th>4</th>\n",
       "      <td>0</td>\n",
       "      <td>134</td>\n",
       "    </tr>\n",
       "  </tbody>\n",
       "</table>\n",
       "</div>"
      ],
      "text/plain": [
       "   src_ip_country  dst_ip_country\n",
       "0               0             134\n",
       "1               0             134\n",
       "2               0             134\n",
       "3               0             134\n",
       "4               0             134"
      ]
     },
     "execution_count": 24,
     "metadata": {},
     "output_type": "execute_result"
    }
   ],
   "source": [
    "ord_enc = OrdinalEncoder()\n",
    "ord_enc.fit(model_samples[ord_enc_cols])\n",
    "model_samples[ord_enc_cols] = ord_enc.transform(model_samples[ord_enc_cols])\n",
    "model_samples[ord_enc_cols] = model_samples[ord_enc_cols].astype(int)\n",
    "model_samples[ord_enc_cols].head() "
   ]
  },
  {
   "cell_type": "code",
   "execution_count": 25,
   "metadata": {
    "ExecuteTime": {
     "end_time": "2021-03-02T17:23:24.478788Z",
     "start_time": "2021-03-02T17:23:24.377434Z"
    },
    "scrolled": false
   },
   "outputs": [
    {
     "data": {
      "text/html": [
       "<div>\n",
       "<style scoped>\n",
       "    .dataframe tbody tr th:only-of-type {\n",
       "        vertical-align: middle;\n",
       "    }\n",
       "\n",
       "    .dataframe tbody tr th {\n",
       "        vertical-align: top;\n",
       "    }\n",
       "\n",
       "    .dataframe thead th {\n",
       "        text-align: right;\n",
       "    }\n",
       "</style>\n",
       "<table border=\"1\" class=\"dataframe\">\n",
       "  <thead>\n",
       "    <tr style=\"text-align: right;\">\n",
       "      <th></th>\n",
       "      <th>col_0</th>\n",
       "      <th>col_1</th>\n",
       "      <th>col_2</th>\n",
       "      <th>col_3</th>\n",
       "      <th>col_4</th>\n",
       "      <th>col_5</th>\n",
       "      <th>col_6</th>\n",
       "      <th>col_7</th>\n",
       "      <th>col_8</th>\n",
       "      <th>col_9</th>\n",
       "      <th>...</th>\n",
       "      <th>Fwd Seg Size Min</th>\n",
       "      <th>Active Mean</th>\n",
       "      <th>Active Std</th>\n",
       "      <th>Active Max</th>\n",
       "      <th>Active Min</th>\n",
       "      <th>Idle Mean</th>\n",
       "      <th>Idle Std</th>\n",
       "      <th>Idle Max</th>\n",
       "      <th>Idle Min</th>\n",
       "      <th>Label</th>\n",
       "    </tr>\n",
       "  </thead>\n",
       "  <tbody>\n",
       "    <tr>\n",
       "      <th>0</th>\n",
       "      <td>0</td>\n",
       "      <td>0</td>\n",
       "      <td>0</td>\n",
       "      <td>0</td>\n",
       "      <td>0</td>\n",
       "      <td>0</td>\n",
       "      <td>0</td>\n",
       "      <td>0</td>\n",
       "      <td>0</td>\n",
       "      <td>0</td>\n",
       "      <td>...</td>\n",
       "      <td>20</td>\n",
       "      <td>0</td>\n",
       "      <td>0</td>\n",
       "      <td>0</td>\n",
       "      <td>0</td>\n",
       "      <td>0.000000e+00</td>\n",
       "      <td>0.000</td>\n",
       "      <td>0.000000e+00</td>\n",
       "      <td>0.000000e+00</td>\n",
       "      <td>Benign</td>\n",
       "    </tr>\n",
       "    <tr>\n",
       "      <th>1</th>\n",
       "      <td>0</td>\n",
       "      <td>0</td>\n",
       "      <td>0</td>\n",
       "      <td>0</td>\n",
       "      <td>0</td>\n",
       "      <td>0</td>\n",
       "      <td>0</td>\n",
       "      <td>0</td>\n",
       "      <td>0</td>\n",
       "      <td>0</td>\n",
       "      <td>...</td>\n",
       "      <td>20</td>\n",
       "      <td>0</td>\n",
       "      <td>0</td>\n",
       "      <td>0</td>\n",
       "      <td>0</td>\n",
       "      <td>0.000000e+00</td>\n",
       "      <td>0.000</td>\n",
       "      <td>0.000000e+00</td>\n",
       "      <td>0.000000e+00</td>\n",
       "      <td>Benign</td>\n",
       "    </tr>\n",
       "    <tr>\n",
       "      <th>2</th>\n",
       "      <td>0</td>\n",
       "      <td>0</td>\n",
       "      <td>0</td>\n",
       "      <td>0</td>\n",
       "      <td>0</td>\n",
       "      <td>0</td>\n",
       "      <td>0</td>\n",
       "      <td>0</td>\n",
       "      <td>0</td>\n",
       "      <td>0</td>\n",
       "      <td>...</td>\n",
       "      <td>20</td>\n",
       "      <td>0</td>\n",
       "      <td>0</td>\n",
       "      <td>0</td>\n",
       "      <td>0</td>\n",
       "      <td>0.000000e+00</td>\n",
       "      <td>0.000</td>\n",
       "      <td>0.000000e+00</td>\n",
       "      <td>0.000000e+00</td>\n",
       "      <td>Benign</td>\n",
       "    </tr>\n",
       "    <tr>\n",
       "      <th>3</th>\n",
       "      <td>0</td>\n",
       "      <td>0</td>\n",
       "      <td>0</td>\n",
       "      <td>0</td>\n",
       "      <td>0</td>\n",
       "      <td>0</td>\n",
       "      <td>0</td>\n",
       "      <td>0</td>\n",
       "      <td>0</td>\n",
       "      <td>0</td>\n",
       "      <td>...</td>\n",
       "      <td>20</td>\n",
       "      <td>0</td>\n",
       "      <td>0</td>\n",
       "      <td>0</td>\n",
       "      <td>0</td>\n",
       "      <td>0.000000e+00</td>\n",
       "      <td>0.000</td>\n",
       "      <td>0.000000e+00</td>\n",
       "      <td>0.000000e+00</td>\n",
       "      <td>Benign</td>\n",
       "    </tr>\n",
       "    <tr>\n",
       "      <th>4</th>\n",
       "      <td>0</td>\n",
       "      <td>0</td>\n",
       "      <td>0</td>\n",
       "      <td>0</td>\n",
       "      <td>0</td>\n",
       "      <td>0</td>\n",
       "      <td>0</td>\n",
       "      <td>0</td>\n",
       "      <td>0</td>\n",
       "      <td>0</td>\n",
       "      <td>...</td>\n",
       "      <td>20</td>\n",
       "      <td>0</td>\n",
       "      <td>0</td>\n",
       "      <td>0</td>\n",
       "      <td>0</td>\n",
       "      <td>1.437760e+15</td>\n",
       "      <td>3117718.131</td>\n",
       "      <td>1.437760e+15</td>\n",
       "      <td>1.437760e+15</td>\n",
       "      <td>Benign</td>\n",
       "    </tr>\n",
       "  </tbody>\n",
       "</table>\n",
       "<p>5 rows × 185 columns</p>\n",
       "</div>"
      ],
      "text/plain": [
       "   col_0  col_1  col_2  col_3  col_4  col_5  col_6  col_7  col_8  col_9  ...  \\\n",
       "0      0      0      0      0      0      0      0      0      0      0  ...   \n",
       "1      0      0      0      0      0      0      0      0      0      0  ...   \n",
       "2      0      0      0      0      0      0      0      0      0      0  ...   \n",
       "3      0      0      0      0      0      0      0      0      0      0  ...   \n",
       "4      0      0      0      0      0      0      0      0      0      0  ...   \n",
       "\n",
       "   Fwd Seg Size Min  Active Mean  Active Std  Active Max  Active Min  \\\n",
       "0                20            0           0           0           0   \n",
       "1                20            0           0           0           0   \n",
       "2                20            0           0           0           0   \n",
       "3                20            0           0           0           0   \n",
       "4                20            0           0           0           0   \n",
       "\n",
       "      Idle Mean     Idle Std      Idle Max      Idle Min   Label  \n",
       "0  0.000000e+00        0.000  0.000000e+00  0.000000e+00  Benign  \n",
       "1  0.000000e+00        0.000  0.000000e+00  0.000000e+00  Benign  \n",
       "2  0.000000e+00        0.000  0.000000e+00  0.000000e+00  Benign  \n",
       "3  0.000000e+00        0.000  0.000000e+00  0.000000e+00  Benign  \n",
       "4  1.437760e+15  3117718.131  1.437760e+15  1.437760e+15  Benign  \n",
       "\n",
       "[5 rows x 185 columns]"
      ]
     },
     "execution_count": 25,
     "metadata": {},
     "output_type": "execute_result"
    }
   ],
   "source": [
    "model_samples_l1 = model_samples[model_samples['Label'] == \"Darknet\"].copy()\n",
    "del model_samples['Label.1']\n",
    "del model_samples_l1['Label']\n",
    "model_samples.head()"
   ]
  },
  {
   "cell_type": "code",
   "execution_count": 26,
   "metadata": {
    "ExecuteTime": {
     "end_time": "2021-03-02T17:23:39.564466Z",
     "start_time": "2021-03-02T17:23:39.559947Z"
    }
   },
   "outputs": [
    {
     "data": {
      "text/plain": [
       "Index(['col_0', 'col_1', 'col_2', 'col_3', 'col_4', 'col_5', 'col_6', 'col_7',\n",
       "       'col_8', 'col_9',\n",
       "       ...\n",
       "       'Fwd Seg Size Min', 'Active Mean', 'Active Std', 'Active Max',\n",
       "       'Active Min', 'Idle Mean', 'Idle Std', 'Idle Max', 'Idle Min',\n",
       "       'Label.1'],\n",
       "      dtype='object', length=185)"
      ]
     },
     "execution_count": 26,
     "metadata": {},
     "output_type": "execute_result"
    }
   ],
   "source": [
    "model_samples_l1.columns"
   ]
  },
  {
   "cell_type": "code",
   "execution_count": 27,
   "metadata": {
    "ExecuteTime": {
     "end_time": "2021-03-02T17:23:44.091848Z",
     "start_time": "2021-03-02T17:23:44.085533Z"
    }
   },
   "outputs": [
    {
     "data": {
      "text/plain": [
       "Index(['col_0', 'col_1', 'col_2', 'col_3', 'col_4', 'col_5', 'col_6', 'col_7',\n",
       "       'col_8', 'col_9',\n",
       "       ...\n",
       "       'Fwd Seg Size Min', 'Active Mean', 'Active Std', 'Active Max',\n",
       "       'Active Min', 'Idle Mean', 'Idle Std', 'Idle Max', 'Idle Min', 'Label'],\n",
       "      dtype='object', length=185)"
      ]
     },
     "execution_count": 27,
     "metadata": {},
     "output_type": "execute_result"
    }
   ],
   "source": [
    "model_samples.columns"
   ]
  },
  {
   "cell_type": "code",
   "execution_count": 28,
   "metadata": {
    "ExecuteTime": {
     "end_time": "2021-03-02T17:24:23.013349Z",
     "start_time": "2021-03-02T17:24:14.245236Z"
    }
   },
   "outputs": [],
   "source": [
    "model_samples = model_samples.replace([np.inf, -np.inf], np.nan)\n",
    "model_samples_l1 = model_samples_l1.replace([np.inf, -np.inf], np.nan)"
   ]
  },
  {
   "cell_type": "code",
   "execution_count": 29,
   "metadata": {
    "ExecuteTime": {
     "end_time": "2021-03-02T17:24:24.767135Z",
     "start_time": "2021-03-02T17:24:23.985351Z"
    },
    "scrolled": true
   },
   "outputs": [
    {
     "data": {
      "text/plain": [
       "141481"
      ]
     },
     "execution_count": 29,
     "metadata": {},
     "output_type": "execute_result"
    }
   ],
   "source": [
    "model_samples = model_samples.dropna()\n",
    "model_samples_l1 = model_samples_l1.dropna()\n",
    "len(model_samples)"
   ]
  },
  {
   "cell_type": "markdown",
   "metadata": {},
   "source": [
    "## Numerical features scaling"
   ]
  },
  {
   "cell_type": "code",
   "execution_count": 30,
   "metadata": {
    "ExecuteTime": {
     "end_time": "2021-03-01T23:54:01.626160Z",
     "start_time": "2021-03-01T23:54:01.620051Z"
    },
    "scrolled": false
   },
   "outputs": [
    {
     "data": {
      "text/plain": [
       "Index(['Flow Duration', 'Total Fwd Packet', 'Total Bwd packets',\n",
       "       'Total Length of Fwd Packet', 'Total Length of Bwd Packet',\n",
       "       'Fwd Packet Length Max', 'Fwd Packet Length Min',\n",
       "       'Fwd Packet Length Mean', 'Fwd Packet Length Std',\n",
       "       'Bwd Packet Length Max', 'Bwd Packet Length Min',\n",
       "       'Bwd Packet Length Mean', 'Bwd Packet Length Std', 'Flow Bytes/s',\n",
       "       'Flow Packets/s', 'Flow IAT Mean', 'Flow IAT Std', 'Flow IAT Max',\n",
       "       'Flow IAT Min', 'Fwd IAT Total', 'Fwd IAT Mean', 'Fwd IAT Std',\n",
       "       'Fwd IAT Max', 'Fwd IAT Min', 'Bwd IAT Total', 'Bwd IAT Mean',\n",
       "       'Bwd IAT Std', 'Bwd IAT Max', 'Bwd IAT Min', 'Fwd PSH Flags',\n",
       "       'Bwd PSH Flags', 'Fwd URG Flags', 'Bwd URG Flags', 'Fwd Header Length',\n",
       "       'Bwd Header Length', 'Fwd Packets/s', 'Bwd Packets/s',\n",
       "       'Packet Length Min', 'Packet Length Max', 'Packet Length Mean',\n",
       "       'Packet Length Std', 'Packet Length Variance', 'FIN Flag Count',\n",
       "       'SYN Flag Count', 'RST Flag Count', 'PSH Flag Count', 'ACK Flag Count',\n",
       "       'URG Flag Count', 'CWE Flag Count', 'ECE Flag Count', 'Down/Up Ratio',\n",
       "       'Average Packet Size', 'Fwd Segment Size Avg', 'Bwd Segment Size Avg',\n",
       "       'Fwd Bytes/Bulk Avg', 'Fwd Packet/Bulk Avg', 'Fwd Bulk Rate Avg',\n",
       "       'Bwd Bytes/Bulk Avg', 'Bwd Packet/Bulk Avg', 'Bwd Bulk Rate Avg',\n",
       "       'Subflow Fwd Packets', 'Subflow Fwd Bytes', 'Subflow Bwd Packets',\n",
       "       'Subflow Bwd Bytes', 'FWD Init Win Bytes', 'Bwd Init Win Bytes',\n",
       "       'Fwd Act Data Pkts', 'Fwd Seg Size Min'],\n",
       "      dtype='object')"
      ]
     },
     "execution_count": 30,
     "metadata": {},
     "output_type": "execute_result"
    }
   ],
   "source": [
    "real_columns = model_samples.columns[108:-9]\n",
    "real_columns"
   ]
  },
  {
   "cell_type": "code",
   "execution_count": 31,
   "metadata": {
    "ExecuteTime": {
     "end_time": "2021-03-02T17:24:46.611522Z",
     "start_time": "2021-03-02T17:24:40.172175Z"
    }
   },
   "outputs": [
    {
     "data": {
      "text/html": [
       "<div>\n",
       "<style scoped>\n",
       "    .dataframe tbody tr th:only-of-type {\n",
       "        vertical-align: middle;\n",
       "    }\n",
       "\n",
       "    .dataframe tbody tr th {\n",
       "        vertical-align: top;\n",
       "    }\n",
       "\n",
       "    .dataframe thead th {\n",
       "        text-align: right;\n",
       "    }\n",
       "</style>\n",
       "<table border=\"1\" class=\"dataframe\">\n",
       "  <thead>\n",
       "    <tr style=\"text-align: right;\">\n",
       "      <th></th>\n",
       "      <th>Flow Duration</th>\n",
       "      <th>Total Fwd Packet</th>\n",
       "      <th>Total Bwd packets</th>\n",
       "      <th>Total Length of Fwd Packet</th>\n",
       "      <th>Total Length of Bwd Packet</th>\n",
       "      <th>Fwd Packet Length Max</th>\n",
       "      <th>Fwd Packet Length Min</th>\n",
       "      <th>Fwd Packet Length Mean</th>\n",
       "      <th>Fwd Packet Length Std</th>\n",
       "      <th>Bwd Packet Length Max</th>\n",
       "      <th>...</th>\n",
       "      <th>Bwd Packet/Bulk Avg</th>\n",
       "      <th>Bwd Bulk Rate Avg</th>\n",
       "      <th>Subflow Fwd Packets</th>\n",
       "      <th>Subflow Fwd Bytes</th>\n",
       "      <th>Subflow Bwd Packets</th>\n",
       "      <th>Subflow Bwd Bytes</th>\n",
       "      <th>FWD Init Win Bytes</th>\n",
       "      <th>Bwd Init Win Bytes</th>\n",
       "      <th>Fwd Act Data Pkts</th>\n",
       "      <th>Fwd Seg Size Min</th>\n",
       "    </tr>\n",
       "  </thead>\n",
       "  <tbody>\n",
       "    <tr>\n",
       "      <th>117219</th>\n",
       "      <td>119384497.0</td>\n",
       "      <td>767.0</td>\n",
       "      <td>2027.0</td>\n",
       "      <td>90681.0</td>\n",
       "      <td>2448831.0</td>\n",
       "      <td>543.0</td>\n",
       "      <td>0.0</td>\n",
       "      <td>118.228162</td>\n",
       "      <td>224.244409</td>\n",
       "      <td>1420.0</td>\n",
       "      <td>...</td>\n",
       "      <td>336.0</td>\n",
       "      <td>150679.0</td>\n",
       "      <td>0.0</td>\n",
       "      <td>32.0</td>\n",
       "      <td>0.0</td>\n",
       "      <td>876.0</td>\n",
       "      <td>65535.0</td>\n",
       "      <td>65535.0</td>\n",
       "      <td>166.0</td>\n",
       "      <td>20.0</td>\n",
       "    </tr>\n",
       "    <tr>\n",
       "      <th>117220</th>\n",
       "      <td>119754701.0</td>\n",
       "      <td>1021.0</td>\n",
       "      <td>2537.0</td>\n",
       "      <td>171290.0</td>\n",
       "      <td>2922270.0</td>\n",
       "      <td>1460.0</td>\n",
       "      <td>0.0</td>\n",
       "      <td>167.766895</td>\n",
       "      <td>280.092409</td>\n",
       "      <td>1420.0</td>\n",
       "      <td>...</td>\n",
       "      <td>421.0</td>\n",
       "      <td>94293.0</td>\n",
       "      <td>0.0</td>\n",
       "      <td>48.0</td>\n",
       "      <td>0.0</td>\n",
       "      <td>821.0</td>\n",
       "      <td>65535.0</td>\n",
       "      <td>65535.0</td>\n",
       "      <td>292.0</td>\n",
       "      <td>20.0</td>\n",
       "    </tr>\n",
       "    <tr>\n",
       "      <th>117221</th>\n",
       "      <td>118908117.0</td>\n",
       "      <td>683.0</td>\n",
       "      <td>1662.0</td>\n",
       "      <td>77649.0</td>\n",
       "      <td>2001627.0</td>\n",
       "      <td>543.0</td>\n",
       "      <td>0.0</td>\n",
       "      <td>113.688141</td>\n",
       "      <td>221.086482</td>\n",
       "      <td>1420.0</td>\n",
       "      <td>...</td>\n",
       "      <td>275.0</td>\n",
       "      <td>168275.0</td>\n",
       "      <td>0.0</td>\n",
       "      <td>33.0</td>\n",
       "      <td>0.0</td>\n",
       "      <td>853.0</td>\n",
       "      <td>65535.0</td>\n",
       "      <td>65535.0</td>\n",
       "      <td>142.0</td>\n",
       "      <td>20.0</td>\n",
       "    </tr>\n",
       "    <tr>\n",
       "      <th>117222</th>\n",
       "      <td>739728.0</td>\n",
       "      <td>2.0</td>\n",
       "      <td>2.0</td>\n",
       "      <td>543.0</td>\n",
       "      <td>543.0</td>\n",
       "      <td>543.0</td>\n",
       "      <td>0.0</td>\n",
       "      <td>271.500000</td>\n",
       "      <td>383.958982</td>\n",
       "      <td>543.0</td>\n",
       "      <td>...</td>\n",
       "      <td>0.0</td>\n",
       "      <td>0.0</td>\n",
       "      <td>0.0</td>\n",
       "      <td>135.0</td>\n",
       "      <td>0.0</td>\n",
       "      <td>135.0</td>\n",
       "      <td>41180.0</td>\n",
       "      <td>65535.0</td>\n",
       "      <td>0.0</td>\n",
       "      <td>20.0</td>\n",
       "    </tr>\n",
       "    <tr>\n",
       "      <th>117223</th>\n",
       "      <td>149270.0</td>\n",
       "      <td>2.0</td>\n",
       "      <td>2.0</td>\n",
       "      <td>565.0</td>\n",
       "      <td>565.0</td>\n",
       "      <td>565.0</td>\n",
       "      <td>0.0</td>\n",
       "      <td>282.500000</td>\n",
       "      <td>399.515331</td>\n",
       "      <td>565.0</td>\n",
       "      <td>...</td>\n",
       "      <td>0.0</td>\n",
       "      <td>0.0</td>\n",
       "      <td>0.0</td>\n",
       "      <td>141.0</td>\n",
       "      <td>0.0</td>\n",
       "      <td>141.0</td>\n",
       "      <td>41180.0</td>\n",
       "      <td>65535.0</td>\n",
       "      <td>0.0</td>\n",
       "      <td>20.0</td>\n",
       "    </tr>\n",
       "    <tr>\n",
       "      <th>...</th>\n",
       "      <td>...</td>\n",
       "      <td>...</td>\n",
       "      <td>...</td>\n",
       "      <td>...</td>\n",
       "      <td>...</td>\n",
       "      <td>...</td>\n",
       "      <td>...</td>\n",
       "      <td>...</td>\n",
       "      <td>...</td>\n",
       "      <td>...</td>\n",
       "      <td>...</td>\n",
       "      <td>...</td>\n",
       "      <td>...</td>\n",
       "      <td>...</td>\n",
       "      <td>...</td>\n",
       "      <td>...</td>\n",
       "      <td>...</td>\n",
       "      <td>...</td>\n",
       "      <td>...</td>\n",
       "      <td>...</td>\n",
       "      <td>...</td>\n",
       "    </tr>\n",
       "    <tr>\n",
       "      <th>141525</th>\n",
       "      <td>411806.0</td>\n",
       "      <td>2.0</td>\n",
       "      <td>0.0</td>\n",
       "      <td>44.0</td>\n",
       "      <td>0.0</td>\n",
       "      <td>22.0</td>\n",
       "      <td>22.0</td>\n",
       "      <td>22.000000</td>\n",
       "      <td>0.000000</td>\n",
       "      <td>0.0</td>\n",
       "      <td>...</td>\n",
       "      <td>0.0</td>\n",
       "      <td>0.0</td>\n",
       "      <td>1.0</td>\n",
       "      <td>22.0</td>\n",
       "      <td>0.0</td>\n",
       "      <td>0.0</td>\n",
       "      <td>0.0</td>\n",
       "      <td>0.0</td>\n",
       "      <td>1.0</td>\n",
       "      <td>8.0</td>\n",
       "    </tr>\n",
       "    <tr>\n",
       "      <th>141526</th>\n",
       "      <td>411574.0</td>\n",
       "      <td>2.0</td>\n",
       "      <td>0.0</td>\n",
       "      <td>44.0</td>\n",
       "      <td>0.0</td>\n",
       "      <td>22.0</td>\n",
       "      <td>22.0</td>\n",
       "      <td>22.000000</td>\n",
       "      <td>0.000000</td>\n",
       "      <td>0.0</td>\n",
       "      <td>...</td>\n",
       "      <td>0.0</td>\n",
       "      <td>0.0</td>\n",
       "      <td>1.0</td>\n",
       "      <td>22.0</td>\n",
       "      <td>0.0</td>\n",
       "      <td>0.0</td>\n",
       "      <td>0.0</td>\n",
       "      <td>0.0</td>\n",
       "      <td>1.0</td>\n",
       "      <td>8.0</td>\n",
       "    </tr>\n",
       "    <tr>\n",
       "      <th>141527</th>\n",
       "      <td>422299.0</td>\n",
       "      <td>2.0</td>\n",
       "      <td>0.0</td>\n",
       "      <td>44.0</td>\n",
       "      <td>0.0</td>\n",
       "      <td>22.0</td>\n",
       "      <td>22.0</td>\n",
       "      <td>22.000000</td>\n",
       "      <td>0.000000</td>\n",
       "      <td>0.0</td>\n",
       "      <td>...</td>\n",
       "      <td>0.0</td>\n",
       "      <td>0.0</td>\n",
       "      <td>1.0</td>\n",
       "      <td>22.0</td>\n",
       "      <td>0.0</td>\n",
       "      <td>0.0</td>\n",
       "      <td>0.0</td>\n",
       "      <td>0.0</td>\n",
       "      <td>1.0</td>\n",
       "      <td>8.0</td>\n",
       "    </tr>\n",
       "    <tr>\n",
       "      <th>141528</th>\n",
       "      <td>411855.0</td>\n",
       "      <td>2.0</td>\n",
       "      <td>0.0</td>\n",
       "      <td>44.0</td>\n",
       "      <td>0.0</td>\n",
       "      <td>22.0</td>\n",
       "      <td>22.0</td>\n",
       "      <td>22.000000</td>\n",
       "      <td>0.000000</td>\n",
       "      <td>0.0</td>\n",
       "      <td>...</td>\n",
       "      <td>0.0</td>\n",
       "      <td>0.0</td>\n",
       "      <td>1.0</td>\n",
       "      <td>22.0</td>\n",
       "      <td>0.0</td>\n",
       "      <td>0.0</td>\n",
       "      <td>0.0</td>\n",
       "      <td>0.0</td>\n",
       "      <td>1.0</td>\n",
       "      <td>8.0</td>\n",
       "    </tr>\n",
       "    <tr>\n",
       "      <th>141529</th>\n",
       "      <td>119990044.0</td>\n",
       "      <td>5995.0</td>\n",
       "      <td>6000.0</td>\n",
       "      <td>497585.0</td>\n",
       "      <td>498000.0</td>\n",
       "      <td>83.0</td>\n",
       "      <td>83.0</td>\n",
       "      <td>83.000000</td>\n",
       "      <td>0.000000</td>\n",
       "      <td>83.0</td>\n",
       "      <td>...</td>\n",
       "      <td>11995.0</td>\n",
       "      <td>8297.0</td>\n",
       "      <td>0.0</td>\n",
       "      <td>41.0</td>\n",
       "      <td>0.0</td>\n",
       "      <td>41.0</td>\n",
       "      <td>0.0</td>\n",
       "      <td>0.0</td>\n",
       "      <td>5994.0</td>\n",
       "      <td>8.0</td>\n",
       "    </tr>\n",
       "  </tbody>\n",
       "</table>\n",
       "<p>24311 rows × 68 columns</p>\n",
       "</div>"
      ],
      "text/plain": [
       "        Flow Duration  Total Fwd Packet  Total Bwd packets  \\\n",
       "117219    119384497.0             767.0             2027.0   \n",
       "117220    119754701.0            1021.0             2537.0   \n",
       "117221    118908117.0             683.0             1662.0   \n",
       "117222       739728.0               2.0                2.0   \n",
       "117223       149270.0               2.0                2.0   \n",
       "...               ...               ...                ...   \n",
       "141525       411806.0               2.0                0.0   \n",
       "141526       411574.0               2.0                0.0   \n",
       "141527       422299.0               2.0                0.0   \n",
       "141528       411855.0               2.0                0.0   \n",
       "141529    119990044.0            5995.0             6000.0   \n",
       "\n",
       "        Total Length of Fwd Packet  Total Length of Bwd Packet  \\\n",
       "117219                     90681.0                   2448831.0   \n",
       "117220                    171290.0                   2922270.0   \n",
       "117221                     77649.0                   2001627.0   \n",
       "117222                       543.0                       543.0   \n",
       "117223                       565.0                       565.0   \n",
       "...                            ...                         ...   \n",
       "141525                        44.0                         0.0   \n",
       "141526                        44.0                         0.0   \n",
       "141527                        44.0                         0.0   \n",
       "141528                        44.0                         0.0   \n",
       "141529                    497585.0                    498000.0   \n",
       "\n",
       "        Fwd Packet Length Max  Fwd Packet Length Min  Fwd Packet Length Mean  \\\n",
       "117219                  543.0                    0.0              118.228162   \n",
       "117220                 1460.0                    0.0              167.766895   \n",
       "117221                  543.0                    0.0              113.688141   \n",
       "117222                  543.0                    0.0              271.500000   \n",
       "117223                  565.0                    0.0              282.500000   \n",
       "...                       ...                    ...                     ...   \n",
       "141525                   22.0                   22.0               22.000000   \n",
       "141526                   22.0                   22.0               22.000000   \n",
       "141527                   22.0                   22.0               22.000000   \n",
       "141528                   22.0                   22.0               22.000000   \n",
       "141529                   83.0                   83.0               83.000000   \n",
       "\n",
       "        Fwd Packet Length Std  Bwd Packet Length Max  ...  \\\n",
       "117219             224.244409                 1420.0  ...   \n",
       "117220             280.092409                 1420.0  ...   \n",
       "117221             221.086482                 1420.0  ...   \n",
       "117222             383.958982                  543.0  ...   \n",
       "117223             399.515331                  565.0  ...   \n",
       "...                       ...                    ...  ...   \n",
       "141525               0.000000                    0.0  ...   \n",
       "141526               0.000000                    0.0  ...   \n",
       "141527               0.000000                    0.0  ...   \n",
       "141528               0.000000                    0.0  ...   \n",
       "141529               0.000000                   83.0  ...   \n",
       "\n",
       "        Bwd Packet/Bulk Avg  Bwd Bulk Rate Avg  Subflow Fwd Packets  \\\n",
       "117219                336.0           150679.0                  0.0   \n",
       "117220                421.0            94293.0                  0.0   \n",
       "117221                275.0           168275.0                  0.0   \n",
       "117222                  0.0                0.0                  0.0   \n",
       "117223                  0.0                0.0                  0.0   \n",
       "...                     ...                ...                  ...   \n",
       "141525                  0.0                0.0                  1.0   \n",
       "141526                  0.0                0.0                  1.0   \n",
       "141527                  0.0                0.0                  1.0   \n",
       "141528                  0.0                0.0                  1.0   \n",
       "141529              11995.0             8297.0                  0.0   \n",
       "\n",
       "        Subflow Fwd Bytes  Subflow Bwd Packets  Subflow Bwd Bytes  \\\n",
       "117219               32.0                  0.0              876.0   \n",
       "117220               48.0                  0.0              821.0   \n",
       "117221               33.0                  0.0              853.0   \n",
       "117222              135.0                  0.0              135.0   \n",
       "117223              141.0                  0.0              141.0   \n",
       "...                   ...                  ...                ...   \n",
       "141525               22.0                  0.0                0.0   \n",
       "141526               22.0                  0.0                0.0   \n",
       "141527               22.0                  0.0                0.0   \n",
       "141528               22.0                  0.0                0.0   \n",
       "141529               41.0                  0.0               41.0   \n",
       "\n",
       "        FWD Init Win Bytes  Bwd Init Win Bytes  Fwd Act Data Pkts  \\\n",
       "117219             65535.0             65535.0              166.0   \n",
       "117220             65535.0             65535.0              292.0   \n",
       "117221             65535.0             65535.0              142.0   \n",
       "117222             41180.0             65535.0                0.0   \n",
       "117223             41180.0             65535.0                0.0   \n",
       "...                    ...                 ...                ...   \n",
       "141525                 0.0                 0.0                1.0   \n",
       "141526                 0.0                 0.0                1.0   \n",
       "141527                 0.0                 0.0                1.0   \n",
       "141528                 0.0                 0.0                1.0   \n",
       "141529                 0.0                 0.0             5994.0   \n",
       "\n",
       "        Fwd Seg Size Min  \n",
       "117219              20.0  \n",
       "117220              20.0  \n",
       "117221              20.0  \n",
       "117222              20.0  \n",
       "117223              20.0  \n",
       "...                  ...  \n",
       "141525               8.0  \n",
       "141526               8.0  \n",
       "141527               8.0  \n",
       "141528               8.0  \n",
       "141529               8.0  \n",
       "\n",
       "[24311 rows x 68 columns]"
      ]
     },
     "execution_count": 31,
     "metadata": {},
     "output_type": "execute_result"
    }
   ],
   "source": [
    "model_samples[real_columns] = model_samples[real_columns].astype(np.float64)\n",
    "model_samples[real_columns] = model_samples[real_columns].replace([np.inf, -np.inf], np.nan)\n",
    "model_samples[real_columns].dropna()\n",
    "\n",
    "model_samples_l1[real_columns] = model_samples_l1[real_columns].astype(np.float64)\n",
    "model_samples_l1[real_columns] = model_samples_l1[real_columns].replace([np.inf, -np.inf], np.nan)\n",
    "model_samples_l1[real_columns].dropna()"
   ]
  },
  {
   "cell_type": "code",
   "execution_count": 32,
   "metadata": {
    "ExecuteTime": {
     "end_time": "2021-03-02T17:24:51.367276Z",
     "start_time": "2021-03-02T17:24:50.690280Z"
    }
   },
   "outputs": [],
   "source": [
    "df1 = model_samples[model_samples.isna().any(axis=1)]\n",
    "model_samples = model_samples.drop(df1.index)\n",
    "\n",
    "df1 = model_samples_l1[model_samples_l1.isna().any(axis=1)]\n",
    "model_samples_l1 = model_samples_l1.drop(df1.index)"
   ]
  },
  {
   "cell_type": "code",
   "execution_count": 33,
   "metadata": {
    "ExecuteTime": {
     "end_time": "2021-03-02T17:24:59.040533Z",
     "start_time": "2021-03-02T17:24:56.631165Z"
    }
   },
   "outputs": [],
   "source": [
    "scaler = StandardScaler().fit(model_samples[real_columns])\n",
    "model_samples[real_columns] = scaler.transform(model_samples[real_columns])\n",
    "model_samples_l1[real_columns] = scaler.transform(model_samples_l1[real_columns])"
   ]
  },
  {
   "cell_type": "code",
   "execution_count": 34,
   "metadata": {
    "ExecuteTime": {
     "end_time": "2021-03-02T17:24:59.778705Z",
     "start_time": "2021-03-02T17:24:59.695978Z"
    },
    "scrolled": true
   },
   "outputs": [
    {
     "data": {
      "text/html": [
       "<div>\n",
       "<style scoped>\n",
       "    .dataframe tbody tr th:only-of-type {\n",
       "        vertical-align: middle;\n",
       "    }\n",
       "\n",
       "    .dataframe tbody tr th {\n",
       "        vertical-align: top;\n",
       "    }\n",
       "\n",
       "    .dataframe thead th {\n",
       "        text-align: right;\n",
       "    }\n",
       "</style>\n",
       "<table border=\"1\" class=\"dataframe\">\n",
       "  <thead>\n",
       "    <tr style=\"text-align: right;\">\n",
       "      <th></th>\n",
       "      <th>Flow Duration</th>\n",
       "      <th>Total Fwd Packet</th>\n",
       "      <th>Total Bwd packets</th>\n",
       "      <th>Total Length of Fwd Packet</th>\n",
       "      <th>Total Length of Bwd Packet</th>\n",
       "      <th>Fwd Packet Length Max</th>\n",
       "      <th>Fwd Packet Length Min</th>\n",
       "      <th>Fwd Packet Length Mean</th>\n",
       "      <th>Fwd Packet Length Std</th>\n",
       "      <th>Bwd Packet Length Max</th>\n",
       "      <th>...</th>\n",
       "      <th>Bwd Packet/Bulk Avg</th>\n",
       "      <th>Bwd Bulk Rate Avg</th>\n",
       "      <th>Subflow Fwd Packets</th>\n",
       "      <th>Subflow Fwd Bytes</th>\n",
       "      <th>Subflow Bwd Packets</th>\n",
       "      <th>Subflow Bwd Bytes</th>\n",
       "      <th>FWD Init Win Bytes</th>\n",
       "      <th>Bwd Init Win Bytes</th>\n",
       "      <th>Fwd Act Data Pkts</th>\n",
       "      <th>Fwd Seg Size Min</th>\n",
       "    </tr>\n",
       "  </thead>\n",
       "  <tbody>\n",
       "    <tr>\n",
       "      <th>0</th>\n",
       "      <td>-0.546508</td>\n",
       "      <td>-0.063838</td>\n",
       "      <td>-0.044949</td>\n",
       "      <td>-0.034644</td>\n",
       "      <td>-0.028574</td>\n",
       "      <td>-0.321759</td>\n",
       "      <td>-0.498852</td>\n",
       "      <td>-0.316449</td>\n",
       "      <td>-0.379416</td>\n",
       "      <td>-0.292366</td>\n",
       "      <td>...</td>\n",
       "      <td>-0.052228</td>\n",
       "      <td>-0.043209</td>\n",
       "      <td>-0.634075</td>\n",
       "      <td>-0.313203</td>\n",
       "      <td>0.0</td>\n",
       "      <td>-0.413046</td>\n",
       "      <td>-0.345303</td>\n",
       "      <td>-0.095141</td>\n",
       "      <td>-0.061219</td>\n",
       "      <td>0.589647</td>\n",
       "    </tr>\n",
       "    <tr>\n",
       "      <th>1</th>\n",
       "      <td>-0.546503</td>\n",
       "      <td>-0.063838</td>\n",
       "      <td>-0.044949</td>\n",
       "      <td>-0.034644</td>\n",
       "      <td>-0.028574</td>\n",
       "      <td>-0.321759</td>\n",
       "      <td>-0.498852</td>\n",
       "      <td>-0.316449</td>\n",
       "      <td>-0.379416</td>\n",
       "      <td>-0.292366</td>\n",
       "      <td>...</td>\n",
       "      <td>-0.052228</td>\n",
       "      <td>-0.043209</td>\n",
       "      <td>-0.634075</td>\n",
       "      <td>-0.313203</td>\n",
       "      <td>0.0</td>\n",
       "      <td>-0.413046</td>\n",
       "      <td>-0.335704</td>\n",
       "      <td>-0.095141</td>\n",
       "      <td>-0.061219</td>\n",
       "      <td>0.589647</td>\n",
       "    </tr>\n",
       "    <tr>\n",
       "      <th>2</th>\n",
       "      <td>-0.546502</td>\n",
       "      <td>-0.063838</td>\n",
       "      <td>-0.044949</td>\n",
       "      <td>-0.034644</td>\n",
       "      <td>-0.028574</td>\n",
       "      <td>-0.321759</td>\n",
       "      <td>-0.498852</td>\n",
       "      <td>-0.316449</td>\n",
       "      <td>-0.379416</td>\n",
       "      <td>-0.292366</td>\n",
       "      <td>...</td>\n",
       "      <td>-0.052228</td>\n",
       "      <td>-0.043209</td>\n",
       "      <td>-0.634075</td>\n",
       "      <td>-0.313203</td>\n",
       "      <td>0.0</td>\n",
       "      <td>-0.413046</td>\n",
       "      <td>-0.329439</td>\n",
       "      <td>-0.095141</td>\n",
       "      <td>-0.061219</td>\n",
       "      <td>0.589647</td>\n",
       "    </tr>\n",
       "    <tr>\n",
       "      <th>3</th>\n",
       "      <td>-0.546504</td>\n",
       "      <td>-0.063838</td>\n",
       "      <td>-0.044949</td>\n",
       "      <td>-0.034644</td>\n",
       "      <td>-0.028574</td>\n",
       "      <td>-0.321759</td>\n",
       "      <td>-0.498852</td>\n",
       "      <td>-0.316449</td>\n",
       "      <td>-0.379416</td>\n",
       "      <td>-0.292366</td>\n",
       "      <td>...</td>\n",
       "      <td>-0.052228</td>\n",
       "      <td>-0.043209</td>\n",
       "      <td>-0.634075</td>\n",
       "      <td>-0.313203</td>\n",
       "      <td>0.0</td>\n",
       "      <td>-0.413046</td>\n",
       "      <td>-0.333582</td>\n",
       "      <td>-0.095141</td>\n",
       "      <td>-0.061219</td>\n",
       "      <td>0.589647</td>\n",
       "    </tr>\n",
       "    <tr>\n",
       "      <th>4</th>\n",
       "      <td>-0.263585</td>\n",
       "      <td>0.184194</td>\n",
       "      <td>0.071741</td>\n",
       "      <td>-0.014801</td>\n",
       "      <td>-0.027116</td>\n",
       "      <td>-0.120075</td>\n",
       "      <td>-0.498852</td>\n",
       "      <td>0.179861</td>\n",
       "      <td>-0.247304</td>\n",
       "      <td>0.340530</td>\n",
       "      <td>...</td>\n",
       "      <td>0.164343</td>\n",
       "      <td>-0.036900</td>\n",
       "      <td>-0.634075</td>\n",
       "      <td>0.158678</td>\n",
       "      <td>0.0</td>\n",
       "      <td>-0.368398</td>\n",
       "      <td>-0.396835</td>\n",
       "      <td>0.073134</td>\n",
       "      <td>0.305786</td>\n",
       "      <td>0.589647</td>\n",
       "    </tr>\n",
       "  </tbody>\n",
       "</table>\n",
       "<p>5 rows × 68 columns</p>\n",
       "</div>"
      ],
      "text/plain": [
       "   Flow Duration  Total Fwd Packet  Total Bwd packets  \\\n",
       "0      -0.546508         -0.063838          -0.044949   \n",
       "1      -0.546503         -0.063838          -0.044949   \n",
       "2      -0.546502         -0.063838          -0.044949   \n",
       "3      -0.546504         -0.063838          -0.044949   \n",
       "4      -0.263585          0.184194           0.071741   \n",
       "\n",
       "   Total Length of Fwd Packet  Total Length of Bwd Packet  \\\n",
       "0                   -0.034644                   -0.028574   \n",
       "1                   -0.034644                   -0.028574   \n",
       "2                   -0.034644                   -0.028574   \n",
       "3                   -0.034644                   -0.028574   \n",
       "4                   -0.014801                   -0.027116   \n",
       "\n",
       "   Fwd Packet Length Max  Fwd Packet Length Min  Fwd Packet Length Mean  \\\n",
       "0              -0.321759              -0.498852               -0.316449   \n",
       "1              -0.321759              -0.498852               -0.316449   \n",
       "2              -0.321759              -0.498852               -0.316449   \n",
       "3              -0.321759              -0.498852               -0.316449   \n",
       "4              -0.120075              -0.498852                0.179861   \n",
       "\n",
       "   Fwd Packet Length Std  Bwd Packet Length Max  ...  Bwd Packet/Bulk Avg  \\\n",
       "0              -0.379416              -0.292366  ...            -0.052228   \n",
       "1              -0.379416              -0.292366  ...            -0.052228   \n",
       "2              -0.379416              -0.292366  ...            -0.052228   \n",
       "3              -0.379416              -0.292366  ...            -0.052228   \n",
       "4              -0.247304               0.340530  ...             0.164343   \n",
       "\n",
       "   Bwd Bulk Rate Avg  Subflow Fwd Packets  Subflow Fwd Bytes  \\\n",
       "0          -0.043209            -0.634075          -0.313203   \n",
       "1          -0.043209            -0.634075          -0.313203   \n",
       "2          -0.043209            -0.634075          -0.313203   \n",
       "3          -0.043209            -0.634075          -0.313203   \n",
       "4          -0.036900            -0.634075           0.158678   \n",
       "\n",
       "   Subflow Bwd Packets  Subflow Bwd Bytes  FWD Init Win Bytes  \\\n",
       "0                  0.0          -0.413046           -0.345303   \n",
       "1                  0.0          -0.413046           -0.335704   \n",
       "2                  0.0          -0.413046           -0.329439   \n",
       "3                  0.0          -0.413046           -0.333582   \n",
       "4                  0.0          -0.368398           -0.396835   \n",
       "\n",
       "   Bwd Init Win Bytes  Fwd Act Data Pkts  Fwd Seg Size Min  \n",
       "0           -0.095141          -0.061219          0.589647  \n",
       "1           -0.095141          -0.061219          0.589647  \n",
       "2           -0.095141          -0.061219          0.589647  \n",
       "3           -0.095141          -0.061219          0.589647  \n",
       "4            0.073134           0.305786          0.589647  \n",
       "\n",
       "[5 rows x 68 columns]"
      ]
     },
     "execution_count": 34,
     "metadata": {},
     "output_type": "execute_result"
    }
   ],
   "source": [
    "model_samples[real_columns].head()"
   ]
  },
  {
   "cell_type": "markdown",
   "metadata": {},
   "source": [
    "## Processed dataset"
   ]
  },
  {
   "cell_type": "code",
   "execution_count": 35,
   "metadata": {
    "ExecuteTime": {
     "end_time": "2021-03-01T11:34:56.824603Z",
     "start_time": "2021-03-01T11:34:56.820332Z"
    }
   },
   "outputs": [
    {
     "name": "stdout",
     "output_type": "stream",
     "text": [
      "Index(['Flow ID', 'Src IP', 'Src Port', 'Dst IP', 'Dst Port'], dtype='object')\n",
      "Number of features: 96\n"
     ]
    }
   ],
   "source": [
    "print(samples.columns[:5])\n",
    "print(f\"Number of features: {len(samples.columns)}\")"
   ]
  },
  {
   "cell_type": "code",
   "execution_count": 36,
   "metadata": {
    "ExecuteTime": {
     "end_time": "2021-03-01T11:34:57.363443Z",
     "start_time": "2021-03-01T11:34:57.356345Z"
    }
   },
   "outputs": [
    {
     "data": {
      "text/plain": [
       "Flow ID                        object\n",
       "Src IP                         object\n",
       "Src Port                        int64\n",
       "Dst IP                         object\n",
       "Dst Port                        int64\n",
       "Protocol                        int64\n",
       "Timestamp                      object\n",
       "Flow Duration                   int64\n",
       "Total Fwd Packet                int64\n",
       "Total Bwd packets               int64\n",
       "Total Length of Fwd Packet      int64\n",
       "Total Length of Bwd Packet      int64\n",
       "Fwd Packet Length Max           int64\n",
       "Fwd Packet Length Min           int64\n",
       "Fwd Packet Length Mean        float64\n",
       "Fwd Packet Length Std         float64\n",
       "Bwd Packet Length Max           int64\n",
       "Bwd Packet Length Min           int64\n",
       "Bwd Packet Length Mean        float64\n",
       "Bwd Packet Length Std         float64\n",
       "Flow Bytes/s                  float64\n",
       "Flow Packets/s                float64\n",
       "Flow IAT Mean                 float64\n",
       "Flow IAT Std                  float64\n",
       "Flow IAT Max                    int64\n",
       "Flow IAT Min                    int64\n",
       "Fwd IAT Total                   int64\n",
       "Fwd IAT Mean                  float64\n",
       "Fwd IAT Std                   float64\n",
       "Fwd IAT Max                     int64\n",
       "Fwd IAT Min                     int64\n",
       "Bwd IAT Total                   int64\n",
       "Bwd IAT Mean                  float64\n",
       "Bwd IAT Std                   float64\n",
       "Bwd IAT Max                     int64\n",
       "Bwd IAT Min                     int64\n",
       "Fwd PSH Flags                   int64\n",
       "Bwd PSH Flags                   int64\n",
       "Fwd URG Flags                   int64\n",
       "Bwd URG Flags                   int64\n",
       "dtype: object"
      ]
     },
     "execution_count": 36,
     "metadata": {},
     "output_type": "execute_result"
    }
   ],
   "source": [
    "samples.dtypes[:40]"
   ]
  },
  {
   "cell_type": "code",
   "execution_count": 37,
   "metadata": {
    "ExecuteTime": {
     "end_time": "2021-03-01T11:19:22.283050Z",
     "start_time": "2021-03-01T11:19:14.784Z"
    },
    "scrolled": false
   },
   "outputs": [
    {
     "data": {
      "text/plain": [
       "Fwd Header Length           int64\n",
       "Bwd Header Length           int64\n",
       "Fwd Packets/s             float64\n",
       "Bwd Packets/s             float64\n",
       "Packet Length Min           int64\n",
       "Packet Length Max           int64\n",
       "Packet Length Mean        float64\n",
       "Packet Length Std         float64\n",
       "Packet Length Variance    float64\n",
       "FIN Flag Count              int64\n",
       "SYN Flag Count              int64\n",
       "RST Flag Count              int64\n",
       "PSH Flag Count              int64\n",
       "ACK Flag Count              int64\n",
       "URG Flag Count              int64\n",
       "CWE Flag Count              int64\n",
       "ECE Flag Count              int64\n",
       "Down/Up Ratio               int64\n",
       "Average Packet Size       float64\n",
       "Fwd Segment Size Avg      float64\n",
       "Bwd Segment Size Avg      float64\n",
       "Fwd Bytes/Bulk Avg          int64\n",
       "Fwd Packet/Bulk Avg         int64\n",
       "Fwd Bulk Rate Avg           int64\n",
       "Bwd Bytes/Bulk Avg          int64\n",
       "Bwd Packet/Bulk Avg         int64\n",
       "Bwd Bulk Rate Avg           int64\n",
       "Subflow Fwd Packets         int64\n",
       "Subflow Fwd Bytes           int64\n",
       "Subflow Bwd Packets         int64\n",
       "Subflow Bwd Bytes           int64\n",
       "FWD Init Win Bytes          int64\n",
       "Bwd Init Win Bytes          int64\n",
       "Fwd Act Data Pkts           int64\n",
       "Fwd Seg Size Min            int64\n",
       "Active Mean                 int64\n",
       "Active Std                  int64\n",
       "Active Max                  int64\n",
       "Active Min                  int64\n",
       "Idle Mean                 float64\n",
       "Idle Std                  float64\n",
       "dtype: object"
      ]
     },
     "execution_count": 37,
     "metadata": {},
     "output_type": "execute_result"
    }
   ],
   "source": [
    "samples.dtypes[40:81]"
   ]
  },
  {
   "cell_type": "code",
   "execution_count": 38,
   "metadata": {
    "ExecuteTime": {
     "end_time": "2021-03-01T11:19:22.284998Z",
     "start_time": "2021-03-01T11:19:14.788Z"
    }
   },
   "outputs": [
    {
     "data": {
      "text/plain": [
       "Idle Max          float64\n",
       "Idle Min          float64\n",
       "Label              object\n",
       "Label.1            object\n",
       "hour                int64\n",
       "src_ip_1gram       object\n",
       "src_ip_2gram       object\n",
       "src_ip_3gram       object\n",
       "dst_ip_1gram       object\n",
       "dst_ip_2gram       object\n",
       "dst_ip_3gram       object\n",
       "src_ip_country     object\n",
       "dst_ip_country     object\n",
       "src_bogon            bool\n",
       "dst_bogon            bool\n",
       "dtype: object"
      ]
     },
     "execution_count": 38,
     "metadata": {},
     "output_type": "execute_result"
    }
   ],
   "source": [
    "samples.dtypes[81:]"
   ]
  },
  {
   "cell_type": "code",
   "execution_count": 39,
   "metadata": {
    "ExecuteTime": {
     "end_time": "2021-03-01T11:19:22.291686Z",
     "start_time": "2021-03-01T11:19:14.797Z"
    }
   },
   "outputs": [
    {
     "data": {
      "text/html": [
       "<div>\n",
       "<style scoped>\n",
       "    .dataframe tbody tr th:only-of-type {\n",
       "        vertical-align: middle;\n",
       "    }\n",
       "\n",
       "    .dataframe tbody tr th {\n",
       "        vertical-align: top;\n",
       "    }\n",
       "\n",
       "    .dataframe thead th {\n",
       "        text-align: right;\n",
       "    }\n",
       "</style>\n",
       "<table border=\"1\" class=\"dataframe\">\n",
       "  <thead>\n",
       "    <tr style=\"text-align: right;\">\n",
       "      <th></th>\n",
       "      <th>Flow ID</th>\n",
       "      <th>Src IP</th>\n",
       "      <th>Src Port</th>\n",
       "      <th>Dst IP</th>\n",
       "      <th>Dst Port</th>\n",
       "      <th>Protocol</th>\n",
       "      <th>Timestamp</th>\n",
       "      <th>Flow Duration</th>\n",
       "      <th>Total Fwd Packet</th>\n",
       "      <th>Total Bwd packets</th>\n",
       "      <th>...</th>\n",
       "      <th>src_ip_1gram</th>\n",
       "      <th>src_ip_2gram</th>\n",
       "      <th>src_ip_3gram</th>\n",
       "      <th>dst_ip_1gram</th>\n",
       "      <th>dst_ip_2gram</th>\n",
       "      <th>dst_ip_3gram</th>\n",
       "      <th>src_ip_country</th>\n",
       "      <th>dst_ip_country</th>\n",
       "      <th>src_bogon</th>\n",
       "      <th>dst_bogon</th>\n",
       "    </tr>\n",
       "  </thead>\n",
       "  <tbody>\n",
       "    <tr>\n",
       "      <th>0</th>\n",
       "      <td>10.152.152.11-216.58.220.99-57158-443-6</td>\n",
       "      <td>10.152.152.11</td>\n",
       "      <td>57158</td>\n",
       "      <td>216.58.220.99</td>\n",
       "      <td>443</td>\n",
       "      <td>6</td>\n",
       "      <td>24/07/2015 04:09:48 PM</td>\n",
       "      <td>229</td>\n",
       "      <td>1</td>\n",
       "      <td>1</td>\n",
       "      <td>...</td>\n",
       "      <td>10</td>\n",
       "      <td>10 152</td>\n",
       "      <td>10 152 152</td>\n",
       "      <td>216</td>\n",
       "      <td>216 58</td>\n",
       "      <td>216 58 220</td>\n",
       "      <td></td>\n",
       "      <td>US</td>\n",
       "      <td>True</td>\n",
       "      <td>False</td>\n",
       "    </tr>\n",
       "    <tr>\n",
       "      <th>1</th>\n",
       "      <td>10.152.152.11-216.58.220.99-57159-443-6</td>\n",
       "      <td>10.152.152.11</td>\n",
       "      <td>57159</td>\n",
       "      <td>216.58.220.99</td>\n",
       "      <td>443</td>\n",
       "      <td>6</td>\n",
       "      <td>24/07/2015 04:09:48 PM</td>\n",
       "      <td>407</td>\n",
       "      <td>1</td>\n",
       "      <td>1</td>\n",
       "      <td>...</td>\n",
       "      <td>10</td>\n",
       "      <td>10 152</td>\n",
       "      <td>10 152 152</td>\n",
       "      <td>216</td>\n",
       "      <td>216 58</td>\n",
       "      <td>216 58 220</td>\n",
       "      <td></td>\n",
       "      <td>US</td>\n",
       "      <td>True</td>\n",
       "      <td>False</td>\n",
       "    </tr>\n",
       "    <tr>\n",
       "      <th>2</th>\n",
       "      <td>10.152.152.11-216.58.220.99-57160-443-6</td>\n",
       "      <td>10.152.152.11</td>\n",
       "      <td>57160</td>\n",
       "      <td>216.58.220.99</td>\n",
       "      <td>443</td>\n",
       "      <td>6</td>\n",
       "      <td>24/07/2015 04:09:48 PM</td>\n",
       "      <td>431</td>\n",
       "      <td>1</td>\n",
       "      <td>1</td>\n",
       "      <td>...</td>\n",
       "      <td>10</td>\n",
       "      <td>10 152</td>\n",
       "      <td>10 152 152</td>\n",
       "      <td>216</td>\n",
       "      <td>216 58</td>\n",
       "      <td>216 58 220</td>\n",
       "      <td></td>\n",
       "      <td>US</td>\n",
       "      <td>True</td>\n",
       "      <td>False</td>\n",
       "    </tr>\n",
       "    <tr>\n",
       "      <th>3</th>\n",
       "      <td>10.152.152.11-74.125.136.120-49134-443-6</td>\n",
       "      <td>10.152.152.11</td>\n",
       "      <td>49134</td>\n",
       "      <td>74.125.136.120</td>\n",
       "      <td>443</td>\n",
       "      <td>6</td>\n",
       "      <td>24/07/2015 04:09:48 PM</td>\n",
       "      <td>359</td>\n",
       "      <td>1</td>\n",
       "      <td>1</td>\n",
       "      <td>...</td>\n",
       "      <td>10</td>\n",
       "      <td>10 152</td>\n",
       "      <td>10 152 152</td>\n",
       "      <td>74</td>\n",
       "      <td>74 125</td>\n",
       "      <td>74 125 136</td>\n",
       "      <td></td>\n",
       "      <td>US</td>\n",
       "      <td>True</td>\n",
       "      <td>False</td>\n",
       "    </tr>\n",
       "    <tr>\n",
       "      <th>4</th>\n",
       "      <td>10.152.152.11-173.194.65.127-34697-19305-6</td>\n",
       "      <td>10.152.152.11</td>\n",
       "      <td>34697</td>\n",
       "      <td>173.194.65.127</td>\n",
       "      <td>19305</td>\n",
       "      <td>6</td>\n",
       "      <td>24/07/2015 04:09:45 PM</td>\n",
       "      <td>10778451</td>\n",
       "      <td>591</td>\n",
       "      <td>400</td>\n",
       "      <td>...</td>\n",
       "      <td>10</td>\n",
       "      <td>10 152</td>\n",
       "      <td>10 152 152</td>\n",
       "      <td>173</td>\n",
       "      <td>173 194</td>\n",
       "      <td>173 194 65</td>\n",
       "      <td></td>\n",
       "      <td>US</td>\n",
       "      <td>True</td>\n",
       "      <td>False</td>\n",
       "    </tr>\n",
       "  </tbody>\n",
       "</table>\n",
       "<p>5 rows × 96 columns</p>\n",
       "</div>"
      ],
      "text/plain": [
       "                                      Flow ID         Src IP  Src Port  \\\n",
       "0     10.152.152.11-216.58.220.99-57158-443-6  10.152.152.11     57158   \n",
       "1     10.152.152.11-216.58.220.99-57159-443-6  10.152.152.11     57159   \n",
       "2     10.152.152.11-216.58.220.99-57160-443-6  10.152.152.11     57160   \n",
       "3    10.152.152.11-74.125.136.120-49134-443-6  10.152.152.11     49134   \n",
       "4  10.152.152.11-173.194.65.127-34697-19305-6  10.152.152.11     34697   \n",
       "\n",
       "           Dst IP  Dst Port  Protocol               Timestamp  Flow Duration  \\\n",
       "0   216.58.220.99       443         6  24/07/2015 04:09:48 PM            229   \n",
       "1   216.58.220.99       443         6  24/07/2015 04:09:48 PM            407   \n",
       "2   216.58.220.99       443         6  24/07/2015 04:09:48 PM            431   \n",
       "3  74.125.136.120       443         6  24/07/2015 04:09:48 PM            359   \n",
       "4  173.194.65.127     19305         6  24/07/2015 04:09:45 PM       10778451   \n",
       "\n",
       "   Total Fwd Packet  Total Bwd packets  ...  src_ip_1gram  src_ip_2gram  \\\n",
       "0                 1                  1  ...            10        10 152   \n",
       "1                 1                  1  ...            10        10 152   \n",
       "2                 1                  1  ...            10        10 152   \n",
       "3                 1                  1  ...            10        10 152   \n",
       "4               591                400  ...            10        10 152   \n",
       "\n",
       "   src_ip_3gram  dst_ip_1gram  dst_ip_2gram  dst_ip_3gram  src_ip_country  \\\n",
       "0    10 152 152           216        216 58    216 58 220                   \n",
       "1    10 152 152           216        216 58    216 58 220                   \n",
       "2    10 152 152           216        216 58    216 58 220                   \n",
       "3    10 152 152            74        74 125    74 125 136                   \n",
       "4    10 152 152           173       173 194    173 194 65                   \n",
       "\n",
       "   dst_ip_country  src_bogon  dst_bogon  \n",
       "0              US       True      False  \n",
       "1              US       True      False  \n",
       "2              US       True      False  \n",
       "3              US       True      False  \n",
       "4              US       True      False  \n",
       "\n",
       "[5 rows x 96 columns]"
      ]
     },
     "execution_count": 39,
     "metadata": {},
     "output_type": "execute_result"
    }
   ],
   "source": [
    "samples.to_csv(dataset_folder+\"darknet_processado.csv\")\n",
    "samples.head()"
   ]
  },
  {
   "cell_type": "markdown",
   "metadata": {},
   "source": [
    "# Dataset analysis"
   ]
  },
  {
   "cell_type": "code",
   "execution_count": 40,
   "metadata": {
    "ExecuteTime": {
     "end_time": "2021-03-01T19:51:48.967506Z",
     "start_time": "2021-03-01T19:51:48.955460Z"
    }
   },
   "outputs": [
    {
     "data": {
      "text/html": [
       "<div>\n",
       "<style scoped>\n",
       "    .dataframe tbody tr th:only-of-type {\n",
       "        vertical-align: middle;\n",
       "    }\n",
       "\n",
       "    .dataframe tbody tr th {\n",
       "        vertical-align: top;\n",
       "    }\n",
       "\n",
       "    .dataframe thead th {\n",
       "        text-align: right;\n",
       "    }\n",
       "</style>\n",
       "<table border=\"1\" class=\"dataframe\">\n",
       "  <thead>\n",
       "    <tr style=\"text-align: right;\">\n",
       "      <th></th>\n",
       "      <th>hour</th>\n",
       "      <th>Label</th>\n",
       "      <th>Label.1</th>\n",
       "    </tr>\n",
       "  </thead>\n",
       "  <tbody>\n",
       "    <tr>\n",
       "      <th>0</th>\n",
       "      <td>4</td>\n",
       "      <td>Benign</td>\n",
       "      <td>Audio-Streaming</td>\n",
       "    </tr>\n",
       "    <tr>\n",
       "      <th>1</th>\n",
       "      <td>4</td>\n",
       "      <td>Benign</td>\n",
       "      <td>Audio-Streaming</td>\n",
       "    </tr>\n",
       "    <tr>\n",
       "      <th>2</th>\n",
       "      <td>4</td>\n",
       "      <td>Benign</td>\n",
       "      <td>Audio-Streaming</td>\n",
       "    </tr>\n",
       "    <tr>\n",
       "      <th>3</th>\n",
       "      <td>4</td>\n",
       "      <td>Benign</td>\n",
       "      <td>Audio-Streaming</td>\n",
       "    </tr>\n",
       "    <tr>\n",
       "      <th>4</th>\n",
       "      <td>4</td>\n",
       "      <td>Benign</td>\n",
       "      <td>Audio-Streaming</td>\n",
       "    </tr>\n",
       "  </tbody>\n",
       "</table>\n",
       "</div>"
      ],
      "text/plain": [
       "   hour   Label          Label.1\n",
       "0     4  Benign  Audio-Streaming\n",
       "1     4  Benign  Audio-Streaming\n",
       "2     4  Benign  Audio-Streaming\n",
       "3     4  Benign  Audio-Streaming\n",
       "4     4  Benign  Audio-Streaming"
      ]
     },
     "execution_count": 40,
     "metadata": {},
     "output_type": "execute_result"
    }
   ],
   "source": [
    "cols=[\"hour\", \"Label\", \"Label.1\"]\n",
    "to_analyse = samples[cols]\n",
    "to_analyse.head()"
   ]
  },
  {
   "cell_type": "markdown",
   "metadata": {},
   "source": [
    "## Labels probability distribution"
   ]
  },
  {
   "cell_type": "code",
   "execution_count": 41,
   "metadata": {
    "ExecuteTime": {
     "end_time": "2021-03-01T19:32:33.889806Z",
     "start_time": "2021-03-01T19:32:33.366277Z"
    }
   },
   "outputs": [
    {
     "data": {
      "image/png": "[encoded data removed]",
      "text/plain": [
       "<Figure size 1296x432 with 1 Axes>"
      ]
     },
     "metadata": {
      "needs_background": "light"
     },
     "output_type": "display_data"
    }
   ],
   "source": [
    "sns.histplot(data=to_analyse, x=\"Label\", stat=\"probability\")\n",
    "plt.show()"
   ]
  },
  {
   "cell_type": "code",
   "execution_count": 95,
   "metadata": {
    "ExecuteTime": {
     "end_time": "2021-03-01T19:32:42.676225Z",
     "start_time": "2021-03-01T19:32:42.220054Z"
    }
   },
   "outputs": [
    {
     "data": {
      "image/png": "[encoded data removed]",
      "text/plain": [
       "<Figure size 1296x432 with 1 Axes>"
      ]
     },
     "metadata": {
      "needs_background": "light"
     },
     "output_type": "display_data"
    }
   ],
   "source": [
    "sns.histplot(data=to_analyse, x=\"Label.1\", stat=\"probability\")\n",
    "plt.show()"
   ]
  },
  {
   "cell_type": "code",
   "execution_count": 120,
   "metadata": {},
   "outputs": [
    {
     "name": "stdout",
     "output_type": "stream",
     "text": [
      "8 9 9\n",
      "[0.0, 0.7853981633974483, 1.5707963267948966, 2.356194490192345, 3.141592653589793, 3.9269908169872414, 4.71238898038469, 5.497787143782138, 0.0]\n",
      "8 9 9\n",
      "[0.0, 0.7853981633974483, 1.5707963267948966, 2.356194490192345, 3.141592653589793, 3.9269908169872414, 4.71238898038469, 5.497787143782138, 0.0]\n"
     ]
    },
    {
     "data": {
      "text/plain": [
       "([<matplotlib.projections.polar.ThetaTick at 0x1fb96b27eb0>,\n",
       "  <matplotlib.projections.polar.ThetaTick at 0x1fb96d03df0>,\n",
       "  <matplotlib.projections.polar.ThetaTick at 0x1fb96d10ee0>,\n",
       "  <matplotlib.projections.polar.ThetaTick at 0x1fb96d03eb0>,\n",
       "  <matplotlib.projections.polar.ThetaTick at 0x1fb96d160d0>,\n",
       "  <matplotlib.projections.polar.ThetaTick at 0x1fb96d16820>,\n",
       "  <matplotlib.projections.polar.ThetaTick at 0x1fb96d16df0>,\n",
       "  <matplotlib.projections.polar.ThetaTick at 0x1fb96d1c400>],\n",
       " [Text(0.0, 0, 'Audio-Streaming'),\n",
       "  Text(0.7853981633974483, 0, 'Browsing'),\n",
       "  Text(1.5707963267948966, 0, 'Chat'),\n",
       "  Text(2.356194490192345, 0, 'Email'),\n",
       "  Text(3.141592653589793, 0, 'File-Transfer'),\n",
       "  Text(3.9269908169872414, 0, 'P2P'),\n",
       "  Text(4.71238898038469, 0, 'VOIP'),\n",
       "  Text(5.497787143782138, 0, 'Video-Streaming')])"
      ]
     },
     "execution_count": 120,
     "metadata": {},
     "output_type": "execute_result"
    },
    {
     "data": {
      "image/png": "[encoded data removed]",
      "text/plain": [
       "<Figure size 1296x432 with 1 Axes>"
      ]
     },
     "metadata": {
      "needs_background": "light"
     },
     "output_type": "display_data"
    }
   ],
   "source": [
    "import math\n",
    "app_benign = to_analyse[to_analyse['Label'] == \"Benign\"]\n",
    "benign = app_benign['Label.1'].to_numpy()\n",
    "\n",
    "app_darknet = to_analyse[to_analyse['Label'] == \"Darknet\"]\n",
    "darknet = app_darknet['Label.1'].to_numpy()\n",
    "\n",
    "\n",
    "unique_values_be, count_values_be = np.unique(benign, return_counts = True)\n",
    "probability_be = [freq / sum(count_values_be) for freq in count_values_be]\n",
    "N_be = len(unique_values_be)\n",
    "probability_be += probability_be[:1]\n",
    "angles_be = [n / float(N_be) * 2 * math.pi for n in range(N_be)]\n",
    "angles_be += angles_be[:1]\n",
    "print(N_be, len(probability_be), len(angles_be))\n",
    "print(angles_be)\n",
    "\n",
    "\n",
    "unique_values_dk, count_values_dk = np.unique(darknet, return_counts = True)\n",
    "probability_dk = [freq / sum(count_values_dk) for freq in count_values_dk]\n",
    "N_dk = len(count_values_dk)\n",
    "probability_dk += probability_dk[:1]\n",
    "angles_dk = [n / float(N_dk) * 2 * math.pi for n in range(N_dk)]\n",
    "angles_dk += angles_dk[:1]\n",
    "print(N_dk, len(probability_dk), len(angles_dk))\n",
    "print(angles_dk)\n",
    "\n",
    "\n",
    "\n",
    "\n",
    "plt.polar(angles_be, probability_be)\n",
    "plt.fill(angles_be, probability_be, alpha=0.3)\n",
    "plt.polar(angles_dk, probability_dk)\n",
    "plt.fill(angles_dk, probability_dk, alpha=0.1)\n",
    "\n",
    "plt.xticks(angles[:-1], unique_values)\n",
    "\n",
    "\n",
    "# benign = pd.DataFrame({'values':unique_values, 'frequency': count_values, 'probability': probability, 'angle': angles}, columns = ['values', 'frequency', 'probability', 'angles'])\n",
    "# benign\n"
   ]
  },
  {
   "cell_type": "markdown",
   "metadata": {},
   "source": [
    "## Traffic type on Darknet and outside"
   ]
  },
  {
   "cell_type": "code",
   "execution_count": 43,
   "metadata": {
    "ExecuteTime": {
     "end_time": "2021-03-01T19:33:00.262701Z",
     "start_time": "2021-03-01T19:32:59.792119Z"
    },
    "scrolled": true
   },
   "outputs": [
    {
     "data": {
      "image/png": "[encoded data removed]",
      "text/plain": [
       "<Figure size 1296x432 with 1 Axes>"
      ]
     },
     "metadata": {
      "needs_background": "light"
     },
     "output_type": "display_data"
    }
   ],
   "source": [
    "sns.histplot(data=to_analyse[to_analyse['Label'] == \"Benign\"], x=\"Label.1\", stat=\"probability\")\n",
    "plt.show()"
   ]
  },
  {
   "cell_type": "code",
   "execution_count": 44,
   "metadata": {
    "ExecuteTime": {
     "start_time": "2021-03-01T19:33:10.991Z"
    },
    "scrolled": true
   },
   "outputs": [
    {
     "data": {
      "image/png": "[encoded data removed]",
      "text/plain": [
       "<Figure size 1296x432 with 1 Axes>"
      ]
     },
     "metadata": {
      "needs_background": "light"
     },
     "output_type": "display_data"
    }
   ],
   "source": [
    "to_analyse[to_analyse['Label'] == \"Benign\"]['Label.1'].hist(cumulative=True, density=1, bins=8, grid=True)\n",
    "plt.show()"
   ]
  },
  {
   "cell_type": "code",
   "execution_count": 45,
   "metadata": {
    "ExecuteTime": {
     "end_time": "2021-03-01T19:52:30.249240Z",
     "start_time": "2021-03-01T19:52:29.845920Z"
    },
    "scrolled": true
   },
   "outputs": [
    {
     "data": {
      "image/png": "[encoded data removed]",
      "text/plain": [
       "<Figure size 1296x432 with 1 Axes>"
      ]
     },
     "metadata": {
      "needs_background": "light"
     },
     "output_type": "display_data"
    }
   ],
   "source": [
    "sns.histplot(data=to_analyse[to_analyse['Label'] == \"Darknet\"], x=\"Label.1\", stat=\"probability\")\n",
    "plt.show()"
   ]
  },
  {
   "cell_type": "code",
   "execution_count": 46,
   "metadata": {
    "ExecuteTime": {
     "start_time": "2021-03-01T16:41:01.810Z"
    },
    "scrolled": true
   },
   "outputs": [
    {
     "data": {
      "image/png": "[encoded data removed]",
      "text/plain": [
       "<Figure size 1296x432 with 1 Axes>"
      ]
     },
     "metadata": {
      "needs_background": "light"
     },
     "output_type": "display_data"
    }
   ],
   "source": [
    "to_analyse[to_analyse['Label'] == \"Darknet\"]['Label.1'].hist(cumulative=True, density=1, bins=8, grid=True)\n",
    "plt.show()"
   ]
  },
  {
   "cell_type": "markdown",
   "metadata": {},
   "source": [
    "## Access hour"
   ]
  },
  {
   "cell_type": "code",
   "execution_count": 47,
   "metadata": {
    "ExecuteTime": {
     "end_time": "2021-03-01T19:52:00.717091Z",
     "start_time": "2021-03-01T19:52:00.252297Z"
    },
    "scrolled": false
   },
   "outputs": [
    {
     "data": {
      "image/png": "[encoded data removed]",
      "text/plain": [
       "<Figure size 1296x432 with 1 Axes>"
      ]
     },
     "metadata": {
      "needs_background": "light"
     },
     "output_type": "display_data"
    }
   ],
   "source": [
    "sns.histplot(data=to_analyse[to_analyse['Label'] == \"Darknet\"], x=\"hour\", stat=\"probability\")\n",
    "plt.show()"
   ]
  },
  {
   "cell_type": "code",
   "execution_count": 48,
   "metadata": {
    "ExecuteTime": {
     "end_time": "2021-03-01T19:52:04.629979Z",
     "start_time": "2021-03-01T19:52:04.247580Z"
    }
   },
   "outputs": [
    {
     "data": {
      "image/png": "[encoded data removed]",
      "text/plain": [
       "<Figure size 1296x432 with 1 Axes>"
      ]
     },
     "metadata": {
      "needs_background": "light"
     },
     "output_type": "display_data"
    }
   ],
   "source": [
    "sns.histplot(data=to_analyse[to_analyse['Label'] == \"Benign\"], x=\"hour\", stat=\"probability\")\n",
    "plt.show()"
   ]
  },
  {
   "cell_type": "code",
   "execution_count": 66,
   "metadata": {},
   "outputs": [
    {
     "data": {
      "image/png": "[encoded data removed]",
      "text/plain": [
       "<Figure size 1296x432 with 1 Axes>"
      ]
     },
     "metadata": {
      "needs_background": "light"
     },
     "output_type": "display_data"
    }
   ],
   "source": [
    "plot_graph_darknet = to_analyse[to_analyse['Label'] == \"Darknet\"]\n",
    "plot_graph_benign = to_analyse[to_analyse['Label'] == \"Benign\"]\n",
    "sns.kdeplot(plot_graph_darknet['hour'], shade=True)\n",
    "sns.kdeplot(plot_graph_benign['hour'], shade=True)\n",
    "plt.xlabel(\"Horas\")\n",
    "plt.ylabel(\"Densidade\")\n",
    "\n",
    "plt.title(\"Horas - Relação entre origens de dados\")\n",
    "# sns.lineplot(data=plot_graph_darknet, x=\"hour\", stat=\"probability\")\n",
    "# sns.relplot(data=to_analyse[to_analyse['Label'] == \"Benign\"], x=\"hour\", stat=\"probability\", color='brown')\n",
    "plt.legend(['Darknet', 'Benigna'])\n",
    "plt.show()"
   ]
  },
  {
   "cell_type": "markdown",
   "metadata": {},
   "source": [
    "# Models evaluation"
   ]
  },
  {
   "cell_type": "code",
   "execution_count": 520,
   "metadata": {
    "ExecuteTime": {
     "end_time": "2021-03-02T17:34:32.471592Z",
     "start_time": "2021-03-02T17:34:32.468094Z"
    }
   },
   "outputs": [],
   "source": [
    "def split_train_target(samples, labels_col):\n",
    "    X = samples.copy()\n",
    "    del X[labels_col]\n",
    "    X = X.values\n",
    "    y = samples[labels_col].values\n",
    "    labels = np.unique(samples[labels_col])\n",
    "    return X, y, labels"
   ]
  },
  {
   "cell_type": "code",
   "execution_count": 342,
   "metadata": {
    "ExecuteTime": {
     "end_time": "2021-03-01T23:54:19.421452Z",
     "start_time": "2021-03-01T23:54:19.405752Z"
    }
   },
   "outputs": [],
   "source": [
    "def kfold_validation(model, X, y, labels=None, n_splits=10, random_state=42):\n",
    "    skf = StratifiedKFold(n_splits=n_splits, shuffle=True, random_state=random_state)\n",
    "    classifier_reports = []\n",
    "    for train_index, test_index in tqdm(skf.split(X, y), total=n_splits): \n",
    "        x_train_fold, x_test_fold = X[train_index], X[test_index] \n",
    "        y_train_fold, y_test_fold = y[train_index], y[test_index] \n",
    "        model = model.fit(x_train_fold,y_train_fold)\n",
    "        y_pred_fold = model.predict(x_test_fold)\n",
    "        class_report = classification_report(y_test_fold, y_pred_fold, target_names=labels,\n",
    "                                             output_dict=True)    \n",
    "        classifier_reports.append(class_report)\n",
    "    \n",
    "    final_report = {}\n",
    "    for report in classifier_reports:\n",
    "        for label in report.keys():\n",
    "            if type(report[label]) == dict:\n",
    "                if label not in final_report:\n",
    "                    final_report[label] = {}\n",
    "                for key in report[label].keys():\n",
    "                    if key not in final_report[label]:\n",
    "                            final_report[label][key] = 0.0\n",
    "                    final_report[label][key] += report[label][key]\n",
    "            else:\n",
    "                if label not in final_report:\n",
    "                    final_report[label] = 0.0\n",
    "                final_report[label] += report[label]\n",
    "\n",
    "    for label in final_report.keys():\n",
    "        if type(final_report[label]) == dict:\n",
    "            for metric in final_report[label].keys():\n",
    "                final_report[label][metric] /= n_splits\n",
    "        else:\n",
    "            final_report[label] /= n_splits\n",
    "    final_report[\"n_splits\"] = n_splits\n",
    "    return final_report"
   ]
  },
  {
   "cell_type": "code",
   "execution_count": 343,
   "metadata": {
    "ExecuteTime": {
     "end_time": "2021-03-01T23:54:19.431213Z",
     "start_time": "2021-03-01T23:54:19.423171Z"
    }
   },
   "outputs": [],
   "source": [
    "def show_kfold_report(report, labels):\n",
    "    metrics_printed = False\n",
    "    n_spaces = max([len(label) for label in labels])\n",
    "    for label in labels:\n",
    "        if not metrics_printed:\n",
    "            print(\" \"*n_spaces, end='')\n",
    "            for metric in report[label].keys():\n",
    "                print(f\"{metric}\", \" \"*6,end='')\n",
    "            metrics_printed = True\n",
    "            print()\n",
    "        print(f\"{label}: \", \" \"*(n_spaces-len(label)),end='')\n",
    "        for metric in report[label].keys():\n",
    "            print(\"%0.2f\\t\\t\"%(report[label][metric]*100),end='')\n",
    "        print()\n",
    "    print(\"\\n\\n\", \"%d-fold Accuracy: %0.2f%%\"%(report[\"n_splits\"],report['accuracy']*100))"
   ]
  },
  {
   "cell_type": "code",
   "execution_count": 637,
   "metadata": {
    "ExecuteTime": {
     "end_time": "2021-03-02T23:15:54.353102Z",
     "start_time": "2021-03-02T23:15:54.341916Z"
    }
   },
   "outputs": [],
   "source": [
    "def show_confusion_matrix(model, X, y, labels):\n",
    "    y_pred = model.predict(X)\n",
    "    conf = confusion_matrix(y, y_pred)\n",
    "    n_spaces = max([len(label) for label in labels])\n",
    "    print(\"Test accuracy: %0.2f%%\\n\"%(np.sum((y_pred==y))/y.size*100))\n",
    "    print(\"\\nConfusion matrix:\")\n",
    "    print(conf)\n",
    "    print()\n",
    "    for i in range(conf.shape[0]):\n",
    "        print(labels[i],\":\",\" \"*(n_spaces- len(labels[i])) ,\" %0.2f%%\"%(conf[i,i]/np.sum(conf[:,i])*100))"
   ]
  },
  {
   "cell_type": "code",
   "execution_count": 627,
   "metadata": {
    "ExecuteTime": {
     "end_time": "2021-03-02T22:06:09.228106Z",
     "start_time": "2021-03-02T22:06:09.219406Z"
    }
   },
   "outputs": [],
   "source": [
    "def evaluate_model(model, X_train, y_train, X_test, y_test, labels, n_splits=10, figsize=(10,10)):\n",
    "    kfold_report = kfold_validation(model, X_train, y_train, n_splits=n_splits)\n",
    "    show_kfold_report(kfold_report, labels)\n",
    "    show_confusion_matrix(model, X_test, y_test, labels)\n",
    "    fig, ax = plt.subplots(figsize=figsize)\n",
    "    plot_confusion_matrix(model, X_test, y_test, cmap=plt.cm.Blues, ax=ax)\n",
    "    plt.show()\n",
    "    return kfold_report"
   ]
  },
  {
   "cell_type": "markdown",
   "metadata": {},
   "source": [
    "## Benign vs Darknet classification"
   ]
  },
  {
   "cell_type": "code",
   "execution_count": 569,
   "metadata": {
    "ExecuteTime": {
     "end_time": "2021-03-02T18:45:04.333388Z",
     "start_time": "2021-03-02T18:44:57.680323Z"
    }
   },
   "outputs": [],
   "source": [
    "X, y, labels = split_train_target(model_samples, \"Label\")\n",
    "X_train, X_test, y_train, y_test = train_test_split(X, y, test_size=0.33, random_state=random_state)\n",
    "columns = model_samples_l1.columns.tolist()"
   ]
  },
  {
   "cell_type": "markdown",
   "metadata": {},
   "source": [
    "### Decision tree"
   ]
  },
  {
   "cell_type": "code",
   "execution_count": 638,
   "metadata": {
    "ExecuteTime": {
     "end_time": "2021-03-02T23:17:31.502899Z",
     "start_time": "2021-03-02T23:16:01.611561Z"
    },
    "scrolled": false
   },
   "outputs": [
    {
     "name": "stderr",
     "output_type": "stream",
     "text": [
      "100%|██████████| 10/10 [01:27<00:00,  8.70s/it]\n"
     ]
    },
    {
     "name": "stdout",
     "output_type": "stream",
     "text": [
      "       precision       recall       f1-score       support       \n",
      "Benign:   99.94\t\t99.92\t\t99.93\t\t784910.00\t\t\n",
      "Darknet:  99.64\t\t99.71\t\t99.67\t\t163010.00\t\t\n",
      "\n",
      "\n",
      " 10-fold Accuracy: 99.89%\n",
      "Test accuracy: 99.91%\n",
      "\n",
      "\n",
      "Confusion matrix:\n",
      "[[38661    18]\n",
      " [   22  7988]]\n",
      "\n",
      "Benign :    99.94%\n",
      "Darknet :   99.78%\n"
     ]
    },
    {
     "data": {
      "image/png": "[encoded data removed]",
      "text/plain": [
       "<Figure size 720x720 with 2 Axes>"
      ]
     },
     "metadata": {
      "needs_background": "light"
     },
     "output_type": "display_data"
    }
   ],
   "source": [
    "model = DecisionTreeClassifier(random_state=random_state)\n",
    "report = evaluate_model(model, X_train, y_train, X_test, y_test, labels)"
   ]
  },
  {
   "cell_type": "markdown",
   "metadata": {},
   "source": [
    "### Random forest"
   ]
  },
  {
   "cell_type": "code",
   "execution_count": 639,
   "metadata": {
    "ExecuteTime": {
     "end_time": "2021-03-02T23:22:24.518920Z",
     "start_time": "2021-03-02T23:17:31.509001Z"
    },
    "scrolled": false
   },
   "outputs": [
    {
     "name": "stderr",
     "output_type": "stream",
     "text": [
      "100%|██████████| 10/10 [04:48<00:00, 28.87s/it]\n"
     ]
    },
    {
     "name": "stdout",
     "output_type": "stream",
     "text": [
      "       precision       recall       f1-score       support       \n",
      "Benign:   99.89\t\t99.97\t\t99.93\t\t784910.00\t\t\n",
      "Darknet:  99.87\t\t99.47\t\t99.67\t\t163010.00\t\t\n",
      "\n",
      "\n",
      " 10-fold Accuracy: 99.89%\n",
      "Test accuracy: 99.90%\n",
      "\n",
      "\n",
      "Confusion matrix:\n",
      "[[38670     9]\n",
      " [   36  7974]]\n",
      "\n",
      "Benign :    99.91%\n",
      "Darknet :   99.89%\n"
     ]
    },
    {
     "data": {
      "image/png": "[encoded data removed]",
      "text/plain": [
       "<Figure size 720x720 with 2 Axes>"
      ]
     },
     "metadata": {
      "needs_background": "light"
     },
     "output_type": "display_data"
    }
   ],
   "source": [
    "rf_model = RandomForestClassifier(random_state=random_state)\n",
    "report_rf = evaluate_model(rf_model, X_train, y_train, X_test, y_test, labels)"
   ]
  },
  {
   "cell_type": "markdown",
   "metadata": {},
   "source": [
    "## Darknet traffic caracterization"
   ]
  },
  {
   "cell_type": "code",
   "execution_count": 640,
   "metadata": {
    "ExecuteTime": {
     "end_time": "2021-03-02T23:22:25.492220Z",
     "start_time": "2021-03-02T23:22:24.522937Z"
    }
   },
   "outputs": [],
   "source": [
    "X1, y1, labels1 = split_train_target(model_samples_l1, \"Label.1\")\n",
    "X1_train, X1_test, y1_train, y1_test = train_test_split(X1, y1, test_size=0.33, random_state=random_state)\n",
    "columns1 = model_samples_l1.columns.tolist()"
   ]
  },
  {
   "cell_type": "markdown",
   "metadata": {},
   "source": [
    "### Decision tree"
   ]
  },
  {
   "cell_type": "code",
   "execution_count": 643,
   "metadata": {
    "ExecuteTime": {
     "end_time": "2021-03-02T23:23:25.434657Z",
     "start_time": "2021-03-02T23:23:15.696680Z"
    }
   },
   "outputs": [
    {
     "name": "stderr",
     "output_type": "stream",
     "text": [
      "100%|██████████| 10/10 [00:08<00:00,  1.21it/s]\n"
     ]
    },
    {
     "name": "stdout",
     "output_type": "stream",
     "text": [
      "               precision       recall       f1-score       support       \n",
      "Audio-Streaming:  99.60\t\t99.66\t\t99.63\t\t88830.00\t\t\n",
      "Browsing:         93.05\t\t83.82\t\t87.85\t\t1750.00\t\t\n",
      "Chat:             98.93\t\t99.28\t\t99.10\t\t30520.00\t\t\n",
      "Email:            95.33\t\t95.70\t\t95.45\t\t3930.00\t\t\n",
      "File-Transfer:    98.27\t\t97.92\t\t98.09\t\t17300.00\t\t\n",
      "P2P:              97.12\t\t96.25\t\t96.48\t\t1570.00\t\t\n",
      "VOIP:             97.39\t\t97.97\t\t97.68\t\t9860.00\t\t\n",
      "Video-Streaming:  96.28\t\t96.16\t\t96.21\t\t9120.00\t\t\n",
      "\n",
      "\n",
      " 10-fold Accuracy: 98.81%\n",
      "Test accuracy: 99.03%\n",
      "\n",
      "\n",
      "Confusion matrix:\n",
      "[[4387    2   12    0    0    0    0    0]\n",
      " [   4   80    0    0    1    1    1    1]\n",
      " [   5    4 1479    0    0    0    1    0]\n",
      " [   0    0    0  184    5    0    0    0]\n",
      " [   1    0    0   11  864    0    0    4]\n",
      " [   0    0    0    0    0   63    0    0]\n",
      " [   0    0    1    0    0    0  473    5]\n",
      " [   2    0    1    0    4    2   10  415]]\n",
      "\n",
      "Audio-Streaming :   99.73%\n",
      "Browsing :          93.02%\n",
      "Chat :              99.06%\n",
      "Email :             94.36%\n",
      "File-Transfer :     98.86%\n",
      "P2P :               95.45%\n",
      "VOIP :              97.53%\n",
      "Video-Streaming :   97.65%\n"
     ]
    },
    {
     "data": {
      "image/png": "[encoded data removed]",
      "text/plain": [
       "<Figure size 1080x1080 with 2 Axes>"
      ]
     },
     "metadata": {
      "needs_background": "light"
     },
     "output_type": "display_data"
    }
   ],
   "source": [
    "model1 = DecisionTreeClassifier(random_state=random_state)\n",
    "report1 = evaluate_model(model1, X1_train, y1_train, X1_test, y1_test, labels1, figsize=(15,15))"
   ]
  },
  {
   "cell_type": "markdown",
   "metadata": {},
   "source": [
    "### Random forest"
   ]
  },
  {
   "cell_type": "code",
   "execution_count": 642,
   "metadata": {
    "ExecuteTime": {
     "end_time": "2021-03-02T23:23:15.693340Z",
     "start_time": "2021-03-02T23:22:35.377200Z"
    }
   },
   "outputs": [
    {
     "name": "stderr",
     "output_type": "stream",
     "text": [
      "100%|██████████| 10/10 [00:38<00:00,  3.85s/it]\n"
     ]
    },
    {
     "name": "stdout",
     "output_type": "stream",
     "text": [
      "               precision       recall       f1-score       support       \n",
      "Audio-Streaming:  99.50\t\t99.08\t\t99.29\t\t88830.00\t\t\n",
      "Browsing:         88.49\t\t83.95\t\t85.87\t\t1750.00\t\t\n",
      "Chat:             98.51\t\t99.08\t\t98.79\t\t30520.00\t\t\n",
      "Email:            98.47\t\t95.94\t\t97.15\t\t3930.00\t\t\n",
      "File-Transfer:    98.03\t\t96.99\t\t97.50\t\t17300.00\t\t\n",
      "P2P:              95.67\t\t97.50\t\t96.32\t\t1570.00\t\t\n",
      "VOIP:             97.13\t\t97.26\t\t97.16\t\t9860.00\t\t\n",
      "Video-Streaming:  91.32\t\t96.27\t\t93.71\t\t9120.00\t\t\n",
      "\n",
      "\n",
      " 10-fold Accuracy: 98.34%\n",
      "Test accuracy: 98.34%\n",
      "\n",
      "\n",
      "Confusion matrix:\n",
      "[[4361    2   17    0    6    0    0   15]\n",
      " [   6   75    4    0    0    0    1    2]\n",
      " [   9    3 1462    0   14    0    0    1]\n",
      " [   0    0    1  185    3    0    0    0]\n",
      " [  10    0    5    4  859    0    0    2]\n",
      " [   2    0    0    0    0   61    0    0]\n",
      " [   2    1    1    0    1    0  468    6]\n",
      " [   1    2    0    0    2    0   10  419]]\n",
      "\n",
      "Audio-Streaming :   99.32%\n",
      "Browsing :          90.36%\n",
      "Chat :              98.12%\n",
      "Email :             97.88%\n",
      "File-Transfer :     97.06%\n",
      "P2P :               100.00%\n",
      "VOIP :              97.70%\n",
      "Video-Streaming :   94.16%\n"
     ]
    },
    {
     "data": {
      "image/png": "[encoded data removed]",
      "text/plain": [
       "<Figure size 1080x1080 with 2 Axes>"
      ]
     },
     "metadata": {
      "needs_background": "light"
     },
     "output_type": "display_data"
    }
   ],
   "source": [
    "rf_model1 = RandomForestClassifier(random_state=random_state)\n",
    "report_rf1 = evaluate_model(rf_model1, X1_train, y1_train, X1_test, y1_test, labels1, figsize=(15,15))"
   ]
  },
  {
   "cell_type": "markdown",
   "metadata": {},
   "source": [
    "# Feature selection\n",
    "\n",
    "## Recursive Feature Elimination (RFE)"
   ]
  },
  {
   "cell_type": "code",
   "execution_count": 591,
   "metadata": {
    "ExecuteTime": {
     "end_time": "2021-03-02T20:53:00.253812Z",
     "start_time": "2021-03-02T20:53:00.248402Z"
    }
   },
   "outputs": [],
   "source": [
    "def select_features(model, X, y, min_feats=1,step=2, random_state=None):\n",
    "    rfe = RFECV(model, min_features_to_select=min_feats, step=step, cv=StratifiedKFold(10, shuffle=True, random_state=random_state), scoring='accuracy', n_jobs=4, verbose=3)\n",
    "    rfe.fit(X, y)\n",
    "    return rfe\n",
    "\n",
    "def final_evaluation(model, X, y, labels, rfe):\n",
    "    X_selected = rfe.transform(X)\n",
    "    X_train, X_test, y_train, y_test = train_test_split(X_selected, y, test_size=0.33, random_state=random_state)\n",
    "    kfold_report = kfold_validation(model, X_train, y_train, n_splits=10)\n",
    "    show_kfold_report(kfold_report, np.unique(y_train))\n",
    "    show_confusion_matrix(model, X_test, y_test, labels)"
   ]
  },
  {
   "cell_type": "code",
   "execution_count": 572,
   "metadata": {
    "ExecuteTime": {
     "end_time": "2021-03-02T18:45:15.010768Z",
     "start_time": "2021-03-02T18:45:15.004273Z"
    }
   },
   "outputs": [],
   "source": [
    "def summarize_feats(rfe, model, columns, to_remove=[]):\n",
    "    columns = [column for column in columns if column not in to_remove]\n",
    "    columns = [columns[i] for i in range(len(columns)) if (i < len(rfe.support_)) \n",
    "               and rfe.support_[i] ]\n",
    "    features = zip(columns, model.feature_importances_)\n",
    "    feat_import = [(feat, importance) for feat, importance in features]\n",
    "    feat_import.sort(key = lambda x: x[1], reverse=True)\n",
    "    \n",
    "    n_spaces = max([len(feat) for feat, _ in feat_import[:25]])\n",
    "    head = \"Feature\" + str(\" \"*(n_spaces-len(\"Feature\")) + \"\\tImportance\") \n",
    "    print(head)\n",
    "    print(\"-\"*(len(head)+5))\n",
    "    for feature, importance in feat_import[:25]:\n",
    "        print(f\"%s:\"%(feature),\" \"*(n_spaces-len(feature)),\"\\t%0.4f\"%(importance))\n",
    "    \n",
    "    return columns"
   ]
  },
  {
   "cell_type": "markdown",
   "metadata": {},
   "source": [
    "### Benign vs Darknet classification"
   ]
  },
  {
   "cell_type": "markdown",
   "metadata": {},
   "source": [
    "#### Decision tree"
   ]
  },
  {
   "cell_type": "code",
   "execution_count": 644,
   "metadata": {
    "ExecuteTime": {
     "end_time": "2021-03-02T23:46:09.703530Z",
     "start_time": "2021-03-02T23:24:14.645055Z"
    },
    "scrolled": true
   },
   "outputs": [
    {
     "name": "stdout",
     "output_type": "stream",
     "text": [
      "Fitting estimator with 184 features.\n",
      "Fitting estimator with 180 features.\n",
      "Fitting estimator with 176 features.\n",
      "Fitting estimator with 172 features.\n",
      "Fitting estimator with 168 features.\n",
      "Fitting estimator with 164 features.\n",
      "Fitting estimator with 160 features.\n",
      "Fitting estimator with 156 features.\n",
      "Fitting estimator with 152 features.\n",
      "Fitting estimator with 148 features.\n",
      "Fitting estimator with 144 features.\n",
      "Fitting estimator with 140 features.\n",
      "Fitting estimator with 136 features.\n",
      "Fitting estimator with 132 features.\n",
      "Fitting estimator with 128 features.\n",
      "Fitting estimator with 124 features.\n",
      "Fitting estimator with 120 features.\n",
      "Fitting estimator with 116 features.\n",
      "Fitting estimator with 112 features.\n",
      "Fitting estimator with 108 features.\n",
      "Fitting estimator with 104 features.\n",
      "Fitting estimator with 100 features.\n",
      "Fitting estimator with 96 features.\n",
      "Fitting estimator with 92 features.\n",
      "Fitting estimator with 88 features.\n",
      "Fitting estimator with 84 features.\n",
      "Fitting estimator with 80 features.\n",
      "Fitting estimator with 76 features.\n",
      "Fitting estimator with 72 features.\n",
      "Fitting estimator with 68 features.\n",
      "Fitting estimator with 64 features.\n",
      "Fitting estimator with 60 features.\n",
      "Fitting estimator with 56 features.\n",
      "Fitting estimator with 52 features.\n",
      "Fitting estimator with 48 features.\n",
      "Fitting estimator with 44 features.\n",
      "Fitting estimator with 40 features.\n",
      "Fitting estimator with 36 features.\n"
     ]
    }
   ],
   "source": [
    "model = DecisionTreeClassifier(random_state=random_state)\n",
    "rfe = select_features(model, X, y, 10, step=4)"
   ]
  },
  {
   "cell_type": "code",
   "execution_count": 656,
   "metadata": {
    "ExecuteTime": {
     "end_time": "2021-03-03T00:35:36.658627Z",
     "start_time": "2021-03-03T00:35:36.639844Z"
    }
   },
   "outputs": [
    {
     "name": "stdout",
     "output_type": "stream",
     "text": [
      "Optimal number of features: 32\n",
      "Feature                   \tImportance\n",
      "------------------------------------------\n",
      "Idle Std:                    \t0.4287\n",
      "FWD Init Win Bytes:          \t0.0327\n",
      "Idle Min:                    \t0.0063\n",
      "Fwd IAT Min:                 \t0.0033\n",
      "Fwd Packet Length Mean:      \t0.0028\n",
      "col_1:                       \t0.0023\n",
      "Flow IAT Mean:               \t0.0010\n",
      "Bwd Packets/s:               \t0.0010\n",
      "Fwd Seg Size Min:            \t0.0004\n",
      "FIN Flag Count:              \t0.0003\n",
      "col_45:                      \t0.0002\n",
      "Bwd Packet Length Min:       \t0.0002\n",
      "Packet Length Variance:      \t0.0002\n",
      "col_24:                      \t0.0000\n",
      "col_29:                      \t0.0000\n",
      "col_30:                      \t0.0000\n",
      "col_49:                      \t0.0000\n",
      "col_80:                      \t0.0000\n",
      "col_91:                      \t0.0000\n",
      "col_96:                      \t0.0000\n",
      "hour:                        \t0.0000\n",
      "Src Port:                    \t0.0000\n",
      "Flow Duration:               \t0.0000\n",
      "Total Length of Bwd Packet:  \t0.0000\n",
      "Flow Bytes/s:                \t0.0000\n"
     ]
    }
   ],
   "source": [
    "print(f\"Optimal number of features: {rfe.n_features_}\")\n",
    "selected_columns = summarize_feats(rfe, model, columns)"
   ]
  },
  {
   "cell_type": "code",
   "execution_count": 657,
   "metadata": {
    "ExecuteTime": {
     "end_time": "2021-03-03T00:36:16.319134Z",
     "start_time": "2021-03-03T00:35:43.474965Z"
    }
   },
   "outputs": [
    {
     "name": "stderr",
     "output_type": "stream",
     "text": [
      "100%|██████████| 10/10 [00:30<00:00,  3.04s/it]\n"
     ]
    },
    {
     "name": "stdout",
     "output_type": "stream",
     "text": [
      "       precision       recall       f1-score       support       \n",
      "Benign:   99.94\t\t99.92\t\t99.93\t\t784910.00\t\t\n",
      "Darknet:  99.63\t\t99.69\t\t99.66\t\t163010.00\t\t\n",
      "\n",
      "\n",
      " 10-fold Accuracy: 99.88%\n",
      "Test accuracy: 99.92%\n",
      "\n",
      "\n",
      "Confusion matrix:\n",
      "[[38659    20]\n",
      " [   19  7991]]\n",
      "\n",
      "Benign :    99.95%\n",
      "Darknet :   99.75%\n"
     ]
    }
   ],
   "source": [
    "final_report = final_evaluation(model, X, y, labels, rfe)"
   ]
  },
  {
   "cell_type": "code",
   "execution_count": null,
   "metadata": {
    "ExecuteTime": {
     "end_time": "2021-03-02T23:46:09.760294Z",
     "start_time": "2021-03-02T23:24:16.849Z"
    }
   },
   "outputs": [],
   "source": [
    "dotfile = open(\"dtree3.dot\", 'w')\n",
    "export_graphviz(model, out_file = dotfile, feature_names = selected_columns)\n",
    "dotfile.close()"
   ]
  },
  {
   "cell_type": "markdown",
   "metadata": {},
   "source": [
    "#### Random forest"
   ]
  },
  {
   "cell_type": "code",
   "execution_count": null,
   "metadata": {
    "ExecuteTime": {
     "end_time": "2021-03-02T23:46:09.761882Z",
     "start_time": "2021-03-02T23:24:18.011Z"
    },
    "scrolled": true
   },
   "outputs": [],
   "source": [
    "model_rf = DecisionTreeClassifier(random_state=random_state)\n",
    "rfe_rf = select_features(model_rf, X, y, 1, step=4)"
   ]
  },
  {
   "cell_type": "code",
   "execution_count": null,
   "metadata": {
    "ExecuteTime": {
     "end_time": "2021-03-02T23:46:09.763900Z",
     "start_time": "2021-03-02T23:24:18.423Z"
    },
    "scrolled": false
   },
   "outputs": [],
   "source": [
    "print(f\"Optimal number of features: {rfe_rf.n_features_}\")\n",
    "selected_columns_rf = summarize_feats(rfe_rf, model_rf, columns)"
   ]
  },
  {
   "cell_type": "code",
   "execution_count": null,
   "metadata": {
    "ExecuteTime": {
     "end_time": "2021-03-02T23:46:09.765693Z",
     "start_time": "2021-03-02T23:24:18.686Z"
    },
    "scrolled": true
   },
   "outputs": [],
   "source": [
    "final_report_rf = final_evaluation(model_rf, X, y, labels, rfe_rf)"
   ]
  },
  {
   "cell_type": "code",
   "execution_count": null,
   "metadata": {
    "ExecuteTime": {
     "end_time": "2021-03-02T23:46:09.770094Z",
     "start_time": "2021-03-02T23:24:20.839Z"
    }
   },
   "outputs": [],
   "source": [
    "dotfile = open(\"rf.dot\", 'w')\n",
    "export_graphviz(model_rf, out_file = dotfile, feature_names = selected_columns_rf)\n",
    "dotfile.close()"
   ]
  },
  {
   "cell_type": "markdown",
   "metadata": {},
   "source": [
    "### Darknet traffic caracterization"
   ]
  },
  {
   "cell_type": "markdown",
   "metadata": {},
   "source": [
    "#### Decision tree"
   ]
  },
  {
   "cell_type": "code",
   "execution_count": 646,
   "metadata": {
    "ExecuteTime": {
     "end_time": "2021-03-03T00:10:22.666430Z",
     "start_time": "2021-03-03T00:08:45.336388Z"
    },
    "scrolled": true
   },
   "outputs": [
    {
     "name": "stdout",
     "output_type": "stream",
     "text": [
      "Fitting estimator with 184 features.\n",
      "Fitting estimator with 180 features.\n",
      "Fitting estimator with 176 features.\n",
      "Fitting estimator with 172 features.\n",
      "Fitting estimator with 168 features.\n",
      "Fitting estimator with 164 features.\n",
      "Fitting estimator with 160 features.\n",
      "Fitting estimator with 156 features.\n",
      "Fitting estimator with 152 features.\n",
      "Fitting estimator with 148 features.\n",
      "Fitting estimator with 144 features.\n",
      "Fitting estimator with 140 features.\n",
      "Fitting estimator with 136 features.\n",
      "Fitting estimator with 132 features.\n",
      "Fitting estimator with 128 features.\n",
      "Fitting estimator with 124 features.\n",
      "Fitting estimator with 120 features.\n",
      "Fitting estimator with 116 features.\n",
      "Fitting estimator with 112 features.\n",
      "Fitting estimator with 108 features.\n",
      "Fitting estimator with 104 features.\n",
      "Fitting estimator with 100 features.\n",
      "Fitting estimator with 96 features.\n",
      "Fitting estimator with 92 features.\n",
      "Fitting estimator with 88 features.\n",
      "Fitting estimator with 84 features.\n"
     ]
    }
   ],
   "source": [
    "model = DecisionTreeClassifier(random_state=random_state)\n",
    "rfe1 = select_features(model, X1, y1, 60, step=4)"
   ]
  },
  {
   "cell_type": "code",
   "execution_count": 651,
   "metadata": {
    "ExecuteTime": {
     "end_time": "2021-03-03T00:12:19.631517Z",
     "start_time": "2021-03-03T00:12:14.342497Z"
    },
    "scrolled": false
   },
   "outputs": [
    {
     "name": "stderr",
     "output_type": "stream",
     "text": [
      "100%|██████████| 10/10 [00:04<00:00,  2.12it/s]"
     ]
    },
    {
     "name": "stdout",
     "output_type": "stream",
     "text": [
      "               precision       recall       f1-score       support       \n",
      "Audio-Streaming:  99.57\t\t99.72\t\t99.65\t\t88830.00\t\t\n",
      "Browsing:         91.86\t\t88.50\t\t89.94\t\t1750.00\t\t\n",
      "Chat:             99.25\t\t99.05\t\t99.15\t\t30520.00\t\t\n",
      "Email:            95.66\t\t94.43\t\t94.98\t\t3930.00\t\t\n",
      "File-Transfer:    98.05\t\t98.09\t\t98.06\t\t17300.00\t\t\n",
      "P2P:              97.05\t\t96.88\t\t96.85\t\t1570.00\t\t\n",
      "VOIP:             97.60\t\t97.97\t\t97.77\t\t9860.00\t\t\n",
      "Video-Streaming:  96.51\t\t96.38\t\t96.44\t\t9120.00\t\t\n",
      "\n",
      "\n",
      " 10-fold Accuracy: 98.85%\n",
      "Test accuracy: 99.08%\n",
      "\n",
      "\n",
      "Confusion matrix:\n",
      "[[4386    4   10    0    0    0    1    0]\n",
      " [   4   80    0    0    1    1    2    0]\n",
      " [   5    4 1478    0    1    0    1    0]\n",
      " [   0    0    0  185    4    0    0    0]\n",
      " [   0    0    0   12  866    0    0    2]\n",
      " [   0    0    0    0    0   63    0    0]\n",
      " [   0    0    1    0    0    0  473    5]\n",
      " [   0    0    0    0    3    2   11  418]]\n",
      "\n",
      "Audio-Streaming :   99.80%\n",
      "Browsing :          90.91%\n",
      "Chat :              99.26%\n",
      "Email :             93.91%\n",
      "File-Transfer :     98.97%\n",
      "P2P :               95.45%\n",
      "VOIP :              96.93%\n",
      "Video-Streaming :   98.35%\n",
      "\n",
      "Optimal number of features: 80\n",
      "Feature              \tImportance\n",
      "-------------------------------------\n",
      "col_76:                 \t0.4287\n",
      "hour:                   \t0.3323\n",
      "Idle Max:               \t0.0569\n",
      "Fwd Seg Size Min:       \t0.0389\n",
      "col_58:                 \t0.0327\n",
      "Flow Duration:          \t0.0196\n",
      "Idle Mean:              \t0.0098\n",
      "Src Port:               \t0.0089\n",
      "Subflow Bwd Bytes:      \t0.0070\n",
      "Flow IAT Std:           \t0.0070\n",
      "col_91:                 \t0.0063\n",
      "Dst Port:               \t0.0041\n",
      "Idle Min:               \t0.0039\n",
      "Flow IAT Min:           \t0.0037\n",
      "Average Packet Size:    \t0.0035\n",
      "col_29:                 \t0.0033\n",
      "col_95:                 \t0.0031\n",
      "Fwd Packet Length Min:  \t0.0030\n",
      "col_18:                 \t0.0028\n",
      "Fwd Segment Size Avg:   \t0.0023\n",
      "col_5:                  \t0.0023\n",
      "Bwd Packets/s:          \t0.0020\n",
      "Flow Bytes/s:           \t0.0020\n",
      "FWD Init Win Bytes:     \t0.0012\n",
      "Fwd Packet Length Std:  \t0.0012\n"
     ]
    },
    {
     "name": "stderr",
     "output_type": "stream",
     "text": [
      "\n"
     ]
    }
   ],
   "source": [
    "final_evaluation(model, X1, y1, labels1, rfe1)\n",
    "print()\n",
    "print(f\"Optimal number of features: {rfe1.n_features_}\")\n",
    "selected_columns1 = summarize_feats(rfe1, model, columns1)"
   ]
  },
  {
   "cell_type": "code",
   "execution_count": null,
   "metadata": {
    "ExecuteTime": {
     "end_time": "2021-03-02T23:46:09.778867Z",
     "start_time": "2021-03-02T23:24:25.628Z"
    }
   },
   "outputs": [],
   "source": [
    "dotfile = open(\"dtree2.dot\", 'w')\n",
    "export_graphviz(model, out_file = dotfile, feature_names = selected_columns1)\n",
    "dotfile.close()"
   ]
  },
  {
   "cell_type": "markdown",
   "metadata": {},
   "source": [
    "#### Random forest"
   ]
  },
  {
   "cell_type": "code",
   "execution_count": 652,
   "metadata": {
    "ExecuteTime": {
     "end_time": "2021-03-03T00:16:24.077345Z",
     "start_time": "2021-03-03T00:14:37.596574Z"
    }
   },
   "outputs": [
    {
     "name": "stdout",
     "output_type": "stream",
     "text": [
      "Fitting estimator with 184 features.\n",
      "Fitting estimator with 180 features.\n",
      "Fitting estimator with 176 features.\n",
      "Fitting estimator with 172 features.\n",
      "Fitting estimator with 168 features.\n",
      "Fitting estimator with 164 features.\n",
      "Fitting estimator with 160 features.\n",
      "Fitting estimator with 156 features.\n",
      "Fitting estimator with 152 features.\n",
      "Fitting estimator with 148 features.\n",
      "Fitting estimator with 144 features.\n",
      "Fitting estimator with 140 features.\n",
      "Fitting estimator with 136 features.\n",
      "Fitting estimator with 132 features.\n",
      "Fitting estimator with 128 features.\n",
      "Fitting estimator with 124 features.\n",
      "Fitting estimator with 120 features.\n",
      "Fitting estimator with 116 features.\n",
      "Fitting estimator with 112 features.\n",
      "Fitting estimator with 108 features.\n",
      "Fitting estimator with 104 features.\n",
      "Fitting estimator with 100 features.\n",
      "Fitting estimator with 96 features.\n",
      "Fitting estimator with 92 features.\n",
      "Fitting estimator with 88 features.\n",
      "Fitting estimator with 84 features.\n",
      "Fitting estimator with 80 features.\n",
      "Fitting estimator with 76 features.\n",
      "Fitting estimator with 72 features.\n",
      "Fitting estimator with 68 features.\n",
      "Fitting estimator with 64 features.\n",
      "Fitting estimator with 60 features.\n",
      "Fitting estimator with 56 features.\n",
      "Fitting estimator with 52 features.\n",
      "Fitting estimator with 48 features.\n",
      "Fitting estimator with 44 features.\n",
      "Fitting estimator with 40 features.\n",
      "Fitting estimator with 36 features.\n",
      "Fitting estimator with 32 features.\n",
      "Fitting estimator with 28 features.\n",
      "Fitting estimator with 24 features.\n",
      "Fitting estimator with 20 features.\n",
      "Fitting estimator with 16 features.\n"
     ]
    }
   ],
   "source": [
    "model_rf1 = DecisionTreeClassifier(random_state=random_state)\n",
    "rfe_rf1 = select_features(model_rf1, X1, y1, 1, step=4)"
   ]
  },
  {
   "cell_type": "code",
   "execution_count": 653,
   "metadata": {
    "ExecuteTime": {
     "end_time": "2021-03-03T00:16:25.756330Z",
     "start_time": "2021-03-03T00:16:24.079475Z"
    }
   },
   "outputs": [
    {
     "name": "stderr",
     "output_type": "stream",
     "text": [
      "100%|██████████| 10/10 [00:01<00:00,  6.94it/s]\n"
     ]
    },
    {
     "name": "stdout",
     "output_type": "stream",
     "text": [
      "               precision       recall       f1-score       support       \n",
      "Audio-Streaming:  99.72\t\t99.80\t\t99.76\t\t88830.00\t\t\n",
      "Browsing:         96.11\t\t92.48\t\t93.99\t\t1750.00\t\t\n",
      "Chat:             99.51\t\t99.34\t\t99.43\t\t30520.00\t\t\n",
      "Email:            94.03\t\t94.19\t\t94.05\t\t3930.00\t\t\n",
      "File-Transfer:    97.81\t\t97.92\t\t97.86\t\t17300.00\t\t\n",
      "P2P:              98.82\t\t99.38\t\t99.07\t\t1570.00\t\t\n",
      "VOIP:             97.80\t\t97.87\t\t97.82\t\t9860.00\t\t\n",
      "Video-Streaming:  96.77\t\t96.60\t\t96.66\t\t9120.00\t\t\n",
      "\n",
      "\n",
      " 10-fold Accuracy: 99.00%\n",
      "Test accuracy: 99.13%\n",
      "\n",
      "\n",
      "Confusion matrix:\n",
      "[[4388    0   13    0    0    0    0    0]\n",
      " [   3   81    1    0    1    1    1    0]\n",
      " [   4    4 1481    0    0    0    0    0]\n",
      " [   0    0    0  186    3    0    0    0]\n",
      " [   0    0    0   10  869    0    0    1]\n",
      " [   0    0    0    0    0   63    0    0]\n",
      " [   0    0    0    0    0    0  472    7]\n",
      " [   1    0    1    0    4    0   15  413]]\n",
      "\n",
      "Audio-Streaming :   99.82%\n",
      "Browsing :          95.29%\n",
      "Chat :              99.00%\n",
      "Email :             94.90%\n",
      "File-Transfer :     99.09%\n",
      "P2P :               98.44%\n",
      "VOIP :              96.72%\n",
      "Video-Streaming :   98.10%\n"
     ]
    }
   ],
   "source": [
    "final_report_rf1 = final_evaluation(model_rf1, X1, y1, labels1, rfe_rf1)"
   ]
  },
  {
   "cell_type": "code",
   "execution_count": 654,
   "metadata": {
    "ExecuteTime": {
     "end_time": "2021-03-03T00:16:25.769486Z",
     "start_time": "2021-03-03T00:16:25.759194Z"
    }
   },
   "outputs": [
    {
     "name": "stdout",
     "output_type": "stream",
     "text": [
      "Optimal number of features: 12\n",
      "Feature            \tImportance\n",
      "-----------------------------------\n",
      "col_76:               \t0.4287\n",
      "hour:                 \t0.3350\n",
      "Idle Max:             \t0.0826\n",
      "Fwd Seg Size Min:     \t0.0389\n",
      "col_58:               \t0.0326\n",
      "Flow Duration:        \t0.0274\n",
      "Average Packet Size:  \t0.0161\n",
      "Src Port:             \t0.0117\n",
      "FWD Init Win Bytes:   \t0.0090\n",
      "Flow IAT Std:         \t0.0078\n",
      "Dst Port:             \t0.0067\n",
      "col_95:               \t0.0035\n"
     ]
    }
   ],
   "source": [
    "print(f\"Optimal number of features: {rfe_rf1.n_features_}\")\n",
    "selected_columns_rf1 = summarize_feats(rfe_rf1, model_rf1, columns1)"
   ]
  },
  {
   "cell_type": "code",
   "execution_count": 655,
   "metadata": {
    "ExecuteTime": {
     "end_time": "2021-03-03T00:21:57.862986Z",
     "start_time": "2021-03-03T00:21:57.763845Z"
    }
   },
   "outputs": [],
   "source": [
    "dotfile = open(\"rf.dot\", 'w')\n",
    "export_graphviz(model_rf1, out_file = dotfile, feature_names = selected_columns_rf1)\n",
    "dotfile.close()"
   ]
  },
  {
   "cell_type": "code",
   "execution_count": null,
   "metadata": {},
   "outputs": [],
   "source": []
  },
  {
   "cell_type": "code",
   "execution_count": null,
   "metadata": {
    "ExecuteTime": {
     "start_time": "2021-03-04T16:30:51.147Z"
    }
   },
   "outputs": [
    {
     "name": "stderr",
     "output_type": "stream",
     "text": [
      "/home/mateuscmarim/anaconda3/lib/python3.7/site-packages/matplotlib/axes/_base.py:3449: UserWarning: Attempted to set non-positive ylimits for log-scale axis; invalid limits will be ignored.\n",
      "  'Attempted to set non-positive ylimits for log-scale axis; '\n",
      "posx and posy should be finite values\n",
      "posx and posy should be finite values\n",
      "posx and posy should be finite values\n",
      "posx and posy should be finite values\n",
      "posx and posy should be finite values\n",
      "posx and posy should be finite values\n",
      "posx and posy should be finite values\n",
      "posx and posy should be finite values\n",
      "/home/mateuscmarim/anaconda3/lib/python3.7/site-packages/numpy/core/fromnumeric.py:83: RuntimeWarning: invalid value encountered in reduce\n",
      "  return ufunc.reduce(obj, axis, dtype, out, **passkwargs)\n"
     ]
    }
   ],
   "source": [
    "import math\n",
    "\n",
    "cat = ['Audio-Streaming', 'Browsing', 'Chat', 'Email', 'File-Transfer', 'P2P', 'VOIP', 'Video-Streaming']\n",
    "acc_random_forest = [0.9982,\n",
    "0.9529,\n",
    "0.9900,\n",
    "0.9490,\n",
    "0.9909,\n",
    "0.9844,\n",
    "0.9672,\n",
    "0.9810\n",
    "]\n",
    "\n",
    "acc_decision_tree = [0.9980,\n",
    "                        0.9091,\n",
    "                        0.9926,\n",
    "                        0.9391,\n",
    "                        0.9897,\n",
    "                        0.9545,\n",
    "                        0.9693,\n",
    "                        0.9835]\n",
    "\n",
    "\n",
    "dt_precision = [0.996, 0.9305, 0.9893, 0.9533, 0.9827, 0.9712, 0.9739, 0.9628]\n",
    "dt_precision += dt_precision[:1]\n",
    "dt_recall = [0.9966, 0.8382, 0.9928, 0.957, 0.9792, 0.9625, 0.9797, 0.916]\n",
    "dt_recall += dt_recall[:1]\n",
    "dt_fscore = [0.9963, 0.8785, 0.991, 0.9545, 0.9809, 0.9648, 0.9768,0.9621]\n",
    "dt_fscore += dt_fscore[:1]\n",
    "\n",
    "\n",
    "rf_precision = [0.995, 0.8849, 0.9851, 0.9847, 0.9803, 0.9567, 0.9713, 0.9132]\n",
    "rf_precision += rf_precision[:1]\n",
    "rf_recall = [0.9908, 0.8395, 0.9908, 0.9594, 0.9699, 0.975, 0.9726, 0.9627]\n",
    "rf_recall += rf_recall[:1]\n",
    "rf_fscore = [0.9929, 0.8587, 0.9879, 0.9715, 0.975, 0.9632, 0.9716, 0.9371]\n",
    "rf_fscore += rf_fscore[:1]\n",
    "\n",
    "N = len(cat)\n",
    "acc_random_forest += acc_random_forest[:1]\n",
    "acc_decision_tree += acc_decision_tree[:1]\n",
    "angles = [n / float(N) * 2 * math.pi for n in range(N)]\n",
    "angles += angles[:1]\n",
    "\n",
    "\n",
    "plt.polar(angles, acc_random_forest,)\n",
    "plt.polar(angles, acc_decision_tree)\n",
    "plt.yscale('log')\n",
    "plt.xticks(angles[:-1], cat)\n",
    "plt.legend(['Random Forest', 'Decision Tree'],  loc='upper left', bbox_to_anchor=(1,1))\n",
    "\n",
    "plt.show()"
   ]
  },
  {
   "cell_type": "code",
   "execution_count": 148,
   "metadata": {},
   "outputs": [
    {
     "data": {
      "image/png": "[encoded data removed]",
      "text/plain": [
       "<Figure size 1296x432 with 1 Axes>"
      ]
     },
     "metadata": {
      "needs_background": "light"
     },
     "output_type": "display_data"
    }
   ],
   "source": [
    "plt.polar(angles, dt_precision)\n",
    "plt.polar(angles, dt_recall)\n",
    "plt.polar(angles, dt_fscore)\n",
    "plt.xticks(angles[:-1], cat)\n",
    "plt.legend(['Precision', 'Recall', 'F-Score'],  loc='upper left', bbox_to_anchor=(1,1))\n",
    "plt.show()"
   ]
  },
  {
   "cell_type": "code",
   "execution_count": 149,
   "metadata": {},
   "outputs": [
    {
     "data": {
      "image/png": "[encoded data removed]",
      "text/plain": [
       "<Figure size 1296x432 with 1 Axes>"
      ]
     },
     "metadata": {
      "needs_background": "light"
     },
     "output_type": "display_data"
    }
   ],
   "source": [
    "plt.polar(angles, rf_precision)\n",
    "plt.polar(angles, rf_recall)\n",
    "plt.polar(angles, rf_fscore)\n",
    "plt.xticks(angles[:-1], cat)\n",
    "plt.legend(['Precision', 'Recall', 'F-Score'],  loc='upper left', bbox_to_anchor=(1,1))\n",
    "plt.show()"
   ]
  },
  {
   "cell_type": "code",
   "execution_count": null,
   "metadata": {},
   "outputs": [],
   "source": []
  }
 ],
 "metadata": {
  "kernelspec": {
   "display_name": "Python 3",
   "language": "python",
   "name": "python3"
  },
  "language_info": {
   "codemirror_mode": {
    "name": "ipython",
    "version": 3
   },
   "file_extension": ".py",
   "mimetype": "text/x-python",
   "name": "python",
   "nbconvert_exporter": "python",
   "pygments_lexer": "ipython3",
   "version": "3.7.6"
  },
  "toc": {
   "base_numbering": 1,
   "nav_menu": {},
   "number_sections": true,
   "sideBar": true,
   "skip_h1_title": false,
   "title_cell": "Table of Contents",
   "title_sidebar": "Contents",
   "toc_cell": false,
   "toc_position": {
    "height": "calc(100% - 180px)",
    "left": "10px",
    "top": "150px",
    "width": "273.188px"
   },
   "toc_section_display": true,
   "toc_window_display": true
  }
 },
 "nbformat": 4,
 "nbformat_minor": 4
}
